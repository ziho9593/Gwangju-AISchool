{
 "metadata": {
  "language_info": {
   "codemirror_mode": {
    "name": "ipython",
    "version": 3
   },
   "file_extension": ".py",
   "mimetype": "text/x-python",
   "name": "python",
   "nbconvert_exporter": "python",
   "pygments_lexer": "ipython3",
   "version": 3
  },
  "orig_nbformat": 2,
  "kernelspec": {
   "name": "python_defaultSpec_1596285270221",
   "display_name": "Python 3.7.7 64-bit ('base': conda)"
  }
 },
 "nbformat": 4,
 "nbformat_minor": 2,
 "cells": [
  {
   "cell_type": "code",
   "execution_count": 1,
   "metadata": {
    "tags": []
   },
   "outputs": [
    {
     "output_type": "stream",
     "name": "stdout",
     "text": "[[25 35 45]]\n"
    }
   ],
   "source": [
    "import numpy as np\n",
    "\n",
    "def vec_calc(a, b):\n",
    "    # To-do\n",
    "    a = np.array([a])\n",
    "    b = np.array([b])\n",
    "    return 5 * (a + b)\n",
    "    \n",
    "    \n",
    "# 결과 출력을 위한 코드입니다. 자유롭게 값을 바꿔보며 확인해보세요.\n",
    "print(vec_calc([1, 2, 3], [4, 5, 6]))"
   ]
  },
  {
   "cell_type": "code",
   "execution_count": 2,
   "metadata": {
    "tags": []
   },
   "outputs": [
    {
     "output_type": "stream",
     "name": "stdout",
     "text": "[[110 140]\n [245 320]]\n"
    }
   ],
   "source": [
    "import numpy as np\n",
    "\n",
    "def mat_calc(A, B):\n",
    "    # To-do\n",
    "    return 5 * np.matmul(A, B)\n",
    "    \n",
    "    \n",
    "# 결과 출력을 위한 코드입니다. 자유롭게 값을 바꿔보며 확인해보세요.\n",
    "print(mat_calc(np.array([[1, 2, 3], [4, 5, 6]]), np.array([[1, 2], [3, 4], [5, 6]])))"
   ]
  },
  {
   "cell_type": "code",
   "execution_count": 3,
   "metadata": {
    "tags": []
   },
   "outputs": [
    {
     "output_type": "stream",
     "name": "stdout",
     "text": "[[1 0 0]\n [0 2 0]\n [0 0 3]]\n"
    }
   ],
   "source": [
    "import numpy as np\n",
    "\n",
    "def n_diag(n):\n",
    "    # To-do\n",
    "    return np.diag(np.arange(1, n+1), k=0)\n",
    "    \n",
    "    \n",
    "# 결과 출력을 위한 코드입니다. 자유롭게 값을 바꿔보며 확인해보세요.\n",
    "print(n_diag(3))"
   ]
  },
  {
   "cell_type": "code",
   "execution_count": 4,
   "metadata": {
    "tags": []
   },
   "outputs": [
    {
     "output_type": "stream",
     "name": "stdout",
     "text": "[[ 0.14285714  0.28571429]\n [ 0.42857143 -0.14285714]]\n"
    }
   ],
   "source": [
    "import numpy as np\n",
    "\n",
    "def mat_inv(A):\n",
    "    # To-do\n",
    "    # 1. 가역행렬인지 확인해보세요.\n",
    "    # 2. 가역행렬이라면 역행렬을 반환해주세요.\n",
    "    if A[0, 0] * A[1, 1] - A[0, 1] * A[1, 1] == 0:\n",
    "        return None\n",
    "    \n",
    "    return np.linalg.inv(A)\n",
    "    \n",
    "\t\n",
    "# 결과 출력을 위한 코드입니다. 자유롭게 값을 바꿔보며 확인해보세요.\n",
    "print(mat_inv(np.array([[1, 2], [3, -1]])))"
   ]
  },
  {
   "cell_type": "code",
   "execution_count": 5,
   "metadata": {
    "tags": []
   },
   "outputs": [
    {
     "output_type": "stream",
     "name": "stdout",
     "text": "[[0.14285714]\n [0.42857143]]\n"
    }
   ],
   "source": [
    "import numpy as np\n",
    "\n",
    "def mat_solve(A, y):\n",
    "    # To-do\n",
    "    # 역행렬을 만들어서 A의 역행렬과 y를 곱하여 반환해보세요.\n",
    "    return np.matmul(np.linalg.inv(A), y)\n",
    "        \n",
    "    \n",
    "# 결과 출력을 위한 코드입니다. 자유롭게 값을 바꿔보며 확인해보세요.\n",
    "print(mat_solve(np.array([[1, 2], [3, -1]]), np.array([[1], [0]])))"
   ]
  },
  {
   "cell_type": "code",
   "execution_count": 6,
   "metadata": {
    "tags": []
   },
   "outputs": [
    {
     "output_type": "stream",
     "name": "stdout",
     "text": "[[-1. -1.  0.]\n [ 0. -1. -1.]\n [ 1.  0. -2.]]\n"
    }
   ],
   "source": [
    "import numpy as np\n",
    "\n",
    "def conv2d(I, K):\n",
    "    # To-do\n",
    "    # 1. 이미지와 커널의 합성곱을 한 후, 그 결과에 해당하는 크기를 가진 빈 행렬을 만들어보세요.\n",
    "    Ih, Iw = I.shape\n",
    "    Kh, Kw = K.shape\n",
    "    rh, rw = Ih - Kh + 1, Iw - Kw +1\n",
    "    result = np.zeros([rh, rw])\n",
    "    \n",
    "    # 2. 컨볼루션 연산을 위한 반복문을 선언해보세요.\n",
    "    # 3. I의 부분행렬(Kh * Kw)과 K의 합성곱을 한 후, 모두 더한 값을 새로운 행렬로 만들어보세요.\n",
    "    for y in range(rh):\n",
    "        for x in range(rw):\n",
    "            t = I[y:y+Kh, x:x+Kw] * K\n",
    "            result[y, x] = np.sum(t)\n",
    "    \n",
    "    # 4. 결과를 반환해보세요.\n",
    "    return result\n",
    "    \n",
    "    \n",
    "# 결과 출력을 위한 코드입니다. 자유롭게 값을 바꿔보며 확인해보세요.\n",
    "print(conv2d(np.array([[0, 1, 1, 1], [0, 0, 1, 1], [0, 0, 0, 1], [1, 0, 0, 1]]), np.array([[1, -1], [1, -1]])))"
   ]
  },
  {
   "cell_type": "code",
   "execution_count": 7,
   "metadata": {
    "tags": []
   },
   "outputs": [
    {
     "output_type": "stream",
     "name": "stdout",
     "text": "32\n"
    }
   ],
   "source": [
    "import numpy as np\n",
    "\n",
    "def dot(a, b):\n",
    "    # To-do\n",
    "    # numpy의 dot은 두 배열의 내적곱을 구하는 함수로, \n",
    "    # np.dot(array1, array2)의 방식으로 사용할 수 있습니다.\n",
    "    # 이를 활용하여 배열 a와 b의 내적곱을 구하고 이를 반환해보세요.\n",
    "    return np.dot(a, b)\n",
    "    \n",
    "    \n",
    "# 결과 출력을 위한 코드입니다. 자유롭게 값을 바꿔보며 확인해보세요.\n",
    "print(dot([1, 2, 3], [4, 5, 6]))"
   ]
  },
  {
   "cell_type": "code",
   "execution_count": 8,
   "metadata": {
    "tags": []
   },
   "outputs": [
    {
     "output_type": "stream",
     "name": "stdout",
     "text": "[[2. 1.]\n [3. 4.]]\n[[2. 2. 1. 1.]\n [2. 2. 1. 1.]\n [3. 3. 4. 4.]\n [3. 3. 4. 4.]]\n"
    }
   ],
   "source": [
    "import numpy as np\n",
    "\n",
    "def mat_coord(m, n):\n",
    "    # To-do\n",
    "    result = np.zeros([m, n])\n",
    "    m, n = int(m/2), int(n/2)\n",
    "    \n",
    "    result[:m, n:] = 1\n",
    "    result[:m, :n] = 2\n",
    "    result[m:, :n] = 3\n",
    "    result[m:, n:] = 4\n",
    "\n",
    "    return result\n",
    "    \n",
    "    \n",
    "# 결과 출력을 위한 코드입니다. 자유롭게 값을 바꿔보며 확인해보세요.\n",
    "print(mat_coord(2, 2))\n",
    "print(mat_coord(4, 4))"
   ]
  },
  {
   "cell_type": "code",
   "execution_count": 9,
   "metadata": {
    "tags": []
   },
   "outputs": [
    {
     "output_type": "stream",
     "name": "stdout",
     "text": "True\n"
    }
   ],
   "source": [
    "import numpy as np\n",
    "\n",
    "def is_symmetric(A):\n",
    "    # To-do\n",
    "    return np.allclose(A, A.T)\n",
    "    \n",
    "    \n",
    "# 결과 출력을 위한 코드입니다. 자유롭게 값을 바꿔보며 확인해보세요.\n",
    "print(is_symmetric(np.array([[1, 2], [2, 3]])))"
   ]
  },
  {
   "cell_type": "code",
   "execution_count": 10,
   "metadata": {
    "tags": []
   },
   "outputs": [
    {
     "output_type": "stream",
     "name": "stdout",
     "text": "[[4.]\n [1.]\n [1.]]\n"
    }
   ],
   "source": [
    "import numpy as np\n",
    "\n",
    "def transform(v):\n",
    "    # To-do\n",
    "    array = np.identity(3)\n",
    "    array = np.matmul(array, v)\n",
    "\n",
    "    # 1. y축 대칭\n",
    "    a = np.array([[-1, 0, 0], [0, 1, 0], [0, 0, 1]])\n",
    "    array = np.matmul(a, array)\n",
    "\n",
    "    # 2. 시계 방향으로 90도 회전\n",
    "    # ( (cos (-90), -sin(-90)),  (sin(-90), cos(-90) ) 을 곱해준다.\n",
    "    a = np.array([[0, 1, 0], [-1, 0, 0], [0, 0, 1]])\n",
    "    array = np.matmul(a, array)\n",
    "\n",
    "    # 3. x축으로 2배 확대\n",
    "    a = np.array([[2, 0, 0], [0, 1, 0], [0, 0, 1]])\n",
    "    array = np.matmul(a, array)\n",
    "\n",
    "    return array\n",
    "\n",
    "\n",
    "# 결과 출력을 위한 코드입니다. 자유롭게 값을 바꿔보며 확인해보세요.\n",
    "print(transform(np.array([[1], [2], [1]])))"
   ]
  },
  {
   "cell_type": "code",
   "execution_count": 11,
   "metadata": {
    "tags": []
   },
   "outputs": [
    {
     "output_type": "stream",
     "name": "stdout",
     "text": "(3.0, 3.0)\n"
    }
   ],
   "source": [
    "import numpy as np\n",
    "\n",
    "def conv_size(I, K, p, s):\n",
    "    # To-do\n",
    "    ih, iw = I\n",
    "    kh, kw = K\n",
    "    ph, pw = p\n",
    "    sh, sw = s\n",
    "\n",
    "    rh = ( (ih + 2*ph - kh) / sh ) + 1 \n",
    "    rw = ( (iw + 2*pw - kw) / sw ) + 1\n",
    "\n",
    "    return rh, rw\n",
    "    \n",
    "# 결과 출력을 위한 코드입니다. 자유롭게 값을 바꿔보며 확인해보세요.\n",
    "print(conv_size((5, 5), (3, 3), (0, 0), (1, 1)))"
   ]
  }
 ]
}