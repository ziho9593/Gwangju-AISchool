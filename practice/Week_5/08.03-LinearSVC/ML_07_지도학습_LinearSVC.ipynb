{
 "cells": [
  {
   "cell_type": "markdown",
   "metadata": {
    "colab_type": "text",
    "id": "pEaXDqs8mNj8",
    "slideshow": {
     "slide_type": "slide"
    }
   },
   "source": [
    "# Linear SVC"
   ]
  },
  {
   "cell_type": "markdown",
   "metadata": {
    "colab_type": "text",
    "id": "4uTx-gQfei2X",
    "slideshow": {
     "slide_type": "slide"
    }
   },
   "source": [
    "[LinearSVC()](https://scikit-learn.org/stable/modules/generated/sklearn.svm.LinearSVC.html)\n",
    "```\n",
    "LinearSVC(penalty, loss, dual, tol, C, multi_class, fit_intercept, intercept_scaling, class_weight, verbose, random_state, max_iter)\n",
    "```\n",
    "- <font color=blue> penalty : 규제에 사용 된 기준을 지정 (l1, l2) – default : l2 </font>\n",
    "- loss : 손실함수\n",
    "- dual : 이중 또는 초기 공식\n",
    "- tol : 정밀도\n",
    "- <font color=blue> C : 규제 강도 </font>\n",
    "- multi_class : 다중 분류 시에 (ovr, multinomial, auto)로 설정\n",
    "- fit_intercept : 모형에 상수항 (절편)이 있는가 없는가를 결정하는 인수 (default : True)\n",
    "- intercept_scaling : 정규화 효과 정도\n",
    "- class_weight : 클래스의 가중치\n",
    "- verbose : 동작 과정에 대한 출력 메시지\n",
    "- random_state : 난수 seed 설정\n",
    "- max_iter : 계산에 사용할 작업 수"
   ]
  },
  {
   "cell_type": "code",
   "execution_count": 1,
   "metadata": {
    "colab": {
     "base_uri": "https://localhost:8080/",
     "height": 469
    },
    "colab_type": "code",
    "executionInfo": {
     "elapsed": 7308,
     "status": "ok",
     "timestamp": 1596030231752,
     "user": {
      "displayName": "oz To",
      "photoUrl": "",
      "userId": "12937505880450462933"
     },
     "user_tz": -540
    },
    "id": "Ff9YgZ4pq5L1",
    "outputId": "3700efe4-0a73-44c3-e7b8-137faf4cedba",
    "slideshow": {
     "slide_type": "skip"
    }
   },
   "outputs": [],
   "source": [
    "# !pip install mglearn"
   ]
  },
  {
   "cell_type": "code",
   "execution_count": 2,
   "metadata": {
    "colab": {},
    "colab_type": "code",
    "executionInfo": {
     "elapsed": 8311,
     "status": "ok",
     "timestamp": 1596030232764,
     "user": {
      "displayName": "oz To",
      "photoUrl": "",
      "userId": "12937505880450462933"
     },
     "user_tz": -540
    },
    "id": "B3Y1e4bTmFOz",
    "slideshow": {
     "slide_type": "slide"
    }
   },
   "outputs": [],
   "source": [
    "from mglearn.datasets import make_forge\n",
    "import matplotlib.pyplot as plt\n",
    "import numpy as np\n",
    "import mglearn\n",
    "from sklearn.svm import LinearSVC"
   ]
  },
  {
   "cell_type": "code",
   "execution_count": 3,
   "metadata": {
    "colab": {
     "base_uri": "https://localhost:8080/",
     "height": 73
    },
    "colab_type": "code",
    "executionInfo": {
     "elapsed": 8299,
     "status": "ok",
     "timestamp": 1596030232768,
     "user": {
      "displayName": "oz To",
      "photoUrl": "",
      "userId": "12937505880450462933"
     },
     "user_tz": -540
    },
    "id": "CqIXOR6jq8vT",
    "outputId": "7c0b9fc9-5b3f-477b-adfc-a8b603626bee",
    "slideshow": {
     "slide_type": "slide"
    }
   },
   "outputs": [],
   "source": [
    "  # 데이터 로드\n",
    "  X, y = make_forge()"
   ]
  },
  {
   "cell_type": "code",
   "execution_count": 4,
   "metadata": {
    "colab": {
     "base_uri": "https://localhost:8080/",
     "height": 73
    },
    "colab_type": "code",
    "executionInfo": {
     "elapsed": 8291,
     "status": "ok",
     "timestamp": 1596030232769,
     "user": {
      "displayName": "oz To",
      "photoUrl": "",
      "userId": "12937505880450462933"
     },
     "user_tz": -540
    },
    "id": "3eQ7lPN8q-fF",
    "outputId": "124461ba-c81c-4462-a805-1a61ad3ccdbd",
    "slideshow": {
     "slide_type": "slide"
    }
   },
   "outputs": [],
   "source": [
    "# 모델 학습\n",
    "model = LinearSVC(max_iter=10000).fit(X, y)"
   ]
  },
  {
   "cell_type": "code",
   "execution_count": 5,
   "metadata": {
    "colab": {
     "base_uri": "https://localhost:8080/",
     "height": 262
    },
    "colab_type": "code",
    "executionInfo": {
     "elapsed": 8283,
     "status": "ok",
     "timestamp": 1596030232770,
     "user": {
      "displayName": "oz To",
      "photoUrl": "",
      "userId": "12937505880450462933"
     },
     "user_tz": -540
    },
    "id": "AQNyll2crCC9",
    "outputId": "4d5dcae7-3586-4081-964f-e93eb3b8bb9f",
    "slideshow": {
     "slide_type": "slide"
    }
   },
   "outputs": [
    {
     "output_type": "display_data",
     "data": {
      "text/plain": "<Figure size 432x288 with 1 Axes>",
      "image/svg+xml": "<?xml version=\"1.0\" encoding=\"utf-8\" standalone=\"no\"?>\r\n<!DOCTYPE svg PUBLIC \"-//W3C//DTD SVG 1.1//EN\"\r\n  \"http://www.w3.org/Graphics/SVG/1.1/DTD/svg11.dtd\">\r\n<!-- Created with matplotlib (https://matplotlib.org/) -->\r\n<svg height=\"245.518125pt\" version=\"1.1\" viewBox=\"0 0 362.878125 245.518125\" width=\"362.878125pt\" xmlns=\"http://www.w3.org/2000/svg\" xmlns:xlink=\"http://www.w3.org/1999/xlink\">\r\n <defs>\r\n  <style type=\"text/css\">\r\n*{stroke-linecap:butt;stroke-linejoin:round;}\r\n  </style>\r\n </defs>\r\n <g id=\"figure_1\">\r\n  <g id=\"patch_1\">\r\n   <path d=\"M 0 245.518125 \r\nL 362.878125 245.518125 \r\nL 362.878125 0 \r\nL 0 0 \r\nz\r\n\" style=\"fill:none;\"/>\r\n  </g>\r\n  <g id=\"axes_1\">\r\n   <g id=\"patch_2\">\r\n    <path d=\"M 20.878125 224.64 \r\nL 355.678125 224.64 \r\nL 355.678125 7.2 \r\nL 20.878125 7.2 \r\nz\r\n\" style=\"fill:#ffffff;\"/>\r\n   </g>\r\n   <g id=\"matplotlib.axis_1\">\r\n    <g id=\"text_1\">\r\n     <!-- feature 0 -->\r\n     <defs>\r\n      <path d=\"M 37.109375 75.984375 \r\nL 37.109375 68.5 \r\nL 28.515625 68.5 \r\nQ 23.6875 68.5 21.796875 66.546875 \r\nQ 19.921875 64.59375 19.921875 59.515625 \r\nL 19.921875 54.6875 \r\nL 34.71875 54.6875 \r\nL 34.71875 47.703125 \r\nL 19.921875 47.703125 \r\nL 19.921875 0 \r\nL 10.890625 0 \r\nL 10.890625 47.703125 \r\nL 2.296875 47.703125 \r\nL 2.296875 54.6875 \r\nL 10.890625 54.6875 \r\nL 10.890625 58.5 \r\nQ 10.890625 67.625 15.140625 71.796875 \r\nQ 19.390625 75.984375 28.609375 75.984375 \r\nz\r\n\" id=\"DejaVuSans-102\"/>\r\n      <path d=\"M 56.203125 29.59375 \r\nL 56.203125 25.203125 \r\nL 14.890625 25.203125 \r\nQ 15.484375 15.921875 20.484375 11.0625 \r\nQ 25.484375 6.203125 34.421875 6.203125 \r\nQ 39.59375 6.203125 44.453125 7.46875 \r\nQ 49.3125 8.734375 54.109375 11.28125 \r\nL 54.109375 2.78125 \r\nQ 49.265625 0.734375 44.1875 -0.34375 \r\nQ 39.109375 -1.421875 33.890625 -1.421875 \r\nQ 20.796875 -1.421875 13.15625 6.1875 \r\nQ 5.515625 13.8125 5.515625 26.8125 \r\nQ 5.515625 40.234375 12.765625 48.109375 \r\nQ 20.015625 56 32.328125 56 \r\nQ 43.359375 56 49.78125 48.890625 \r\nQ 56.203125 41.796875 56.203125 29.59375 \r\nz\r\nM 47.21875 32.234375 \r\nQ 47.125 39.59375 43.09375 43.984375 \r\nQ 39.0625 48.390625 32.421875 48.390625 \r\nQ 24.90625 48.390625 20.390625 44.140625 \r\nQ 15.875 39.890625 15.1875 32.171875 \r\nz\r\n\" id=\"DejaVuSans-101\"/>\r\n      <path d=\"M 34.28125 27.484375 \r\nQ 23.390625 27.484375 19.1875 25 \r\nQ 14.984375 22.515625 14.984375 16.5 \r\nQ 14.984375 11.71875 18.140625 8.90625 \r\nQ 21.296875 6.109375 26.703125 6.109375 \r\nQ 34.1875 6.109375 38.703125 11.40625 \r\nQ 43.21875 16.703125 43.21875 25.484375 \r\nL 43.21875 27.484375 \r\nz\r\nM 52.203125 31.203125 \r\nL 52.203125 0 \r\nL 43.21875 0 \r\nL 43.21875 8.296875 \r\nQ 40.140625 3.328125 35.546875 0.953125 \r\nQ 30.953125 -1.421875 24.3125 -1.421875 \r\nQ 15.921875 -1.421875 10.953125 3.296875 \r\nQ 6 8.015625 6 15.921875 \r\nQ 6 25.140625 12.171875 29.828125 \r\nQ 18.359375 34.515625 30.609375 34.515625 \r\nL 43.21875 34.515625 \r\nL 43.21875 35.40625 \r\nQ 43.21875 41.609375 39.140625 45 \r\nQ 35.0625 48.390625 27.6875 48.390625 \r\nQ 23 48.390625 18.546875 47.265625 \r\nQ 14.109375 46.140625 10.015625 43.890625 \r\nL 10.015625 52.203125 \r\nQ 14.9375 54.109375 19.578125 55.046875 \r\nQ 24.21875 56 28.609375 56 \r\nQ 40.484375 56 46.34375 49.84375 \r\nQ 52.203125 43.703125 52.203125 31.203125 \r\nz\r\n\" id=\"DejaVuSans-97\"/>\r\n      <path d=\"M 18.3125 70.21875 \r\nL 18.3125 54.6875 \r\nL 36.8125 54.6875 \r\nL 36.8125 47.703125 \r\nL 18.3125 47.703125 \r\nL 18.3125 18.015625 \r\nQ 18.3125 11.328125 20.140625 9.421875 \r\nQ 21.96875 7.515625 27.59375 7.515625 \r\nL 36.8125 7.515625 \r\nL 36.8125 0 \r\nL 27.59375 0 \r\nQ 17.1875 0 13.234375 3.875 \r\nQ 9.28125 7.765625 9.28125 18.015625 \r\nL 9.28125 47.703125 \r\nL 2.6875 47.703125 \r\nL 2.6875 54.6875 \r\nL 9.28125 54.6875 \r\nL 9.28125 70.21875 \r\nz\r\n\" id=\"DejaVuSans-116\"/>\r\n      <path d=\"M 8.5 21.578125 \r\nL 8.5 54.6875 \r\nL 17.484375 54.6875 \r\nL 17.484375 21.921875 \r\nQ 17.484375 14.15625 20.5 10.265625 \r\nQ 23.53125 6.390625 29.59375 6.390625 \r\nQ 36.859375 6.390625 41.078125 11.03125 \r\nQ 45.3125 15.671875 45.3125 23.6875 \r\nL 45.3125 54.6875 \r\nL 54.296875 54.6875 \r\nL 54.296875 0 \r\nL 45.3125 0 \r\nL 45.3125 8.40625 \r\nQ 42.046875 3.421875 37.71875 1 \r\nQ 33.40625 -1.421875 27.6875 -1.421875 \r\nQ 18.265625 -1.421875 13.375 4.4375 \r\nQ 8.5 10.296875 8.5 21.578125 \r\nz\r\nM 31.109375 56 \r\nz\r\n\" id=\"DejaVuSans-117\"/>\r\n      <path d=\"M 41.109375 46.296875 \r\nQ 39.59375 47.171875 37.8125 47.578125 \r\nQ 36.03125 48 33.890625 48 \r\nQ 26.265625 48 22.1875 43.046875 \r\nQ 18.109375 38.09375 18.109375 28.8125 \r\nL 18.109375 0 \r\nL 9.078125 0 \r\nL 9.078125 54.6875 \r\nL 18.109375 54.6875 \r\nL 18.109375 46.1875 \r\nQ 20.953125 51.171875 25.484375 53.578125 \r\nQ 30.03125 56 36.53125 56 \r\nQ 37.453125 56 38.578125 55.875 \r\nQ 39.703125 55.765625 41.0625 55.515625 \r\nz\r\n\" id=\"DejaVuSans-114\"/>\r\n      <path id=\"DejaVuSans-32\"/>\r\n      <path d=\"M 31.78125 66.40625 \r\nQ 24.171875 66.40625 20.328125 58.90625 \r\nQ 16.5 51.421875 16.5 36.375 \r\nQ 16.5 21.390625 20.328125 13.890625 \r\nQ 24.171875 6.390625 31.78125 6.390625 \r\nQ 39.453125 6.390625 43.28125 13.890625 \r\nQ 47.125 21.390625 47.125 36.375 \r\nQ 47.125 51.421875 43.28125 58.90625 \r\nQ 39.453125 66.40625 31.78125 66.40625 \r\nz\r\nM 31.78125 74.21875 \r\nQ 44.046875 74.21875 50.515625 64.515625 \r\nQ 56.984375 54.828125 56.984375 36.375 \r\nQ 56.984375 17.96875 50.515625 8.265625 \r\nQ 44.046875 -1.421875 31.78125 -1.421875 \r\nQ 19.53125 -1.421875 13.0625 8.265625 \r\nQ 6.59375 17.96875 6.59375 36.375 \r\nQ 6.59375 54.828125 13.0625 64.515625 \r\nQ 19.53125 74.21875 31.78125 74.21875 \r\nz\r\n\" id=\"DejaVuSans-48\"/>\r\n     </defs>\r\n     <g transform=\"translate(165.458594 236.238438)scale(0.1 -0.1)\">\r\n      <use xlink:href=\"#DejaVuSans-102\"/>\r\n      <use x=\"35.205078\" xlink:href=\"#DejaVuSans-101\"/>\r\n      <use x=\"96.728516\" xlink:href=\"#DejaVuSans-97\"/>\r\n      <use x=\"158.007812\" xlink:href=\"#DejaVuSans-116\"/>\r\n      <use x=\"197.216797\" xlink:href=\"#DejaVuSans-117\"/>\r\n      <use x=\"260.595703\" xlink:href=\"#DejaVuSans-114\"/>\r\n      <use x=\"299.458984\" xlink:href=\"#DejaVuSans-101\"/>\r\n      <use x=\"360.982422\" xlink:href=\"#DejaVuSans-32\"/>\r\n      <use x=\"392.769531\" xlink:href=\"#DejaVuSans-48\"/>\r\n     </g>\r\n    </g>\r\n   </g>\r\n   <g id=\"matplotlib.axis_2\">\r\n    <g id=\"text_2\">\r\n     <!-- feature 1 -->\r\n     <defs>\r\n      <path d=\"M 12.40625 8.296875 \r\nL 28.515625 8.296875 \r\nL 28.515625 63.921875 \r\nL 10.984375 60.40625 \r\nL 10.984375 69.390625 \r\nL 28.421875 72.90625 \r\nL 38.28125 72.90625 \r\nL 38.28125 8.296875 \r\nL 54.390625 8.296875 \r\nL 54.390625 0 \r\nL 12.40625 0 \r\nz\r\n\" id=\"DejaVuSans-49\"/>\r\n     </defs>\r\n     <g transform=\"translate(14.798438 138.739531)rotate(-90)scale(0.1 -0.1)\">\r\n      <use xlink:href=\"#DejaVuSans-102\"/>\r\n      <use x=\"35.205078\" xlink:href=\"#DejaVuSans-101\"/>\r\n      <use x=\"96.728516\" xlink:href=\"#DejaVuSans-97\"/>\r\n      <use x=\"158.007812\" xlink:href=\"#DejaVuSans-116\"/>\r\n      <use x=\"197.216797\" xlink:href=\"#DejaVuSans-117\"/>\r\n      <use x=\"260.595703\" xlink:href=\"#DejaVuSans-114\"/>\r\n      <use x=\"299.458984\" xlink:href=\"#DejaVuSans-101\"/>\r\n      <use x=\"360.982422\" xlink:href=\"#DejaVuSans-32\"/>\r\n      <use x=\"392.769531\" xlink:href=\"#DejaVuSans-49\"/>\r\n     </g>\r\n    </g>\r\n   </g>\r\n   <g id=\"line2d_1\">\r\n    <defs>\r\n     <path d=\"M 0 5 \r\nC 1.326016 5 2.597899 4.473168 3.535534 3.535534 \r\nC 4.473168 2.597899 5 1.326016 5 0 \r\nC 5 -1.326016 4.473168 -2.597899 3.535534 -3.535534 \r\nC 2.597899 -4.473168 1.326016 -5 0 -5 \r\nC -1.326016 -5 -2.597899 -4.473168 -3.535534 -3.535534 \r\nC -4.473168 -2.597899 -5 -1.326016 -5 0 \r\nC -5 1.326016 -4.473168 2.597899 -3.535534 3.535534 \r\nC -2.597899 4.473168 -1.326016 5 0 5 \r\nz\r\n\" id=\"m75fa2ff8f0\" style=\"stroke:#000000;\"/>\r\n    </defs>\r\n    <g clip-path=\"url(#p811695b63c)\">\r\n     <use style=\"fill:#1f77b4;stroke:#000000;\" x=\"260.826047\" xlink:href=\"#m75fa2ff8f0\" y=\"195.038843\"/>\r\n     <use style=\"fill:#1f77b4;stroke:#000000;\" x=\"101.978771\" xlink:href=\"#m75fa2ff8f0\" y=\"142.907884\"/>\r\n     <use style=\"fill:#1f77b4;stroke:#000000;\" x=\"62.155152\" xlink:href=\"#m75fa2ff8f0\" y=\"59.330208\"/>\r\n     <use style=\"fill:#1f77b4;stroke:#000000;\" x=\"168.499788\" xlink:href=\"#m75fa2ff8f0\" y=\"196.094765\"/>\r\n     <use style=\"fill:#1f77b4;stroke:#000000;\" x=\"101.739891\" xlink:href=\"#m75fa2ff8f0\" y=\"144.617486\"/>\r\n     <use style=\"fill:#1f77b4;stroke:#000000;\" x=\"117.551162\" xlink:href=\"#m75fa2ff8f0\" y=\"209.409386\"/>\r\n     <use style=\"fill:#1f77b4;stroke:#000000;\" x=\"67.419614\" xlink:href=\"#m75fa2ff8f0\" y=\"150.449415\"/>\r\n     <use style=\"fill:#1f77b4;stroke:#000000;\" x=\"104.749662\" xlink:href=\"#m75fa2ff8f0\" y=\"114.01833\"/>\r\n     <use style=\"fill:#1f77b4;stroke:#000000;\" x=\"195.047702\" xlink:href=\"#m75fa2ff8f0\" y=\"159.735873\"/>\r\n     <use style=\"fill:#1f77b4;stroke:#000000;\" x=\"156.799915\" xlink:href=\"#m75fa2ff8f0\" y=\"197.967264\"/>\r\n     <use style=\"fill:#1f77b4;stroke:#000000;\" x=\"78.342257\" xlink:href=\"#m75fa2ff8f0\" y=\"140.013357\"/>\r\n     <use style=\"fill:#1f77b4;stroke:#000000;\" x=\"156.881627\" xlink:href=\"#m75fa2ff8f0\" y=\"130.874905\"/>\r\n     <use style=\"fill:#1f77b4;stroke:#000000;\" x=\"296.871336\" xlink:href=\"#m75fa2ff8f0\" y=\"149.130503\"/>\r\n    </g>\r\n   </g>\r\n   <g id=\"line2d_2\">\r\n    <defs>\r\n     <path d=\"M 0 -5 \r\nL -5 5 \r\nL 5 5 \r\nz\r\n\" id=\"m3b042dabfb\" style=\"stroke:#000000;stroke-linejoin:miter;\"/>\r\n    </defs>\r\n    <g clip-path=\"url(#p811695b63c)\">\r\n     <use style=\"fill:#ff7f0e;stroke:#000000;stroke-linejoin:miter;\" x=\"188.227481\" xlink:href=\"#m3b042dabfb\" y=\"49.893148\"/>\r\n     <use style=\"fill:#ff7f0e;stroke:#000000;stroke-linejoin:miter;\" x=\"295.350862\" xlink:href=\"#m3b042dabfb\" y=\"31.177909\"/>\r\n     <use style=\"fill:#ff7f0e;stroke:#000000;stroke-linejoin:miter;\" x=\"75.980031\" xlink:href=\"#m3b042dabfb\" y=\"43.512305\"/>\r\n     <use style=\"fill:#ff7f0e;stroke:#000000;stroke-linejoin:miter;\" x=\"321.737335\" xlink:href=\"#m3b042dabfb\" y=\"48.312276\"/>\r\n     <use style=\"fill:#ff7f0e;stroke:#000000;stroke-linejoin:miter;\" x=\"78.574094\" xlink:href=\"#m3b042dabfb\" y=\"33.523564\"/>\r\n     <use style=\"fill:#ff7f0e;stroke:#000000;stroke-linejoin:miter;\" x=\"100.760789\" xlink:href=\"#m3b042dabfb\" y=\"53.580017\"/>\r\n     <use style=\"fill:#ff7f0e;stroke:#000000;stroke-linejoin:miter;\" x=\"134.873766\" xlink:href=\"#m3b042dabfb\" y=\"34.782358\"/>\r\n     <use style=\"fill:#ff7f0e;stroke:#000000;stroke-linejoin:miter;\" x=\"207.018693\" xlink:href=\"#m3b042dabfb\" y=\"115.120426\"/>\r\n     <use style=\"fill:#ff7f0e;stroke:#000000;stroke-linejoin:miter;\" x=\"156.171669\" xlink:href=\"#m3b042dabfb\" y=\"57.950675\"/>\r\n     <use style=\"fill:#ff7f0e;stroke:#000000;stroke-linejoin:miter;\" x=\"140.267506\" xlink:href=\"#m3b042dabfb\" y=\"33.563397\"/>\r\n     <use style=\"fill:#ff7f0e;stroke:#000000;stroke-linejoin:miter;\" x=\"54.818915\" xlink:href=\"#m3b042dabfb\" y=\"42.103003\"/>\r\n     <use style=\"fill:#ff7f0e;stroke:#000000;stroke-linejoin:miter;\" x=\"144.750449\" xlink:href=\"#m3b042dabfb\" y=\"34.612545\"/>\r\n     <use style=\"fill:#ff7f0e;stroke:#000000;stroke-linejoin:miter;\" x=\"133.057214\" xlink:href=\"#m3b042dabfb\" y=\"22.430614\"/>\r\n    </g>\r\n   </g>\r\n   <g id=\"patch_3\">\r\n    <path d=\"M 20.878125 224.64 \r\nL 20.878125 7.2 \r\n\" style=\"fill:none;stroke:#000000;stroke-linecap:square;stroke-linejoin:miter;stroke-width:0.8;\"/>\r\n   </g>\r\n   <g id=\"patch_4\">\r\n    <path d=\"M 355.678125 224.64 \r\nL 355.678125 7.2 \r\n\" style=\"fill:none;stroke:#000000;stroke-linecap:square;stroke-linejoin:miter;stroke-width:0.8;\"/>\r\n   </g>\r\n   <g id=\"patch_5\">\r\n    <path d=\"M 20.878125 224.64 \r\nL 355.678125 224.64 \r\n\" style=\"fill:none;stroke:#000000;stroke-linecap:square;stroke-linejoin:miter;stroke-width:0.8;\"/>\r\n   </g>\r\n   <g id=\"patch_6\">\r\n    <path d=\"M 20.878125 7.2 \r\nL 355.678125 7.2 \r\n\" style=\"fill:none;stroke:#000000;stroke-linecap:square;stroke-linejoin:miter;stroke-width:0.8;\"/>\r\n   </g>\r\n   <g id=\"LineCollection_1\">\r\n    <path clip-path=\"url(#p811695b63c)\" d=\"M 20.878125 99.636574 \r\nL 355.678125 85.823361 \r\nL 355.678125 85.823361 \r\n\" style=\"fill:none;stroke:#000000;stroke-opacity:0.7;stroke-width:1.5;\"/>\r\n   </g>\r\n   <g id=\"legend_1\">\r\n    <g id=\"patch_7\">\r\n     <path d=\"M 310.315625 219.64 \r\nL 348.678125 219.64 \r\nQ 350.678125 219.64 350.678125 217.64 \r\nL 350.678125 189.28375 \r\nQ 350.678125 187.28375 348.678125 187.28375 \r\nL 310.315625 187.28375 \r\nQ 308.315625 187.28375 308.315625 189.28375 \r\nL 308.315625 217.64 \r\nQ 308.315625 219.64 310.315625 219.64 \r\nz\r\n\" style=\"fill:#ffffff;opacity:0.8;stroke:#cccccc;stroke-linejoin:miter;\"/>\r\n    </g>\r\n    <g id=\"line2d_3\"/>\r\n    <g id=\"line2d_4\">\r\n     <g>\r\n      <use style=\"fill:#1f77b4;stroke:#000000;\" x=\"322.315625\" xlink:href=\"#m75fa2ff8f0\" y=\"195.382187\"/>\r\n     </g>\r\n    </g>\r\n    <g id=\"text_3\">\r\n     <!-- 0 -->\r\n     <g transform=\"translate(340.315625 198.882187)scale(0.1 -0.1)\">\r\n      <use xlink:href=\"#DejaVuSans-48\"/>\r\n     </g>\r\n    </g>\r\n    <g id=\"line2d_5\"/>\r\n    <g id=\"line2d_6\">\r\n     <g>\r\n      <use style=\"fill:#ff7f0e;stroke:#000000;stroke-linejoin:miter;\" x=\"322.315625\" xlink:href=\"#m3b042dabfb\" y=\"210.060313\"/>\r\n     </g>\r\n    </g>\r\n    <g id=\"text_4\">\r\n     <!-- 1 -->\r\n     <g transform=\"translate(340.315625 213.560313)scale(0.1 -0.1)\">\r\n      <use xlink:href=\"#DejaVuSans-49\"/>\r\n     </g>\r\n    </g>\r\n   </g>\r\n  </g>\r\n </g>\r\n <defs>\r\n  <clipPath id=\"p811695b63c\">\r\n   <rect height=\"217.44\" width=\"334.8\" x=\"20.878125\" y=\"7.2\"/>\r\n  </clipPath>\r\n </defs>\r\n</svg>\r\n",
      "image/png": "[encoded data removed]"
     },
     "metadata": {}
    }
   ],
   "source": [
    "# 결정경계 시각화\n",
    "mglearn.plots.plot_2d_separator(model, X, fill=False, eps=0.5, alpha=.7)\n",
    "mglearn.discrete_scatter(X[:,0],X[:,1], y)\n",
    "\n",
    "plt.xlabel('feature 0')\n",
    "plt.ylabel('feature 1')\n",
    "\n",
    "plt.legend(loc=4)\n",
    "plt.show()"
   ]
  },
  {
   "cell_type": "markdown",
   "metadata": {
    "colab_type": "text",
    "id": "4kH0N2oJriLj",
    "slideshow": {
     "slide_type": "slide"
    }
   },
   "source": [
    "- 2개의 포인트가 잘 못 분류됨 -> L2 규제를 사용\n",
    "\n",
    "- <font color=blue>Linear SVC에서는 C 값을 사용하여 규제</font>"
   ]
  },
  {
   "cell_type": "markdown",
   "metadata": {
    "colab_type": "text",
    "id": "8rejDMAIrUJe",
    "slideshow": {
     "slide_type": "slide"
    }
   },
   "source": [
    "### C 값의 변화에 따른 결정경계의 변화\n",
    "- C의 값이 높아지면 규제가 감소 -> 훈련 세트에 최대한 맞추려 함 (개개의 데이터 포인트를 정확히 분류하려고 노력)\n",
    "- C의 값이 낮아지면 규제가 증가 -> w가 0에 가까워지도록 만듬  (데이터 포인트 중 다수에 맞추려고 함)"
   ]
  },
  {
   "cell_type": "code",
   "execution_count": 6,
   "metadata": {
    "colab": {
     "base_uri": "https://localhost:8080/",
     "height": 268
    },
    "colab_type": "code",
    "executionInfo": {
     "elapsed": 8965,
     "status": "ok",
     "timestamp": 1596030233458,
     "user": {
      "displayName": "oz To",
      "photoUrl": "",
      "userId": "12937505880450462933"
     },
     "user_tz": -540
    },
    "id": "YqWtvABtq1QS",
    "outputId": "534441b5-5130-4bfc-ccfe-24ef1d8464bb",
    "slideshow": {
     "slide_type": "slide"
    }
   },
   "outputs": [
    {
     "output_type": "display_data",
     "data": {
      "text/plain": "<Figure size 864x288 with 3 Axes>",
      "image/svg+xml": "<?xml version=\"1.0\" encoding=\"utf-8\" standalone=\"no\"?>\r\n<!DOCTYPE svg PUBLIC \"-//W3C//DTD SVG 1.1//EN\"\r\n  \"http://www.w3.org/Graphics/SVG/1.1/DTD/svg11.dtd\">\r\n<!-- Created with matplotlib (https://matplotlib.org/) -->\r\n<svg height=\"250.458125pt\" version=\"1.1\" viewBox=\"0 0 687.5 250.458125\" width=\"687.5pt\" xmlns=\"http://www.w3.org/2000/svg\" xmlns:xlink=\"http://www.w3.org/1999/xlink\">\r\n <defs>\r\n  <style type=\"text/css\">\r\n*{stroke-linecap:butt;stroke-linejoin:round;}\r\n  </style>\r\n </defs>\r\n <g id=\"figure_1\">\r\n  <g id=\"patch_1\">\r\n   <path d=\"M 0 250.458125 \r\nL 687.5 250.458125 \r\nL 687.5 0 \r\nL 0 0 \r\nz\r\n\" style=\"fill:none;\"/>\r\n  </g>\r\n  <g id=\"axes_1\">\r\n   <g id=\"patch_2\">\r\n    <path d=\"M 10.7 239.758125 \r\nL 207.641176 239.758125 \r\nL 207.641176 22.318125 \r\nL 10.7 22.318125 \r\nz\r\n\" style=\"fill:#ffffff;\"/>\r\n   </g>\r\n   <g id=\"matplotlib.axis_1\"/>\r\n   <g id=\"matplotlib.axis_2\"/>\r\n   <g id=\"line2d_1\">\r\n    <defs>\r\n     <path d=\"M 0 5 \r\nC 1.326016 5 2.597899 4.473168 3.535534 3.535534 \r\nC 4.473168 2.597899 5 1.326016 5 0 \r\nC 5 -1.326016 4.473168 -2.597899 3.535534 -3.535534 \r\nC 2.597899 -4.473168 1.326016 -5 0 -5 \r\nC -1.326016 -5 -2.597899 -4.473168 -3.535534 -3.535534 \r\nC -4.473168 -2.597899 -5 -1.326016 -5 0 \r\nC -5 1.326016 -4.473168 2.597899 -3.535534 3.535534 \r\nC -2.597899 4.473168 -1.326016 5 0 5 \r\nz\r\n\" id=\"m779af278cd\" style=\"stroke:#000000;\"/>\r\n    </defs>\r\n    <g clip-path=\"url(#pb637c63d41)\">\r\n     <use style=\"fill:#1f77b4;stroke:#000000;\" x=\"101.242701\" xlink:href=\"#m779af278cd\" y=\"166.138505\"/>\r\n     <use style=\"fill:#1f77b4;stroke:#000000;\" x=\"45.018222\" xlink:href=\"#m779af278cd\" y=\"174.601256\"/>\r\n     <use style=\"fill:#1f77b4;stroke:#000000;\" x=\"151.845837\" xlink:href=\"#m779af278cd\" y=\"210.156968\"/>\r\n     <use style=\"fill:#1f77b4;stroke:#000000;\" x=\"108.973107\" xlink:href=\"#m779af278cd\" y=\"178.939534\"/>\r\n     <use style=\"fill:#1f77b4;stroke:#000000;\" x=\"58.406262\" xlink:href=\"#m779af278cd\" y=\"158.026009\"/>\r\n     <use style=\"fill:#1f77b4;stroke:#000000;\" x=\"34.980604\" xlink:href=\"#m779af278cd\" y=\"74.448333\"/>\r\n     <use style=\"fill:#1f77b4;stroke:#000000;\" x=\"97.536272\" xlink:href=\"#m779af278cd\" y=\"211.21289\"/>\r\n     <use style=\"fill:#1f77b4;stroke:#000000;\" x=\"58.265745\" xlink:href=\"#m779af278cd\" y=\"159.735611\"/>\r\n     <use style=\"fill:#1f77b4;stroke:#000000;\" x=\"67.566492\" xlink:href=\"#m779af278cd\" y=\"224.527511\"/>\r\n     <use style=\"fill:#1f77b4;stroke:#000000;\" x=\"38.077346\" xlink:href=\"#m779af278cd\" y=\"165.56754\"/>\r\n     <use style=\"fill:#1f77b4;stroke:#000000;\" x=\"60.036198\" xlink:href=\"#m779af278cd\" y=\"129.136455\"/>\r\n     <use style=\"fill:#1f77b4;stroke:#000000;\" x=\"113.152692\" xlink:href=\"#m779af278cd\" y=\"174.853998\"/>\r\n     <use style=\"fill:#1f77b4;stroke:#000000;\" x=\"90.653994\" xlink:href=\"#m779af278cd\" y=\"213.085389\"/>\r\n     <use style=\"fill:#1f77b4;stroke:#000000;\" x=\"44.502431\" xlink:href=\"#m779af278cd\" y=\"155.131482\"/>\r\n     <use style=\"fill:#1f77b4;stroke:#000000;\" x=\"149.585373\" xlink:href=\"#m779af278cd\" y=\"217.716026\"/>\r\n     <use style=\"fill:#1f77b4;stroke:#000000;\" x=\"90.70206\" xlink:href=\"#m779af278cd\" y=\"145.99303\"/>\r\n     <use style=\"fill:#1f77b4;stroke:#000000;\" x=\"173.048948\" xlink:href=\"#m779af278cd\" y=\"164.248628\"/>\r\n    </g>\r\n   </g>\r\n   <g id=\"line2d_2\">\r\n    <defs>\r\n     <path d=\"M 0 -5 \r\nL -5 5 \r\nL 5 5 \r\nz\r\n\" id=\"m8670c00ece\" style=\"stroke:#000000;stroke-linejoin:miter;\"/>\r\n    </defs>\r\n    <g clip-path=\"url(#pb637c63d41)\">\r\n     <use style=\"fill:#ff7f0e;stroke:#000000;stroke-linejoin:miter;\" x=\"109.140798\" xlink:href=\"#m8670c00ece\" y=\"65.011273\"/>\r\n     <use style=\"fill:#ff7f0e;stroke:#000000;stroke-linejoin:miter;\" x=\"172.154551\" xlink:href=\"#m8670c00ece\" y=\"46.296034\"/>\r\n     <use style=\"fill:#ff7f0e;stroke:#000000;stroke-linejoin:miter;\" x=\"43.112886\" xlink:href=\"#m8670c00ece\" y=\"58.63043\"/>\r\n     <use style=\"fill:#ff7f0e;stroke:#000000;stroke-linejoin:miter;\" x=\"187.676006\" xlink:href=\"#m8670c00ece\" y=\"63.430401\"/>\r\n     <use style=\"fill:#ff7f0e;stroke:#000000;stroke-linejoin:miter;\" x=\"44.638805\" xlink:href=\"#m8670c00ece\" y=\"48.641689\"/>\r\n     <use style=\"fill:#ff7f0e;stroke:#000000;stroke-linejoin:miter;\" x=\"57.689803\" xlink:href=\"#m8670c00ece\" y=\"68.698142\"/>\r\n     <use style=\"fill:#ff7f0e;stroke:#000000;stroke-linejoin:miter;\" x=\"77.75626\" xlink:href=\"#m8670c00ece\" y=\"49.900483\"/>\r\n     <use style=\"fill:#ff7f0e;stroke:#000000;stroke-linejoin:miter;\" x=\"120.194452\" xlink:href=\"#m8670c00ece\" y=\"130.238551\"/>\r\n     <use style=\"fill:#ff7f0e;stroke:#000000;stroke-linejoin:miter;\" x=\"90.284438\" xlink:href=\"#m8670c00ece\" y=\"73.0688\"/>\r\n     <use style=\"fill:#ff7f0e;stroke:#000000;stroke-linejoin:miter;\" x=\"80.929048\" xlink:href=\"#m8670c00ece\" y=\"48.681522\"/>\r\n     <use style=\"fill:#ff7f0e;stroke:#000000;stroke-linejoin:miter;\" x=\"30.665171\" xlink:href=\"#m8670c00ece\" y=\"57.221128\"/>\r\n     <use style=\"fill:#ff7f0e;stroke:#000000;stroke-linejoin:miter;\" x=\"83.566073\" xlink:href=\"#m8670c00ece\" y=\"49.73067\"/>\r\n     <use style=\"fill:#ff7f0e;stroke:#000000;stroke-linejoin:miter;\" x=\"76.687699\" xlink:href=\"#m8670c00ece\" y=\"37.548739\"/>\r\n    </g>\r\n   </g>\r\n   <g id=\"line2d_3\">\r\n    <path clip-path=\"url(#pb637c63d41)\" d=\"M -1 134.508729 \r\nL 2.217255 133.748633 \r\nL 7.921589 132.40095 \r\nL 13.625924 131.053266 \r\nL 19.330258 129.705583 \r\nL 25.034593 128.357899 \r\nL 30.738927 127.010216 \r\nL 36.443262 125.662532 \r\nL 42.147596 124.314849 \r\nL 47.851931 122.967165 \r\nL 53.556265 121.619482 \r\nL 59.2606 120.271798 \r\nL 64.964934 118.924115 \r\nL 70.669269 117.576432 \r\nL 76.373603 116.228748 \r\nL 82.077938 114.881065 \r\nL 87.782273 113.533381 \r\nL 93.486607 112.185698 \r\nL 99.190942 110.838014 \r\nL 104.895276 109.490331 \r\nL 110.599611 108.142647 \r\nL 116.303945 106.794964 \r\nL 122.00828 105.44728 \r\nL 127.712614 104.099597 \r\nL 133.416949 102.751913 \r\nL 139.121283 101.40423 \r\nL 144.825618 100.056546 \r\nL 150.529952 98.708863 \r\nL 156.234287 97.361179 \r\nL 161.938621 96.013496 \r\nL 167.642956 94.665812 \r\nL 173.34729 93.318129 \r\nL 179.051625 91.970446 \r\nL 184.755959 90.622762 \r\nL 190.460294 89.275079 \r\nL 196.164629 87.927395 \r\nL 201.868963 86.579712 \r\nL 207.573298 85.232028 \r\nL 213.277632 83.884345 \r\nL 218.981967 82.536661 \r\nL 224.686301 81.188978 \r\nL 230.390636 79.841294 \r\n\" style=\"fill:none;stroke:#000000;stroke-linecap:square;stroke-width:1.5;\"/>\r\n   </g>\r\n   <g id=\"patch_3\">\r\n    <path d=\"M 10.7 239.758125 \r\nL 10.7 22.318125 \r\n\" style=\"fill:none;stroke:#000000;stroke-linecap:square;stroke-linejoin:miter;stroke-width:0.8;\"/>\r\n   </g>\r\n   <g id=\"patch_4\">\r\n    <path d=\"M 207.641176 239.758125 \r\nL 207.641176 22.318125 \r\n\" style=\"fill:none;stroke:#000000;stroke-linecap:square;stroke-linejoin:miter;stroke-width:0.8;\"/>\r\n   </g>\r\n   <g id=\"patch_5\">\r\n    <path d=\"M 10.7 239.758125 \r\nL 207.641176 239.758125 \r\n\" style=\"fill:none;stroke:#000000;stroke-linecap:square;stroke-linejoin:miter;stroke-width:0.8;\"/>\r\n   </g>\r\n   <g id=\"patch_6\">\r\n    <path d=\"M 10.7 22.318125 \r\nL 207.641176 22.318125 \r\n\" style=\"fill:none;stroke:#000000;stroke-linecap:square;stroke-linejoin:miter;stroke-width:0.8;\"/>\r\n   </g>\r\n   <g id=\"text_1\">\r\n    <!-- C = 0.010000 -->\r\n    <defs>\r\n     <path d=\"M 64.40625 67.28125 \r\nL 64.40625 56.890625 \r\nQ 59.421875 61.53125 53.78125 63.8125 \r\nQ 48.140625 66.109375 41.796875 66.109375 \r\nQ 29.296875 66.109375 22.65625 58.46875 \r\nQ 16.015625 50.828125 16.015625 36.375 \r\nQ 16.015625 21.96875 22.65625 14.328125 \r\nQ 29.296875 6.6875 41.796875 6.6875 \r\nQ 48.140625 6.6875 53.78125 8.984375 \r\nQ 59.421875 11.28125 64.40625 15.921875 \r\nL 64.40625 5.609375 \r\nQ 59.234375 2.09375 53.4375 0.328125 \r\nQ 47.65625 -1.421875 41.21875 -1.421875 \r\nQ 24.65625 -1.421875 15.125 8.703125 \r\nQ 5.609375 18.84375 5.609375 36.375 \r\nQ 5.609375 53.953125 15.125 64.078125 \r\nQ 24.65625 74.21875 41.21875 74.21875 \r\nQ 47.75 74.21875 53.53125 72.484375 \r\nQ 59.328125 70.75 64.40625 67.28125 \r\nz\r\n\" id=\"DejaVuSans-67\"/>\r\n     <path id=\"DejaVuSans-32\"/>\r\n     <path d=\"M 10.59375 45.40625 \r\nL 73.1875 45.40625 \r\nL 73.1875 37.203125 \r\nL 10.59375 37.203125 \r\nz\r\nM 10.59375 25.484375 \r\nL 73.1875 25.484375 \r\nL 73.1875 17.1875 \r\nL 10.59375 17.1875 \r\nz\r\n\" id=\"DejaVuSans-61\"/>\r\n     <path d=\"M 31.78125 66.40625 \r\nQ 24.171875 66.40625 20.328125 58.90625 \r\nQ 16.5 51.421875 16.5 36.375 \r\nQ 16.5 21.390625 20.328125 13.890625 \r\nQ 24.171875 6.390625 31.78125 6.390625 \r\nQ 39.453125 6.390625 43.28125 13.890625 \r\nQ 47.125 21.390625 47.125 36.375 \r\nQ 47.125 51.421875 43.28125 58.90625 \r\nQ 39.453125 66.40625 31.78125 66.40625 \r\nz\r\nM 31.78125 74.21875 \r\nQ 44.046875 74.21875 50.515625 64.515625 \r\nQ 56.984375 54.828125 56.984375 36.375 \r\nQ 56.984375 17.96875 50.515625 8.265625 \r\nQ 44.046875 -1.421875 31.78125 -1.421875 \r\nQ 19.53125 -1.421875 13.0625 8.265625 \r\nQ 6.59375 17.96875 6.59375 36.375 \r\nQ 6.59375 54.828125 13.0625 64.515625 \r\nQ 19.53125 74.21875 31.78125 74.21875 \r\nz\r\n\" id=\"DejaVuSans-48\"/>\r\n     <path d=\"M 10.6875 12.40625 \r\nL 21 12.40625 \r\nL 21 0 \r\nL 10.6875 0 \r\nz\r\n\" id=\"DejaVuSans-46\"/>\r\n     <path d=\"M 12.40625 8.296875 \r\nL 28.515625 8.296875 \r\nL 28.515625 63.921875 \r\nL 10.984375 60.40625 \r\nL 10.984375 69.390625 \r\nL 28.421875 72.90625 \r\nL 38.28125 72.90625 \r\nL 38.28125 8.296875 \r\nL 54.390625 8.296875 \r\nL 54.390625 0 \r\nL 12.40625 0 \r\nz\r\n\" id=\"DejaVuSans-49\"/>\r\n    </defs>\r\n    <g transform=\"translate(67.509963 16.318125)scale(0.12 -0.12)\">\r\n     <use xlink:href=\"#DejaVuSans-67\"/>\r\n     <use x=\"69.824219\" xlink:href=\"#DejaVuSans-32\"/>\r\n     <use x=\"101.611328\" xlink:href=\"#DejaVuSans-61\"/>\r\n     <use x=\"185.400391\" xlink:href=\"#DejaVuSans-32\"/>\r\n     <use x=\"217.1875\" xlink:href=\"#DejaVuSans-48\"/>\r\n     <use x=\"280.810547\" xlink:href=\"#DejaVuSans-46\"/>\r\n     <use x=\"312.597656\" xlink:href=\"#DejaVuSans-48\"/>\r\n     <use x=\"376.220703\" xlink:href=\"#DejaVuSans-49\"/>\r\n     <use x=\"439.84375\" xlink:href=\"#DejaVuSans-48\"/>\r\n     <use x=\"503.466797\" xlink:href=\"#DejaVuSans-48\"/>\r\n     <use x=\"567.089844\" xlink:href=\"#DejaVuSans-48\"/>\r\n     <use x=\"630.712891\" xlink:href=\"#DejaVuSans-48\"/>\r\n    </g>\r\n   </g>\r\n   <g id=\"legend_1\">\r\n    <g id=\"patch_7\">\r\n     <path d=\"M 162.278676 234.758125 \r\nL 200.641176 234.758125 \r\nQ 202.641176 234.758125 202.641176 232.758125 \r\nL 202.641176 204.401875 \r\nQ 202.641176 202.401875 200.641176 202.401875 \r\nL 162.278676 202.401875 \r\nQ 160.278676 202.401875 160.278676 204.401875 \r\nL 160.278676 232.758125 \r\nQ 160.278676 234.758125 162.278676 234.758125 \r\nz\r\n\" style=\"fill:#ffffff;opacity:0.8;stroke:#cccccc;stroke-linejoin:miter;\"/>\r\n    </g>\r\n    <g id=\"line2d_4\"/>\r\n    <g id=\"line2d_5\">\r\n     <g>\r\n      <use style=\"fill:#1f77b4;stroke:#000000;\" x=\"174.278676\" xlink:href=\"#m779af278cd\" y=\"210.500313\"/>\r\n     </g>\r\n    </g>\r\n    <g id=\"text_2\">\r\n     <!-- 0 -->\r\n     <g transform=\"translate(192.278676 214.000313)scale(0.1 -0.1)\">\r\n      <use xlink:href=\"#DejaVuSans-48\"/>\r\n     </g>\r\n    </g>\r\n    <g id=\"line2d_6\"/>\r\n    <g id=\"line2d_7\">\r\n     <g>\r\n      <use style=\"fill:#ff7f0e;stroke:#000000;stroke-linejoin:miter;\" x=\"174.278676\" xlink:href=\"#m8670c00ece\" y=\"225.178438\"/>\r\n     </g>\r\n    </g>\r\n    <g id=\"text_3\">\r\n     <!-- 1 -->\r\n     <g transform=\"translate(192.278676 228.678438)scale(0.1 -0.1)\">\r\n      <use xlink:href=\"#DejaVuSans-49\"/>\r\n     </g>\r\n    </g>\r\n   </g>\r\n  </g>\r\n  <g id=\"axes_2\">\r\n   <g id=\"patch_8\">\r\n    <path d=\"M 247.029412 239.758125 \r\nL 443.970588 239.758125 \r\nL 443.970588 22.318125 \r\nL 247.029412 22.318125 \r\nz\r\n\" style=\"fill:#ffffff;\"/>\r\n   </g>\r\n   <g id=\"matplotlib.axis_3\"/>\r\n   <g id=\"matplotlib.axis_4\"/>\r\n   <g id=\"line2d_8\">\r\n    <g clip-path=\"url(#pe78085e49f)\">\r\n     <use style=\"fill:#1f77b4;stroke:#000000;\" x=\"337.572113\" xlink:href=\"#m779af278cd\" y=\"166.138505\"/>\r\n     <use style=\"fill:#1f77b4;stroke:#000000;\" x=\"281.347634\" xlink:href=\"#m779af278cd\" y=\"174.601256\"/>\r\n     <use style=\"fill:#1f77b4;stroke:#000000;\" x=\"388.175248\" xlink:href=\"#m779af278cd\" y=\"210.156968\"/>\r\n     <use style=\"fill:#1f77b4;stroke:#000000;\" x=\"345.302519\" xlink:href=\"#m779af278cd\" y=\"178.939534\"/>\r\n     <use style=\"fill:#1f77b4;stroke:#000000;\" x=\"294.735674\" xlink:href=\"#m779af278cd\" y=\"158.026009\"/>\r\n     <use style=\"fill:#1f77b4;stroke:#000000;\" x=\"271.310016\" xlink:href=\"#m779af278cd\" y=\"74.448333\"/>\r\n     <use style=\"fill:#1f77b4;stroke:#000000;\" x=\"333.865684\" xlink:href=\"#m779af278cd\" y=\"211.21289\"/>\r\n     <use style=\"fill:#1f77b4;stroke:#000000;\" x=\"294.595157\" xlink:href=\"#m779af278cd\" y=\"159.735611\"/>\r\n     <use style=\"fill:#1f77b4;stroke:#000000;\" x=\"303.895904\" xlink:href=\"#m779af278cd\" y=\"224.527511\"/>\r\n     <use style=\"fill:#1f77b4;stroke:#000000;\" x=\"274.406758\" xlink:href=\"#m779af278cd\" y=\"165.56754\"/>\r\n     <use style=\"fill:#1f77b4;stroke:#000000;\" x=\"296.36561\" xlink:href=\"#m779af278cd\" y=\"129.136455\"/>\r\n     <use style=\"fill:#1f77b4;stroke:#000000;\" x=\"349.482104\" xlink:href=\"#m779af278cd\" y=\"174.853998\"/>\r\n     <use style=\"fill:#1f77b4;stroke:#000000;\" x=\"326.983406\" xlink:href=\"#m779af278cd\" y=\"213.085389\"/>\r\n     <use style=\"fill:#1f77b4;stroke:#000000;\" x=\"280.831843\" xlink:href=\"#m779af278cd\" y=\"155.131482\"/>\r\n     <use style=\"fill:#1f77b4;stroke:#000000;\" x=\"385.914785\" xlink:href=\"#m779af278cd\" y=\"217.716026\"/>\r\n     <use style=\"fill:#1f77b4;stroke:#000000;\" x=\"327.031471\" xlink:href=\"#m779af278cd\" y=\"145.99303\"/>\r\n     <use style=\"fill:#1f77b4;stroke:#000000;\" x=\"409.37836\" xlink:href=\"#m779af278cd\" y=\"164.248628\"/>\r\n    </g>\r\n   </g>\r\n   <g id=\"line2d_9\">\r\n    <g clip-path=\"url(#pe78085e49f)\">\r\n     <use style=\"fill:#ff7f0e;stroke:#000000;stroke-linejoin:miter;\" x=\"345.470209\" xlink:href=\"#m8670c00ece\" y=\"65.011273\"/>\r\n     <use style=\"fill:#ff7f0e;stroke:#000000;stroke-linejoin:miter;\" x=\"408.483963\" xlink:href=\"#m8670c00ece\" y=\"46.296034\"/>\r\n     <use style=\"fill:#ff7f0e;stroke:#000000;stroke-linejoin:miter;\" x=\"279.442298\" xlink:href=\"#m8670c00ece\" y=\"58.63043\"/>\r\n     <use style=\"fill:#ff7f0e;stroke:#000000;stroke-linejoin:miter;\" x=\"424.005417\" xlink:href=\"#m8670c00ece\" y=\"63.430401\"/>\r\n     <use style=\"fill:#ff7f0e;stroke:#000000;stroke-linejoin:miter;\" x=\"280.968217\" xlink:href=\"#m8670c00ece\" y=\"48.641689\"/>\r\n     <use style=\"fill:#ff7f0e;stroke:#000000;stroke-linejoin:miter;\" x=\"294.019214\" xlink:href=\"#m8670c00ece\" y=\"68.698142\"/>\r\n     <use style=\"fill:#ff7f0e;stroke:#000000;stroke-linejoin:miter;\" x=\"314.085671\" xlink:href=\"#m8670c00ece\" y=\"49.900483\"/>\r\n     <use style=\"fill:#ff7f0e;stroke:#000000;stroke-linejoin:miter;\" x=\"356.523864\" xlink:href=\"#m8670c00ece\" y=\"130.238551\"/>\r\n     <use style=\"fill:#ff7f0e;stroke:#000000;stroke-linejoin:miter;\" x=\"326.61385\" xlink:href=\"#m8670c00ece\" y=\"73.0688\"/>\r\n     <use style=\"fill:#ff7f0e;stroke:#000000;stroke-linejoin:miter;\" x=\"317.258459\" xlink:href=\"#m8670c00ece\" y=\"48.681522\"/>\r\n     <use style=\"fill:#ff7f0e;stroke:#000000;stroke-linejoin:miter;\" x=\"266.994583\" xlink:href=\"#m8670c00ece\" y=\"57.221128\"/>\r\n     <use style=\"fill:#ff7f0e;stroke:#000000;stroke-linejoin:miter;\" x=\"319.895485\" xlink:href=\"#m8670c00ece\" y=\"49.73067\"/>\r\n     <use style=\"fill:#ff7f0e;stroke:#000000;stroke-linejoin:miter;\" x=\"313.017111\" xlink:href=\"#m8670c00ece\" y=\"37.548739\"/>\r\n    </g>\r\n   </g>\r\n   <g id=\"line2d_10\">\r\n    <path clip-path=\"url(#pe78085e49f)\" d=\"M 187.207656 77.836581 \r\nL 192.91199 79.168734 \r\nL 198.616325 80.500887 \r\nL 204.320659 81.83304 \r\nL 210.024994 83.165194 \r\nL 215.729328 84.497347 \r\nL 221.433663 85.8295 \r\nL 227.137997 87.161654 \r\nL 232.842332 88.493807 \r\nL 238.546666 89.82596 \r\nL 244.251001 91.158113 \r\nL 249.955335 92.490267 \r\nL 255.65967 93.82242 \r\nL 261.364005 95.154573 \r\nL 267.068339 96.486726 \r\nL 272.772674 97.81888 \r\nL 278.477008 99.151033 \r\nL 284.181343 100.483186 \r\nL 289.885677 101.81534 \r\nL 295.590012 103.147493 \r\nL 301.294346 104.479646 \r\nL 306.998681 105.811799 \r\nL 312.703015 107.143953 \r\nL 318.40735 108.476106 \r\nL 324.111684 109.808259 \r\nL 329.816019 111.140412 \r\nL 335.520353 112.472566 \r\nL 341.224688 113.804719 \r\nL 346.929022 115.136872 \r\nL 352.633357 116.469026 \r\nL 358.337691 117.801179 \r\nL 364.042026 119.133332 \r\nL 369.746361 120.465485 \r\nL 375.450695 121.797639 \r\nL 381.15503 123.129792 \r\nL 386.859364 124.461945 \r\nL 392.563699 125.794098 \r\nL 398.268033 127.126252 \r\nL 403.972368 128.458405 \r\nL 409.676702 129.790558 \r\nL 415.381037 131.122712 \r\nL 421.085371 132.454865 \r\nL 426.789706 133.787018 \r\nL 432.49404 135.119171 \r\nL 438.198375 136.451325 \r\nL 443.902709 137.783478 \r\nL 449.607044 139.115631 \r\nL 455.311378 140.447784 \r\nL 461.015713 141.779938 \r\nL 466.720047 143.112091 \r\n\" style=\"fill:none;stroke:#000000;stroke-linecap:square;stroke-width:1.5;\"/>\r\n   </g>\r\n   <g id=\"patch_9\">\r\n    <path d=\"M 247.029412 239.758125 \r\nL 247.029412 22.318125 \r\n\" style=\"fill:none;stroke:#000000;stroke-linecap:square;stroke-linejoin:miter;stroke-width:0.8;\"/>\r\n   </g>\r\n   <g id=\"patch_10\">\r\n    <path d=\"M 443.970588 239.758125 \r\nL 443.970588 22.318125 \r\n\" style=\"fill:none;stroke:#000000;stroke-linecap:square;stroke-linejoin:miter;stroke-width:0.8;\"/>\r\n   </g>\r\n   <g id=\"patch_11\">\r\n    <path d=\"M 247.029412 239.758125 \r\nL 443.970588 239.758125 \r\n\" style=\"fill:none;stroke:#000000;stroke-linecap:square;stroke-linejoin:miter;stroke-width:0.8;\"/>\r\n   </g>\r\n   <g id=\"patch_12\">\r\n    <path d=\"M 247.029412 22.318125 \r\nL 443.970588 22.318125 \r\n\" style=\"fill:none;stroke:#000000;stroke-linecap:square;stroke-linejoin:miter;stroke-width:0.8;\"/>\r\n   </g>\r\n   <g id=\"text_4\">\r\n    <!-- C = 10.000000 -->\r\n    <g transform=\"translate(300.021875 16.318125)scale(0.12 -0.12)\">\r\n     <use xlink:href=\"#DejaVuSans-67\"/>\r\n     <use x=\"69.824219\" xlink:href=\"#DejaVuSans-32\"/>\r\n     <use x=\"101.611328\" xlink:href=\"#DejaVuSans-61\"/>\r\n     <use x=\"185.400391\" xlink:href=\"#DejaVuSans-32\"/>\r\n     <use x=\"217.1875\" xlink:href=\"#DejaVuSans-49\"/>\r\n     <use x=\"280.810547\" xlink:href=\"#DejaVuSans-48\"/>\r\n     <use x=\"344.433594\" xlink:href=\"#DejaVuSans-46\"/>\r\n     <use x=\"376.220703\" xlink:href=\"#DejaVuSans-48\"/>\r\n     <use x=\"439.84375\" xlink:href=\"#DejaVuSans-48\"/>\r\n     <use x=\"503.466797\" xlink:href=\"#DejaVuSans-48\"/>\r\n     <use x=\"567.089844\" xlink:href=\"#DejaVuSans-48\"/>\r\n     <use x=\"630.712891\" xlink:href=\"#DejaVuSans-48\"/>\r\n     <use x=\"694.335938\" xlink:href=\"#DejaVuSans-48\"/>\r\n    </g>\r\n   </g>\r\n  </g>\r\n  <g id=\"axes_3\">\r\n   <g id=\"patch_13\">\r\n    <path d=\"M 483.358824 239.758125 \r\nL 680.3 239.758125 \r\nL 680.3 22.318125 \r\nL 483.358824 22.318125 \r\nz\r\n\" style=\"fill:#ffffff;\"/>\r\n   </g>\r\n   <g id=\"matplotlib.axis_5\"/>\r\n   <g id=\"matplotlib.axis_6\"/>\r\n   <g id=\"line2d_11\">\r\n    <g clip-path=\"url(#p4fa636a44d)\">\r\n     <use style=\"fill:#1f77b4;stroke:#000000;\" x=\"573.901524\" xlink:href=\"#m779af278cd\" y=\"166.138505\"/>\r\n     <use style=\"fill:#1f77b4;stroke:#000000;\" x=\"517.677046\" xlink:href=\"#m779af278cd\" y=\"174.601256\"/>\r\n     <use style=\"fill:#1f77b4;stroke:#000000;\" x=\"624.50466\" xlink:href=\"#m779af278cd\" y=\"210.156968\"/>\r\n     <use style=\"fill:#1f77b4;stroke:#000000;\" x=\"581.63193\" xlink:href=\"#m779af278cd\" y=\"178.939534\"/>\r\n     <use style=\"fill:#1f77b4;stroke:#000000;\" x=\"531.065086\" xlink:href=\"#m779af278cd\" y=\"158.026009\"/>\r\n     <use style=\"fill:#1f77b4;stroke:#000000;\" x=\"507.639427\" xlink:href=\"#m779af278cd\" y=\"74.448333\"/>\r\n     <use style=\"fill:#1f77b4;stroke:#000000;\" x=\"570.195096\" xlink:href=\"#m779af278cd\" y=\"211.21289\"/>\r\n     <use style=\"fill:#1f77b4;stroke:#000000;\" x=\"530.924568\" xlink:href=\"#m779af278cd\" y=\"159.735611\"/>\r\n     <use style=\"fill:#1f77b4;stroke:#000000;\" x=\"540.225316\" xlink:href=\"#m779af278cd\" y=\"224.527511\"/>\r\n     <use style=\"fill:#1f77b4;stroke:#000000;\" x=\"510.73617\" xlink:href=\"#m779af278cd\" y=\"165.56754\"/>\r\n     <use style=\"fill:#1f77b4;stroke:#000000;\" x=\"532.695022\" xlink:href=\"#m779af278cd\" y=\"129.136455\"/>\r\n     <use style=\"fill:#1f77b4;stroke:#000000;\" x=\"585.811516\" xlink:href=\"#m779af278cd\" y=\"174.853998\"/>\r\n     <use style=\"fill:#1f77b4;stroke:#000000;\" x=\"563.312818\" xlink:href=\"#m779af278cd\" y=\"213.085389\"/>\r\n     <use style=\"fill:#1f77b4;stroke:#000000;\" x=\"517.161254\" xlink:href=\"#m779af278cd\" y=\"155.131482\"/>\r\n     <use style=\"fill:#1f77b4;stroke:#000000;\" x=\"622.244197\" xlink:href=\"#m779af278cd\" y=\"217.716026\"/>\r\n     <use style=\"fill:#1f77b4;stroke:#000000;\" x=\"563.360883\" xlink:href=\"#m779af278cd\" y=\"145.99303\"/>\r\n     <use style=\"fill:#1f77b4;stroke:#000000;\" x=\"645.707771\" xlink:href=\"#m779af278cd\" y=\"164.248628\"/>\r\n    </g>\r\n   </g>\r\n   <g id=\"line2d_12\">\r\n    <g clip-path=\"url(#p4fa636a44d)\">\r\n     <use style=\"fill:#ff7f0e;stroke:#000000;stroke-linejoin:miter;\" x=\"581.799621\" xlink:href=\"#m8670c00ece\" y=\"65.011273\"/>\r\n     <use style=\"fill:#ff7f0e;stroke:#000000;stroke-linejoin:miter;\" x=\"644.813375\" xlink:href=\"#m8670c00ece\" y=\"46.296034\"/>\r\n     <use style=\"fill:#ff7f0e;stroke:#000000;stroke-linejoin:miter;\" x=\"515.77171\" xlink:href=\"#m8670c00ece\" y=\"58.63043\"/>\r\n     <use style=\"fill:#ff7f0e;stroke:#000000;stroke-linejoin:miter;\" x=\"660.334829\" xlink:href=\"#m8670c00ece\" y=\"63.430401\"/>\r\n     <use style=\"fill:#ff7f0e;stroke:#000000;stroke-linejoin:miter;\" x=\"517.297629\" xlink:href=\"#m8670c00ece\" y=\"48.641689\"/>\r\n     <use style=\"fill:#ff7f0e;stroke:#000000;stroke-linejoin:miter;\" x=\"530.348626\" xlink:href=\"#m8670c00ece\" y=\"68.698142\"/>\r\n     <use style=\"fill:#ff7f0e;stroke:#000000;stroke-linejoin:miter;\" x=\"550.415083\" xlink:href=\"#m8670c00ece\" y=\"49.900483\"/>\r\n     <use style=\"fill:#ff7f0e;stroke:#000000;stroke-linejoin:miter;\" x=\"592.853275\" xlink:href=\"#m8670c00ece\" y=\"130.238551\"/>\r\n     <use style=\"fill:#ff7f0e;stroke:#000000;stroke-linejoin:miter;\" x=\"562.943261\" xlink:href=\"#m8670c00ece\" y=\"73.0688\"/>\r\n     <use style=\"fill:#ff7f0e;stroke:#000000;stroke-linejoin:miter;\" x=\"553.587871\" xlink:href=\"#m8670c00ece\" y=\"48.681522\"/>\r\n     <use style=\"fill:#ff7f0e;stroke:#000000;stroke-linejoin:miter;\" x=\"503.323994\" xlink:href=\"#m8670c00ece\" y=\"57.221128\"/>\r\n     <use style=\"fill:#ff7f0e;stroke:#000000;stroke-linejoin:miter;\" x=\"556.224897\" xlink:href=\"#m8670c00ece\" y=\"49.73067\"/>\r\n     <use style=\"fill:#ff7f0e;stroke:#000000;stroke-linejoin:miter;\" x=\"549.346523\" xlink:href=\"#m8670c00ece\" y=\"37.548739\"/>\r\n    </g>\r\n   </g>\r\n   <g id=\"line2d_13\">\r\n    <path clip-path=\"url(#p4fa636a44d)\" d=\"M 423.537067 17.435385 \r\nL 429.241402 21.09792 \r\nL 434.945737 24.760455 \r\nL 440.650071 28.42299 \r\nL 446.354406 32.085525 \r\nL 452.05874 35.74806 \r\nL 457.763075 39.410595 \r\nL 463.467409 43.07313 \r\nL 469.171744 46.735665 \r\nL 474.876078 50.3982 \r\nL 480.580413 54.060735 \r\nL 486.284747 57.72327 \r\nL 491.989082 61.385805 \r\nL 497.693416 65.04834 \r\nL 503.397751 68.710875 \r\nL 509.102085 72.37341 \r\nL 514.80642 76.035945 \r\nL 520.510754 79.69848 \r\nL 526.215089 83.361015 \r\nL 531.919423 87.02355 \r\nL 537.623758 90.686085 \r\nL 543.328093 94.34862 \r\nL 549.032427 98.011155 \r\nL 554.736762 101.67369 \r\nL 560.441096 105.336225 \r\nL 566.145431 108.99876 \r\nL 571.849765 112.661295 \r\nL 577.5541 116.32383 \r\nL 583.258434 119.986365 \r\nL 588.962769 123.6489 \r\nL 594.667103 127.311435 \r\nL 600.371438 130.97397 \r\nL 606.075772 134.636505 \r\nL 611.780107 138.29904 \r\nL 617.484441 141.961575 \r\nL 623.188776 145.62411 \r\nL 628.89311 149.286645 \r\nL 634.597445 152.94918 \r\nL 640.301779 156.611715 \r\nL 646.006114 160.27425 \r\nL 651.710448 163.936785 \r\nL 657.414783 167.59932 \r\nL 663.119118 171.261855 \r\nL 668.823452 174.92439 \r\nL 674.527787 178.586925 \r\nL 680.232121 182.24946 \r\nL 685.936456 185.911995 \r\nL 688.5 187.557948 \r\n\" style=\"fill:none;stroke:#000000;stroke-linecap:square;stroke-width:1.5;\"/>\r\n   </g>\r\n   <g id=\"patch_14\">\r\n    <path d=\"M 483.358824 239.758125 \r\nL 483.358824 22.318125 \r\n\" style=\"fill:none;stroke:#000000;stroke-linecap:square;stroke-linejoin:miter;stroke-width:0.8;\"/>\r\n   </g>\r\n   <g id=\"patch_15\">\r\n    <path d=\"M 680.3 239.758125 \r\nL 680.3 22.318125 \r\n\" style=\"fill:none;stroke:#000000;stroke-linecap:square;stroke-linejoin:miter;stroke-width:0.8;\"/>\r\n   </g>\r\n   <g id=\"patch_16\">\r\n    <path d=\"M 483.358824 239.758125 \r\nL 680.3 239.758125 \r\n\" style=\"fill:none;stroke:#000000;stroke-linecap:square;stroke-linejoin:miter;stroke-width:0.8;\"/>\r\n   </g>\r\n   <g id=\"patch_17\">\r\n    <path d=\"M 483.358824 22.318125 \r\nL 680.3 22.318125 \r\n\" style=\"fill:none;stroke:#000000;stroke-linecap:square;stroke-linejoin:miter;stroke-width:0.8;\"/>\r\n   </g>\r\n   <g id=\"text_5\">\r\n    <!-- C = 1000.000000 -->\r\n    <g transform=\"translate(528.716287 16.318125)scale(0.12 -0.12)\">\r\n     <use xlink:href=\"#DejaVuSans-67\"/>\r\n     <use x=\"69.824219\" xlink:href=\"#DejaVuSans-32\"/>\r\n     <use x=\"101.611328\" xlink:href=\"#DejaVuSans-61\"/>\r\n     <use x=\"185.400391\" xlink:href=\"#DejaVuSans-32\"/>\r\n     <use x=\"217.1875\" xlink:href=\"#DejaVuSans-49\"/>\r\n     <use x=\"280.810547\" xlink:href=\"#DejaVuSans-48\"/>\r\n     <use x=\"344.433594\" xlink:href=\"#DejaVuSans-48\"/>\r\n     <use x=\"408.056641\" xlink:href=\"#DejaVuSans-48\"/>\r\n     <use x=\"471.679688\" xlink:href=\"#DejaVuSans-46\"/>\r\n     <use x=\"503.466797\" xlink:href=\"#DejaVuSans-48\"/>\r\n     <use x=\"567.089844\" xlink:href=\"#DejaVuSans-48\"/>\r\n     <use x=\"630.712891\" xlink:href=\"#DejaVuSans-48\"/>\r\n     <use x=\"694.335938\" xlink:href=\"#DejaVuSans-48\"/>\r\n     <use x=\"757.958984\" xlink:href=\"#DejaVuSans-48\"/>\r\n     <use x=\"821.582031\" xlink:href=\"#DejaVuSans-48\"/>\r\n    </g>\r\n   </g>\r\n  </g>\r\n </g>\r\n <defs>\r\n  <clipPath id=\"pb637c63d41\">\r\n   <rect height=\"217.44\" width=\"196.941176\" x=\"10.7\" y=\"22.318125\"/>\r\n  </clipPath>\r\n  <clipPath id=\"pe78085e49f\">\r\n   <rect height=\"217.44\" width=\"196.941176\" x=\"247.029412\" y=\"22.318125\"/>\r\n  </clipPath>\r\n  <clipPath id=\"p4fa636a44d\">\r\n   <rect height=\"217.44\" width=\"196.941176\" x=\"483.358824\" y=\"22.318125\"/>\r\n  </clipPath>\r\n </defs>\r\n</svg>\r\n",
      "image/png": "[encoded data removed]"
     },
     "metadata": {}
    }
   ],
   "source": [
    "# linear SVC 결정경계 변화\n",
    "mglearn.plots.plot_linear_svc_regularization()"
   ]
  },
  {
   "cell_type": "markdown",
   "metadata": {
    "colab_type": "text",
    "id": "V_e1LjstrvXI",
    "slideshow": {
     "slide_type": "slide"
    }
   },
   "source": [
    "- 왼쪽 그림은 아주 작은 C 값 때문에 클래스 0은 아래쪽에 1은 위쪽에 대부분 배치, 2개가 잘못 분류 (결정경계가 수평에 가까움)\n",
    "- C 값이 올라가면 결정경계가 기울어지며 최종적으로 클래스 0은 모두 아래쪽에 위치됨 -> 과대 적합"
   ]
  },
  {
   "cell_type": "markdown",
   "metadata": {
    "colab_type": "text",
    "id": "INTa7XoAGSIq",
    "slideshow": {
     "slide_type": "slide"
    }
   },
   "source": [
    "#### Linear SVC 실습 01\n",
    "\n",
    "와인 데이터 분류"
   ]
  },
  {
   "cell_type": "code",
   "execution_count": 7,
   "metadata": {
    "colab": {
     "base_uri": "https://localhost:8080/",
     "height": 269
    },
    "colab_type": "code",
    "executionInfo": {
     "elapsed": 801,
     "status": "ok",
     "timestamp": 1596030305166,
     "user": {
      "displayName": "oz To",
      "photoUrl": "",
      "userId": "12937505880450462933"
     },
     "user_tz": -540
    },
    "id": "ruCGGRhNe41V",
    "outputId": "11b25afd-fcd6-412a-ddb9-3427613a2731",
    "slideshow": {
     "slide_type": "slide"
    }
   },
   "outputs": [
    {
     "output_type": "execute_result",
     "data": {
      "text/plain": "(['alcohol',\n  'malic_acid',\n  'ash',\n  'alcalinity_of_ash',\n  'magnesium',\n  'total_phenols',\n  'flavanoids',\n  'nonflavanoid_phenols',\n  'proanthocyanins',\n  'color_intensity',\n  'hue',\n  'od280/od315_of_diluted_wines',\n  'proline'],\n array(['class_0', 'class_1', 'class_2'], dtype='<U7'))"
     },
     "metadata": {},
     "execution_count": 7
    }
   ],
   "source": [
    "from sklearn.datasets import load_wine\n",
    "\n",
    "# 데이터 로드\n",
    "wine = load_wine()\n",
    "wine.feature_names, wine.target_names"
   ]
  },
  {
   "cell_type": "code",
   "execution_count": 8,
   "metadata": {
    "colab": {},
    "colab_type": "code",
    "executionInfo": {
     "elapsed": 963,
     "status": "ok",
     "timestamp": 1596030257213,
     "user": {
      "displayName": "oz To",
      "photoUrl": "",
      "userId": "12937505880450462933"
     },
     "user_tz": -540
    },
    "id": "J9rfsUImgCpL",
    "slideshow": {
     "slide_type": "slide"
    }
   },
   "outputs": [],
   "source": [
    "# 훈련셋 및 테스트셋 분리\n",
    "from sklearn.model_selection import train_test_split\n",
    "X_train, X_test, y_train, y_test = train_test_split(wine.data, wine.target, random_state=0)"
   ]
  },
  {
   "cell_type": "code",
   "execution_count": 9,
   "metadata": {
    "colab": {
     "base_uri": "https://localhost:8080/",
     "height": 73
    },
    "colab_type": "code",
    "executionInfo": {
     "elapsed": 762,
     "status": "ok",
     "timestamp": 1596030258563,
     "user": {
      "displayName": "oz To",
      "photoUrl": "",
      "userId": "12937505880450462933"
     },
     "user_tz": -540
    },
    "id": "k9lkaQF6gIqq",
    "outputId": "49d575ce-ab72-4a6e-a78e-c17bcc19dea3",
    "slideshow": {
     "slide_type": "slide"
    }
   },
   "outputs": [],
   "source": [
    "# 모델학습\n",
    "from sklearn.svm import LinearSVC\n",
    "\n",
    "model = LinearSVC(C=1, max_iter=10000).fit(X_train, y_train)"
   ]
  },
  {
   "cell_type": "code",
   "execution_count": 10,
   "metadata": {
    "colab": {
     "base_uri": "https://localhost:8080/",
     "height": 35
    },
    "colab_type": "code",
    "executionInfo": {
     "elapsed": 450,
     "status": "ok",
     "timestamp": 1596030259521,
     "user": {
      "displayName": "oz To",
      "photoUrl": "",
      "userId": "12937505880450462933"
     },
     "user_tz": -540
    },
    "id": "fECZovAegsbi",
    "outputId": "610aa455-3b18-425a-d32b-fdb8a750c59e",
    "slideshow": {
     "slide_type": "slide"
    }
   },
   "outputs": [
    {
     "output_type": "execute_result",
     "data": {
      "text/plain": "(0.9548872180451128, 0.9111111111111111)"
     },
     "metadata": {},
     "execution_count": 10
    }
   ],
   "source": [
    "# 스코어 확인\n",
    "model.score(X_train, y_train), model.score(X_test, y_test)"
   ]
  },
  {
   "cell_type": "code",
   "execution_count": 11,
   "metadata": {
    "colab": {
     "base_uri": "https://localhost:8080/",
     "height": 71
    },
    "colab_type": "code",
    "executionInfo": {
     "elapsed": 718,
     "status": "ok",
     "timestamp": 1596030260370,
     "user": {
      "displayName": "oz To",
      "photoUrl": "",
      "userId": "12937505880450462933"
     },
     "user_tz": -540
    },
    "id": "WMU3COw_gt_5",
    "outputId": "ee1f7c0f-13f2-4d9a-f049-023fd360201e",
    "slideshow": {
     "slide_type": "slide"
    }
   },
   "outputs": [
    {
     "output_type": "execute_result",
     "data": {
      "text/plain": "array([0, 2, 1, 0, 1, 1, 0, 2, 1, 1, 2, 2, 0, 1, 2, 1, 0, 0, 2, 0, 1, 0,\n       1, 1, 2, 1, 1, 1, 2, 2, 0, 0, 1, 0, 0, 0, 2, 1, 1, 2, 0, 0, 1, 1,\n       1])"
     },
     "metadata": {},
     "execution_count": 11
    }
   ],
   "source": [
    "# 예측\n",
    "pred = model.predict(X_test)\n",
    "pred"
   ]
  },
  {
   "cell_type": "markdown",
   "metadata": {
    "colab_type": "text",
    "id": "H7V6AGs3GZTn",
    "slideshow": {
     "slide_type": "slide"
    }
   },
   "source": [
    "#### Linear SVC 실습 02\n",
    "\n",
    "붓꽃 데이터 분류"
   ]
  },
  {
   "cell_type": "code",
   "execution_count": 12,
   "metadata": {
    "colab": {},
    "colab_type": "code",
    "executionInfo": {
     "elapsed": 836,
     "status": "ok",
     "timestamp": 1596030262331,
     "user": {
      "displayName": "oz To",
      "photoUrl": "",
      "userId": "12937505880450462933"
     },
     "user_tz": -540
    },
    "id": "G8JmFQgae9Di",
    "slideshow": {
     "slide_type": "slide"
    }
   },
   "outputs": [],
   "source": [
    "# 데이터 로드\n",
    "from sklearn.datasets import load_iris\n",
    "\n",
    "iris = load_iris()"
   ]
  },
  {
   "cell_type": "code",
   "execution_count": 13,
   "metadata": {
    "colab": {},
    "colab_type": "code",
    "executionInfo": {
     "elapsed": 727,
     "status": "ok",
     "timestamp": 1596030262728,
     "user": {
      "displayName": "oz To",
      "photoUrl": "",
      "userId": "12937505880450462933"
     },
     "user_tz": -540
    },
    "id": "8XWVWwVYfAoA",
    "slideshow": {
     "slide_type": "slide"
    }
   },
   "outputs": [],
   "source": [
    "# 훈련셋 및 테스트셋 분리\n",
    "from sklearn.model_selection import train_test_split\n",
    "\n",
    "X_train, X_test, y_train, y_test = train_test_split(iris.data, iris.target, random_state=0)"
   ]
  },
  {
   "cell_type": "code",
   "execution_count": 14,
   "metadata": {
    "colab": {
     "base_uri": "https://localhost:8080/",
     "height": 73
    },
    "colab_type": "code",
    "executionInfo": {
     "elapsed": 903,
     "status": "ok",
     "timestamp": 1596030263462,
     "user": {
      "displayName": "oz To",
      "photoUrl": "",
      "userId": "12937505880450462933"
     },
     "user_tz": -540
    },
    "id": "fUuHjRj-fEaR",
    "outputId": "860b4c94-d08a-44f6-b212-11bd0178f980",
    "slideshow": {
     "slide_type": "slide"
    }
   },
   "outputs": [],
   "source": [
    "# 모델학습\n",
    "from sklearn.svm import LinearSVC\n",
    "\n",
    "model = LinearSVC(C=1, max_iter=10000).fit(X_train, y_train)"
   ]
  },
  {
   "cell_type": "code",
   "execution_count": 15,
   "metadata": {
    "colab": {
     "base_uri": "https://localhost:8080/",
     "height": 35
    },
    "colab_type": "code",
    "executionInfo": {
     "elapsed": 650,
     "status": "ok",
     "timestamp": 1596030263757,
     "user": {
      "displayName": "oz To",
      "photoUrl": "",
      "userId": "12937505880450462933"
     },
     "user_tz": -540
    },
    "id": "F78w-UXpfaKS",
    "outputId": "5ebd1a2b-75dc-4bfc-efaa-6e6a5731d916",
    "slideshow": {
     "slide_type": "slide"
    }
   },
   "outputs": [
    {
     "output_type": "execute_result",
     "data": {
      "text/plain": "(0.9821428571428571, 0.9210526315789473)"
     },
     "metadata": {},
     "execution_count": 15
    }
   ],
   "source": [
    "# 스코어 확인\n",
    "model.score(X_train, y_train), model.score(X_test, y_test)"
   ]
  },
  {
   "cell_type": "code",
   "execution_count": 16,
   "metadata": {
    "colab": {
     "base_uri": "https://localhost:8080/",
     "height": 53
    },
    "colab_type": "code",
    "executionInfo": {
     "elapsed": 849,
     "status": "ok",
     "timestamp": 1596030264545,
     "user": {
      "displayName": "oz To",
      "photoUrl": "",
      "userId": "12937505880450462933"
     },
     "user_tz": -540
    },
    "id": "jCpX70usfe_s",
    "outputId": "b205597e-5b81-427e-f2ed-5f9d5ec50293",
    "slideshow": {
     "slide_type": "slide"
    }
   },
   "outputs": [
    {
     "output_type": "execute_result",
     "data": {
      "text/plain": "array([2, 1, 0, 2, 0, 2, 0, 1, 1, 1, 2, 1, 1, 1, 1, 0, 1, 1, 0, 0, 2, 2,\n       0, 0, 2, 0, 0, 1, 1, 0, 2, 2, 0, 2, 2, 1, 0, 2])"
     },
     "metadata": {},
     "execution_count": 16
    }
   ],
   "source": [
    "# 예측\n",
    "pred = model.predict(X_test)\n",
    "pred"
   ]
  },
  {
   "cell_type": "markdown",
   "metadata": {
    "colab_type": "text",
    "id": "6Bhvx9b_d32-",
    "slideshow": {
     "slide_type": "slide"
    }
   },
   "source": [
    "## Linear SVC와 Logistic Regression의 장단점\n",
    "\n",
    "- 선형 모델의 주요 매개변수는 회귀 모델에서는 alpha였고 LinearSVC와 LogisticRegression에서는 C\n",
    "- alpha 값이 클수록, C 값이 작을수록 모델이 단순해짐\n",
    "- 회귀 모델에서 이 매개변수를 조정하는 일이 매우 중요\n",
    "\n",
    "- L1 규제를 사용할지 L2 규제를 사용할지를 정해야 함\n",
    "- 중요한 특성이 많지 않다고 생각하면 L1 규제를 사용하고 그렇지 않으면 기본적으로 L2 규제를 사용\n",
    "\n",
    "- 선형 모델은 학습 속도가 빠르고 예측도 빠름\n",
    "- 매우 큰 데이터셋과 희소한 데이터셋에도 잘 작동\n",
    "- 수십만에서 수백만 개의 샘플로 이뤄진 대용량 데이터셋이라면 기본 설정보다 빨리 처리하도록 LogisticRegression과 Ridge에 solver=’sag’ 옵션 20 을 줌\n",
    "\n",
    "- 선형 모델은 샘플에 비해 특성이 많을 때 잘 작동\n",
    "- 다른 모델로 학습하기 어려운 매우 큰 데이터셋에도 선형 모델을 많이 사용"
   ]
  }
 ],
 "metadata": {
  "celltoolbar": "Slideshow",
  "colab": {
   "authorship_tag": "ABX9TyOIVDKHjQZrs2oe+0XEwMrJ",
   "collapsed_sections": [],
   "name": "ml_07_지도학습_LinearSVC.ipynb.ipynb",
   "provenance": []
  },
  "kernelspec": {
   "display_name": "Python 3",
   "language": "python",
   "name": "python3"
  },
  "language_info": {
   "codemirror_mode": {
    "name": "ipython",
    "version": 3
   },
   "file_extension": ".py",
   "mimetype": "text/x-python",
   "name": "python",
   "nbconvert_exporter": "python",
   "pygments_lexer": "ipython3",
   "version": "3.7.6"
  }
 },
 "nbformat": 4,
 "nbformat_minor": 1
}