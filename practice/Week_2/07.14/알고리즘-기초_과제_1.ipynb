{
 "cells": [
  {
   "cell_type": "markdown",
   "metadata": {},
   "source": [
    "# 광주 인공지능 사관학교\n",
    "- - -\n",
    "- 작성자 : 2반 한지호\n",
    "- 작성일 : 20.07.14 화\n",
    "- 6교시 알고리즘 시간 후 주어진 간단한 과제\n",
    "- - -\n",
    "- 수정일 : 20.07.15 수\n",
    "- 약수 구하기 문제 강사님의 해설 부분 추가"
   ]
  },
  {
   "cell_type": "markdown",
   "metadata": {},
   "source": [
    "### 약수 구하기\n",
    "- 입력받은 숫자 N의 모든 약수를 출력하시오\n",
    "- 입력 예제 1  \n",
    "  : 100\n",
    "- 출력 예제 1  \n",
    "  : 1 2 4 5 10 20 25 50 100\n",
    "- 반복을 최대한 줄여 효율적인 코드를 작성할 것"
   ]
  },
  {
   "cell_type": "code",
   "execution_count": 1,
   "metadata": {},
   "outputs": [
    {
     "name": "stdout",
     "output_type": "stream",
     "text": [
      "숫자 입력 : 100\n",
      "1 2 4 5 10 20 25 50 100 "
     ]
    }
   ],
   "source": [
    "def get_divisor():\n",
    "    N = int(input('숫자 입력 : '))\n",
    "    for i in range(1, N+1):\n",
    "        if N % i == 0:\n",
    "            print(i, end=' ')\n",
    "\n",
    "get_divisor() "
   ]
  },
  {
   "cell_type": "markdown",
   "metadata": {},
   "source": [
    "**강사님의 풀이**\n",
    "- 반복 횟수 최적화\n",
    "- 자연수 N의 약수는 $ \\sqrt N $을 기준으로 대칭성을 갖는다."
   ]
  },
  {
   "cell_type": "code",
   "execution_count": 2,
   "metadata": {},
   "outputs": [
    {
     "name": "stdout",
     "output_type": "stream",
     "text": [
      "100\n",
      "[1, 2, 4, 5, 10, 20, 25, 50, 100]\n"
     ]
    }
   ],
   "source": [
    "# import math\n",
    "\n",
    "num = int(input())\n",
    "# sqrt_num = int(math.sqrt(num)) \n",
    "sqrt_num = int(num ** (1/2)) \n",
    "\n",
    "front_divisor_list = []\n",
    "rear_divisor_list = [] \n",
    "\n",
    "for i in range(1, sqrt_num+1):\n",
    "    if num % i == 0:\n",
    "        front_divisor_list.append(i)\n",
    "        if i != int(num/i):\n",
    "            rear_divisor_list.append(int(num/i)) \n",
    "\n",
    "print(front_divisor_list + rear_divisor_list[::-1]) "
   ]
  },
  {
   "cell_type": "markdown",
   "metadata": {},
   "source": [
    "### 최대값, 최소값 구하기\n",
    "- 입력받은 정수값들 중 최대값과 최소값 순서대로 출력하시오.\n",
    "- 단, 파이썬 내장함수 max, min, sort 및 기타 numpy, pandas 등의 라이브러리는 쓸 수 없다.  \n",
    "  (변수, 조건문, 반복문 사용 가능 / 자료형은 제한 없음)\n",
    "- 입력 예제 1  \n",
    "  : 1 2 100 3 30\n",
    "- 출력 예제 1  \n",
    "  : 100 1"
   ]
  },
  {
   "cell_type": "code",
   "execution_count": 3,
   "metadata": {},
   "outputs": [
    {
     "name": "stdout",
     "output_type": "stream",
     "text": [
      "숫자 입력 : 1 2 100 3 30\n",
      "100 1\n"
     ]
    }
   ],
   "source": [
    "def max_min():\n",
    "    nums = list(map(int, input('숫자 입력 : ').split()))\n",
    "\n",
    "    max_n, min_n = nums[0], nums[0]\n",
    "\n",
    "    for num in nums:\n",
    "        if num > max_n:\n",
    "            max_n = num\n",
    "        elif num < min_n:\n",
    "            min_n = num\n",
    "    print(max_n, min_n)\n",
    "\n",
    "max_min()"
   ]
  }
 ],
 "metadata": {
  "kernelspec": {
   "display_name": "Python 3",
   "language": "python",
   "name": "python3"
  },
  "language_info": {
   "codemirror_mode": {
    "name": "ipython",
    "version": 3
   },
   "file_extension": ".py",
   "mimetype": "text/x-python",
   "name": "python",
   "nbconvert_exporter": "python",
   "pygments_lexer": "ipython3",
   "version": "3.7.6"
  }
 },
 "nbformat": 4,
 "nbformat_minor": 4
}
