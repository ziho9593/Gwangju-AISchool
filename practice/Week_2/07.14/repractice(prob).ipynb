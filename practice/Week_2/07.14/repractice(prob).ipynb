{
 "cells": [
  {
   "cell_type": "markdown",
   "metadata": {},
   "source": [
    "# 광주 인공지능 사관학교\n",
    "- - -\n",
    "- 작성자 : 2반 한지호\n",
    "- 작성일 : 20.07.14 화\n",
    "- 4교시 자연어 처리 시간에 진행한 정규 표현식 실습 파일\n",
    "- 내일 수업 진도에 따라 추가 작성 예정\n",
    "- - -\n",
    "- 1차 수정일 : 20.07.15 수\n",
    "- 정규 표현식 2일차 진도에 따른 추가 작성"
   ]
  },
  {
   "cell_type": "code",
   "execution_count": 1,
   "metadata": {},
   "outputs": [],
   "source": [
    "import re"
   ]
  },
  {
   "cell_type": "markdown",
   "metadata": {},
   "source": [
    "1. \\['abbbbba', 'cddb', 'aerb', 'aeeeb', 'almnj']\n",
    "(모두 문자열)일 때 1, 3번째만 True를 리턴하는 정규표현식을 작성하시오"
   ]
  },
  {
   "cell_type": "code",
   "execution_count": 2,
   "metadata": {
    "tags": []
   },
   "outputs": [
    {
     "name": "stdout",
     "output_type": "stream",
     "text": [
      "<re.Match object; span=(0, 4), match='abbb'>\n",
      "None\n",
      "<re.Match object; span=(0, 4), match='aerb'>\n",
      "None\n",
      "None\n"
     ]
    }
   ],
   "source": [
    "l = ['abbbbba', 'cddb', 'aerb', 'aeeeb', 'almnj']\n",
    "\n",
    "p = re.compile('a.{2}b') \n",
    "\n",
    "for i in l:\n",
    "    matched = p.match(i) \n",
    "    print(matched)"
   ]
  },
  {
   "cell_type": "markdown",
   "metadata": {},
   "source": [
    "2. \\['abcd efghopqr-stuv', 'abcd-efgh', 'abc defghijk', 'ab cdhijk'] 일 때 1, 3, 4번째만 match되도록 정규표현식을 작성하시오."
   ]
  },
  {
   "cell_type": "code",
   "execution_count": 3,
   "metadata": {
    "tags": []
   },
   "outputs": [
    {
     "name": "stdout",
     "output_type": "stream",
     "text": [
      "<re.Match object; span=(0, 5), match='abcd '>\n",
      "None\n",
      "<re.Match object; span=(0, 4), match='abc '>\n",
      "<re.Match object; span=(0, 3), match='ab '>\n"
     ]
    }
   ],
   "source": [
    "l = ['abcd efghopqr-stuv', 'abcd-efgh', 'abc defghijk', 'ab cdhijk'] \n",
    "\n",
    "p = re.compile(r'.+\\s')\n",
    "\n",
    "for i in l:\n",
    "    matched = p.search(i)\n",
    "    print(matched) "
   ]
  },
  {
   "cell_type": "markdown",
   "metadata": {},
   "source": [
    "3. 그룹을 사용해서 \\['코끼리는 코끼리', '강아지는 강아지', '고양이는 고양이'] 모두에게 True를 리턴하는 정규표현식을 작성하고, 주어들을 순서대로 출력하세요."
   ]
  },
  {
   "cell_type": "code",
   "execution_count": 4,
   "metadata": {
    "tags": []
   },
   "outputs": [
    {
     "name": "stdout",
     "output_type": "stream",
     "text": [
      "<re.Match object; span=(0, 8), match='코끼리는 코끼리'>\n",
      "코끼리\n",
      "<re.Match object; span=(0, 8), match='강아지는 강아지'>\n",
      "강아지\n",
      "<re.Match object; span=(0, 8), match='고양이는 고양이'>\n",
      "고양이\n"
     ]
    }
   ],
   "source": [
    "l = ['코끼리는 코끼리', '강아지는 강아지', '고양이는 고양이'] \n",
    "\n",
    "p = re.compile(r'(?P<name>.+)는\\s\\1') \n",
    "\n",
    "for i in l:\n",
    "    matched = p.match(i)\n",
    "    print(matched)\n",
    "    print(matched.group(1))"
   ]
  },
  {
   "cell_type": "code",
   "execution_count": 5,
   "metadata": {},
   "outputs": [
    {
     "name": "stdout",
     "output_type": "stream",
     "text": [
      "None\n",
      "None\n",
      "<re.Match object; span=(0, 8), match='고양이는 고양이'>\n"
     ]
    }
   ],
   "source": [
    "l = ['코끼리는 코끼리', '기린은 기린', '고양이는 고양이'] \n",
    "\n",
    "# p = re.compile(r'(?P<name>.+)[는은]\\s\\1') # [는 or 은]\n",
    "# ^가 대괄호 안 : not / 밖(맨 앞) : 처음에서 시작\n",
    "# p = re.compile(r'(?P<name>.+)[^은]\\s\\1') # [not 은] \n",
    "# p = re.compile(r'(^?P<name>.+)[는]\\s\\1') # 문장 시작이 <name>그룹\n",
    "p = re.compile(r'(?P<name>.+)이$') # '이'로 끝나는\n",
    "\n",
    "for i in l:\n",
    "    matched = p.match(i)\n",
    "    print(matched)\n",
    "#     print(matched.group(1))"
   ]
  },
  {
   "cell_type": "markdown",
   "metadata": {},
   "source": [
    "4. \\['김준태 - 학점 2.0', '이재화 - 학점 3.0', '최주원 - 학점 4.0']에서 학점을 모두 4.5로 바꿔주세요!"
   ]
  },
  {
   "cell_type": "code",
   "execution_count": 6,
   "metadata": {},
   "outputs": [
    {
     "name": "stdout",
     "output_type": "stream",
     "text": [
      "<re.Match object; span=(0, 12), match='김준태 - 학점 2.0'>\n",
      "김준태 - 학점 4.5\n",
      "<re.Match object; span=(0, 12), match='이재화 - 학점 3.0'>\n",
      "이재화 - 학점 4.5\n",
      "<re.Match object; span=(0, 12), match='최주원 - 학점 4.0'>\n",
      "최주원 - 학점 4.5\n"
     ]
    }
   ],
   "source": [
    "l = ['김준태 - 학점 2.0', '이재화 - 학점 3.0', '최주원 - 학점 4.0'] \n",
    "\n",
    "p = re.compile(r'(?P<rest>.+\\s.\\s).+')\n",
    "\n",
    "for i in l:\n",
    "    matched = p.match(i)\n",
    "    print(matched)\n",
    "    print(p.sub('\\g<rest>학점 4.5', i))"
   ]
  },
  {
   "cell_type": "code",
   "execution_count": 7,
   "metadata": {},
   "outputs": [
    {
     "name": "stdout",
     "output_type": "stream",
     "text": [
      "abbbbb good\n",
      "cddb\n",
      "aerb good\n",
      "aeeeb good\n",
      "almnj\n"
     ]
    }
   ],
   "source": [
    "l = ['abbbbb', 'cddb', 'aerb', 'aeeeb', 'almnj']\n",
    "\n",
    "p = re.compile('a.+b')\n",
    "\n",
    "def subdef(match):\n",
    "    matched_text = match.group()\n",
    "    return matched_text+' good'\n",
    "\n",
    "for i in l:\n",
    "    print(p.sub(subdef, i)) # 바뀐 뒤의 문자 대신 'subdef 함수'를 넣음"
   ]
  },
  {
   "cell_type": "code",
   "execution_count": 8,
   "metadata": {},
   "outputs": [
    {
     "name": "stdout",
     "output_type": "stream",
     "text": [
      "<re.Match object; span=(0, 7), match='<안녕하세요>'>\n"
     ]
    }
   ],
   "source": [
    "a = '<안녕하세요><반갑습니다>'\n",
    "# p = re.compile('<.+>')\n",
    "p = re.compile('<.+?>') # ?를 사용하면 처음 나오는 해당 문자에서 끝남\n",
    "\n",
    "print(p.match(a)) "
   ]
  },
  {
   "cell_type": "markdown",
   "metadata": {},
   "source": [
    "5. <div id=\"u_skip\"> <a href=\"#newsstand\"><span>뉴스스탠드 바로가기</span></a> <a href=\"#themecast\"><span>주제별캐스트 바로가기</span></a> <a href=\"#timesquare\"><span>타임스퀘어 바로가기</span></a> <a href=\"#shopcast\"><span>쇼핑캐스트 바로가기</span></a> <a href=\"#account\"><span>로그인 바로가기</span></a> </div> 에서 사용된 모든 태그(<>)를 출력하세요. "
   ]
  },
  {
   "cell_type": "code",
   "execution_count": 9,
   "metadata": {
    "tags": []
   },
   "outputs": [
    {
     "name": "stdout",
     "output_type": "stream",
     "text": [
      "['<div id=\"u_skip\">', '<a href=\"#newsstand\">', '<span>', '</span>', '</a>', '<a href=\"#themecast\">', '<span>', '</span>', '</a>', '<a href=\"#timesquare\">', '<span>', '</span>', '</a>', '<a href=\"#shopcast\">', '<span>', '</span>', '</a>', '<a href=\"#account\">', '<span>', '</span>', '</a>', '</div>']\n"
     ]
    }
   ],
   "source": [
    "l = '<div id=\"u_skip\"> <a href=\"#newsstand\"><span>뉴스스탠드 바로가기</span></a> <a href=\"#themecast\"><span>주제별캐스트 바로가기</span></a> <a href=\"#timesquare\"><span>타임스퀘어 바로가기</span></a> <a href=\"#shopcast\"><span>쇼핑캐스트 바로가기</span></a> <a href=\"#account\"><span>로그인 바로가기</span></a> </div>'\n",
    "\n",
    "p = re.compile('<.+?>')\n",
    "\n",
    "print(p.findall(l))"
   ]
  },
  {
   "cell_type": "markdown",
   "metadata": {},
   "source": [
    "6. '1100+1200+1300+1800=5400' 이라는 문장에서 등호표시 전의 숫자만 8진법으로 변경하세요."
   ]
  },
  {
   "cell_type": "code",
   "execution_count": 10,
   "metadata": {
    "tags": []
   },
   "outputs": [
    {
     "name": "stdout",
     "output_type": "stream",
     "text": [
      "0o2114+0o2260+0o2424+0o3410=5400\n"
     ]
    }
   ],
   "source": [
    "def octa(match):\n",
    "    a = int(match.group())\n",
    "    return oct(a)\n",
    "\n",
    "a = '1100+1200+1300+1800=5400'\n",
    "# p = re.findall('1\\d{3}', a)\n",
    "p = re.compile('1\\d{3}')\n",
    "b = p.sub(octa, a)\n",
    "\n",
    "print(b)"
   ]
  },
  {
   "cell_type": "markdown",
   "metadata": {},
   "source": [
    "7. \\['https://naver.com', 'https://korea.ac.kr', 'https://www.google.com', 'google.com', 'https://facebook.com', 'naver.com'] 에서 https로 시작하고, www.이 없고, 마지막이 .com으로 끝나는 주소만 True를 리턴하는 정규표현식을 작성하세요."
   ]
  },
  {
   "cell_type": "code",
   "execution_count": 11,
   "metadata": {
    "tags": []
   },
   "outputs": [
    {
     "name": "stdout",
     "output_type": "stream",
     "text": [
      "<re.Match object; span=(0, 17), match='https://naver.com'>\n",
      "None\n",
      "None\n",
      "None\n",
      "<re.Match object; span=(0, 20), match='https://facebook.com'>\n",
      "None\n"
     ]
    }
   ],
   "source": [
    "l = ['https://naver.com', 'https://korea.ac.kr', 'https://www.google.com', 'google.com', 'https://facebook.com', 'naver.com'] \n",
    "\n",
    "p = re.compile(r'^https://[^www].+.com$')\n",
    "# p = re.compile('^https://[^w]+.com$')\n",
    "\n",
    "for i in l:\n",
    "    matched = p.match(i)\n",
    "    print(matched) "
   ]
  },
  {
   "cell_type": "markdown",
   "metadata": {},
   "source": [
    "8. a = '''mike 010-1234-0907 mikeman@naver.com hi! my name is mike!\n",
    "jay 010-1112-3456 jayman@naver.com hi! my name is jay!\n",
    "yohan 010-2223-5874 yohanman@naver.com hi! my name is yohan!'''\n",
    "위 문장에서 순서 배치를 전화번호, 이메일, 자기소개, 이름 순서로 변경하시오."
   ]
  },
  {
   "cell_type": "code",
   "execution_count": 12,
   "metadata": {
    "tags": []
   },
   "outputs": [
    {
     "data": {
      "text/plain": [
       "'010-1234-0907 mikeman@naver.com hi! my name is mike! mike 010-1112-3456 jayman@naver.com hi! my name is jay! jay 010-2223-5874 yohanman@naver.com hi! my name is yohan! yohan '"
      ]
     },
     "execution_count": 12,
     "metadata": {},
     "output_type": "execute_result"
    }
   ],
   "source": [
    "a = '''mike 010-1234-0907 mikeman@naver.com hi! my name is mike!\n",
    "jay 010-1112-3456 jayman@naver.com hi! my name is jay!\n",
    "yohan 010-2223-5874 yohanman@naver.com hi! my name is yohan!\n",
    "'''\n",
    "\n",
    "p = re.compile(r'(?P<name>.+)\\s(?P<phone>\\d+.\\d+.\\d+)\\s(?P<mail>.+.com)\\s(?P<intro>.+\\1!)\\n')\n",
    "\n",
    "# matched = p.findall(a)\n",
    "# print(matched)\n",
    "p.sub('\\g<phone> \\g<mail> \\g<intro> \\g<name> ', a)\n",
    "# for i in matched:\n",
    "#     print(i)"
   ]
  }
 ],
 "metadata": {
  "kernelspec": {
   "display_name": "Python 3",
   "language": "python",
   "name": "python3"
  },
  "language_info": {
   "codemirror_mode": {
    "name": "ipython",
    "version": 3
   },
   "file_extension": ".py",
   "mimetype": "text/x-python",
   "name": "python",
   "nbconvert_exporter": "python",
   "pygments_lexer": "ipython3",
   "version": "3.7.6"
  }
 },
 "nbformat": 4,
 "nbformat_minor": 2
}
