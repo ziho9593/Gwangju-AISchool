{
 "cells": [
  {
   "cell_type": "markdown",
   "metadata": {},
   "source": [
    "# 광주 인공지능 사관학교\n",
    "- - -\n",
    "- 작성자 : 2반 한지호\n",
    "- 작성일 : 20.07.15 수\n",
    "- 4교시 머신러닝 시간에 사용한 수업 교안 및 실습 파일\n",
    "- 다음 수업 진도에 따라 하단 부분 추가 작성 예정\n",
    "- - -\n",
    "- 수정일 : 20.07.16 목\n",
    "- 'scikit-learn 연습 2 - 비만도 데이터 학습' 부분 실습 진행"
   ]
  },
  {
   "cell_type": "markdown",
   "metadata": {
    "colab_type": "text",
    "id": "83-BXRyoTPQv",
    "slideshow": {
     "slide_type": "slide"
    }
   },
   "source": [
    "### 머신러닝(Machine Learning) 종류\n",
    "\n",
    "- 지도학습 (Supervised Learning)\n",
    "- 비지도학습 (Unsupervised Learning)\n",
    "- 강화학습 (Reinforcement Learning)\n"
   ]
  },
  {
   "cell_type": "markdown",
   "metadata": {
    "colab_type": "text",
    "id": "UFEBkpUCToVw",
    "slideshow": {
     "slide_type": "slide"
    }
   },
   "source": [
    "지도학습 (Supervised Learning)\n",
    "\n",
    "- 데이터에 대한 Label(명시적인 답)이 주어진 상태에서 컴퓨터를 학습시키는 방법. \n",
    "\n",
    "- 분류(Classification)와 회귀(Regression)로 나뉘어진다.\n",
    "> (ex. 스팸 메일 분류, 집 가격 예측, 손글씨 숫자 판별, 신용카드 의심거래 감지, 의료영상 이미지기반 종양판단)\n"
   ]
  },
  {
   "cell_type": "markdown",
   "metadata": {
    "colab_type": "text",
    "id": "lVyfBjNjT8Xt",
    "slideshow": {
     "slide_type": "slide"
    }
   },
   "source": [
    "비지도학습 (Unsupervised Learning)\n",
    "\n",
    "- 데이터에 대한 Label(명시적인 답)이 없는 상태에서 컴퓨터를 학습시키는 방법.\n",
    "\n",
    "- 데이터의 숨겨진 특징, 구조, 패턴 파악.\n",
    "\n",
    "- 데이터를 비슷한 특성끼리 묶는 클러스터링(Clustering)과 차원축소(Dimensionality Reduction)등이 있다.\n",
    "> (ex. 블로그 글 주제구분, 고객 취향별 그룹화, 웹사이트 비정상 접근 탐지, 이미지 감색 처리, 소비자 그룹 마케팅)\n",
    "\n",
    "좋은 입력 데이터를 만들어내는 방법 -> 특성추출(특성공학)"
   ]
  },
  {
   "cell_type": "markdown",
   "metadata": {
    "colab_type": "text",
    "id": "kcXUmDjUUTjO",
    "slideshow": {
     "slide_type": "slide"
    }
   },
   "source": [
    "강화학습 (Reinforcement Learning)\n",
    "\n",
    "- 지도학습과 비슷하지만 완전한 답(Label)을 제공하지 않는 특징이 있다.\n",
    "\n",
    "- 기계는 더 많은 보상을 얻을 수 있는 방향으로 행동을 학습\n",
    "\n",
    "> (ex. 게임이나 로봇 학습)\n"
   ]
  },
  {
   "cell_type": "markdown",
   "metadata": {
    "colab_type": "text",
    "id": "EiJ3i6uloi8c",
    "slideshow": {
     "slide_type": "slide"
    }
   },
   "source": [
    "머신러닝 vs 딥러닝\n",
    "\n",
    "|구분| Machine Learning| Deep Learning|\n",
    "|---|---|---|\n",
    "|훈련 데이터 크기| 작음| 큼|\n",
    "|시스템 성능| 저 사양| 고 사양|\n",
    "|feature 선택| 전문가 (사람) |알고리즘|\n",
    "|feature 수| 많음 |적음|\n",
    "|문제 해결 접근법| 문제를 분리 -> 각각 답을 얻음 -> 결과 통합| end-to-end (결과를 바로 얻음)|\n",
    "|실행 시간| 짧음 |김|\n",
    "|해석력 |해석 가능| 해석 어려움|"
   ]
  },
  {
   "cell_type": "markdown",
   "metadata": {
    "colab_type": "text",
    "id": "Wf4lQ1hzUmsx",
    "slideshow": {
     "slide_type": "slide"
    }
   },
   "source": [
    "### [scikit-learn](https://scikit-learn.org/stable/index.html)\n",
    "\n",
    "- 파이썬에 머신러닝 프레임워크 라이브러리\n",
    "\n",
    "- 회귀, 분류, 군집, 차원축소, 특성공학, 전처리, 교차검증, 파이프라인 등 머신러닝에 필요한 기능 제공\n",
    "\n",
    "- 학습을 위한 샘플 데이터 제공\n"
   ]
  },
  {
   "cell_type": "markdown",
   "metadata": {
    "colab_type": "text",
    "id": "1jePDfQLiMJM",
    "slideshow": {
     "slide_type": "slide"
    }
   },
   "source": [
    "#### scikit-learn으로 XOR 연산 학습해보기\n",
    "\n",
    "XOR연산?\n",
    "\n",
    "- 두값이 서로 같으면 0, 다르면 1  (배타적 논리 합)\n",
    "\n",
    "|P(입력)| Q(입력)| R(출력)|\n",
    "|---|---|---|\n",
    "| 0| 0| 0|\n",
    "| 0| 1| 1|\n",
    "| 1| 0| 1|\n",
    "| 1| 1| 0|\n"
   ]
  },
  {
   "cell_type": "code",
   "execution_count": 1,
   "metadata": {
    "colab": {
     "base_uri": "https://localhost:8080/",
     "height": 71
    },
    "colab_type": "code",
    "executionInfo": {
     "elapsed": 935,
     "status": "ok",
     "timestamp": 1594552008519,
     "user": {
      "displayName": "oz To",
      "photoUrl": "",
      "userId": "12937505880450462933"
     },
     "user_tz": -540
    },
    "id": "2xAnNAbTTLo_",
    "outputId": "9ed0bb39-4610-4d9d-88b9-97b253d19435",
    "slideshow": {
     "slide_type": "slide"
    }
   },
   "outputs": [
    {
     "name": "stdout",
     "output_type": "stream",
     "text": [
      " 예측데이터 :  [[0, 0], [0, 1], [1, 0], [1, 1]]\n",
      " 예측  결과 :  [0 1 1 0]\n",
      "정답률: 4 / 4 = 1.0\n"
     ]
    }
   ],
   "source": [
    "from sklearn import svm\n",
    "\n",
    "# XOR의 계산 결과 데이터\n",
    "xor_input = [\n",
    "   # P, Q, Result\n",
    "    [0, 0, 0],\n",
    "    [0, 1, 1],\n",
    "    [1, 0, 1],\n",
    "    [1, 1, 0]\n",
    "]\n",
    "\n",
    "# 학습을 위해 데이터와 레이블 분리하기 --- (※1)\n",
    "xor_data = []   # 문제\n",
    "xor_label = []  # 답\n",
    "for row in xor_input:\n",
    "    p = row[0]\n",
    "    q = row[1]\n",
    "    r = row[2]\n",
    "    xor_data.append([p, q]) # [[0,0]] -> [[0,0],[0,1]] 이런식으로 변화\n",
    "    xor_label.append(r)\n",
    "\n",
    "# 데이터 학습시키기 --- (※2)\n",
    "model = svm.SVC()                 # svm 알고리즘 사용\n",
    "model.fit(xor_data, xor_label)    # fit(학습시킬 데이터, 정답)\n",
    "\n",
    "# 데이터 예측하기 --- (※3)\n",
    "pre = model.predict(xor_data)\n",
    "print(\" 예측데이터 : \",xor_data)\n",
    "print(\" 예측  결과 : \", pre)\n",
    "\n",
    "# 결과 확인하기 --- (※4)\n",
    "ok = 0; total = 0\n",
    "for idx, answer in enumerate(xor_label):\n",
    "    p = pre[idx]\n",
    "    if p == answer: ok += 1\n",
    "    total += 1\n",
    "\n",
    "print(\"정답률:\", ok, \"/\", total, \"=\", ok/total)"
   ]
  },
  {
   "cell_type": "code",
   "execution_count": 2,
   "metadata": {
    "colab": {
     "base_uri": "https://localhost:8080/",
     "height": 35
    },
    "colab_type": "code",
    "executionInfo": {
     "elapsed": 1003,
     "status": "ok",
     "timestamp": 1594552018039,
     "user": {
      "displayName": "oz To",
      "photoUrl": "",
      "userId": "12937505880450462933"
     },
     "user_tz": -540
    },
    "id": "b5tr1SAwlhJe",
    "outputId": "54dee491-b2e7-4876-f91e-d6eecb0b19ff",
    "slideshow": {
     "slide_type": "slide"
    }
   },
   "outputs": [
    {
     "name": "stdout",
     "output_type": "stream",
     "text": [
      "정답률 = 1.0\n"
     ]
    }
   ],
   "source": [
    "# pandas 라이브러리를 사용하여 코드 간략화\n",
    "import pandas as pd\n",
    "from sklearn import svm, metrics\n",
    "\n",
    "# XOR 연산\n",
    "xor_input = [\n",
    "    [0, 0, 0],\n",
    "    [0, 1, 1],\n",
    "    [1, 0, 1],\n",
    "    [1, 1, 0]\n",
    "]\n",
    "\n",
    "# 학습을 위해 데이터와 레이블 분리하기 --- (※1)\n",
    "xor_df = pd.DataFrame(xor_input)\n",
    "xor_data  = xor_df[[0,1]] # 데이터\n",
    "xor_label = xor_df[2]     # 레이블\n",
    "\n",
    "# 데이터 학습과 예측하기 --- (※2)\n",
    "model = svm.SVC()\n",
    "model.fit(xor_data, xor_label)\n",
    "pre = model.predict(xor_data)\n",
    "\n",
    "# 정답률 구하기 --- (※3)\n",
    "ac_score = metrics.accuracy_score(xor_label, pre)\n",
    "print(\"정답률 =\", ac_score)\n"
   ]
  },
  {
   "cell_type": "code",
   "execution_count": 3,
   "metadata": {
    "colab": {
     "base_uri": "https://localhost:8080/",
     "height": 35
    },
    "colab_type": "code",
    "executionInfo": {
     "elapsed": 968,
     "status": "ok",
     "timestamp": 1594551089369,
     "user": {
      "displayName": "oz To",
      "photoUrl": "",
      "userId": "12937505880450462933"
     },
     "user_tz": -540
    },
    "id": "u_RAOvk1pZsd",
    "outputId": "b0e76f3c-19fc-45d0-b24b-97bb37cddd8d",
    "slideshow": {
     "slide_type": "slide"
    }
   },
   "outputs": [
    {
     "name": "stdout",
     "output_type": "stream",
     "text": [
      "정답률 = 1.0\n"
     ]
    }
   ],
   "source": [
    "# KNN 분류 모델을 이용\n",
    "import pandas as pd\n",
    "from sklearn import svm, metrics\n",
    "from sklearn.neighbors import KNeighborsClassifier # <- 모델추가\n",
    "\n",
    "# XOR 연산\n",
    "xor_input = [\n",
    "    [0, 0, 0],\n",
    "    [0, 1, 1],\n",
    "    [1, 0, 1],\n",
    "    [1, 1, 0]\n",
    "]\n",
    "\n",
    "# 학습을 위해 데이터와 레이블 분리하기 --- (※1)\n",
    "xor_df = pd.DataFrame(xor_input)\n",
    "xor_data  = xor_df[[0,1]] # 데이터\n",
    "xor_label = xor_df[2]     # 레이블\n",
    "\n",
    "# 데이터 학습과 예측하기 --- (※2) \n",
    "clf = KNeighborsClassifier(n_neighbors=1)        # <- 모델변경\n",
    "clf.fit(xor_data, xor_label)\n",
    "pre = clf.predict(xor_data)\n",
    "\n",
    "# 정답률 구하기 --- (※3)\n",
    "ac_score = metrics.accuracy_score(xor_label, pre)\n",
    "print(\"정답률 =\", ac_score)\n"
   ]
  },
  {
   "cell_type": "markdown",
   "metadata": {
    "colab_type": "text",
    "id": "Bz0d-Lj4qovy",
    "slideshow": {
     "slide_type": "slide"
    }
   },
   "source": [
    "진행순서\n",
    "\n",
    ">1. clf = 머신러닝모델 생성  # svm.SVC() or KNeighborsClassifier(n_neighbors=1) \n",
    "1. clf.fit(문제 , 답)\n",
    "1. clf.predict(값을 얻고 싶은 데이터 )\n",
    "1. ac_score = metrics.accuracy_score(실제답, 예측결과)\n",
    "\n",
    "clf (classifier) - scikit-learn 에서 [Estimator](https://en.wikipedia.org/wiki/Estimator) 인스턴스인 분류기를 지칭\n"
   ]
  },
  {
   "cell_type": "markdown",
   "metadata": {
    "colab_type": "text",
    "id": "AfJQYJV5u_8R",
    "slideshow": {
     "slide_type": "slide"
    }
   },
   "source": [
    "[머신러닝 용어집](https://developers.google.com/machine-learning/glossary)"
   ]
  },
  {
   "cell_type": "markdown",
   "metadata": {
    "colab_type": "text",
    "id": "Q_kZVFHf1SxC",
    "slideshow": {
     "slide_type": "slide"
    }
   },
   "source": [
    "#### 모델 저장과 불러오기 - pickle"
   ]
  },
  {
   "cell_type": "code",
   "execution_count": 4,
   "metadata": {
    "colab": {},
    "colab_type": "code",
    "id": "-AGaQ43_1PXw",
    "slideshow": {
     "slide_type": "slide"
    }
   },
   "outputs": [],
   "source": [
    "import pickle\n",
    "\n",
    "with open('xor_model.pkl', 'wb') as f:\n",
    "    pickle.dump(clf, f)"
   ]
  },
  {
   "cell_type": "code",
   "execution_count": 5,
   "metadata": {
    "colab": {
     "base_uri": "https://localhost:8080/",
     "height": 35
    },
    "colab_type": "code",
    "executionInfo": {
     "elapsed": 1066,
     "status": "ok",
     "timestamp": 1594554472478,
     "user": {
      "displayName": "oz To",
      "photoUrl": "",
      "userId": "12937505880450462933"
     },
     "user_tz": -540
    },
    "id": "sHyOFhVL2Fq1",
    "outputId": "053b423a-ebd9-45dd-94bc-43b4a1474aa9",
    "slideshow": {
     "slide_type": "slide"
    }
   },
   "outputs": [
    {
     "name": "stdout",
     "output_type": "stream",
     "text": [
      "0\n"
     ]
    }
   ],
   "source": [
    "import pickle\n",
    "\n",
    "with open('xor_model.pkl', 'rb') as f:\n",
    "    model = pickle.load(f)\n",
    "\n",
    "# 문제\n",
    "x_test = [\n",
    "    [1, 1]\n",
    "]\n",
    "\n",
    "# 모델 예측\n",
    "y_predict = model.predict(x_test)\n",
    "print(y_predict[0]) "
   ]
  },
  {
   "cell_type": "markdown",
   "metadata": {
    "colab_type": "text",
    "id": "9kBBb96z3egM",
    "slideshow": {
     "slide_type": "slide"
    }
   },
   "source": [
    "#### 모델 저장과 불러오기 - joblib"
   ]
  },
  {
   "cell_type": "code",
   "execution_count": 6,
   "metadata": {
    "colab": {
     "base_uri": "https://localhost:8080/",
     "height": 91
    },
    "colab_type": "code",
    "executionInfo": {
     "elapsed": 929,
     "status": "ok",
     "timestamp": 1594554621858,
     "user": {
      "displayName": "oz To",
      "photoUrl": "",
      "userId": "12937505880450462933"
     },
     "user_tz": -540
    },
    "id": "abR36aP63BvO",
    "outputId": "811c5d03-af7e-480b-a12a-fead24fc6258",
    "slideshow": {
     "slide_type": "slide"
    }
   },
   "outputs": [
    {
     "name": "stderr",
     "output_type": "stream",
     "text": [
      "C:\\Users\\James\\anaconda3\\lib\\site-packages\\sklearn\\externals\\joblib\\__init__.py:15: FutureWarning: sklearn.externals.joblib is deprecated in 0.21 and will be removed in 0.23. Please import this functionality directly from joblib, which can be installed with: pip install joblib. If this warning is raised when loading pickled models, you may need to re-serialize those models with scikit-learn 0.21+.\n",
      "  warnings.warn(msg, category=FutureWarning)\n"
     ]
    },
    {
     "data": {
      "text/plain": [
       "['xor_model_2.pkl']"
      ]
     },
     "execution_count": 6,
     "metadata": {},
     "output_type": "execute_result"
    }
   ],
   "source": [
    "from sklearn.externals import joblib\n",
    "\n",
    "joblib.dump(clf, 'xor_model_2.pkl')"
   ]
  },
  {
   "cell_type": "code",
   "execution_count": 7,
   "metadata": {
    "colab": {
     "base_uri": "https://localhost:8080/",
     "height": 35
    },
    "colab_type": "code",
    "executionInfo": {
     "elapsed": 1077,
     "status": "ok",
     "timestamp": 1594554677072,
     "user": {
      "displayName": "oz To",
      "photoUrl": "",
      "userId": "12937505880450462933"
     },
     "user_tz": -540
    },
    "id": "vFKBHbSZ3Rf0",
    "outputId": "689af214-d93f-474c-9426-b6e6bb804afc",
    "slideshow": {
     "slide_type": "slide"
    }
   },
   "outputs": [
    {
     "name": "stdout",
     "output_type": "stream",
     "text": [
      "0\n"
     ]
    }
   ],
   "source": [
    "from sklearn.externals import joblib\n",
    "\n",
    "model = joblib.load('xor_model_2.pkl') \n",
    "\n",
    "# 문제\n",
    "x_test = [\n",
    "    [1, 1]\n",
    "]\n",
    "\n",
    "# 모델 예측\n",
    "y_predict = model.predict(x_test)\n",
    "print(y_predict[0]) "
   ]
  },
  {
   "cell_type": "markdown",
   "metadata": {
    "colab_type": "text",
    "id": "l12FSyxUw0IX",
    "slideshow": {
     "slide_type": "slide"
    }
   },
   "source": [
    "#### scikit-learn 연습 01\n",
    "AND 연산 모델 작성\n",
    "\n",
    "AND연산?\n",
    "- 두값이 서로 참이면 1, 아니면 0 \n",
    "\n",
    "|P(입력)| Q(입력)| R(출력)|\n",
    "|---|---|---|\n",
    "| 0| 0| 0|\n",
    "| 0| 1| 0|\n",
    "| 1| 0| 0|\n",
    "| 1| 1| 1|"
   ]
  },
  {
   "cell_type": "code",
   "execution_count": 8,
   "metadata": {
    "colab": {
     "base_uri": "https://localhost:8080/",
     "height": 35
    },
    "colab_type": "code",
    "executionInfo": {
     "elapsed": 1366,
     "status": "ok",
     "timestamp": 1594647977790,
     "user": {
      "displayName": "oz To",
      "photoUrl": "",
      "userId": "12937505880450462933"
     },
     "user_tz": -540
    },
    "id": "fI8JO2JWalgC",
    "outputId": "757d2d26-88b4-4a02-b24c-f2841130c2bf",
    "slideshow": {
     "slide_type": "slide"
    }
   },
   "outputs": [
    {
     "name": "stdout",
     "output_type": "stream",
     "text": [
      "정답률 = 1.0\n"
     ]
    }
   ],
   "source": [
    "# KNN 분류 모델을 이용\n",
    "import pandas as pd\n",
    "from sklearn import svm, metrics\n",
    "from sklearn.neighbors import KNeighborsClassifier\n",
    "\n",
    "# AND 연산\n",
    "and_input = [\n",
    "    [0, 0, 0],\n",
    "    [0, 1, 0],\n",
    "    [1, 0, 0],\n",
    "    [1, 1, 1]\n",
    "]\n",
    "\n",
    "# 학습을 위해 데이터와 레이블 분리하기 --- (※1)\n",
    "df = pd.DataFrame(and_input)\n",
    "data  = df[[0,1]] # 데이터\n",
    "label = df[2]     # 레이블\n",
    "\n",
    "# 데이터 학습과 예측하기 --- (※2)\n",
    "clf = KNeighborsClassifier(n_neighbors=1) \n",
    "clf.fit(data, label)\n",
    "pre = clf.predict(data)\n",
    "\n",
    "# 정답률 구하기 --- (※3)\n",
    "ac_score = metrics.accuracy_score(label, pre)\n",
    "print(\"정답률 =\", ac_score)"
   ]
  },
  {
   "cell_type": "markdown",
   "metadata": {
    "colab_type": "text",
    "id": "UohtQMQOkFGS",
    "slideshow": {
     "slide_type": "slide"
    }
   },
   "source": [
    "#### 분류? 회귀?\n",
    "\n",
    "- 같은 종류의 꽃(붓꽃)을 세 품종 중 하나로 예측하는 것\n",
    "- 이메일에서 스팸 메일을 예측하는 것\n",
    "- 웹사이트의 글로부터 어떤 언어의 웹사이트인지 예측하는 것\n",
    "- 어떤 사람의 교육수준, 나이, 주거지를 바탕으로 연간 소득을 예측하는 것\n",
    "- 옥수수 농장에서 전년도 수확량과 날씨, 고용 인원수 등으로 올해 수확량을 예측하는 것\n",
    "- 다음 학기 성적 점수를 예측하는 것\n",
    "- 키와 몸무게를 가지고 비만도를 예측하는 것"
   ]
  },
  {
   "cell_type": "markdown",
   "metadata": {
    "colab_type": "text",
    "id": "ulNYSJJHbeXU",
    "slideshow": {
     "slide_type": "slide"
    }
   },
   "source": [
    "#### scikit-learn 연습 02\n",
    "\n",
    "비만도 데이터 학습\n",
    "\n",
    "- 500명의 키와 몸무게, 비만도 라벨을 이용해 비만을 판단하는 모델을 만들어보자."
   ]
  },
  {
   "cell_type": "code",
   "execution_count": 9,
   "metadata": {
    "colab": {},
    "colab_type": "code",
    "id": "3LOS1fxAcD8Z",
    "slideshow": {
     "slide_type": "slide"
    }
   },
   "outputs": [
    {
     "data": {
      "text/plain": [
       "Index(['Obesity', 'Normal', 'Overweight', 'Extreme Obesity', 'Weak',\n",
       "       'Extremely Weak'],\n",
       "      dtype='object', name='Label')"
      ]
     },
     "execution_count": 9,
     "metadata": {},
     "output_type": "execute_result"
    }
   ],
   "source": [
    "import pandas as pd\n",
    "import matplotlib.pyplot as plt\n",
    "from sklearn.neighbors import KNeighborsClassifier\n",
    "from sklearn import metrics # 평가를 위한 모듈\n",
    "\n",
    "data = pd.read_csv('bmi_500.csv', index_col='Label')\n",
    "# data.head()\n",
    "# data.info()     # 전체 row수, 결측치 여부, 컬럼별 정보\n",
    "# data.describe() # DataFrame 통계정보 확인\n",
    "data.index.unique() "
   ]
  },
  {
   "cell_type": "code",
   "execution_count": 10,
   "metadata": {
    "colab": {
     "base_uri": "https://localhost:8080/",
     "height": 334
    },
    "colab_type": "code",
    "executionInfo": {
     "elapsed": 753,
     "status": "ok",
     "timestamp": 1594648812827,
     "user": {
      "displayName": "oz To",
      "photoUrl": "",
      "userId": "12937505880450462933"
     },
     "user_tz": -540
    },
    "id": "UO7AcH14cfXa",
    "outputId": "926855c5-3d21-437a-e0ba-b33d5e0f9cf4",
    "slideshow": {
     "slide_type": "slide"
    }
   },
   "outputs": [
    {
     "data": {
      "image/png": "[encoded data removed]",
      "text/plain": [
       "<Figure size 360x360 with 1 Axes>"
      ]
     },
     "metadata": {
      "needs_background": "light"
     },
     "output_type": "display_data"
    }
   ],
   "source": [
    "# 각 비만도 등급별로 시각화 (분류가 가능한지 확인)\n",
    "def easy_scatter(label, color):\n",
    "    t = data.loc[label] \n",
    "    plt.scatter(t['Weight'], t['Height'], c=color, label=label) \n",
    "\n",
    "plt.figure(figsize=(5,5)) # 가로, 세로 크기\n",
    "\n",
    "# t = data.loc['Extremely Weak'] \n",
    "# plt.scatter(t['Weight'], t['Height'], c='black', label='Extremely Weak') \n",
    "easy_scatter('Extremely Weak', 'black')\n",
    "\n",
    "# t = data.loc['Weak'] \n",
    "# plt.scatter(t['Weight'], t['Height'], c='blue', label='Weak')\n",
    "easy_scatter('Weak', 'blue')\n",
    "\n",
    "easy_scatter('Normal', 'green')\n",
    "easy_scatter('Overweight', 'pink')\n",
    "easy_scatter('Obesity', 'purple')\n",
    "easy_scatter('Extreme Obesity', 'red')\n",
    "\n",
    "# plt.legend(loc='upper right')\n",
    "plt.xlabel('Weight')\n",
    "plt.ylabel('Height')\n",
    "plt.show() "
   ]
  },
  {
   "cell_type": "markdown",
   "metadata": {
    "colab_type": "text",
    "id": "C7ty2IjNe6vu",
    "slideshow": {
     "slide_type": "slide"
    }
   },
   "source": [
    "모델링\n",
    "\n",
    "1. 문제와 답으로 분리\n",
    "\n",
    "2. 훈련셋과 평가셋으로 분리\n",
    "\n",
    "3. 모델생성 및 하이퍼파라미터 조정\n",
    "\n",
    "4. 학습 및 평가"
   ]
  },
  {
   "cell_type": "code",
   "execution_count": 11,
   "metadata": {
    "colab": {
     "base_uri": "https://localhost:8080/",
     "height": 143
    },
    "colab_type": "code",
    "executionInfo": {
     "elapsed": 696,
     "status": "ok",
     "timestamp": 1594649067086,
     "user": {
      "displayName": "oz To",
      "photoUrl": "",
      "userId": "12937505880450462933"
     },
     "user_tz": -540
    },
    "id": "Zj1ZTKcnexha",
    "outputId": "1886b554-7e0f-487c-bc06-a9349e6d8fd5",
    "slideshow": {
     "slide_type": "slide"
    }
   },
   "outputs": [
    {
     "name": "stdout",
     "output_type": "stream",
     "text": [
      "(500, 2)\n",
      "(500,)\n"
     ]
    },
    {
     "data": {
      "text/plain": [
       "0.9333333333333333"
      ]
     },
     "execution_count": 11,
     "metadata": {},
     "output_type": "execute_result"
    }
   ],
   "source": [
    "# 비만도 모델 학습\n",
    "data = pd.read_csv('bmi_500.csv')\n",
    "\n",
    "X = data.loc[:, 'Height':'Weight'] \n",
    "y = data.loc[:, 'Label'] \n",
    "\n",
    "print(X.shape)\n",
    "print(y.shape) \n",
    "\n",
    "X_train = X.iloc[:350, :] \n",
    "X_test = X.iloc[350:, :]\n",
    "y_train = y.iloc[:350] \n",
    "y_test = y.iloc[350:] \n",
    "\n",
    "model = KNeighborsClassifier(n_neighbors=10) \n",
    "model.fit(X_train, y_train) \n",
    "pre = model.predict(X_test) \n",
    "metrics.accuracy_score(pre, y_test) "
   ]
  },
  {
   "cell_type": "code",
   "execution_count": 12,
   "metadata": {
    "colab": {},
    "colab_type": "code",
    "id": "jfvnaxqjfN0U",
    "slideshow": {
     "slide_type": "slide"
    }
   },
   "outputs": [
    {
     "data": {
      "text/plain": [
       "array(['Normal', 'Extremely Weak'], dtype=object)"
      ]
     },
     "execution_count": 12,
     "metadata": {},
     "output_type": "execute_result"
    }
   ],
   "source": [
    "# 예측 활용\n",
    "model.predict([[100, 20], [185, 43]]) "
   ]
  },
  {
   "cell_type": "markdown",
   "metadata": {
    "colab_type": "text",
    "id": "78ukD-195M_p",
    "slideshow": {
     "slide_type": "slide"
    }
   },
   "source": [
    "### 머신러닝(Machine Learning) 진행 과정\n",
    "\n",
    "1. ProblemIdentification (문제정의)\n",
    "2. Data Collect(데이터 수집)\n",
    "3. Data Preprocessing(데이터 전처리)\n",
    "4. EDA(탐색적 데이터분석)\n",
    "5. Model 선택, Hyper Parameter 조정\n",
    "6. 학습\n",
    "7. 모델 Evaluation(평가)\n"
   ]
  }
 ],
 "metadata": {
  "celltoolbar": "Slideshow",
  "colab": {
   "authorship_tag": "ABX9TyNIRsu3p6iUL62vXXVi4DCJ",
   "collapsed_sections": [
    "Hv85-XvEcKaa"
   ],
   "name": "ml_01_머신러닝개요.ipynb",
   "provenance": []
  },
  "kernelspec": {
   "display_name": "Python 3",
   "language": "python",
   "name": "python3"
  },
  "language_info": {
   "codemirror_mode": {
    "name": "ipython",
    "version": 3
   },
   "file_extension": ".py",
   "mimetype": "text/x-python",
   "name": "python",
   "nbconvert_exporter": "python",
   "pygments_lexer": "ipython3",
   "version": "3.7.6"
  }
 },
 "nbformat": 4,
 "nbformat_minor": 1
}
