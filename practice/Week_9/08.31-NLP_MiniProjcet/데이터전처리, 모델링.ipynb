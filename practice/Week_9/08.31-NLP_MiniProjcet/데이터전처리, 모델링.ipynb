{
  "nbformat": 4,
  "nbformat_minor": 0,
  "metadata": {
    "colab": {
      "name": "NaverMovie.ipynb",
      "provenance": [],
      "collapsed_sections": []
    },
    "kernelspec": {
      "name": "python3",
      "display_name": "Python 3"
    }
  },
  "cells": [
    {
      "cell_type": "code",
      "metadata": {
        "id": "xL7LMLx42ZLg",
        "colab_type": "code",
        "colab": {
          "base_uri": "https://localhost:8080/",
          "height": 316
        },
        "outputId": "5eac25dc-9871-473b-9b67-f89f3ea25518"
      },
      "source": [
        "!pip install konlpy"
      ],
      "execution_count": 1,
      "outputs": [
        {
          "output_type": "stream",
          "text": [
            "Requirement already satisfied: konlpy in /usr/local/lib/python3.6/dist-packages (0.5.2)\n",
            "Requirement already satisfied: beautifulsoup4==4.6.0 in /usr/local/lib/python3.6/dist-packages (from konlpy) (4.6.0)\n",
            "Requirement already satisfied: colorama in /usr/local/lib/python3.6/dist-packages (from konlpy) (0.4.3)\n",
            "Requirement already satisfied: lxml>=4.1.0 in /usr/local/lib/python3.6/dist-packages (from konlpy) (4.2.6)\n",
            "Requirement already satisfied: tweepy>=3.7.0 in /usr/local/lib/python3.6/dist-packages (from konlpy) (3.9.0)\n",
            "Requirement already satisfied: numpy>=1.6 in /usr/local/lib/python3.6/dist-packages (from konlpy) (1.18.5)\n",
            "Requirement already satisfied: JPype1>=0.7.0 in /usr/local/lib/python3.6/dist-packages (from konlpy) (1.0.2)\n",
            "Requirement already satisfied: six>=1.10.0 in /usr/local/lib/python3.6/dist-packages (from tweepy>=3.7.0->konlpy) (1.15.0)\n",
            "Requirement already satisfied: requests-oauthlib>=0.7.0 in /usr/local/lib/python3.6/dist-packages (from tweepy>=3.7.0->konlpy) (1.3.0)\n",
            "Requirement already satisfied: requests[socks]>=2.11.1 in /usr/local/lib/python3.6/dist-packages (from tweepy>=3.7.0->konlpy) (2.23.0)\n",
            "Requirement already satisfied: typing-extensions; python_version < \"3.8\" in /usr/local/lib/python3.6/dist-packages (from JPype1>=0.7.0->konlpy) (3.7.4.3)\n",
            "Requirement already satisfied: oauthlib>=3.0.0 in /usr/local/lib/python3.6/dist-packages (from requests-oauthlib>=0.7.0->tweepy>=3.7.0->konlpy) (3.1.0)\n",
            "Requirement already satisfied: idna<3,>=2.5 in /usr/local/lib/python3.6/dist-packages (from requests[socks]>=2.11.1->tweepy>=3.7.0->konlpy) (2.10)\n",
            "Requirement already satisfied: certifi>=2017.4.17 in /usr/local/lib/python3.6/dist-packages (from requests[socks]>=2.11.1->tweepy>=3.7.0->konlpy) (2020.6.20)\n",
            "Requirement already satisfied: urllib3!=1.25.0,!=1.25.1,<1.26,>=1.21.1 in /usr/local/lib/python3.6/dist-packages (from requests[socks]>=2.11.1->tweepy>=3.7.0->konlpy) (1.24.3)\n",
            "Requirement already satisfied: chardet<4,>=3.0.2 in /usr/local/lib/python3.6/dist-packages (from requests[socks]>=2.11.1->tweepy>=3.7.0->konlpy) (3.0.4)\n",
            "Requirement already satisfied: PySocks!=1.5.7,>=1.5.6; extra == \"socks\" in /usr/local/lib/python3.6/dist-packages (from requests[socks]>=2.11.1->tweepy>=3.7.0->konlpy) (1.7.1)\n"
          ],
          "name": "stdout"
        }
      ]
    },
    {
      "cell_type": "code",
      "metadata": {
        "id": "G-dDj4622PDz",
        "colab_type": "code",
        "colab": {}
      },
      "source": [
        "import pandas as pd\n",
        "import numpy as np\n",
        "from konlpy.tag import Okt\n",
        "import re"
      ],
      "execution_count": 2,
      "outputs": []
    },
    {
      "cell_type": "code",
      "metadata": {
        "id": "IqmceRdV2pLT",
        "colab_type": "code",
        "colab": {
          "base_uri": "https://localhost:8080/",
          "height": 34
        },
        "outputId": "01ae942b-c98f-40d7-d71b-ada40a06901f"
      },
      "source": [
        "data = pd.read_csv('/content/drive/My Drive/ai_school/navermovies2.csv')\n",
        "\n",
        "data.shape"
      ],
      "execution_count": 3,
      "outputs": [
        {
          "output_type": "execute_result",
          "data": {
            "text/plain": [
              "(17320, 12)"
            ]
          },
          "metadata": {
            "tags": []
          },
          "execution_count": 3
        }
      ]
    },
    {
      "cell_type": "code",
      "metadata": {
        "id": "xnrenWJB1ZB-",
        "colab_type": "code",
        "colab": {
          "base_uri": "https://localhost:8080/",
          "height": 346
        },
        "outputId": "53f34007-7369-4a28-c7d6-e1c036cd6f7a"
      },
      "source": [
        "data.head()"
      ],
      "execution_count": 4,
      "outputs": [
        {
          "output_type": "execute_result",
          "data": {
            "text/html": [
              "<div>\n",
              "<style scoped>\n",
              "    .dataframe tbody tr th:only-of-type {\n",
              "        vertical-align: middle;\n",
              "    }\n",
              "\n",
              "    .dataframe tbody tr th {\n",
              "        vertical-align: top;\n",
              "    }\n",
              "\n",
              "    .dataframe thead th {\n",
              "        text-align: right;\n",
              "    }\n",
              "</style>\n",
              "<table border=\"1\" class=\"dataframe\">\n",
              "  <thead>\n",
              "    <tr style=\"text-align: right;\">\n",
              "      <th></th>\n",
              "      <th>Unnamed: 0</th>\n",
              "      <th>순위</th>\n",
              "      <th>제목</th>\n",
              "      <th>포스터</th>\n",
              "      <th>평점</th>\n",
              "      <th>나라,상영시간</th>\n",
              "      <th>개봉일</th>\n",
              "      <th>등급</th>\n",
              "      <th>장르</th>\n",
              "      <th>감독</th>\n",
              "      <th>주연</th>\n",
              "      <th>줄거리</th>\n",
              "    </tr>\n",
              "  </thead>\n",
              "  <tbody>\n",
              "    <tr>\n",
              "      <th>0</th>\n",
              "      <td>0</td>\n",
              "      <td>0</td>\n",
              "      <td>너의 이름은.</td>\n",
              "      <td>https://movie-phinf.pstatic.net/20171222_70/15...</td>\n",
              "      <td>8.78</td>\n",
              "      <td>일본, 106분</td>\n",
              "      <td>2017.01.04.</td>\n",
              "      <td>12세 관람가</td>\n",
              "      <td>드라마</td>\n",
              "      <td>신카이 마코토</td>\n",
              "      <td>지창욱, 김소현, 이레, 카미키 류노스케, 카미시라이시 모네, 타니 카논</td>\n",
              "      <td>꿈 속에서 몸이 뒤바뀐 도시 소년 ‘타키’와 시골 소녀 ‘미츠하’, 만난 적 없는 ...</td>\n",
              "    </tr>\n",
              "    <tr>\n",
              "      <th>1</th>\n",
              "      <td>1</td>\n",
              "      <td>1</td>\n",
              "      <td>라라랜드</td>\n",
              "      <td>https://movie-phinf.pstatic.net/20161123_188/1...</td>\n",
              "      <td>8.60</td>\n",
              "      <td>미국, 127분</td>\n",
              "      <td>2016.12.07.</td>\n",
              "      <td>12세 관람가</td>\n",
              "      <td>드라마</td>\n",
              "      <td>다미엔 차젤레</td>\n",
              "      <td>엠마 스톤, 라이언 고슬링</td>\n",
              "      <td>꿈을 꾸는 사람들을 위한 별들의 도시 ‘라라랜드’. 재즈 피아니스트 ‘세바스찬’(라...</td>\n",
              "    </tr>\n",
              "    <tr>\n",
              "      <th>2</th>\n",
              "      <td>2</td>\n",
              "      <td>2</td>\n",
              "      <td>증인</td>\n",
              "      <td>https://movie-phinf.pstatic.net/20190226_194/1...</td>\n",
              "      <td>9.09</td>\n",
              "      <td>대한민국, 129분</td>\n",
              "      <td>2019.02.13.</td>\n",
              "      <td>12세 관람가</td>\n",
              "      <td>드라마</td>\n",
              "      <td>이한</td>\n",
              "      <td>정우성, 김향기</td>\n",
              "      <td>“목격자가 있어. 자폐아야”  신념은 잠시 접어두고 현실을 위해 속물이 되기로 마음...</td>\n",
              "    </tr>\n",
              "    <tr>\n",
              "      <th>3</th>\n",
              "      <td>3</td>\n",
              "      <td>3</td>\n",
              "      <td>청년경찰</td>\n",
              "      <td>https://movie-phinf.pstatic.net/20170814_131/1...</td>\n",
              "      <td>8.26</td>\n",
              "      <td>대한민국, 109분</td>\n",
              "      <td>2017.08.09.</td>\n",
              "      <td>15세 관람가</td>\n",
              "      <td>액션</td>\n",
              "      <td>김주환</td>\n",
              "      <td>박서준, 강하늘</td>\n",
              "      <td>의욕충만 경찰대생 기준(박서준) X 이론백단 경찰대생 희열(강하늘) 둘도 없는 친구...</td>\n",
              "    </tr>\n",
              "    <tr>\n",
              "      <th>4</th>\n",
              "      <td>4</td>\n",
              "      <td>4</td>\n",
              "      <td>돈</td>\n",
              "      <td>https://movie-phinf.pstatic.net/20190306_280/1...</td>\n",
              "      <td>7.41</td>\n",
              "      <td>대한민국, 115분</td>\n",
              "      <td>2019.03.20.</td>\n",
              "      <td>15세 관람가</td>\n",
              "      <td>액션</td>\n",
              "      <td>박누리</td>\n",
              "      <td>류준열, 유지태, 조우진</td>\n",
              "      <td>오직 부자가 되고 싶은 꿈을 품고 여의도 증권가에 입성한 신입 주식 브로커 조일현(...</td>\n",
              "    </tr>\n",
              "  </tbody>\n",
              "</table>\n",
              "</div>"
            ],
            "text/plain": [
              "   Unnamed: 0  ...                                                줄거리\n",
              "0           0  ...  꿈 속에서 몸이 뒤바뀐 도시 소년 ‘타키’와 시골 소녀 ‘미츠하’, 만난 적 없는 ...\n",
              "1           1  ...  꿈을 꾸는 사람들을 위한 별들의 도시 ‘라라랜드’. 재즈 피아니스트 ‘세바스찬’(라...\n",
              "2           2  ...  “목격자가 있어. 자폐아야”  신념은 잠시 접어두고 현실을 위해 속물이 되기로 마음...\n",
              "3           3  ...  의욕충만 경찰대생 기준(박서준) X 이론백단 경찰대생 희열(강하늘) 둘도 없는 친구...\n",
              "4           4  ...  오직 부자가 되고 싶은 꿈을 품고 여의도 증권가에 입성한 신입 주식 브로커 조일현(...\n",
              "\n",
              "[5 rows x 12 columns]"
            ]
          },
          "metadata": {
            "tags": []
          },
          "execution_count": 4
        }
      ]
    },
    {
      "cell_type": "code",
      "metadata": {
        "id": "wWNihw_63LT9",
        "colab_type": "code",
        "colab": {}
      },
      "source": [
        "# 0번째 열은 순위와 같은 값을 갖는 중복된 열이므로 제외\n",
        "data = data.iloc[:, 1:] "
      ],
      "execution_count": 5,
      "outputs": []
    },
    {
      "cell_type": "code",
      "metadata": {
        "id": "BILfi_U75O1M",
        "colab_type": "code",
        "colab": {
          "base_uri": "https://localhost:8080/",
          "height": 346
        },
        "outputId": "991f3869-220c-42c9-9332-ae1dc7460cca"
      },
      "source": [
        "# 나라와 상영시간을 분리하여 각각의 열 생성\n",
        "data[['나라', '상영시간']] = data['나라,상영시간'].str.split(', ', expand=True) \n",
        "# 나라와 상영시간이 같이 있던 열은 삭제\n",
        "del data['나라,상영시간'] \n",
        "\n",
        "data.head()"
      ],
      "execution_count": 6,
      "outputs": [
        {
          "output_type": "execute_result",
          "data": {
            "text/html": [
              "<div>\n",
              "<style scoped>\n",
              "    .dataframe tbody tr th:only-of-type {\n",
              "        vertical-align: middle;\n",
              "    }\n",
              "\n",
              "    .dataframe tbody tr th {\n",
              "        vertical-align: top;\n",
              "    }\n",
              "\n",
              "    .dataframe thead th {\n",
              "        text-align: right;\n",
              "    }\n",
              "</style>\n",
              "<table border=\"1\" class=\"dataframe\">\n",
              "  <thead>\n",
              "    <tr style=\"text-align: right;\">\n",
              "      <th></th>\n",
              "      <th>순위</th>\n",
              "      <th>제목</th>\n",
              "      <th>포스터</th>\n",
              "      <th>평점</th>\n",
              "      <th>개봉일</th>\n",
              "      <th>등급</th>\n",
              "      <th>장르</th>\n",
              "      <th>감독</th>\n",
              "      <th>주연</th>\n",
              "      <th>줄거리</th>\n",
              "      <th>나라</th>\n",
              "      <th>상영시간</th>\n",
              "    </tr>\n",
              "  </thead>\n",
              "  <tbody>\n",
              "    <tr>\n",
              "      <th>0</th>\n",
              "      <td>0</td>\n",
              "      <td>너의 이름은.</td>\n",
              "      <td>https://movie-phinf.pstatic.net/20171222_70/15...</td>\n",
              "      <td>8.78</td>\n",
              "      <td>2017.01.04.</td>\n",
              "      <td>12세 관람가</td>\n",
              "      <td>드라마</td>\n",
              "      <td>신카이 마코토</td>\n",
              "      <td>지창욱, 김소현, 이레, 카미키 류노스케, 카미시라이시 모네, 타니 카논</td>\n",
              "      <td>꿈 속에서 몸이 뒤바뀐 도시 소년 ‘타키’와 시골 소녀 ‘미츠하’, 만난 적 없는 ...</td>\n",
              "      <td>일본</td>\n",
              "      <td>106분</td>\n",
              "    </tr>\n",
              "    <tr>\n",
              "      <th>1</th>\n",
              "      <td>1</td>\n",
              "      <td>라라랜드</td>\n",
              "      <td>https://movie-phinf.pstatic.net/20161123_188/1...</td>\n",
              "      <td>8.60</td>\n",
              "      <td>2016.12.07.</td>\n",
              "      <td>12세 관람가</td>\n",
              "      <td>드라마</td>\n",
              "      <td>다미엔 차젤레</td>\n",
              "      <td>엠마 스톤, 라이언 고슬링</td>\n",
              "      <td>꿈을 꾸는 사람들을 위한 별들의 도시 ‘라라랜드’. 재즈 피아니스트 ‘세바스찬’(라...</td>\n",
              "      <td>미국</td>\n",
              "      <td>127분</td>\n",
              "    </tr>\n",
              "    <tr>\n",
              "      <th>2</th>\n",
              "      <td>2</td>\n",
              "      <td>증인</td>\n",
              "      <td>https://movie-phinf.pstatic.net/20190226_194/1...</td>\n",
              "      <td>9.09</td>\n",
              "      <td>2019.02.13.</td>\n",
              "      <td>12세 관람가</td>\n",
              "      <td>드라마</td>\n",
              "      <td>이한</td>\n",
              "      <td>정우성, 김향기</td>\n",
              "      <td>“목격자가 있어. 자폐아야”  신념은 잠시 접어두고 현실을 위해 속물이 되기로 마음...</td>\n",
              "      <td>대한민국</td>\n",
              "      <td>129분</td>\n",
              "    </tr>\n",
              "    <tr>\n",
              "      <th>3</th>\n",
              "      <td>3</td>\n",
              "      <td>청년경찰</td>\n",
              "      <td>https://movie-phinf.pstatic.net/20170814_131/1...</td>\n",
              "      <td>8.26</td>\n",
              "      <td>2017.08.09.</td>\n",
              "      <td>15세 관람가</td>\n",
              "      <td>액션</td>\n",
              "      <td>김주환</td>\n",
              "      <td>박서준, 강하늘</td>\n",
              "      <td>의욕충만 경찰대생 기준(박서준) X 이론백단 경찰대생 희열(강하늘) 둘도 없는 친구...</td>\n",
              "      <td>대한민국</td>\n",
              "      <td>109분</td>\n",
              "    </tr>\n",
              "    <tr>\n",
              "      <th>4</th>\n",
              "      <td>4</td>\n",
              "      <td>돈</td>\n",
              "      <td>https://movie-phinf.pstatic.net/20190306_280/1...</td>\n",
              "      <td>7.41</td>\n",
              "      <td>2019.03.20.</td>\n",
              "      <td>15세 관람가</td>\n",
              "      <td>액션</td>\n",
              "      <td>박누리</td>\n",
              "      <td>류준열, 유지태, 조우진</td>\n",
              "      <td>오직 부자가 되고 싶은 꿈을 품고 여의도 증권가에 입성한 신입 주식 브로커 조일현(...</td>\n",
              "      <td>대한민국</td>\n",
              "      <td>115분</td>\n",
              "    </tr>\n",
              "  </tbody>\n",
              "</table>\n",
              "</div>"
            ],
            "text/plain": [
              "   순위       제목  ...    나라  상영시간\n",
              "0   0  너의 이름은.  ...    일본  106분\n",
              "1   1     라라랜드  ...    미국  127분\n",
              "2   2       증인  ...  대한민국  129분\n",
              "3   3     청년경찰  ...  대한민국  109분\n",
              "4   4        돈  ...  대한민국  115분\n",
              "\n",
              "[5 rows x 12 columns]"
            ]
          },
          "metadata": {
            "tags": []
          },
          "execution_count": 6
        }
      ]
    },
    {
      "cell_type": "code",
      "metadata": {
        "id": "sRSCjyZM6Uvr",
        "colab_type": "code",
        "colab": {
          "base_uri": "https://localhost:8080/",
          "height": 598
        },
        "outputId": "313fd888-5ace-414b-b0aa-6972d76c38c8"
      },
      "source": [
        "data['장르'].unique() # 장르에 무언가 오류가 있음을 확인"
      ],
      "execution_count": 7,
      "outputs": [
        {
          "output_type": "execute_result",
          "data": {
            "text/plain": [
              "array(['드라마', '액션', '코미디', 'SF/판타지', '다큐멘터리', '이석근', '프랭키 첸', '공포/스릴러',\n",
              "       '애니메이션', '테아 샤록', '이용주', '스콧 스피어', '코이즈미 노리히로', '서은영', '허진호', '백',\n",
              "       '이장훈', '김한결', '설효로', '김종관', '사준의', '이윤기', '임대형', '송일곤', '신조 타케히코',\n",
              "       '기타가와 에리코', '케네스 브래너', '공연실황', '레베카 밀러', '정재은', '빅터 레빈', '한철수',\n",
              "       '츠키카와 쇼', '휴가 아사코', '김대승', '츠츠미 유키히코', '주동, 대몽영', '쿠마자와 나오토',\n",
              "       '타카타 마사히로', '카와무라 타이스케', '타구치 토모로오', '크리스티안 디터', '우디 앨런', '이창근',\n",
              "       '미키 코이치로', '시바야마 겐지', '마이클 수지', '최호', '마이클 쇼월터', '안정민', '앨런 릭먼',\n",
              "       '야쿠모 사이지', '데이빗 맥킨지', '유위강', '이윤정', '이누도 잇신', '김기훈', '독립영화',\n",
              "       '이시이 야스하루', '김정권', '백승환', '조성은', '소륜', '마크 레빈', '트란 안 훙', '사토 유이치',\n",
              "       '레스티 첸', '후루사와 켄', '히로키 류이치', '미조구치 미노루', '피에르 살바도리', '이구치 노보루',\n",
              "       '김용완, 선종훈', '잭 스마이트', '김희진', '사노 토모키', '야니스 스마라그디스', '황다슬',\n",
              "       '데이빗 린', '한상희', '유영의', '장 콕토', '리 위', '이강현', '윤가은', '최현영',\n",
              "       '루치노 비스콘티', '조성규', '세드릭 클라피쉬', '민병우', '이와이 슌지', '나카니시 켄지', '하몽화',\n",
              "       '이송희일', '람지 베디아', '박민국', '후고 데 아나', '로버트 돈헴', '장률', '멜로', '이미지',\n",
              "       '추창민', '오자키 마사야', '하나부사 츠토무', '이원영', '월터 머치', '니콜 팔로', '장문일',\n",
              "       '윌리엄 와일러', '시티시리 몽콜시리', '콘스탄틴 카벤스키', '정충환', '채기준', '데이비드 린', '최재혁',\n",
              "       '페르난도 에임브케, 데니스 간젤, 다이아나 애그론, 저스틴 프랭클린, 틸 슈바이거, 피터 첼섬, 다니 레비, 조셉 러스넥, 마시 태지딘, 다니엘 루워스키',\n",
              "       '장희민', '김성민', '호아킨 가마스', '다니 드 라 올덴', '김강윤', '노구치 테루오', '존 휴스턴',\n",
              "       '최익환', '오성호', '마이클 데미언', '조아람', '전계수', '김인선', '나단 아이브스', '김한성',\n",
              "       '최성우, 임정윤', '이현승', '린지 앤더슨', '마크 D. 머피', '윤종민', '로버트 D. 시겔', '강동원',\n",
              "       '문종금', '강효진', '가브리엘 파스칼', '김화랑', '엄주호', '김민주', '로버트 할링', '브라이언 헨슨',\n",
              "       '안지희', '김동원', '나츠메 다이이치', '헨리 헤서웨이', '로드리고 패르난데즈 엥글러', '찰스 포클',\n",
              "       '장만민', '한명구', '변장호', '박혜진', '요지 오노', '살로메 뒤보아', '장효섭', '오래영', '고훈',\n",
              "       '얀 반 데 벨데', '김문흠', '그레고리 라토프', '브루스 맥도널드', '이상빈', '마이클 고든', '소준문',\n",
              "       '방진현', '윤형철', '윤웅대', '서초', '최인현', '델머 데이브즈', '주극', '김동효', '김응천',\n",
              "       '도날드 페트리', '김세인', '남기남', '정지연', '신시정', '제임스 폴리', '알렉스 갈빈', '김민규',\n",
              "       '허현웅', '김성수', '권문선', '두기봉', '서태범', '이다연', '황규일', '김수형', '김종우',\n",
              "       '이충희', '김진규', '김동하', '이재웅', '장영선', '김현탁', '상훈', '이원세', '유주현',\n",
              "       '김영록', '조지 로이 힐', '한호승', '김재현', '정희재', '손현우', '유니텔 클래시카', '최재영',\n",
              "       '아카시 셔먼', '양진원', '이한', '차준호', '김게이', '오정민', '강현택', '정수원', '한정길',\n",
              "       '엽영건', '임원식', '이현준', '강철수', '이선영', '김준모', '브루스 헨드릭스', '홍유정', '나건녕',\n",
              "       '이제욱', '박용철', '이노우에 히로키', '후쿠시마 타쿠야', '박지훈', '박미라', '안상훈', '이봉원',\n",
              "       '현정재', '안재윤', '김호민', '타일러 콜', '티몬 모데손'], dtype=object)"
            ]
          },
          "metadata": {
            "tags": []
          },
          "execution_count": 7
        }
      ]
    },
    {
      "cell_type": "code",
      "metadata": {
        "id": "8sjngsZ75Slz",
        "colab_type": "code",
        "colab": {
          "base_uri": "https://localhost:8080/",
          "height": 70
        },
        "outputId": "092a0d71-5d4f-41d3-c8a1-772f746bbbc5"
      },
      "source": [
        "genre_count = data['장르'].value_counts()\n",
        "genre_count.index[:15] # 0번째('액션')부터 9번째('멜로')까지가 실제 장르인 것으로 생각된다."
      ],
      "execution_count": 8,
      "outputs": [
        {
          "output_type": "execute_result",
          "data": {
            "text/plain": [
              "Index(['액션', '드라마', '코미디', '공포/스릴러', '애니메이션', '공연실황', '다큐멘터리', 'SF/판타지',\n",
              "       '독립영화', '멜로', '유영의', '한상희', '이윤정', '김한결', '헨리 헤서웨이'],\n",
              "      dtype='object')"
            ]
          },
          "metadata": {
            "tags": []
          },
          "execution_count": 8
        }
      ]
    },
    {
      "cell_type": "code",
      "metadata": {
        "id": "on3Gts5JCDZE",
        "colab_type": "code",
        "colab": {
          "base_uri": "https://localhost:8080/",
          "height": 193
        },
        "outputId": "83d9f1e7-19d6-47f0-88d2-26cd2376866c"
      },
      "source": [
        "genres = genre_count.index[:10].tolist() # 장르 목록 리스트화\n",
        "genres"
      ],
      "execution_count": 9,
      "outputs": [
        {
          "output_type": "execute_result",
          "data": {
            "text/plain": [
              "['액션',\n",
              " '드라마',\n",
              " '코미디',\n",
              " '공포/스릴러',\n",
              " '애니메이션',\n",
              " '공연실황',\n",
              " '다큐멘터리',\n",
              " 'SF/판타지',\n",
              " '독립영화',\n",
              " '멜로']"
            ]
          },
          "metadata": {
            "tags": []
          },
          "execution_count": 9
        }
      ]
    },
    {
      "cell_type": "code",
      "metadata": {
        "id": "4chHtBjr9H9s",
        "colab_type": "code",
        "colab": {
          "base_uri": "https://localhost:8080/",
          "height": 34
        },
        "outputId": "a2b52a66-959f-4f6e-8300-c1fc30c0d0d2"
      },
      "source": [
        "# 장르가 genres에 포함되지 않는 행 삭제\n",
        "data = data[data['장르'].isin(genres)]\n",
        "data.shape"
      ],
      "execution_count": 10,
      "outputs": [
        {
          "output_type": "execute_result",
          "data": {
            "text/plain": [
              "(17017, 12)"
            ]
          },
          "metadata": {
            "tags": []
          },
          "execution_count": 10
        }
      ]
    },
    {
      "cell_type": "code",
      "metadata": {
        "id": "3F_sNtWeLvQV",
        "colab_type": "code",
        "colab": {
          "base_uri": "https://localhost:8080/",
          "height": 52
        },
        "outputId": "8aed4b5a-9fa2-41e7-dff6-6936623ccfe9"
      },
      "source": [
        "data['장르'].unique()"
      ],
      "execution_count": 11,
      "outputs": [
        {
          "output_type": "execute_result",
          "data": {
            "text/plain": [
              "array(['드라마', '액션', '코미디', 'SF/판타지', '다큐멘터리', '공포/스릴러', '애니메이션', '공연실황',\n",
              "       '독립영화', '멜로'], dtype=object)"
            ]
          },
          "metadata": {
            "tags": []
          },
          "execution_count": 11
        }
      ]
    },
    {
      "cell_type": "code",
      "metadata": {
        "id": "wzUL4aqqCLRK",
        "colab_type": "code",
        "colab": {
          "base_uri": "https://localhost:8080/",
          "height": 246
        },
        "outputId": "262c9cf0-a5e6-487d-bca0-0a5d6ae06060"
      },
      "source": [
        "data.isnull().sum()"
      ],
      "execution_count": 12,
      "outputs": [
        {
          "output_type": "execute_result",
          "data": {
            "text/plain": [
              "순위         0\n",
              "제목         0\n",
              "포스터        0\n",
              "평점         0\n",
              "개봉일     6963\n",
              "등급         0\n",
              "장르         0\n",
              "감독         0\n",
              "주연        61\n",
              "줄거리      747\n",
              "나라         0\n",
              "상영시간       0\n",
              "dtype: int64"
            ]
          },
          "metadata": {
            "tags": []
          },
          "execution_count": 12
        }
      ]
    },
    {
      "cell_type": "code",
      "metadata": {
        "id": "4NfNeR7y2LAX",
        "colab_type": "code",
        "colab": {
          "base_uri": "https://localhost:8080/",
          "height": 34
        },
        "outputId": "dc08e8d2-7b65-41bd-facd-a9856d1e2ea9"
      },
      "source": [
        "# 줄거리가 '줄거리 준비중입니다. / 줄거리 정보가 없습니다. / 줄거리 정보가 없습니다'인 행 삭제\n",
        "no_summary = ['줄거리 준비중입니다.', '줄거리 정보가 없습니다.', '줄거리 정보가 없습니다']\n",
        "data = data[~data['줄거리'].isin(no_summary)]\n",
        "data.shape"
      ],
      "execution_count": 13,
      "outputs": [
        {
          "output_type": "execute_result",
          "data": {
            "text/plain": [
              "(16077, 12)"
            ]
          },
          "metadata": {
            "tags": []
          },
          "execution_count": 13
        }
      ]
    },
    {
      "cell_type": "code",
      "metadata": {
        "id": "L0e8RlFn8Taz",
        "colab_type": "code",
        "colab": {
          "base_uri": "https://localhost:8080/",
          "height": 34
        },
        "outputId": "a4bd05e3-0d97-47a3-fab2-d9b0fcab8af2"
      },
      "source": [
        "# '평점'이 4 이하인 행 삭제\n",
        "data = data[data['평점'] > 4]\n",
        "data.shape"
      ],
      "execution_count": 14,
      "outputs": [
        {
          "output_type": "execute_result",
          "data": {
            "text/plain": [
              "(13530, 12)"
            ]
          },
          "metadata": {
            "tags": []
          },
          "execution_count": 14
        }
      ]
    },
    {
      "cell_type": "code",
      "metadata": {
        "id": "8M356ZObD8Da",
        "colab_type": "code",
        "colab": {
          "base_uri": "https://localhost:8080/",
          "height": 34
        },
        "outputId": "b8fac4fd-b7e8-46c4-cf18-658029395719"
      },
      "source": [
        "# '주연'과 '줄거리'가 null 값인 행 삭제\n",
        "data = data.dropna(subset=['주연', '줄거리'])\n",
        "data.shape"
      ],
      "execution_count": 15,
      "outputs": [
        {
          "output_type": "execute_result",
          "data": {
            "text/plain": [
              "(13097, 12)"
            ]
          },
          "metadata": {
            "tags": []
          },
          "execution_count": 15
        }
      ]
    },
    {
      "cell_type": "code",
      "metadata": {
        "id": "7CYyHQAYMUcF",
        "colab_type": "code",
        "colab": {
          "base_uri": "https://localhost:8080/",
          "height": 246
        },
        "outputId": "2303e2ee-4390-4238-dcb3-6c0e7d66666e"
      },
      "source": [
        "data.isnull().sum()"
      ],
      "execution_count": 16,
      "outputs": [
        {
          "output_type": "execute_result",
          "data": {
            "text/plain": [
              "순위         0\n",
              "제목         0\n",
              "포스터        0\n",
              "평점         0\n",
              "개봉일     3629\n",
              "등급         0\n",
              "장르         0\n",
              "감독         0\n",
              "주연         0\n",
              "줄거리        0\n",
              "나라         0\n",
              "상영시간       0\n",
              "dtype: int64"
            ]
          },
          "metadata": {
            "tags": []
          },
          "execution_count": 16
        }
      ]
    },
    {
      "cell_type": "code",
      "metadata": {
        "id": "RSzeNNfQW0ZX",
        "colab_type": "code",
        "colab": {
          "base_uri": "https://localhost:8080/",
          "height": 346
        },
        "outputId": "224cf19f-186f-431f-a889-9988800fd764"
      },
      "source": [
        "# '감독'과 '주연'의 값을 공백을 기준으로 나누는 하나의 문자열화\n",
        "# 이름이 두 어절 이상인 사람들을 하나로 인지가히기 위해 먼저 공백을 없앤 후, 쉼표를 공백으로 replace 한다.\n",
        "data['감독'] = data['감독'].str.replace(' ', '').str.replace(',', ' ')\n",
        "data['주연'] = data['주연'].str.replace(' ', '').str.replace(',', ' ')\n",
        "data.head()"
      ],
      "execution_count": 17,
      "outputs": [
        {
          "output_type": "execute_result",
          "data": {
            "text/html": [
              "<div>\n",
              "<style scoped>\n",
              "    .dataframe tbody tr th:only-of-type {\n",
              "        vertical-align: middle;\n",
              "    }\n",
              "\n",
              "    .dataframe tbody tr th {\n",
              "        vertical-align: top;\n",
              "    }\n",
              "\n",
              "    .dataframe thead th {\n",
              "        text-align: right;\n",
              "    }\n",
              "</style>\n",
              "<table border=\"1\" class=\"dataframe\">\n",
              "  <thead>\n",
              "    <tr style=\"text-align: right;\">\n",
              "      <th></th>\n",
              "      <th>순위</th>\n",
              "      <th>제목</th>\n",
              "      <th>포스터</th>\n",
              "      <th>평점</th>\n",
              "      <th>개봉일</th>\n",
              "      <th>등급</th>\n",
              "      <th>장르</th>\n",
              "      <th>감독</th>\n",
              "      <th>주연</th>\n",
              "      <th>줄거리</th>\n",
              "      <th>나라</th>\n",
              "      <th>상영시간</th>\n",
              "    </tr>\n",
              "  </thead>\n",
              "  <tbody>\n",
              "    <tr>\n",
              "      <th>0</th>\n",
              "      <td>0</td>\n",
              "      <td>너의 이름은.</td>\n",
              "      <td>https://movie-phinf.pstatic.net/20171222_70/15...</td>\n",
              "      <td>8.78</td>\n",
              "      <td>2017.01.04.</td>\n",
              "      <td>12세 관람가</td>\n",
              "      <td>드라마</td>\n",
              "      <td>신카이마코토</td>\n",
              "      <td>지창욱 김소현 이레 카미키류노스케 카미시라이시모네 타니카논</td>\n",
              "      <td>꿈 속에서 몸이 뒤바뀐 도시 소년 ‘타키’와 시골 소녀 ‘미츠하’, 만난 적 없는 ...</td>\n",
              "      <td>일본</td>\n",
              "      <td>106분</td>\n",
              "    </tr>\n",
              "    <tr>\n",
              "      <th>1</th>\n",
              "      <td>1</td>\n",
              "      <td>라라랜드</td>\n",
              "      <td>https://movie-phinf.pstatic.net/20161123_188/1...</td>\n",
              "      <td>8.60</td>\n",
              "      <td>2016.12.07.</td>\n",
              "      <td>12세 관람가</td>\n",
              "      <td>드라마</td>\n",
              "      <td>다미엔차젤레</td>\n",
              "      <td>엠마스톤 라이언고슬링</td>\n",
              "      <td>꿈을 꾸는 사람들을 위한 별들의 도시 ‘라라랜드’. 재즈 피아니스트 ‘세바스찬’(라...</td>\n",
              "      <td>미국</td>\n",
              "      <td>127분</td>\n",
              "    </tr>\n",
              "    <tr>\n",
              "      <th>2</th>\n",
              "      <td>2</td>\n",
              "      <td>증인</td>\n",
              "      <td>https://movie-phinf.pstatic.net/20190226_194/1...</td>\n",
              "      <td>9.09</td>\n",
              "      <td>2019.02.13.</td>\n",
              "      <td>12세 관람가</td>\n",
              "      <td>드라마</td>\n",
              "      <td>이한</td>\n",
              "      <td>정우성 김향기</td>\n",
              "      <td>“목격자가 있어. 자폐아야”  신념은 잠시 접어두고 현실을 위해 속물이 되기로 마음...</td>\n",
              "      <td>대한민국</td>\n",
              "      <td>129분</td>\n",
              "    </tr>\n",
              "    <tr>\n",
              "      <th>3</th>\n",
              "      <td>3</td>\n",
              "      <td>청년경찰</td>\n",
              "      <td>https://movie-phinf.pstatic.net/20170814_131/1...</td>\n",
              "      <td>8.26</td>\n",
              "      <td>2017.08.09.</td>\n",
              "      <td>15세 관람가</td>\n",
              "      <td>액션</td>\n",
              "      <td>김주환</td>\n",
              "      <td>박서준 강하늘</td>\n",
              "      <td>의욕충만 경찰대생 기준(박서준) X 이론백단 경찰대생 희열(강하늘) 둘도 없는 친구...</td>\n",
              "      <td>대한민국</td>\n",
              "      <td>109분</td>\n",
              "    </tr>\n",
              "    <tr>\n",
              "      <th>4</th>\n",
              "      <td>4</td>\n",
              "      <td>돈</td>\n",
              "      <td>https://movie-phinf.pstatic.net/20190306_280/1...</td>\n",
              "      <td>7.41</td>\n",
              "      <td>2019.03.20.</td>\n",
              "      <td>15세 관람가</td>\n",
              "      <td>액션</td>\n",
              "      <td>박누리</td>\n",
              "      <td>류준열 유지태 조우진</td>\n",
              "      <td>오직 부자가 되고 싶은 꿈을 품고 여의도 증권가에 입성한 신입 주식 브로커 조일현(...</td>\n",
              "      <td>대한민국</td>\n",
              "      <td>115분</td>\n",
              "    </tr>\n",
              "  </tbody>\n",
              "</table>\n",
              "</div>"
            ],
            "text/plain": [
              "   순위       제목  ...    나라  상영시간\n",
              "0   0  너의 이름은.  ...    일본  106분\n",
              "1   1     라라랜드  ...    미국  127분\n",
              "2   2       증인  ...  대한민국  129분\n",
              "3   3     청년경찰  ...  대한민국  109분\n",
              "4   4        돈  ...  대한민국  115분\n",
              "\n",
              "[5 rows x 12 columns]"
            ]
          },
          "metadata": {
            "tags": []
          },
          "execution_count": 17
        }
      ]
    },
    {
      "cell_type": "code",
      "metadata": {
        "id": "BkDBYA6nxq0J",
        "colab_type": "code",
        "colab": {}
      },
      "source": [
        "def split_data(x):\n",
        "    nlp = Okt()\n",
        "    try:\n",
        "        nouns = nlp.nouns(x)\n",
        "        nouns = [n for n in nouns if len(n) > 1]\n",
        "        return nouns\n",
        "\n",
        "    except:\n",
        "        return 'None'"
      ],
      "execution_count": 18,
      "outputs": []
    },
    {
      "cell_type": "code",
      "metadata": {
        "id": "pH_LCWmA7fEs",
        "colab_type": "code",
        "colab": {
          "base_uri": "https://localhost:8080/",
          "height": 464
        },
        "outputId": "d159fc53-b9fa-443d-d12d-e985610393a0"
      },
      "source": [
        "# '줄거리'에 위에서 정의한 split_data 함수를 적용해 'keywords'를 만든 후, 위에서와 같이 하나의 문자열화\n",
        "data['keywords'] = data['줄거리'].apply(split_data)\n",
        "data['keywords'] = data['keywords'].apply(lambda x : ' '.join(x))\n",
        "\n",
        "data.head()"
      ],
      "execution_count": 19,
      "outputs": [
        {
          "output_type": "execute_result",
          "data": {
            "text/html": [
              "<div>\n",
              "<style scoped>\n",
              "    .dataframe tbody tr th:only-of-type {\n",
              "        vertical-align: middle;\n",
              "    }\n",
              "\n",
              "    .dataframe tbody tr th {\n",
              "        vertical-align: top;\n",
              "    }\n",
              "\n",
              "    .dataframe thead th {\n",
              "        text-align: right;\n",
              "    }\n",
              "</style>\n",
              "<table border=\"1\" class=\"dataframe\">\n",
              "  <thead>\n",
              "    <tr style=\"text-align: right;\">\n",
              "      <th></th>\n",
              "      <th>순위</th>\n",
              "      <th>제목</th>\n",
              "      <th>포스터</th>\n",
              "      <th>평점</th>\n",
              "      <th>개봉일</th>\n",
              "      <th>등급</th>\n",
              "      <th>장르</th>\n",
              "      <th>감독</th>\n",
              "      <th>주연</th>\n",
              "      <th>줄거리</th>\n",
              "      <th>나라</th>\n",
              "      <th>상영시간</th>\n",
              "      <th>keywords</th>\n",
              "    </tr>\n",
              "  </thead>\n",
              "  <tbody>\n",
              "    <tr>\n",
              "      <th>0</th>\n",
              "      <td>0</td>\n",
              "      <td>너의 이름은.</td>\n",
              "      <td>https://movie-phinf.pstatic.net/20171222_70/15...</td>\n",
              "      <td>8.78</td>\n",
              "      <td>2017.01.04.</td>\n",
              "      <td>12세 관람가</td>\n",
              "      <td>드라마</td>\n",
              "      <td>신카이마코토</td>\n",
              "      <td>지창욱 김소현 이레 카미키류노스케 카미시라이시모네 타니카논</td>\n",
              "      <td>꿈 속에서 몸이 뒤바뀐 도시 소년 ‘타키’와 시골 소녀 ‘미츠하’, 만난 적 없는 ...</td>\n",
              "      <td>일본</td>\n",
              "      <td>106분</td>\n",
              "      <td>도시 소년 타키 시골 소녀 미츠하 만난 사람 기적 사랑 이야기 이름 사람 사람 이름</td>\n",
              "    </tr>\n",
              "    <tr>\n",
              "      <th>1</th>\n",
              "      <td>1</td>\n",
              "      <td>라라랜드</td>\n",
              "      <td>https://movie-phinf.pstatic.net/20161123_188/1...</td>\n",
              "      <td>8.60</td>\n",
              "      <td>2016.12.07.</td>\n",
              "      <td>12세 관람가</td>\n",
              "      <td>드라마</td>\n",
              "      <td>다미엔차젤레</td>\n",
              "      <td>엠마스톤 라이언고슬링</td>\n",
              "      <td>꿈을 꾸는 사람들을 위한 별들의 도시 ‘라라랜드’. 재즈 피아니스트 ‘세바스찬’(라...</td>\n",
              "      <td>미국</td>\n",
              "      <td>127분</td>\n",
              "      <td>사람 도시 라라 랜드 재즈 피아니스트 세바스찬 라이언 슬링 배우 지망 미아 엠마 스...</td>\n",
              "    </tr>\n",
              "    <tr>\n",
              "      <th>2</th>\n",
              "      <td>2</td>\n",
              "      <td>증인</td>\n",
              "      <td>https://movie-phinf.pstatic.net/20190226_194/1...</td>\n",
              "      <td>9.09</td>\n",
              "      <td>2019.02.13.</td>\n",
              "      <td>12세 관람가</td>\n",
              "      <td>드라마</td>\n",
              "      <td>이한</td>\n",
              "      <td>정우성 김향기</td>\n",
              "      <td>“목격자가 있어. 자폐아야”  신념은 잠시 접어두고 현실을 위해 속물이 되기로 마음...</td>\n",
              "      <td>대한민국</td>\n",
              "      <td>129분</td>\n",
              "      <td>목격자 자폐 아야 신념 잠시 현실 위해 속물 민변 출신 대형 로펌 변호사 정우성 파...</td>\n",
              "    </tr>\n",
              "    <tr>\n",
              "      <th>3</th>\n",
              "      <td>3</td>\n",
              "      <td>청년경찰</td>\n",
              "      <td>https://movie-phinf.pstatic.net/20170814_131/1...</td>\n",
              "      <td>8.26</td>\n",
              "      <td>2017.08.09.</td>\n",
              "      <td>15세 관람가</td>\n",
              "      <td>액션</td>\n",
              "      <td>김주환</td>\n",
              "      <td>박서준 강하늘</td>\n",
              "      <td>의욕충만 경찰대생 기준(박서준) X 이론백단 경찰대생 희열(강하늘) 둘도 없는 친구...</td>\n",
              "      <td>대한민국</td>\n",
              "      <td>109분</td>\n",
              "      <td>의욕 충만 경찰대 기준 박서준 이론 경찰대 강하늘 친구 사람 외출 납치 사건 목격 ...</td>\n",
              "    </tr>\n",
              "    <tr>\n",
              "      <th>4</th>\n",
              "      <td>4</td>\n",
              "      <td>돈</td>\n",
              "      <td>https://movie-phinf.pstatic.net/20190306_280/1...</td>\n",
              "      <td>7.41</td>\n",
              "      <td>2019.03.20.</td>\n",
              "      <td>15세 관람가</td>\n",
              "      <td>액션</td>\n",
              "      <td>박누리</td>\n",
              "      <td>류준열 유지태 조우진</td>\n",
              "      <td>오직 부자가 되고 싶은 꿈을 품고 여의도 증권가에 입성한 신입 주식 브로커 조일현(...</td>\n",
              "      <td>대한민국</td>\n",
              "      <td>115분</td>\n",
              "      <td>오직 부자 여의도 증권 입성 신입 주식 브로커 조일현 류준열 수수료 해고 직전 처지...</td>\n",
              "    </tr>\n",
              "  </tbody>\n",
              "</table>\n",
              "</div>"
            ],
            "text/plain": [
              "   순위       제목  ...  상영시간                                           keywords\n",
              "0   0  너의 이름은.  ...  106분     도시 소년 타키 시골 소녀 미츠하 만난 사람 기적 사랑 이야기 이름 사람 사람 이름\n",
              "1   1     라라랜드  ...  127분  사람 도시 라라 랜드 재즈 피아니스트 세바스찬 라이언 슬링 배우 지망 미아 엠마 스...\n",
              "2   2       증인  ...  129분  목격자 자폐 아야 신념 잠시 현실 위해 속물 민변 출신 대형 로펌 변호사 정우성 파...\n",
              "3   3     청년경찰  ...  109분  의욕 충만 경찰대 기준 박서준 이론 경찰대 강하늘 친구 사람 외출 납치 사건 목격 ...\n",
              "4   4        돈  ...  115분  오직 부자 여의도 증권 입성 신입 주식 브로커 조일현 류준열 수수료 해고 직전 처지...\n",
              "\n",
              "[5 rows x 13 columns]"
            ]
          },
          "metadata": {
            "tags": []
          },
          "execution_count": 19
        }
      ]
    },
    {
      "cell_type": "code",
      "metadata": {
        "id": "2WzBfLNz7xR9",
        "colab_type": "code",
        "colab": {}
      },
      "source": [
        "# 순위(인덱스) 순으로 정렬 후, 0부터 시작하는 순위에 1씩 더한다.\n",
        "data = data.sort_index()\n",
        "data['순위'] += 1"
      ],
      "execution_count": 20,
      "outputs": []
    },
    {
      "cell_type": "code",
      "metadata": {
        "id": "zQeKZNRm7eqN",
        "colab_type": "code",
        "colab": {}
      },
      "source": [
        "# 제목이 같은 중복 데이터 삭제\n",
        "data = data.drop_duplicates(subset='제목')"
      ],
      "execution_count": 21,
      "outputs": []
    },
    {
      "cell_type": "code",
      "metadata": {
        "id": "3n004Qx7Lqcp",
        "colab_type": "code",
        "colab": {}
      },
      "source": [
        "# 인덱스 재설정\n",
        "data = data.reset_index(drop=True)"
      ],
      "execution_count": 22,
      "outputs": []
    },
    {
      "cell_type": "markdown",
      "metadata": {
        "id": "cpkYpo3ndhT9",
        "colab_type": "text"
      },
      "source": [
        "# 모델"
      ]
    },
    {
      "cell_type": "code",
      "metadata": {
        "id": "aE3htn4ECpar",
        "colab_type": "code",
        "colab": {}
      },
      "source": [
        "from sklearn.feature_extraction.text import TfidfVectorizer\n",
        "from sklearn.metrics.pairwise import cosine_similarity\n",
        "from sklearn.feature_extraction.text import CountVectorizer\n",
        "from ast import literal_eval"
      ],
      "execution_count": 23,
      "outputs": []
    },
    {
      "cell_type": "markdown",
      "metadata": {
        "id": "9vomLp6DE8Xg",
        "colab_type": "text"
      },
      "source": [
        "## CounterVectorizer - 장르, 감독, 주연, keywords를 고려"
      ]
    },
    {
      "cell_type": "code",
      "metadata": {
        "id": "DV2zW63C2_IG",
        "colab_type": "code",
        "colab": {}
      },
      "source": [
        "# '장르', '감독', '주연', 'keywords'를 하나로 벡터화\n",
        "mv = data['장르'] + ' ' +  data['감독'] + ' ' + data['주연'] + ' ' + data['keywords']\n",
        "\n",
        "vec = CountVectorizer(ngram_range=(1, 2))\n",
        "matrix = vec.fit_transform(mv)"
      ],
      "execution_count": 24,
      "outputs": []
    },
    {
      "cell_type": "code",
      "metadata": {
        "id": "w_RUOlCx8uys",
        "colab_type": "code",
        "colab": {
          "base_uri": "https://localhost:8080/",
          "height": 263
        },
        "outputId": "0806c773-9cf3-4261-fe43-fbe7ed8c0248"
      },
      "source": [
        "similarity = cosine_similarity(matrix, matrix)\n",
        "print(similarity)\n",
        "\n",
        "count_similar_index = np.argsort(-similarity)\n",
        "print(count_similar_index)"
      ],
      "execution_count": 25,
      "outputs": [
        {
          "output_type": "stream",
          "text": [
            "[[1.         0.18521695 0.02437756 ... 0.02321817 0.01703748 0.02864166]\n",
            " [0.18521695 1.         0.01196511 ... 0.02279212 0.01672484 0.02811608]\n",
            " [0.02437756 0.01196511 1.         ... 0.01499906 0.0110063  0.01850266]\n",
            " ...\n",
            " [0.02321817 0.02279212 0.01499906 ... 1.         0.0209657  0.03524537]\n",
            " [0.01703748 0.01672484 0.0110063  ... 0.0209657  1.         0.02586303]\n",
            " [0.02864166 0.02811608 0.01850266 ... 0.03524537 0.02586303 1.        ]]\n",
            "[[   0 5757 5464 ... 4045 6328 2605]\n",
            " [   1    0 8209 ... 6141 6096 5689]\n",
            " [   2  663 8242 ... 2025 6024 6294]\n",
            " ...\n",
            " [8974 1200 6037 ...  649 4354  557]\n",
            " [8975 8352 7934 ... 6701 6691 7201]\n",
            " [8976 1696 6308 ... 4368 4393  147]]\n"
          ],
          "name": "stdout"
        }
      ]
    },
    {
      "cell_type": "markdown",
      "metadata": {
        "id": "DFSLqF0DFKwY",
        "colab_type": "text"
      },
      "source": [
        "## TfidfVectorizer 사용 - 주연을 기준으로"
      ]
    },
    {
      "cell_type": "code",
      "metadata": {
        "id": "VwmEagxsC5LT",
        "colab_type": "code",
        "colab": {}
      },
      "source": [
        "tfidf_vec = TfidfVectorizer(ngram_range=(1, 2))\n",
        "tfidf_matrix = tfidf_vec.fit_transform(data['주연'])"
      ],
      "execution_count": 26,
      "outputs": []
    },
    {
      "cell_type": "code",
      "metadata": {
        "id": "5chUFYkUC93F",
        "colab_type": "code",
        "colab": {
          "base_uri": "https://localhost:8080/",
          "height": 263
        },
        "outputId": "d28887b5-da2e-41c2-e49d-3774cf81defb"
      },
      "source": [
        "actor_similarity = cosine_similarity(tfidf_matrix, tfidf_matrix)\n",
        "print(actor_similarity)\n",
        "\n",
        "tfidf_similar_index = np.argsort(-actor_similarity)\n",
        "print(tfidf_similar_index)"
      ],
      "execution_count": 27,
      "outputs": [
        {
          "output_type": "stream",
          "text": [
            "[[1. 0. 0. ... 0. 0. 0.]\n",
            " [0. 1. 0. ... 0. 0. 0.]\n",
            " [0. 0. 1. ... 0. 0. 0.]\n",
            " ...\n",
            " [0. 0. 0. ... 1. 0. 0.]\n",
            " [0. 0. 0. ... 0. 1. 0.]\n",
            " [0. 0. 0. ... 0. 0. 1.]]\n",
            "[[   0  414 5200 ... 3001 2995 8976]\n",
            " [   1 1782  859 ... 3004 2997 8976]\n",
            " [ 663    2  870 ... 3011 3005 8976]\n",
            " ...\n",
            " [8974 6747    0 ... 2994 2988 8976]\n",
            " [8975 7500 8218 ... 2994 2988 8976]\n",
            " [8976 8213 8787 ... 2994 2988 4488]]\n"
          ],
          "name": "stdout"
        }
      ]
    },
    {
      "cell_type": "markdown",
      "metadata": {
        "id": "O-D0R88QkUDH",
        "colab_type": "text"
      },
      "source": [
        "# 예측기"
      ]
    },
    {
      "cell_type": "code",
      "metadata": {
        "id": "z8VFCBx_Z1is",
        "colab_type": "code",
        "colab": {
          "base_uri": "https://localhost:8080/",
          "height": 281
        },
        "outputId": "93f63450-e2ab-47a6-c8e0-2aa8b7e81742"
      },
      "source": [
        "# '장르, 감독, 주연, keywords'를 벡터화한 CountVectorizer\n",
        "input_movie = input()\n",
        "\n",
        "movie_index = data[data['제목'] == input_movie].index.values\n",
        "print(movie_index)\n",
        "similar_movies = count_similar_index[movie_index, 0:10]\n",
        "print(similar_movies)\n",
        "\n",
        "similar_movies_index = similar_movies.reshape(-1)\n",
        "print(similar_movies_index)\n",
        "print(data.iloc[similar_movies_index, 1:4])"
      ],
      "execution_count": 28,
      "outputs": [
        {
          "output_type": "stream",
          "text": [
            "어바웃 타임\n",
            "[9]\n",
            "[[   9 4948   27 1388 3875 4628 1952 2051 5035 1741]]\n",
            "[   9 4948   27 1388 3875 4628 1952 2051 5035 1741]\n",
            "                 제목                                                포스터    평점\n",
            "9            어바웃 타임  https://movie-phinf.pstatic.net/20131115_243/1...  9.18\n",
            "4948  단지 키스, 맛있는 키스  https://movie-phinf.pstatic.net/20150225_132/1...  9.17\n",
            "27          러브 액츄얼리  https://movie-phinf.pstatic.net/20191202_278/1...  8.94\n",
            "1388   당신이 사랑하는 동안에  https://movie-phinf.pstatic.net/20161020_217/1...  8.47\n",
            "3875      왕대륙의 청춘로드  https://movie-phinf.pstatic.net/20171227_152/1...  7.93\n",
            "4628       인생은 새옹지마  https://movie-phinf.pstatic.net/20140529_151/1...  7.41\n",
            "1952        고스트 스토리  https://movie-phinf.pstatic.net/20171207_182/1...  7.54\n",
            "2051           음식남녀  https://movie-phinf.pstatic.net/20170518_96/14...  8.25\n",
            "5035            인형사  https://movie-phinf.pstatic.net/20111222_126/1...  6.32\n",
            "1741          스타더스트  https://movie-phinf.pstatic.net/20111222_283/1...  8.80\n"
          ],
          "name": "stdout"
        }
      ]
    },
    {
      "cell_type": "code",
      "metadata": {
        "id": "hV2ygSP3EAjH",
        "colab_type": "code",
        "colab": {
          "base_uri": "https://localhost:8080/",
          "height": 281
        },
        "outputId": "fa12ddbb-5521-4541-b8f2-ee49f59384f6"
      },
      "source": [
        "# '주연'으로 만든 TfidfVectorizer\n",
        "input_movie = input()\n",
        "\n",
        "movie_index = data[data['제목'] == input_movie].index.values\n",
        "print(movie_index)\n",
        "similar_movies = tfidf_similar_index[movie_index, 0:10]\n",
        "print(similar_movies)\n",
        "\n",
        "similar_movies_index = similar_movies.reshape(-1)\n",
        "print(similar_movies_index)\n",
        "print(data.iloc[similar_movies_index, 1:4])"
      ],
      "execution_count": 29,
      "outputs": [
        {
          "output_type": "stream",
          "text": [
            "어바웃 타임\n",
            "[9]\n",
            "[[   9  679 3311  917 2775 1731 1550   16  565  626]]\n",
            "[   9  679 3311  917 2775 1731 1550   16  565  626]\n",
            "                    제목                                                포스터    평점\n",
            "9               어바웃 타임  https://movie-phinf.pstatic.net/20131115_243/1...  9.18\n",
            "679                프랭크  https://movie-phinf.pstatic.net/20140915_194/1...  7.94\n",
            "3311       에브리띵 윌 비 파인  https://movie-phinf.pstatic.net/20151209_264/1...  6.15\n",
            "917                 서약  https://movie-phinf.pstatic.net/20120214_174/1...  8.22\n",
            "2775          나이트 플라이트  https://movie-phinf.pstatic.net/20111222_179/1...  7.21\n",
            "1731            디서비디언스  https://movie-phinf.pstatic.net/20180307_56/15...  7.55\n",
            "1550        시간 여행자의 아내  https://movie-phinf.pstatic.net/20170309_252/1...  8.28\n",
            "16                 노트북  https://movie-phinf.pstatic.net/20161021_141/1...  9.04\n",
            "565   레버넌트: 죽음에서 돌아온 자  https://movie-phinf.pstatic.net/20151229_126/1...  7.84\n",
            "626           굿모닝 에브리원  https://movie-phinf.pstatic.net/20111223_88/13...  8.28\n"
          ],
          "name": "stdout"
        }
      ]
    }
  ]
}