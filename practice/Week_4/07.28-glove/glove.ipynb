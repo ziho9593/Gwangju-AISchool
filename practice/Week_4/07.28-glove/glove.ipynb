{
  "nbformat": 4,
  "nbformat_minor": 0,
  "metadata": {
    "colab": {
      "name": "07.28-glove.ipynb",
      "provenance": [],
      "collapsed_sections": []
    },
    "kernelspec": {
      "name": "python3",
      "display_name": "Python 3"
    }
  },
  "cells": [
    {
      "cell_type": "code",
      "metadata": {
        "id": "GJmPoWZ3Aipm",
        "colab_type": "code",
        "colab": {
          "base_uri": "https://localhost:8080/",
          "height": 248
        },
        "outputId": "96b843e6-7bfc-4d3a-d745-01fa8a217542"
      },
      "source": [
        "!pip install glove_python # Visual Studio가 설치되어 있어야 함"
      ],
      "execution_count": 1,
      "outputs": [
        {
          "output_type": "stream",
          "text": [
            "Collecting glove_python\n",
            "\u001b[?25l  Downloading https://files.pythonhosted.org/packages/3e/79/7e7e548dd9dcb741935d031117f4bed133276c2a047aadad42f1552d1771/glove_python-0.1.0.tar.gz (263kB)\n",
            "\r\u001b[K     |█▎                              | 10kB 19.0MB/s eta 0:00:01\r\u001b[K     |██▌                             | 20kB 5.7MB/s eta 0:00:01\r\u001b[K     |███▊                            | 30kB 7.4MB/s eta 0:00:01\r\u001b[K     |█████                           | 40kB 7.0MB/s eta 0:00:01\r\u001b[K     |██████▎                         | 51kB 5.6MB/s eta 0:00:01\r\u001b[K     |███████▌                        | 61kB 6.1MB/s eta 0:00:01\r\u001b[K     |████████▊                       | 71kB 6.8MB/s eta 0:00:01\r\u001b[K     |██████████                      | 81kB 7.0MB/s eta 0:00:01\r\u001b[K     |███████████▏                    | 92kB 7.2MB/s eta 0:00:01\r\u001b[K     |████████████▌                   | 102kB 7.0MB/s eta 0:00:01\r\u001b[K     |█████████████▊                  | 112kB 7.0MB/s eta 0:00:01\r\u001b[K     |███████████████                 | 122kB 7.0MB/s eta 0:00:01\r\u001b[K     |████████████████▏               | 133kB 7.0MB/s eta 0:00:01\r\u001b[K     |█████████████████▍              | 143kB 7.0MB/s eta 0:00:01\r\u001b[K     |██████████████████▊             | 153kB 7.0MB/s eta 0:00:01\r\u001b[K     |████████████████████            | 163kB 7.0MB/s eta 0:00:01\r\u001b[K     |█████████████████████▏          | 174kB 7.0MB/s eta 0:00:01\r\u001b[K     |██████████████████████▍         | 184kB 7.0MB/s eta 0:00:01\r\u001b[K     |███████████████████████▋        | 194kB 7.0MB/s eta 0:00:01\r\u001b[K     |█████████████████████████       | 204kB 7.0MB/s eta 0:00:01\r\u001b[K     |██████████████████████████▏     | 215kB 7.0MB/s eta 0:00:01\r\u001b[K     |███████████████████████████▍    | 225kB 7.0MB/s eta 0:00:01\r\u001b[K     |████████████████████████████▋   | 235kB 7.0MB/s eta 0:00:01\r\u001b[K     |█████████████████████████████▉  | 245kB 7.0MB/s eta 0:00:01\r\u001b[K     |███████████████████████████████▏| 256kB 7.0MB/s eta 0:00:01\r\u001b[K     |████████████████████████████████| 266kB 7.0MB/s \n",
            "\u001b[?25hRequirement already satisfied: numpy in /usr/local/lib/python3.6/dist-packages (from glove_python) (1.18.5)\n",
            "Requirement already satisfied: scipy in /usr/local/lib/python3.6/dist-packages (from glove_python) (1.4.1)\n",
            "Building wheels for collected packages: glove-python\n",
            "  Building wheel for glove-python (setup.py) ... \u001b[?25l\u001b[?25hdone\n",
            "  Created wheel for glove-python: filename=glove_python-0.1.0-cp36-cp36m-linux_x86_64.whl size=702580 sha256=6c770132cbcceb940828cbdd1a351927b719a995693aac9034eaace29d30ab55\n",
            "  Stored in directory: /root/.cache/pip/wheels/88/4b/6d/10c0d2ad32c9d9d68beec9694a6f0b6e83ab1662a90a089a4b\n",
            "Successfully built glove-python\n",
            "Installing collected packages: glove-python\n",
            "Successfully installed glove-python-0.1.0\n"
          ],
          "name": "stdout"
        }
      ]
    },
    {
      "cell_type": "code",
      "metadata": {
        "id": "Z56Sxy3DEzNC",
        "colab_type": "code",
        "colab": {}
      },
      "source": [
        "import csv\n",
        "import re\n",
        "\n",
        "def open_csv():\n",
        "    # csv파일을 연다!\n",
        "    f = open('/content/drive/My Drive/Colab Notebooks/ai_school/data/IMDBDataset.csv', 'r', encoding='utf-8')\n",
        "    csvreader = csv.reader(f)\n",
        "    \n",
        "    doc_list = []\n",
        "\n",
        "    next(csvreader)\n",
        "    for f in csvreader:\n",
        "        line = re.compile(\"[^\\w]\").sub(' ', f[0].lower())\n",
        "        doc_list.append(line.split())\n",
        "\n",
        "    return doc_list\n",
        "\n",
        "doc_list = open_csv() "
      ],
      "execution_count": 2,
      "outputs": []
    },
    {
      "cell_type": "code",
      "metadata": {
        "id": "-deWWRxpE01s",
        "colab_type": "code",
        "colab": {}
      },
      "source": [
        "from glove import Corpus, Glove\n",
        "\n",
        "corpus = Corpus() \n",
        "# 주변에 등장한다, 같이 등장한다는 것의 기준을 5로 설정\n",
        "corpus.fit(doc_list, window=5) "
      ],
      "execution_count": 3,
      "outputs": []
    },
    {
      "cell_type": "code",
      "metadata": {
        "id": "RdINRTHpE20B",
        "colab_type": "code",
        "colab": {
          "base_uri": "https://localhost:8080/",
          "height": 386
        },
        "outputId": "e0d99ed5-61bf-4dc1-96d6-c64b9a86299a"
      },
      "source": [
        "# 경사 하강법을 사용하기 때문에 학습률을 설정, 아웃풋 벡터의 차원은 100 \n",
        "glove = Glove(no_components=100, learning_rate=0.05)\n",
        "# 훈련 횟수는 20번, 쓰레드 갯수는 4개, verbose는 설명 출력 여부\n",
        "glove.fit(corpus.matrix, epochs=20, no_threads=4, verbose=True)\n",
        "# 유사도 검색을 위해서 행렬의 index에 해당하는 정보를 입력한다.\n",
        "glove.add_dictionary(corpus.dictionary)\n",
        "\n",
        "# 이 과정에서 적절한 하이퍼 파라미터(no_components, epochs 등)의 설정이 중요"
      ],
      "execution_count": 4,
      "outputs": [
        {
          "output_type": "stream",
          "text": [
            "Performing 20 training epochs with 4 threads\n",
            "Epoch 0\n",
            "Epoch 1\n",
            "Epoch 2\n",
            "Epoch 3\n",
            "Epoch 4\n",
            "Epoch 5\n",
            "Epoch 6\n",
            "Epoch 7\n",
            "Epoch 8\n",
            "Epoch 9\n",
            "Epoch 10\n",
            "Epoch 11\n",
            "Epoch 12\n",
            "Epoch 13\n",
            "Epoch 14\n",
            "Epoch 15\n",
            "Epoch 16\n",
            "Epoch 17\n",
            "Epoch 18\n",
            "Epoch 19\n"
          ],
          "name": "stdout"
        }
      ]
    },
    {
      "cell_type": "code",
      "metadata": {
        "id": "vkgWMz6EE8tj",
        "colab_type": "code",
        "colab": {
          "base_uri": "https://localhost:8080/",
          "height": 54
        },
        "outputId": "52b0b795-dcaa-418b-e094-83f82c6d95bb"
      },
      "source": [
        "glove_result = glove.most_similar('dog')\n",
        "print(glove_result) "
      ],
      "execution_count": 5,
      "outputs": [
        {
          "output_type": "stream",
          "text": [
            "[('baby', 0.8002282944084975), ('horse', 0.7883195165490979), ('bite', 0.7738781027187327), ('kid', 0.7615886716162518)]\n"
          ],
          "name": "stdout"
        }
      ]
    },
    {
      "cell_type": "code",
      "metadata": {
        "id": "HhmUoHWzHVBd",
        "colab_type": "code",
        "colab": {
          "base_uri": "https://localhost:8080/",
          "height": 34
        },
        "outputId": "990972f4-2b60-407b-e23d-c2a855fe4df7"
      },
      "source": [
        "from tensorflow.keras.preprocessing.text import Tokenizer\n",
        "\n",
        "token = Tokenizer()\n",
        "text = \"Tensorflow tokenizer is good\"\n",
        "\n",
        "# 리스트 형태로 넣어주어야 제대로 토큰화가 된다. (아니면 한글자씩 짜름)\n",
        "# fit 한다는 것은, 단어들을 객체에 학습시킨다는 것이다. / fit 한 것을 토대로 추후에 sequence 를 생성한다.\n",
        "token.fit_on_texts([text]) \n",
        "# 단어 인덱스 출력 (단어 집합)\n",
        "print(token.word_index)"
      ],
      "execution_count": 6,
      "outputs": [
        {
          "output_type": "stream",
          "text": [
            "{'tensorflow': 1, 'tokenizer': 2, 'is': 3, 'good': 4}\n"
          ],
          "name": "stdout"
        }
      ]
    },
    {
      "cell_type": "code",
      "metadata": {
        "id": "_zkniqwjH9Gg",
        "colab_type": "code",
        "colab": {
          "base_uri": "https://localhost:8080/",
          "height": 34
        },
        "outputId": "8dabb91f-9d05-41b9-d2ea-44af4be1b213"
      },
      "source": [
        "# 단어 빈도 출력\n",
        "print(token.word_counts)"
      ],
      "execution_count": 7,
      "outputs": [
        {
          "output_type": "stream",
          "text": [
            "OrderedDict([('tensorflow', 1), ('tokenizer', 1), ('is', 1), ('good', 1)])\n"
          ],
          "name": "stdout"
        }
      ]
    },
    {
      "cell_type": "code",
      "metadata": {
        "id": "UyEJqmHgH-84",
        "colab_type": "code",
        "colab": {
          "base_uri": "https://localhost:8080/",
          "height": 34
        },
        "outputId": "3381611a-16b8-49a2-e771-577804b07c61"
      },
      "source": [
        "# 정수 인코딩\n",
        "text_2 = \"Tensorflow tokenizer is not good\"\n",
        "encoding = token.texts_to_sequences([text_2])\n",
        "print(encoding)"
      ],
      "execution_count": 8,
      "outputs": [
        {
          "output_type": "stream",
          "text": [
            "[[1, 2, 3, 4]]\n"
          ],
          "name": "stdout"
        }
      ]
    },
    {
      "cell_type": "code",
      "metadata": {
        "id": "paJvuAJWIIYV",
        "colab_type": "code",
        "colab": {
          "base_uri": "https://localhost:8080/",
          "height": 175
        },
        "outputId": "d4ab233a-b9ef-429b-e0a5-13ab956dba33"
      },
      "source": [
        "# 행렬화\n",
        "text_list = ['안녕하세요 감사해요 잘있어요 다시 만나요', '오늘도 기분 좋은 하루', '안녕하세요 오늘도']\n",
        "token.fit_on_texts(text_list)\n",
        "# mode : count 는 dtm 생성 / binary 는 존재 여부 / freq 는 빈도율 / tfidf 는 tfidf\n",
        "matrix = token.texts_to_matrix(text_list, mode='tfidf')\n",
        "print(matrix)"
      ],
      "execution_count": 9,
      "outputs": [
        {
          "output_type": "stream",
          "text": [
            "[[0.         0.84729786 0.         0.         0.         0.\n",
            "  0.         1.09861229 1.09861229 1.09861229 1.09861229 0.\n",
            "  0.         0.        ]\n",
            " [0.         0.         0.84729786 0.         0.         0.\n",
            "  0.         0.         0.         0.         0.         1.09861229\n",
            "  1.09861229 1.09861229]\n",
            " [0.         0.84729786 0.84729786 0.         0.         0.\n",
            "  0.         0.         0.         0.         0.         0.\n",
            "  0.         0.        ]]\n"
          ],
          "name": "stdout"
        }
      ]
    }
  ]
}