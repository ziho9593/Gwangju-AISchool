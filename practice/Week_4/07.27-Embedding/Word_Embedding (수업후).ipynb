{
 "cells": [
  {
   "cell_type": "code",
   "execution_count": 1,
   "metadata": {
    "colab": {},
    "colab_type": "code",
    "id": "c54PrYWKtm4V"
   },
   "outputs": [],
   "source": [
    "from gensim.models import Word2Vec, KeyedVectors\n",
    "import csv\n",
    "import re\n",
    "\n",
    "def open_csv():\n",
    "    # csv파일을 연다!\n",
    "    f = open('IMDBDataset.csv', 'r', encoding='utf-8')\n",
    "    csvreader = csv.reader(f)\n",
    "    \n",
    "    doc_list = []\n",
    "\n",
    "    next(csvreader)\n",
    "    for f in csvreader:\n",
    "        line = re.compile(\"[^\\w]\").sub(' ', f[0].lower())\n",
    "        doc_list.append(line.split())\n",
    "\n",
    "    return doc_list"
   ]
  },
  {
   "cell_type": "code",
   "execution_count": 2,
   "metadata": {
    "colab": {
     "base_uri": "https://localhost:8080/",
     "height": 55
    },
    "colab_type": "code",
    "id": "WENAgv5yI9uF",
    "outputId": "d5c63a76-10ac-4936-92fc-c148d4fbb695"
   },
   "outputs": [
    {
     "name": "stdout",
     "output_type": "stream",
     "text": [
      "[['one', 'of', 'the', 'other', 'reviewers', 'has', 'mentioned', 'that', 'after', 'watching', 'just', '1', 'oz', 'episode', 'you', 'll', 'be', 'hooked', 'they', 'are', 'right', 'as', 'this', 'is', 'exactly', 'what', 'happened', 'with', 'me', 'br', 'br', 'the', 'first', 'thing', 'that', 'struck', 'me', 'about', 'oz', 'was', 'its', 'brutality', 'and', 'unflinching', 'scenes', 'of', 'violence', 'which', 'set', 'in', 'right', 'from', 'the', 'word', 'go', 'trust', 'me', 'this', 'is', 'not', 'a', 'show', 'for', 'the', 'faint', 'hearted', 'or', 'timid', 'this', 'show', 'pulls', 'no', 'punches', 'with', 'regards', 'to', 'drugs', 'sex', 'or', 'violence', 'its', 'is', 'hardcore', 'in', 'the', 'classic', 'use', 'of', 'the', 'word', 'br', 'br', 'it', 'is', 'called', 'oz', 'as', 'that', 'is', 'the', 'nickname', 'given', 'to', 'the', 'oswald', 'maximum', 'security', 'state', 'penitentary', 'it', 'focuses', 'mainly', 'on', 'emerald', 'city', 'an', 'experimental', 'section', 'of', 'the', 'prison', 'where', 'all', 'the', 'cells', 'have', 'glass', 'fronts', 'and', 'face', 'inwards', 'so', 'privacy', 'is', 'not', 'high', 'on', 'the', 'agenda', 'em', 'city', 'is', 'home', 'to', 'many', 'aryans', 'muslims', 'gangstas', 'latinos', 'christians', 'italians', 'irish', 'and', 'more', 'so', 'scuffles', 'death', 'stares', 'dodgy', 'dealings', 'and', 'shady', 'agreements', 'are', 'never', 'far', 'away', 'br', 'br', 'i', 'would', 'say', 'the', 'main', 'appeal', 'of', 'the', 'show', 'is', 'due', 'to', 'the', 'fact', 'that', 'it', 'goes', 'where', 'other', 'shows', 'wouldn', 't', 'dare', 'forget', 'pretty', 'pictures', 'painted', 'for', 'mainstream', 'audiences', 'forget', 'charm', 'forget', 'romance', 'oz', 'doesn', 't', 'mess', 'around', 'the', 'first', 'episode', 'i', 'ever', 'saw', 'struck', 'me', 'as', 'so', 'nasty', 'it', 'was', 'surreal', 'i', 'couldn', 't', 'say', 'i', 'was', 'ready', 'for', 'it', 'but', 'as', 'i', 'watched', 'more', 'i', 'developed', 'a', 'taste', 'for', 'oz', 'and', 'got', 'accustomed', 'to', 'the', 'high', 'levels', 'of', 'graphic', 'violence', 'not', 'just', 'violence', 'but', 'injustice', 'crooked', 'guards', 'who', 'll', 'be', 'sold', 'out', 'for', 'a', 'nickel', 'inmates', 'who', 'll', 'kill', 'on', 'order', 'and', 'get', 'away', 'with', 'it', 'well', 'mannered', 'middle', 'class', 'inmates', 'being', 'turned', 'into', 'prison', 'bitches', 'due', 'to', 'their', 'lack', 'of', 'street', 'skills', 'or', 'prison', 'experience', 'watching', 'oz', 'you', 'may', 'become', 'comfortable', 'with', 'what', 'is', 'uncomfortable', 'viewing', 'thats', 'if', 'you', 'can', 'get', 'in', 'touch', 'with', 'your', 'darker', 'side'], ['a', 'wonderful', 'little', 'production', 'br', 'br', 'the', 'filming', 'technique', 'is', 'very', 'unassuming', 'very', 'old', 'time', 'bbc', 'fashion', 'and', 'gives', 'a', 'comforting', 'and', 'sometimes', 'discomforting', 'sense', 'of', 'realism', 'to', 'the', 'entire', 'piece', 'br', 'br', 'the', 'actors', 'are', 'extremely', 'well', 'chosen', 'michael', 'sheen', 'not', 'only', 'has', 'got', 'all', 'the', 'polari', 'but', 'he', 'has', 'all', 'the', 'voices', 'down', 'pat', 'too', 'you', 'can', 'truly', 'see', 'the', 'seamless', 'editing', 'guided', 'by', 'the', 'references', 'to', 'williams', 'diary', 'entries', 'not', 'only', 'is', 'it', 'well', 'worth', 'the', 'watching', 'but', 'it', 'is', 'a', 'terrificly', 'written', 'and', 'performed', 'piece', 'a', 'masterful', 'production', 'about', 'one', 'of', 'the', 'great', 'master', 's', 'of', 'comedy', 'and', 'his', 'life', 'br', 'br', 'the', 'realism', 'really', 'comes', 'home', 'with', 'the', 'little', 'things', 'the', 'fantasy', 'of', 'the', 'guard', 'which', 'rather', 'than', 'use', 'the', 'traditional', 'dream', 'techniques', 'remains', 'solid', 'then', 'disappears', 'it', 'plays', 'on', 'our', 'knowledge', 'and', 'our', 'senses', 'particularly', 'with', 'the', 'scenes', 'concerning', 'orton', 'and', 'halliwell', 'and', 'the', 'sets', 'particularly', 'of', 'their', 'flat', 'with', 'halliwell', 's', 'murals', 'decorating', 'every', 'surface', 'are', 'terribly', 'well', 'done'], ['i', 'thought', 'this', 'was', 'a', 'wonderful', 'way', 'to', 'spend', 'time', 'on', 'a', 'too', 'hot', 'summer', 'weekend', 'sitting', 'in', 'the', 'air', 'conditioned', 'theater', 'and', 'watching', 'a', 'light', 'hearted', 'comedy', 'the', 'plot', 'is', 'simplistic', 'but', 'the', 'dialogue', 'is', 'witty', 'and', 'the', 'characters', 'are', 'likable', 'even', 'the', 'well', 'bread', 'suspected', 'serial', 'killer', 'while', 'some', 'may', 'be', 'disappointed', 'when', 'they', 'realize', 'this', 'is', 'not', 'match', 'point', '2', 'risk', 'addiction', 'i', 'thought', 'it', 'was', 'proof', 'that', 'woody', 'allen', 'is', 'still', 'fully', 'in', 'control', 'of', 'the', 'style', 'many', 'of', 'us', 'have', 'grown', 'to', 'love', 'br', 'br', 'this', 'was', 'the', 'most', 'i', 'd', 'laughed', 'at', 'one', 'of', 'woody', 's', 'comedies', 'in', 'years', 'dare', 'i', 'say', 'a', 'decade', 'while', 'i', 've', 'never', 'been', 'impressed', 'with', 'scarlet', 'johanson', 'in', 'this', 'she', 'managed', 'to', 'tone', 'down', 'her', 'sexy', 'image', 'and', 'jumped', 'right', 'into', 'a', 'average', 'but', 'spirited', 'young', 'woman', 'br', 'br', 'this', 'may', 'not', 'be', 'the', 'crown', 'jewel', 'of', 'his', 'career', 'but', 'it', 'was', 'wittier', 'than', 'devil', 'wears', 'prada', 'and', 'more', 'interesting', 'than', 'superman', 'a', 'great', 'comedy', 'to', 'go', 'see', 'with', 'friends']]\n"
     ]
    }
   ],
   "source": [
    "doc_list = open_csv()\n",
    "print(doc_list[:3])"
   ]
  },
  {
   "cell_type": "code",
   "execution_count": 3,
   "metadata": {},
   "outputs": [],
   "source": [
    "model = Word2Vec(sentences=doc_list, size=100, window=3, min_count=3, workers=4, sg=0) "
   ]
  },
  {
   "cell_type": "markdown",
   "metadata": {
    "colab_type": "text",
    "id": "crcyOwd7JAgG"
   },
   "source": [
    "## Word2Vec 함수 인자에 대한 설명!\n",
    "\n",
    "- sentences : 문장들\n",
    "\n",
    "- size : 임베딩 벡터의 크기\n",
    "\n",
    "- window : 고려할 앞/뒤 단어의 갯수\n",
    "\n",
    "- min_count : 최소 단어 길이\n",
    "\n",
    "- workers : 사용할 프로세서의 수\n",
    "\n",
    "- sg : 0=cbow, 1=**skipgram**\n",
    "\n"
   ]
  },
  {
   "cell_type": "code",
   "execution_count": 4,
   "metadata": {
    "colab": {
     "base_uri": "https://localhost:8080/",
     "height": 89
    },
    "colab_type": "code",
    "id": "boWVR5AsEx2u",
    "outputId": "494d4534-8df0-4120-94b7-29e1ae8457b5"
   },
   "outputs": [
    {
     "name": "stdout",
     "output_type": "stream",
     "text": [
      "[('woman', 0.6497437953948975), ('person', 0.6268248558044434), ('guy', 0.6160913109779358), ('boy', 0.5670737028121948), ('kid', 0.5636774301528931), ('lady', 0.515761137008667), ('child', 0.49923941493034363), ('girl', 0.4952695369720459)]\n"
     ]
    }
   ],
   "source": [
    "model_result = model.wv.most_similar(positive=['man', 'man'], negative=['aa'], topn=8)\n",
    "print(model_result)"
   ]
  },
  {
   "cell_type": "code",
   "execution_count": 5,
   "metadata": {
    "colab": {},
    "colab_type": "code",
    "id": "ruxUqdfodutM"
   },
   "outputs": [],
   "source": [
    "#저장\n",
    "model.wv.save_word2vec_format('imdb_w2v') \n",
    "#불러오기\n",
    "imdb_model = KeyedVectors.load_word2vec_format(\"imdb_w2v\") "
   ]
  },
  {
   "cell_type": "markdown",
   "metadata": {
    "colab_type": "text",
    "id": "FpC0ZRPAefx5"
   },
   "source": [
    "## 네이버 영화 리뷰로 w2v 모델 만들기!\n",
    "\n",
    "- stopwords 제외 리스트를 만들어서, 조사는 제외한다.\n",
    "\n",
    "- ratings.txt 파일만 사용한다.\n"
   ]
  },
  {
   "cell_type": "code",
   "execution_count": 6,
   "metadata": {
    "colab": {
     "base_uri": "https://localhost:8080/",
     "height": 607
    },
    "colab_type": "code",
    "id": "Xr688eAExtZ1",
    "outputId": "74b0d9a2-4cec-4c0c-ffd1-274165498e54"
   },
   "outputs": [],
   "source": [
    "# !pip install konlpy"
   ]
  },
  {
   "cell_type": "code",
   "execution_count": 7,
   "metadata": {
    "colab": {
     "base_uri": "https://localhost:8080/",
     "height": 106
    },
    "colab_type": "code",
    "id": "UXAkYo9hwm3Y",
    "outputId": "6ef6c5a2-324b-4256-a403-d9b00395bd42"
   },
   "outputs": [
    {
     "name": "stdout",
     "output_type": "stream",
     "text": [
      "[['document'], ['어릴때보고', '지금다시봐도', '재밌어요ㅋㅋ'], ['디자인을', '배우는', '학생으로,', '외국디자이너와', '그들이', '일군', '전통을', '통해', '발전해가는', '문화산업이', '부러웠는데.', '사실', '우리나라에서도', '그', '어려운시절에', '끝까지', '열정을', '지킨', '노라노', '같은', '전통이있어', '저와', '같은', '사람들이', '꿈을', '꾸고', '이뤄나갈', '수', '있다는', '것에', '감사합니다.']]\n"
     ]
    }
   ],
   "source": [
    "# 주석처리한 부분은 konlpy를 이용해 토큰화하고, 스탑워드를 제거하는 경우입니다!\n",
    "from gensim.models import Word2Vec, KeyedVectors\n",
    "# from konlpy.tag import Kkma\n",
    "import csv\n",
    "import re\n",
    "\n",
    "def open_txt():\n",
    "    f = open('ratings.txt', 'r', encoding='utf-8')\n",
    "    \n",
    "    doc_list = []\n",
    "\n",
    "    # sw = ['을', '를', '이', '가']\n",
    "\n",
    "    for line in f:\n",
    "        stc_list = line.split('\\t')\n",
    "        # stc = Kkma().morphs(stc_list[1])\n",
    "        \n",
    "        # sw_removed = []\n",
    "\n",
    "        stc = stc_list[1].split()\n",
    "        # for i in stc:\n",
    "        #     if i not in sw:\n",
    "        #         sw_removed.append(i)\n",
    "\n",
    "        # doc_list.append(sw_removed)\n",
    "        doc_list.append(stc)\n",
    "\n",
    "\n",
    "    return doc_list\n",
    "\n",
    "doc_list = open_txt()\n",
    "print(doc_list[:3]) "
   ]
  },
  {
   "cell_type": "code",
   "execution_count": 8,
   "metadata": {},
   "outputs": [
    {
     "name": "stdout",
     "output_type": "stream",
     "text": [
      "[('주인공', 0.9235456585884094), ('여자', 0.9177006483078003), ('노래', 0.8559842705726624), ('하나하나', 0.8455582857131958), ('조연', 0.8420417308807373), ('연기하는', 0.8411284685134888), ('빼고', 0.8399964570999146), ('눈빛', 0.8302477598190308), ('대본', 0.8241952657699585), ('주연배우', 0.8225995302200317)]\n"
     ]
    }
   ],
   "source": [
    "model = Word2Vec(sentences=doc_list, size=50, window=4, min_count=3, workers=4, sg=1)\n",
    "model_result = model.wv.most_similar('남자')\n",
    "print(model_result) "
   ]
  }
 ],
 "metadata": {
  "accelerator": "GPU",
  "colab": {
   "collapsed_sections": [],
   "name": "Embedding.ipynb",
   "provenance": []
  },
  "kernelspec": {
   "display_name": "Python 3",
   "language": "python",
   "name": "python3"
  },
  "language_info": {
   "codemirror_mode": {
    "name": "ipython",
    "version": 3
   },
   "file_extension": ".py",
   "mimetype": "text/x-python",
   "name": "python",
   "nbconvert_exporter": "python",
   "pygments_lexer": "ipython3",
   "version": "3.7.6"
  }
 },
 "nbformat": 4,
 "nbformat_minor": 1
}
