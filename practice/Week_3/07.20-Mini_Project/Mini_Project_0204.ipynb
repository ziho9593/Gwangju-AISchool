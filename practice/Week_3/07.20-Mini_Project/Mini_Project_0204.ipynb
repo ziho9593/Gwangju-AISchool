{
 "cells": [
  {
   "cell_type": "markdown",
   "metadata": {},
   "source": [
    "### Mini Project #0204 : 판매 실적 "
   ]
  },
  {
   "cell_type": "markdown",
   "metadata": {},
   "source": [
    "1. “data_officesupplies csv” 데이터를 읽어옵니다\n",
    "2. Region 을 West, Central, East 로 구별하여 판매 수량 (Units) 를 다중박스플롯으로 출력합니다"
   ]
  },
  {
   "cell_type": "code",
   "execution_count": 1,
   "metadata": {},
   "outputs": [],
   "source": [
    "import pandas as pd\n",
    "import numpy as np\n",
    "import matplotlib.pyplot as plt\n",
    "%matplotlib inline"
   ]
  },
  {
   "cell_type": "code",
   "execution_count": 2,
   "metadata": {},
   "outputs": [],
   "source": [
    "df = pd.read_csv('data_officesupplies.csv')"
   ]
  },
  {
   "cell_type": "code",
   "execution_count": 3,
   "metadata": {},
   "outputs": [
    {
     "data": {
      "text/plain": [
       "(43, 6)"
      ]
     },
     "execution_count": 3,
     "metadata": {},
     "output_type": "execute_result"
    }
   ],
   "source": [
    "df.shape"
   ]
  },
  {
   "cell_type": "code",
   "execution_count": 4,
   "metadata": {},
   "outputs": [
    {
     "name": "stdout",
     "output_type": "stream",
     "text": [
      "<class 'pandas.core.frame.DataFrame'>\n",
      "RangeIndex: 43 entries, 0 to 42\n",
      "Data columns (total 6 columns):\n",
      " #   Column      Non-Null Count  Dtype  \n",
      "---  ------      --------------  -----  \n",
      " 0   OrderDate   43 non-null     object \n",
      " 1   Region      43 non-null     object \n",
      " 2   Rep         43 non-null     object \n",
      " 3   Item        43 non-null     object \n",
      " 4   Units       43 non-null     int64  \n",
      " 5   Unit Price  43 non-null     float64\n",
      "dtypes: float64(1), int64(1), object(4)\n",
      "memory usage: 2.1+ KB\n"
     ]
    }
   ],
   "source": [
    "df.info()"
   ]
  },
  {
   "cell_type": "code",
   "execution_count": 5,
   "metadata": {},
   "outputs": [],
   "source": [
    "west=df.loc[df.Region =='West','Units']\n",
    "central = df.loc[df.Region =='Central','Units']\n",
    "east = df.loc[df.Region =='East','Units']\n",
    "# west = df[df.Region == 'West'].Units.reset_index(drop=True) \n",
    "# east = df[df.Region == 'East'].Units.reset_index(drop=True) \n",
    "# central = df[df.Region == 'Central'].Units.reset_index(drop=True) "
   ]
  },
  {
   "cell_type": "code",
   "execution_count": 6,
   "metadata": {},
   "outputs": [
    {
     "data": {
      "image/png": "[encoded data removed]",
      "text/plain": [
       "<Figure size 432x288 with 1 Axes>"
      ]
     },
     "metadata": {
      "needs_background": "light"
     },
     "output_type": "display_data"
    }
   ],
   "source": [
    "plt.boxplot([west,central,east],False,labels = ['West','Central','East'])        \n",
    "plt.show()"
   ]
  },
  {
   "cell_type": "code",
   "execution_count": 7,
   "metadata": {},
   "outputs": [
    {
     "data": {
      "image/png": "[encoded data removed]",
      "text/plain": [
       "<Figure size 432x288 with 1 Axes>"
      ]
     },
     "metadata": {
      "needs_background": "light"
     },
     "output_type": "display_data"
    }
   ],
   "source": [
    "df2 = pd.DataFrame(data={'West':list(west)}) # 이 방법은 시리즈(배열)의 길이가 달라서 여러 개를 한 번에 표현하지 못한다.\n",
    "df2.plot.box()\n",
    "plt.show()"
   ]
  },
  {
   "cell_type": "code",
   "execution_count": 8,
   "metadata": {},
   "outputs": [
    {
     "data": {
      "text/plain": [
       "Region\n",
       "Central    24\n",
       "East       13\n",
       "West        6\n",
       "Name: Units, dtype: int64"
      ]
     },
     "execution_count": 8,
     "metadata": {},
     "output_type": "execute_result"
    }
   ],
   "source": [
    "# 또 다른 방법\n",
    "df.groupby('Region').Units.count() "
   ]
  },
  {
   "cell_type": "code",
   "execution_count": 9,
   "metadata": {},
   "outputs": [
    {
     "name": "stdout",
     "output_type": "stream",
     "text": [
      "      OrderDate   Region      Rep     Item  Units  Unit Price\n",
      "2   21-Jul-2014  Central   Morgan  Pen Set     55       12.49\n",
      "4    7-Aug-2014  Central  Matthew  Pen Set     42       23.95\n",
      "7    1-Sep-2014  Central    Smith     Desk      2      125.00\n",
      "8   10-Sep-2014  Central     Bill   Pencil      7        1.29\n",
      "11   5-Oct-2014  Central   Morgan   Binder     28        8.99\n",
      "14  31-Oct-2014  Central   Rachel   Pencil     14        1.29\n",
      "16  17-Nov-2014  Central     Alex   Binder     11        4.99\n",
      "17  25-Nov-2014  Central  Matthew  Pen Set     96        4.99\n",
      "18   4-Dec-2014  Central     Alex   Binder     94       19.99\n",
      "19  12-Dec-2014  Central    Smith   Pencil     67        1.29\n",
      "20  21-Dec-2014  Central   Rachel   Binder     28        4.99\n",
      "23  15-Jan-2015  Central     Bill   Binder     46        8.99\n",
      "24  23-Jan-2015  Central  Matthew   Binder     50       19.99\n",
      "25   1-Feb-2015  Central    Smith   Binder     87       15.00\n",
      "26   9-Feb-2015  Central     Alex   Pencil     36        4.99\n",
      "28  26-Feb-2015  Central     Bill      Pen     27       19.99\n",
      "31  24-Mar-2015  Central     Alex  Pen Set     50        4.99\n",
      "33  10-Apr-2015  Central   Rachel   Pencil     66        1.99\n",
      "34  18-Apr-2015  Central   Rachel   Pencil     75        1.99\n",
      "36   5-May-2015  Central     Alex   Pencil     90        4.99\n",
      "37  14-May-2015  Central     Bill   Pencil     53        1.29\n",
      "39  31-May-2015  Central     Bill   Binder     80        8.99\n",
      "41  17-Jun-2015  Central  Matthew     Desk      5      125.00\n",
      "42  25-Jun-2015  Central   Morgan   Pencil     90        4.99\n",
      "      OrderDate Region      Rep     Item  Units  Unit Price\n",
      "0    4-Jul-2014   East  Richard  Pen Set     62        4.99\n",
      "1   12-Jul-2014   East     Nick   Binder     29        1.99\n",
      "3   29-Jul-2014   East    Susan   Binder     81       19.99\n",
      "5   15-Aug-2014   East  Richard   Pencil     35        4.99\n",
      "9   18-Sep-2014   East  Richard  Pen Set     16       15.99\n",
      "13  22-Oct-2014   East  Richard      Pen     64        8.99\n",
      "15   8-Nov-2014   East    Susan      Pen     15       19.99\n",
      "21  29-Dec-2014   East    Susan  Pen Set     74       15.99\n",
      "22   6-Jan-2015   East  Richard   Pencil     95        1.99\n",
      "27  18-Feb-2015   East  Richard   Binder      4        4.99\n",
      "32   1-Apr-2015   East  Richard   Binder     60        4.99\n",
      "35  27-Apr-2015   East     Nick      Pen     96        4.99\n",
      "40   8-Jun-2015   East  Richard   Binder     60        8.99\n",
      "      OrderDate Region     Rep    Item  Units  Unit Price\n",
      "6   24-Aug-2014   West   James    Desk      3      275.00\n",
      "10  27-Sep-2014   West   James     Pen     76        1.99\n",
      "12  14-Oct-2014   West  Thomas  Binder     57       19.99\n",
      "29   7-Mar-2015   West   James  Binder      7       19.99\n",
      "30  15-Mar-2015   West   James  Pencil     56        2.99\n",
      "38  22-May-2015   West  Thomas  Pencil     32        1.99\n"
     ]
    }
   ],
   "source": [
    "my_groups = df.groupby('Region')\n",
    "\n",
    "for x in my_groups:\n",
    "#     print(x) \n",
    "#     print(type(x)) \n",
    "#     print(len(x)) \n",
    "#     print(x[0]) \n",
    "    print(x[1]) "
   ]
  },
  {
   "cell_type": "code",
   "execution_count": 10,
   "metadata": {},
   "outputs": [
    {
     "name": "stdout",
     "output_type": "stream",
     "text": [
      "      OrderDate   Region      Rep     Item  Units  Unit Price\n",
      "2   21-Jul-2014  Central   Morgan  Pen Set     55       12.49\n",
      "4    7-Aug-2014  Central  Matthew  Pen Set     42       23.95\n",
      "7    1-Sep-2014  Central    Smith     Desk      2      125.00\n",
      "8   10-Sep-2014  Central     Bill   Pencil      7        1.29\n",
      "11   5-Oct-2014  Central   Morgan   Binder     28        8.99\n",
      "14  31-Oct-2014  Central   Rachel   Pencil     14        1.29\n",
      "16  17-Nov-2014  Central     Alex   Binder     11        4.99\n",
      "17  25-Nov-2014  Central  Matthew  Pen Set     96        4.99\n",
      "18   4-Dec-2014  Central     Alex   Binder     94       19.99\n",
      "19  12-Dec-2014  Central    Smith   Pencil     67        1.29\n",
      "20  21-Dec-2014  Central   Rachel   Binder     28        4.99\n",
      "23  15-Jan-2015  Central     Bill   Binder     46        8.99\n",
      "24  23-Jan-2015  Central  Matthew   Binder     50       19.99\n",
      "25   1-Feb-2015  Central    Smith   Binder     87       15.00\n",
      "26   9-Feb-2015  Central     Alex   Pencil     36        4.99\n",
      "28  26-Feb-2015  Central     Bill      Pen     27       19.99\n",
      "31  24-Mar-2015  Central     Alex  Pen Set     50        4.99\n",
      "33  10-Apr-2015  Central   Rachel   Pencil     66        1.99\n",
      "34  18-Apr-2015  Central   Rachel   Pencil     75        1.99\n",
      "36   5-May-2015  Central     Alex   Pencil     90        4.99\n",
      "37  14-May-2015  Central     Bill   Pencil     53        1.29\n",
      "39  31-May-2015  Central     Bill   Binder     80        8.99\n",
      "41  17-Jun-2015  Central  Matthew     Desk      5      125.00\n",
      "42  25-Jun-2015  Central   Morgan   Pencil     90        4.99\n",
      "      OrderDate Region      Rep     Item  Units  Unit Price\n",
      "0    4-Jul-2014   East  Richard  Pen Set     62        4.99\n",
      "1   12-Jul-2014   East     Nick   Binder     29        1.99\n",
      "3   29-Jul-2014   East    Susan   Binder     81       19.99\n",
      "5   15-Aug-2014   East  Richard   Pencil     35        4.99\n",
      "9   18-Sep-2014   East  Richard  Pen Set     16       15.99\n",
      "13  22-Oct-2014   East  Richard      Pen     64        8.99\n",
      "15   8-Nov-2014   East    Susan      Pen     15       19.99\n",
      "21  29-Dec-2014   East    Susan  Pen Set     74       15.99\n",
      "22   6-Jan-2015   East  Richard   Pencil     95        1.99\n",
      "27  18-Feb-2015   East  Richard   Binder      4        4.99\n",
      "32   1-Apr-2015   East  Richard   Binder     60        4.99\n",
      "35  27-Apr-2015   East     Nick      Pen     96        4.99\n",
      "40   8-Jun-2015   East  Richard   Binder     60        8.99\n",
      "      OrderDate Region     Rep    Item  Units  Unit Price\n",
      "6   24-Aug-2014   West   James    Desk      3      275.00\n",
      "10  27-Sep-2014   West   James     Pen     76        1.99\n",
      "12  14-Oct-2014   West  Thomas  Binder     57       19.99\n",
      "29   7-Mar-2015   West   James  Binder      7       19.99\n",
      "30  15-Mar-2015   West   James  Pencil     56        2.99\n",
      "38  22-May-2015   West  Thomas  Pencil     32        1.99\n"
     ]
    }
   ],
   "source": [
    "for name, dfb in my_groups:\n",
    "    print(dfb) "
   ]
  },
  {
   "cell_type": "code",
   "execution_count": 11,
   "metadata": {},
   "outputs": [],
   "source": [
    "\n",
    "my_list =[]\n",
    "my_names =[]\n",
    "for name, dfb in my_groups:\n",
    "    my_names += [name]\n",
    "    my_list += [dfb.Units]"
   ]
  },
  {
   "cell_type": "code",
   "execution_count": 12,
   "metadata": {},
   "outputs": [
    {
     "data": {
      "image/png": "[encoded data removed]",
      "text/plain": [
       "<Figure size 432x288 with 1 Axes>"
      ]
     },
     "metadata": {
      "needs_background": "light"
     },
     "output_type": "display_data"
    }
   ],
   "source": [
    "plt.boxplot( my_list, False, labels =my_names)\n",
    "plt.show()"
   ]
  }
 ],
 "metadata": {
  "kernelspec": {
   "display_name": "Python 3",
   "language": "python",
   "name": "python3"
  },
  "language_info": {
   "codemirror_mode": {
    "name": "ipython",
    "version": 3
   },
   "file_extension": ".py",
   "mimetype": "text/x-python",
   "name": "python",
   "nbconvert_exporter": "python",
   "pygments_lexer": "ipython3",
   "version": "3.7.6"
  }
 },
 "nbformat": 4,
 "nbformat_minor": 2
}
