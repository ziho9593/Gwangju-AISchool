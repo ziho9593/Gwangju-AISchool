{
 "cells": [
  {
   "cell_type": "markdown",
   "metadata": {
    "colab_type": "text",
    "id": "jYoWZEevLiO3"
   },
   "source": [
    "# 광주 인공지능 사관학교\n",
    "- - -\n",
    "- 작성자 : 2반 한지호\n",
    "- 작성일 : 20.07.20 월\n",
    "- 4교시 자연어 처리 시간에 진행한 한국어 토큰화 연습\n",
    "- Konlpy 설정이 windows에서 오류가 발생해 Colab으로 작성"
   ]
  },
  {
   "cell_type": "code",
   "execution_count": 1,
   "metadata": {
    "colab": {
     "base_uri": "https://localhost:8080/",
     "height": 336
    },
    "colab_type": "code",
    "id": "1bYscAvBzFCM",
    "outputId": "f0bcc26c-9ad9-4dca-fa1c-4dd3094925e9"
   },
   "outputs": [
    {
     "name": "stdout",
     "output_type": "stream",
     "text": [
      "Requirement already satisfied: konlpy in /usr/local/lib/python3.6/dist-packages (0.5.2)\n",
      "Requirement already satisfied: colorama in /usr/local/lib/python3.6/dist-packages (from konlpy) (0.4.3)\n",
      "Requirement already satisfied: JPype1>=0.7.0 in /usr/local/lib/python3.6/dist-packages (from konlpy) (1.0.1)\n",
      "Requirement already satisfied: tweepy>=3.7.0 in /usr/local/lib/python3.6/dist-packages (from konlpy) (3.9.0)\n",
      "Requirement already satisfied: beautifulsoup4==4.6.0 in /usr/local/lib/python3.6/dist-packages (from konlpy) (4.6.0)\n",
      "Requirement already satisfied: numpy>=1.6 in /usr/local/lib/python3.6/dist-packages (from konlpy) (1.18.5)\n",
      "Requirement already satisfied: lxml>=4.1.0 in /usr/local/lib/python3.6/dist-packages (from konlpy) (4.2.6)\n",
      "Requirement already satisfied: typing-extensions; python_version < \"3.8\" in /usr/local/lib/python3.6/dist-packages (from JPype1>=0.7.0->konlpy) (3.7.4.2)\n",
      "Requirement already satisfied: requests[socks]>=2.11.1 in /usr/local/lib/python3.6/dist-packages (from tweepy>=3.7.0->konlpy) (2.23.0)\n",
      "Requirement already satisfied: six>=1.10.0 in /usr/local/lib/python3.6/dist-packages (from tweepy>=3.7.0->konlpy) (1.12.0)\n",
      "Requirement already satisfied: requests-oauthlib>=0.7.0 in /usr/local/lib/python3.6/dist-packages (from tweepy>=3.7.0->konlpy) (1.3.0)\n",
      "Requirement already satisfied: idna<3,>=2.5 in /usr/local/lib/python3.6/dist-packages (from requests[socks]>=2.11.1->tweepy>=3.7.0->konlpy) (2.10)\n",
      "Requirement already satisfied: certifi>=2017.4.17 in /usr/local/lib/python3.6/dist-packages (from requests[socks]>=2.11.1->tweepy>=3.7.0->konlpy) (2020.6.20)\n",
      "Requirement already satisfied: urllib3!=1.25.0,!=1.25.1,<1.26,>=1.21.1 in /usr/local/lib/python3.6/dist-packages (from requests[socks]>=2.11.1->tweepy>=3.7.0->konlpy) (1.24.3)\n",
      "Requirement already satisfied: chardet<4,>=3.0.2 in /usr/local/lib/python3.6/dist-packages (from requests[socks]>=2.11.1->tweepy>=3.7.0->konlpy) (3.0.4)\n",
      "Requirement already satisfied: PySocks!=1.5.7,>=1.5.6; extra == \"socks\" in /usr/local/lib/python3.6/dist-packages (from requests[socks]>=2.11.1->tweepy>=3.7.0->konlpy) (1.7.1)\n",
      "Requirement already satisfied: oauthlib>=3.0.0 in /usr/local/lib/python3.6/dist-packages (from requests-oauthlib>=0.7.0->tweepy>=3.7.0->konlpy) (3.1.0)\n"
     ]
    }
   ],
   "source": [
    "!pip install konlpy"
   ]
  },
  {
   "cell_type": "code",
   "execution_count": 2,
   "metadata": {
    "colab": {
     "base_uri": "https://localhost:8080/",
     "height": 34
    },
    "colab_type": "code",
    "id": "STY6N2u_zP0u",
    "outputId": "992b194f-6b66-4340-94f8-e9e377fc174c"
   },
   "outputs": [
    {
     "name": "stdout",
     "output_type": "stream",
     "text": [
      "['text']\n"
     ]
    }
   ],
   "source": [
    "from konlpy.tag import Okt # 토큰화를 위한 모듈\n",
    "\n",
    "print(Okt().morphs('text')) "
   ]
  },
  {
   "cell_type": "code",
   "execution_count": 3,
   "metadata": {
    "colab": {},
    "colab_type": "code",
    "id": "3gRlEoY6zbWm"
   },
   "outputs": [],
   "source": [
    "text = '''\n",
    "미련하게 아무도 모를것 같아\n",
    "태연한척 지내왔어 너 떠나버린뒤\n",
    "다 알았대 어설픈 나의 눈빛은\n",
    "행복했던 지난날의 나와 너무 달라서\n",
    "이별했음을 느낄수 밖에\n",
    "\n",
    "너와 나 정말 그때는 좋았었나봐\n",
    "나 화낼줄도 몰라 내내 즐거웠대\n",
    "\n",
    "그래 그랬었지 널 사랑하기에\n",
    "세상은 나에게 커다란 감동이었어\n",
    "그 순간을 잃는다면 내가 살아온 짧은 세월은\n",
    "너무나 보잘것없어\n",
    "되돌려 보려해 너를 찾으려해\n",
    "너 없이 살아도 멀쩡히 숨은 쉬겠지만\n",
    "후회와 그리움만으로는 견딜 수 없어\n",
    "하루도 자신이 없어\n",
    "\n",
    "초라했대 어설픈 나의 눈빛은\n",
    "행복했던 지난날의 나와 너무달라서\n",
    "이별 했음을 느낄 수 밖에\n",
    "\n",
    "너와 나 헤어 질 줄은 아무도 몰랐대\n",
    "하루가 너무 짧던 우리의 날들이\n",
    "\n",
    "그래 그랬었지 널 사랑하기에\n",
    "세상은 나에게 커다란 감동이었어\n",
    "그 순간을 잃는다면 내가 살아온\n",
    "짧은 세월을 너무나 보잘것 없어\n",
    "되돌려 보려해 너를 찾으려해\n",
    "너없이 살아도 멀쩡히 숨은 쉬겠지만\n",
    "후회와 그리움 만으로는 견딜 수 없어\n",
    "하루도 자신이 없어\n",
    "도저히\n",
    "'''"
   ]
  },
  {
   "cell_type": "code",
   "execution_count": 4,
   "metadata": {
    "colab": {
     "base_uri": "https://localhost:8080/",
     "height": 1000
    },
    "colab_type": "code",
    "id": "xntjeuGW0-Ut",
    "outputId": "b1cc9d48-1e35-4e76-aac7-10e1bc69cd05"
   },
   "outputs": [
    {
     "data": {
      "text/plain": [
       "['\\n',\n",
       " '미련',\n",
       " '하게',\n",
       " '아무',\n",
       " '도',\n",
       " '모를것',\n",
       " '같아',\n",
       " '\\n',\n",
       " '태연한',\n",
       " '척',\n",
       " '지내',\n",
       " '왔어',\n",
       " '너',\n",
       " '떠나',\n",
       " '버린',\n",
       " '뒤',\n",
       " '\\n',\n",
       " '다',\n",
       " '알았대',\n",
       " '어설픈',\n",
       " '나',\n",
       " '의',\n",
       " '눈빛',\n",
       " '은',\n",
       " '\\n',\n",
       " '행복했던',\n",
       " '지난날',\n",
       " '의',\n",
       " '나와',\n",
       " '너무',\n",
       " '달라',\n",
       " '서',\n",
       " '\\n',\n",
       " '이별',\n",
       " '했',\n",
       " '음',\n",
       " '을',\n",
       " '느낄수',\n",
       " '밖에',\n",
       " '\\n\\n',\n",
       " '너',\n",
       " '와',\n",
       " '나',\n",
       " '정말',\n",
       " '그때',\n",
       " '는',\n",
       " '좋았었나',\n",
       " '봐',\n",
       " '\\n',\n",
       " '나',\n",
       " '화',\n",
       " '낼줄도',\n",
       " '몰라',\n",
       " '내내',\n",
       " '즐거웠대',\n",
       " '\\n\\n',\n",
       " '그래',\n",
       " '그랬었지',\n",
       " '널',\n",
       " '사랑',\n",
       " '하기에',\n",
       " '\\n',\n",
       " '세상',\n",
       " '은',\n",
       " '나',\n",
       " '에게',\n",
       " '커다란',\n",
       " '감동',\n",
       " '이었어',\n",
       " '\\n',\n",
       " '그',\n",
       " '순간',\n",
       " '을',\n",
       " '잃는다면',\n",
       " '내',\n",
       " '가',\n",
       " '살아온',\n",
       " '짧은',\n",
       " '세월',\n",
       " '은',\n",
       " '\\n',\n",
       " '너무나',\n",
       " '보잘',\n",
       " '것',\n",
       " '없어',\n",
       " '\\n',\n",
       " '되돌려',\n",
       " '보려해',\n",
       " '너',\n",
       " '를',\n",
       " '찾으려',\n",
       " '해',\n",
       " '\\n',\n",
       " '너',\n",
       " '없이',\n",
       " '살아도',\n",
       " '멀쩡히',\n",
       " '숨은',\n",
       " '쉬겠지만',\n",
       " '\\n',\n",
       " '후회',\n",
       " '와',\n",
       " '그리움',\n",
       " '만으로는',\n",
       " '견딜',\n",
       " '수',\n",
       " '없어',\n",
       " '\\n',\n",
       " '하루',\n",
       " '도',\n",
       " '자신',\n",
       " '이',\n",
       " '없어',\n",
       " '\\n\\n',\n",
       " '초라했대',\n",
       " '어설픈',\n",
       " '나',\n",
       " '의',\n",
       " '눈빛',\n",
       " '은',\n",
       " '\\n',\n",
       " '행복했던',\n",
       " '지난날',\n",
       " '의',\n",
       " '나와',\n",
       " '너무',\n",
       " '달라',\n",
       " '서',\n",
       " '\\n',\n",
       " '이별',\n",
       " '했',\n",
       " '음',\n",
       " '을',\n",
       " '느낄',\n",
       " '수',\n",
       " '밖에',\n",
       " '\\n\\n',\n",
       " '너',\n",
       " '와',\n",
       " '나',\n",
       " '헤어',\n",
       " '질',\n",
       " '줄',\n",
       " '은',\n",
       " '아무',\n",
       " '도',\n",
       " '몰랐대',\n",
       " '\\n',\n",
       " '하루',\n",
       " '가',\n",
       " '너무',\n",
       " '짧던',\n",
       " '우리',\n",
       " '의',\n",
       " '날',\n",
       " '들',\n",
       " '이',\n",
       " '\\n\\n',\n",
       " '그래',\n",
       " '그랬었지',\n",
       " '널',\n",
       " '사랑',\n",
       " '하기에',\n",
       " '\\n',\n",
       " '세상',\n",
       " '은',\n",
       " '나',\n",
       " '에게',\n",
       " '커다란',\n",
       " '감동',\n",
       " '이었어',\n",
       " '\\n',\n",
       " '그',\n",
       " '순간',\n",
       " '을',\n",
       " '잃는다면',\n",
       " '내',\n",
       " '가',\n",
       " '살아온',\n",
       " '\\n',\n",
       " '짧은',\n",
       " '세월',\n",
       " '을',\n",
       " '너무나',\n",
       " '보잘',\n",
       " '것',\n",
       " '없어',\n",
       " '\\n',\n",
       " '되돌려',\n",
       " '보려해',\n",
       " '너',\n",
       " '를',\n",
       " '찾으려',\n",
       " '해',\n",
       " '\\n',\n",
       " '너',\n",
       " '없이',\n",
       " '살아도',\n",
       " '멀쩡히',\n",
       " '숨은',\n",
       " '쉬겠지만',\n",
       " '\\n',\n",
       " '후회',\n",
       " '와',\n",
       " '그리움',\n",
       " '만으로는',\n",
       " '견딜',\n",
       " '수',\n",
       " '없어',\n",
       " '\\n',\n",
       " '하루',\n",
       " '도',\n",
       " '자신',\n",
       " '이',\n",
       " '없어',\n",
       " '\\n',\n",
       " '도저히',\n",
       " '\\n']"
      ]
     },
     "execution_count": 4,
     "metadata": {
      "tags": []
     },
     "output_type": "execute_result"
    }
   ],
   "source": [
    "Okt().morphs(text)"
   ]
  },
  {
   "cell_type": "code",
   "execution_count": 5,
   "metadata": {
    "colab": {},
    "colab_type": "code",
    "id": "_TibjzcJ1Q3F"
   },
   "outputs": [],
   "source": [
    "from nltk.corpus import stopwords # 불용어를 처리하기 위한 모듈\n",
    "\n",
    "sw = ['\\n', '와', '이', '것', '가', '은', '을', '의']\n",
    "\n",
    "text_2 = []\n",
    "for word in text:\n",
    "    if word not in sw:\n",
    "        text_2.append(word)"
   ]
  },
  {
   "cell_type": "code",
   "execution_count": 6,
   "metadata": {
    "colab": {},
    "colab_type": "code",
    "id": "EVMS4pU42M2K"
   },
   "outputs": [],
   "source": [
    "from collections import Counter # 빈도수 딕셔너리를 만들기 위한 모듈\n",
    "\n",
    "count_list = Counter(text_2)  "
   ]
  },
  {
   "cell_type": "code",
   "execution_count": 7,
   "metadata": {
    "colab": {},
    "colab_type": "code",
    "id": "-ElMVYwJ0NYh"
   },
   "outputs": [],
   "source": [
    "from wordcloud import WordCloud\n",
    "import matplotlib.pyplot as plt "
   ]
  },
  {
   "cell_type": "code",
   "execution_count": 8,
   "metadata": {
    "colab": {
     "base_uri": "https://localhost:8080/",
     "height": 198
    },
    "colab_type": "code",
    "id": "mKZHfjxj0cn7",
    "outputId": "7f170c43-6018-457a-a6e4-96ceffaeb628"
   },
   "outputs": [
    {
     "data": {
      "image/png": "[encoded data removed]",
      "text/plain": [
       "<Figure size 432x288 with 1 Axes>"
      ]
     },
     "metadata": {
      "needs_background": "light",
      "tags": []
     },
     "output_type": "display_data"
    }
   ],
   "source": [
    "my_wc = WordCloud(font_path='BMDOHYEON_ttf.ttf') \n",
    "plt.imshow(my_wc.generate_from_frequencies(count_list)) \n",
    "plt.axis('off')\n",
    "plt.show()"
   ]
  }
 ],
 "metadata": {
  "colab": {
   "collapsed_sections": [],
   "name": "korean.ipynb",
   "provenance": []
  },
  "kernelspec": {
   "display_name": "Python 3",
   "language": "python",
   "name": "python3"
  },
  "language_info": {
   "codemirror_mode": {
    "name": "ipython",
    "version": 3
   },
   "file_extension": ".py",
   "mimetype": "text/x-python",
   "name": "python",
   "nbconvert_exporter": "python",
   "pygments_lexer": "ipython3",
   "version": "3.7.6"
  }
 },
 "nbformat": 4,
 "nbformat_minor": 1
}
