{
 "cells": [
  {
   "cell_type": "code",
   "execution_count": 1,
   "metadata": {
    "colab": {},
    "colab_type": "code",
    "id": "m_B-TcuF2G5X",
    "slideshow": {
     "slide_type": "skip"
    }
   },
   "outputs": [],
   "source": [
    "# !pip install mglearn\n",
    "import mglearn"
   ]
  },
  {
   "cell_type": "markdown",
   "metadata": {
    "colab_type": "text",
    "id": "gTZHDr3OogcO",
    "slideshow": {
     "slide_type": "slide"
    }
   },
   "source": [
    "# 지도학습 - 규제선형모델 (Ridge_Lasso_Regression)\n"
   ]
  },
  {
   "cell_type": "markdown",
   "metadata": {
    "colab_type": "text",
    "id": "GeEb2zESkWkI",
    "slideshow": {
     "slide_type": "slide"
    }
   },
   "source": [
    "Linear Regression의 문제\n",
    "\n",
    "- 단순 선형회귀 : 단 하나의 특성(feature)을 가지고 라벨값(label) 또는 타깃(target)을 예측하기 위한\n",
    "회귀 모델을 찾는 것\n",
    "- 다중 선형회귀 : 여러 개의 특성을 활용해서 회귀모델을 찾는 것\n",
    "\n",
    "\n"
   ]
  },
  {
   "cell_type": "markdown",
   "metadata": {
    "colab_type": "text",
    "id": "naenDMKWko1w",
    "slideshow": {
     "slide_type": "slide"
    }
   },
   "source": [
    "다중 선형 회귀 모델은 과대적합(overfitting) 될 때가 종종 발생\n",
    "\n",
    "주어진 샘플들의 특성값들과 라벨값의 관계를 필요이상으로 너무 자세하게 복잡하게 분석했다는 것\n",
    "- 새로운 데이터가 주어졌을 때 제대로 예측해내기가 어려움 (일반화 능력이 떨어짐)\n",
    "- Ridge / Lasso / Elastic Regression 등장"
   ]
  },
  {
   "cell_type": "markdown",
   "metadata": {
    "colab_type": "text",
    "id": "XggniyAHpb9n",
    "slideshow": {
     "slide_type": "slide"
    }
   },
   "source": [
    "정규화(Regularization, 규제)\n",
    "\n",
    "- 과대적합이 되지 않도록 모델을 강제로 제한하는 것을 의미.\n",
    "- 가중치(w)의 값을 조정하여 제약을 주는 것.\n",
    "\n",
    "- L1 규제 : Lasso\n",
    "  - <font  color=red>w의 모든 원소에 똑같은 힘으로 규제를 적용하는 방법. 특정 계수들은 0이 됨.      \n",
    "  - 특성선택(Feature Selection)이 자동으로 이루어진다.</font>\n",
    "\n",
    "- L2 규제 : Ridge\n",
    "  - <font  color=red>w의 모든 원소에 골고루 규제를 적용하여 0에 가깝게 만든다.</font>\n"
   ]
  },
  {
   "cell_type": "markdown",
   "metadata": {
    "colab_type": "text",
    "id": "zHeJUocP-DZR",
    "slideshow": {
     "slide_type": "slide"
    }
   },
   "source": [
    "## Ridge Regression"
   ]
  },
  {
   "cell_type": "markdown",
   "metadata": {
    "colab_type": "text",
    "id": "xm-rHLfBFiuz",
    "slideshow": {
     "slide_type": "slide"
    }
   },
   "source": [
    "평균제곱오차식에 alpha 항이 추가\n",
    "- alpha 값을 크게 하면 패널티 효과가 커지고(가중치 감소),\n",
    "- alpha 값을 작게 하면 그 반대가 된다."
   ]
  },
  {
   "cell_type": "markdown",
   "metadata": {
    "colab_type": "text",
    "id": "eSxLnLuiIMTI",
    "slideshow": {
     "slide_type": "slide"
    }
   },
   "source": [
    "Ridge()\n",
    "```\n",
    "Ridge(alpha, fit_intercept, normalize, copy_X, max_iter, tol, solver, random_state)\n",
    "```\n",
    "\n",
    "- alpha : 값이 클수록 강력한 정규화(규제) 설정하여 분산을 줄임, 양수로 설정\n",
    "- fit_intercept : 모형에 상수항 (절편)이 있는가 없는가를 결정하는 인수 (default : True)\n",
    "- normalize : 매개변수 무시 여부\n",
    "- copy_X : X의 복사 여부\n",
    "- max_iter : 계산에 사용할 작업 수\n",
    "- tol : 정밀도\n",
    "- solver : 계산에 사용할 알고리즘 (auto, svd, cholesky, lsqr, sparse_cg, sag, saga)\n",
    "- random_state : 난수 seed 설정\n"
   ]
  },
  {
   "cell_type": "markdown",
   "metadata": {
    "colab_type": "text",
    "id": "B750N3Vajl4k",
    "slideshow": {
     "slide_type": "slide"
    }
   },
   "source": [
    "#### Ridge_Lasso_Regression 실습 01\n",
    "\n",
    "확장 보스턴 집값 셋에 선형회귀 적용"
   ]
  },
  {
   "cell_type": "code",
   "execution_count": 2,
   "metadata": {},
   "outputs": [],
   "source": [
    "import numpy as np\n",
    "import matplotlib.pyplot as plt\n",
    "from sklearn.linear_model import LinearRegression, Ridge, Lasso, ElasticNet\n",
    "%matplotlib inline"
   ]
  },
  {
   "cell_type": "code",
   "execution_count": 3,
   "metadata": {
    "colab": {},
    "colab_type": "code",
    "id": "XZHI09W-jlXi",
    "slideshow": {
     "slide_type": "slide"
    }
   },
   "outputs": [],
   "source": [
    "# 확장 보스턴 집값\n",
    "from sklearn.model_selection import train_test_split\n",
    "import mglearn\n",
    "\n",
    "X, y = mglearn.datasets.load_extended_boston()\n",
    "X_train, X_test, y_train, y_test = train_test_split(X, y, random_state=0)\n",
    "mode_lr = LinearRegression().fit(X_train, y_train)"
   ]
  },
  {
   "cell_type": "code",
   "execution_count": 4,
   "metadata": {
    "colab": {
     "base_uri": "https://localhost:8080/",
     "height": 35
    },
    "colab_type": "code",
    "executionInfo": {
     "elapsed": 614,
     "status": "ok",
     "timestamp": 1595422475820,
     "user": {
      "displayName": "oz To",
      "photoUrl": "",
      "userId": "12937505880450462933"
     },
     "user_tz": -540
    },
    "id": "ryLkC1Vojyz-",
    "outputId": "16517f58-c9b3-41c1-becc-44ff2347519d",
    "slideshow": {
     "slide_type": "slide"
    }
   },
   "outputs": [
    {
     "data": {
      "text/plain": [
       "0.9520519609032729"
      ]
     },
     "execution_count": 4,
     "metadata": {},
     "output_type": "execute_result"
    }
   ],
   "source": [
    "# 훈련 세트 점수\n",
    "mode_lr.score(X_train, y_train)"
   ]
  },
  {
   "cell_type": "code",
   "execution_count": 5,
   "metadata": {
    "colab": {
     "base_uri": "https://localhost:8080/",
     "height": 35
    },
    "colab_type": "code",
    "executionInfo": {
     "elapsed": 449,
     "status": "ok",
     "timestamp": 1595422476068,
     "user": {
      "displayName": "oz To",
      "photoUrl": "",
      "userId": "12937505880450462933"
     },
     "user_tz": -540
    },
    "id": "Dok3l3PYjvO6",
    "outputId": "419c6f44-fb18-4205-d31a-007ac1f41bab",
    "slideshow": {
     "slide_type": "slide"
    }
   },
   "outputs": [
    {
     "data": {
      "text/plain": [
       "0.607472195966585"
      ]
     },
     "execution_count": 5,
     "metadata": {},
     "output_type": "execute_result"
    }
   ],
   "source": [
    "# 테스트 세트 점수\n",
    "mode_lr.score(X_test, y_test)"
   ]
  },
  {
   "cell_type": "markdown",
   "metadata": {
    "colab_type": "text",
    "id": "jgo3UgzhlDJs",
    "slideshow": {
     "slide_type": "slide"
    }
   },
   "source": [
    "- 훈련 셋에 비해 테스트 셋의 경우 정확도가 많이 떨어짐 -> 과대적합"
   ]
  },
  {
   "cell_type": "markdown",
   "metadata": {
    "colab_type": "text",
    "id": "aiDpGVLn1GOX",
    "slideshow": {
     "slide_type": "slide"
    }
   },
   "source": [
    "확장 보스턴 집값 셋에 릿지회귀 적용"
   ]
  },
  {
   "cell_type": "code",
   "execution_count": 6,
   "metadata": {
    "colab": {
     "base_uri": "https://localhost:8080/",
     "height": 52
    },
    "colab_type": "code",
    "executionInfo": {
     "elapsed": 670,
     "status": "ok",
     "timestamp": 1595422296120,
     "user": {
      "displayName": "oz To",
      "photoUrl": "",
      "userId": "12937505880450462933"
     },
     "user_tz": -540
    },
    "id": "6_tFVO-Bk65j",
    "outputId": "7aaacc78-2f96-43f8-f6a4-1bc11eb9582c",
    "slideshow": {
     "slide_type": "slide"
    }
   },
   "outputs": [
    {
     "name": "stdout",
     "output_type": "stream",
     "text": [
      "훈련 세트 점수: 0.89\n",
      "테스트 세트 점수: 0.75\n"
     ]
    }
   ],
   "source": [
    "# model_ridge\n",
    "model_ridge = Ridge().fit(X_train, y_train)\n",
    "\n",
    "print(\"훈련 세트 점수: {:.2f}\".format(model_ridge.score(X_train, y_train)))\n",
    "print(\"테스트 세트 점수: {:.2f}\".format(model_ridge.score(X_test, y_test)))"
   ]
  },
  {
   "cell_type": "code",
   "execution_count": 7,
   "metadata": {
    "colab": {
     "base_uri": "https://localhost:8080/",
     "height": 52
    },
    "colab_type": "code",
    "executionInfo": {
     "elapsed": 715,
     "status": "ok",
     "timestamp": 1595422373671,
     "user": {
      "displayName": "oz To",
      "photoUrl": "",
      "userId": "12937505880450462933"
     },
     "user_tz": -540
    },
    "id": "_rbTBK10lJTj",
    "outputId": "2a4768b2-70d4-46d1-deff-0d2a70178cbd",
    "slideshow": {
     "slide_type": "slide"
    }
   },
   "outputs": [
    {
     "name": "stdout",
     "output_type": "stream",
     "text": [
      "훈련 세트 점수: 0.79\n",
      "테스트 세트 점수: 0.64\n"
     ]
    }
   ],
   "source": [
    "# model_ridge_alpha_10\n",
    "model_ridge_alpha_10 = Ridge(alpha=10).fit(X_train, y_train)\n",
    "\n",
    "print(\"훈련 세트 점수: {:.2f}\".format(model_ridge_alpha_10.score(X_train, y_train)))\n",
    "print(\"테스트 세트 점수: {:.2f}\".format(model_ridge_alpha_10.score(X_test, y_test)))"
   ]
  },
  {
   "cell_type": "code",
   "execution_count": 8,
   "metadata": {
    "colab": {
     "base_uri": "https://localhost:8080/",
     "height": 52
    },
    "colab_type": "code",
    "executionInfo": {
     "elapsed": 411,
     "status": "ok",
     "timestamp": 1595422373905,
     "user": {
      "displayName": "oz To",
      "photoUrl": "",
      "userId": "12937505880450462933"
     },
     "user_tz": -540
    },
    "id": "c2P_hwP1j0Ok",
    "outputId": "f0438b61-31e3-44e5-a3ec-5ba9b6626875",
    "slideshow": {
     "slide_type": "slide"
    }
   },
   "outputs": [
    {
     "name": "stdout",
     "output_type": "stream",
     "text": [
      "훈련 세트 점수: 0.93\n",
      "테스트 세트 점수: 0.77\n"
     ]
    }
   ],
   "source": [
    "# model_ridge_alpha_01\n",
    "model_ridge_alpha_01 = Ridge(alpha=0.1).fit(X_train, y_train)\n",
    "\n",
    "print(\"훈련 세트 점수: {:.2f}\".format(model_ridge_alpha_01.score(X_train, y_train)))\n",
    "print(\"테스트 세트 점수: {:.2f}\".format(model_ridge_alpha_01.score(X_test, y_test)))"
   ]
  },
  {
   "cell_type": "code",
   "execution_count": 9,
   "metadata": {
    "colab": {
     "base_uri": "https://localhost:8080/",
     "height": 297
    },
    "colab_type": "code",
    "executionInfo": {
     "elapsed": 1003,
     "status": "ok",
     "timestamp": 1595422595010,
     "user": {
      "displayName": "oz To",
      "photoUrl": "",
      "userId": "12937505880450462933"
     },
     "user_tz": -540
    },
    "id": "BuPdim3e1Ij5",
    "outputId": "e4a04c7d-f8db-41e4-c106-8eca70b3902e",
    "slideshow": {
     "slide_type": "slide"
    }
   },
   "outputs": [
    {
     "data": {
      "text/plain": [
       "<matplotlib.legend.Legend at 0x207db256d08>"
      ]
     },
     "execution_count": 9,
     "metadata": {},
     "output_type": "execute_result"
    },
    {
     "data": {
      "image/png": "[encoded data removed]",
      "text/plain": [
       "<Figure size 432x288 with 1 Axes>"
      ]
     },
     "metadata": {
      "needs_background": "light"
     },
     "output_type": "display_data"
    }
   ],
   "source": [
    "# α 값의 변화에 따른 가중치 (coef_)의 변화\n",
    "plt.plot(model_ridge_alpha_01.coef_, '^', label='Ridge alpha=0.1')\n",
    "plt.plot(model_ridge_alpha_10.coef_, 'v', label='Ridge alpha=10')\n",
    "plt.plot(model_ridge.coef_, 's', label='Ridge alpha=1')\n",
    "plt.plot(mode_lr.coef_, 'o', label='LinearRegression')\n",
    "\n",
    "plt.hlines(0, 0, len(mode_lr.coef_))\n",
    "\n",
    "plt.xlabel(\"Coef list\") # 가중치(w) 목록\n",
    "plt.ylabel(\"Coef size\") # 가중치(w) 값\n",
    "\n",
    "plt.ylim(-25, 25)\n",
    "plt.legend()"
   ]
  },
  {
   "cell_type": "markdown",
   "metadata": {
    "colab_type": "text",
    "id": "5b_4GUNhmsTI",
    "slideshow": {
     "slide_type": "slide"
    }
   },
   "source": [
    "- x 축은 coef_의 원소를 위치대로 나열한 것 (x=0은 첫 번째 특성에 연관된 계수이고 x=1은 두 번째 특성에 연관된 계수로 x=100까지 계속)\n",
    "- y 축은 각 계수의 수치\n",
    "\n",
    "- alpha=10일 때 대부분의 계수는 -3과 3 사이에 위치\n",
    "- alpha=1일 때 Ridge 모델의 계수는 좀 더 증가\n",
    "- alpha=0.1일 때 계수는 더 커지며 아무런 규제가 없는(alpha=0) 선형 회귀의 계수는 값이 더 커져 그림 밖으로 넘어감."
   ]
  },
  {
   "cell_type": "markdown",
   "metadata": {
    "colab_type": "text",
    "id": "VMETHZ_bm9dv",
    "slideshow": {
     "slide_type": "slide"
    }
   },
   "source": [
    "## Lasso Regression"
   ]
  },
  {
   "cell_type": "markdown",
   "metadata": {
    "colab_type": "text",
    "id": "q7W0ttDOJhLJ",
    "slideshow": {
     "slide_type": "slide"
    }
   },
   "source": [
    "- 릿지 회귀의 단점을 해결하기 위해 대안으로 나온 방법\n",
    "학습한 가중치의 절대값을 규제항(L1 규제)으로 사용 – 가중치의 절대값의 합을 사용\n",
    "- 적당한 α만으로 몇몇 계수를 정확하게 0으로 만들 수 있음  해석을 용이하게 함\n",
    "- MSE와 규제항의 합이 최소가 되게 하는 파라미터 W와 b를 찾는 것이 Lasso의 목표\n",
    "- MSE항이 작아질 수록 오차가 작아지고, L1-norm이 작아질 수록 많은 가중치들이 0이 되거나 0에 가까워짐  데이터 전 처리에 주로 사용 (필요 없는 데이터 제거)\n",
    "- Ridge와 Lasso의 성능 차이는 사용하는 데이터의 상황에 따라 다름  유의미한 변수가 적을 때는 Lasso가 반대의 경우는 Ridge가 더 좋은 성능을 보임."
   ]
  },
  {
   "cell_type": "markdown",
   "metadata": {
    "colab_type": "text",
    "id": "x60tFa_hIwF3",
    "slideshow": {
     "slide_type": "slide"
    }
   },
   "source": [
    "Lasso()\n",
    "```\n",
    "Lasso(alpha, fit_intercept, normalize, precompute, copy_X, max_iter, tol, warm_start, positive, solver, random_state, selection)\n",
    "```\n",
    "- alpha : 값이 클수록 강력한 정규화(규제) 설정하여 분산을 줄임, 양수로 설정\n",
    "- fit_intercept : 모형에 상수항 (절편)이 있는가 없는가를 결정하는 인수 (default : True)\n",
    "- normalize : 매개변수 무시 여부\n",
    "- precompute : 계산속도를 높이기 위해 미리 계산된 그램 매트릭스를 사용할 것인지 여부\n",
    "- copy_X : X의 복사 여부\n",
    "- max_iter : 계산에 사용할 작업 수\n",
    "- tol : 정밀도\n",
    "- warm_start : 이전 모델을 초기화로 적합하게 사용할 것인지 여부\n",
    "- positive : 계수가 양수로 사용할 것인지 여부\n",
    "- solver : 계산에 사용할 알고리즘 (auto, svd, cholesky, lsqr, sparse_cg, sag, saga)\n",
    "- random_state : 난수 seed 설정\n",
    "- selection : 계수의 업데이트 방법 설정 (random으로 설정하면 tol이 1e-4보다 높을 때 빠른 수렴)"
   ]
  },
  {
   "cell_type": "code",
   "execution_count": 11,
   "metadata": {
    "colab": {
     "base_uri": "https://localhost:8080/",
     "height": 70
    },
    "colab_type": "code",
    "executionInfo": {
     "elapsed": 725,
     "status": "ok",
     "timestamp": 1595423129273,
     "user": {
      "displayName": "oz To",
      "photoUrl": "",
      "userId": "12937505880450462933"
     },
     "user_tz": -540
    },
    "id": "5UKOcWuwnpO9",
    "outputId": "be468277-448b-49f8-cc92-9905e282ccaa",
    "slideshow": {
     "slide_type": "slide"
    }
   },
   "outputs": [
    {
     "name": "stdout",
     "output_type": "stream",
     "text": [
      "훈련 세트 점수: 0.29\n",
      "테스트 세트 점수: 0.21\n",
      "사용한 특성의 수: 4\n"
     ]
    }
   ],
   "source": [
    "from sklearn.linear_model import Lasso\n",
    "\n",
    "# lasso\n",
    "model_lasso = Lasso().fit(X_train, y_train)\n",
    "\n",
    "print(\"훈련 세트 점수: {:.2f}\".format(model_lasso.score(X_train, y_train)))\n",
    "print(\"테스트 세트 점수: {:.2f}\".format(model_lasso.score(X_test, y_test)))\n",
    "print(\"사용한 특성의 수: {}\".format(   np.sum( model_lasso.coef_ != 0 )   ))"
   ]
  },
  {
   "cell_type": "code",
   "execution_count": 12,
   "metadata": {
    "colab": {
     "base_uri": "https://localhost:8080/",
     "height": 70
    },
    "colab_type": "code",
    "executionInfo": {
     "elapsed": 459,
     "status": "ok",
     "timestamp": 1595423129276,
     "user": {
      "displayName": "oz To",
      "photoUrl": "",
      "userId": "12937505880450462933"
     },
     "user_tz": -540
    },
    "id": "NLvanwS8nsar",
    "outputId": "2b88de80-8b81-4045-f9f7-4ebfb712096b",
    "slideshow": {
     "slide_type": "slide"
    }
   },
   "outputs": [
    {
     "name": "stdout",
     "output_type": "stream",
     "text": [
      "훈련 세트 점수: 0.90\n",
      "테스트 세트 점수: 0.77\n",
      "사용한 특성의 수: 33\n"
     ]
    }
   ],
   "source": [
    "# \"max_iter\" 기본값을 증가시키지 않으면 max_iter 값을 늘리라는 경고가 발생합니다.\n",
    "# lasso001\n",
    "model_lasso001 = Lasso(alpha=0.01, max_iter=10000).fit(X_train, y_train)\n",
    "\n",
    "print(\"훈련 세트 점수: {:.2f}\".format(model_lasso001.score(X_train, y_train)))\n",
    "print(\"테스트 세트 점수: {:.2f}\".format(model_lasso001.score(X_test, y_test)))\n",
    "print(\"사용한 특성의 수: {}\".format(   np.sum( model_lasso001.coef_ != 0 )   ))"
   ]
  },
  {
   "cell_type": "code",
   "execution_count": 13,
   "metadata": {
    "colab": {
     "base_uri": "https://localhost:8080/",
     "height": 70
    },
    "colab_type": "code",
    "executionInfo": {
     "elapsed": 2830,
     "status": "ok",
     "timestamp": 1595423131929,
     "user": {
      "displayName": "oz To",
      "photoUrl": "",
      "userId": "12937505880450462933"
     },
     "user_tz": -540
    },
    "id": "DCinK1qdnuX4",
    "outputId": "481c7790-a374-4023-ff31-03cce6e0f571",
    "slideshow": {
     "slide_type": "slide"
    }
   },
   "outputs": [
    {
     "name": "stdout",
     "output_type": "stream",
     "text": [
      "훈련 세트 점수: 0.95\n",
      "테스트 세트 점수: 0.64\n",
      "사용한 특성의 수: 96\n"
     ]
    }
   ],
   "source": [
    "# lasso00001\n",
    "model_lasso00001 = Lasso(alpha=0.0001, max_iter=100000).fit(X_train, y_train)\n",
    "\n",
    "print(\"훈련 세트 점수: {:.2f}\".format(model_lasso00001.score(X_train, y_train)))\n",
    "print(\"테스트 세트 점수: {:.2f}\".format(model_lasso00001.score(X_test, y_test)))\n",
    "print(\"사용한 특성의 수: {}\".format(   np.sum( model_lasso00001.coef_ != 0 )   ))"
   ]
  },
  {
   "cell_type": "code",
   "execution_count": 14,
   "metadata": {
    "colab": {
     "base_uri": "https://localhost:8080/",
     "height": 340
    },
    "colab_type": "code",
    "executionInfo": {
     "elapsed": 1244,
     "status": "ok",
     "timestamp": 1595423133190,
     "user": {
      "displayName": "oz To",
      "photoUrl": "",
      "userId": "12937505880450462933"
     },
     "user_tz": -540
    },
    "id": "wKIA7aP3nKhl",
    "outputId": "35315a72-bf02-4772-bfb0-3736dbe12505",
    "slideshow": {
     "slide_type": "slide"
    }
   },
   "outputs": [
    {
     "data": {
      "text/plain": [
       "<matplotlib.legend.Legend at 0x207da5c1a08>"
      ]
     },
     "execution_count": 14,
     "metadata": {},
     "output_type": "execute_result"
    },
    {
     "data": {
      "image/png": "[encoded data removed]",
      "text/plain": [
       "<Figure size 432x288 with 1 Axes>"
      ]
     },
     "metadata": {
      "needs_background": "light"
     },
     "output_type": "display_data"
    }
   ],
   "source": [
    "# α 값의 변화에 따른 가중치 (coef_)의 변화\n",
    "plt.plot(model_lasso00001.coef_, '^', label='Lasso alpha=0.0001')\n",
    "plt.plot(model_lasso001.coef_, 'v', label='Lasso alpha=0.01')\n",
    "plt.plot(model_lasso.coef_, 's', label='Lasso alpha=1')\n",
    "plt.plot(mode_lr.coef_, 'o', label='LinearRegression')\n",
    "\n",
    "plt.hlines(0, 0, len(mode_lr.coef_))\n",
    "\n",
    "plt.xlabel(\"Coef list\") # 가중치(w) 목록\n",
    "plt.ylabel(\"Coef size\") # 가중치(w) 값\n",
    "\n",
    "plt.ylim(-25, 25)\n",
    "plt.legend(ncol=2, loc=(0, 1.05))"
   ]
  },
  {
   "cell_type": "markdown",
   "metadata": {
    "colab_type": "text",
    "id": "baAgXBxpnO3X",
    "slideshow": {
     "slide_type": "slide"
    }
   },
   "source": [
    "- alpha=1일 때 가중치가 대부분 0\n",
    "- alpha=0.01이면 0이 되는 특성이 약간 감소\n",
    "- alpha=0.0001이면 규제가 약해져서 값도 커짐\n",
    "\n",
    "- alpha=0.1인 리지 회귀는 alpha=0.01인 라쏘 회귀와 성능이 비슷하지만 리지 회귀를 사용하면 어떤 계수도 0이 되지 않음.\n",
    "\n",
    "- 보통 리지 회귀를 주로 사용하지만 특성이 많고 그 중 일부분만 사용하고자 한다면 라쏘가 좋은 선택"
   ]
  },
  {
   "cell_type": "markdown",
   "metadata": {
    "colab_type": "text",
    "id": "0eXTUaIV94K9",
    "slideshow": {
     "slide_type": "slide"
    }
   },
   "source": [
    "#### 다항회귀"
   ]
  },
  {
   "cell_type": "code",
   "execution_count": 15,
   "metadata": {
    "colab": {
     "base_uri": "https://localhost:8080/"
    },
    "colab_type": "code",
    "executionInfo": {
     "elapsed": 664,
     "status": "ok",
     "timestamp": 1595427884061,
     "user": {
      "displayName": "oz To",
      "photoUrl": "",
      "userId": "12937505880450462933"
     },
     "user_tz": -540
    },
    "id": "yHOmjG5DxhDn",
    "outputId": "6c50b3e5-84cb-4432-8ee3-133ec1fde2d2",
    "slideshow": {
     "slide_type": "slide"
    }
   },
   "outputs": [
    {
     "data": {
      "text/plain": [
       "<matplotlib.collections.PathCollection at 0x207da630ac8>"
      ]
     },
     "execution_count": 15,
     "metadata": {},
     "output_type": "execute_result"
    },
    {
     "data": {
      "image/png": "[encoded data removed]",
      "text/plain": [
       "<Figure size 432x288 with 1 Axes>"
      ]
     },
     "metadata": {
      "needs_background": "light"
     },
     "output_type": "display_data"
    }
   ],
   "source": [
    "import numpy as np\n",
    "import matplotlib.pyplot as plt\n",
    "%matplotlib inline\n",
    "\n",
    "n = 100\n",
    "\n",
    "x = 6 * np.random.rand(n, 1) - 3\n",
    "y = 0.5 * x**2 + x + 2 + np.random.rand(n, 1)\n",
    "\n",
    "plt.scatter(x, y, s=5)"
   ]
  },
  {
   "cell_type": "code",
   "execution_count": 16,
   "metadata": {
    "colab": {
     "base_uri": "https://localhost:8080/"
    },
    "colab_type": "code",
    "executionInfo": {
     "elapsed": 764,
     "status": "ok",
     "timestamp": 1595428749111,
     "user": {
      "displayName": "oz To",
      "photoUrl": "",
      "userId": "12937505880450462933"
     },
     "user_tz": -540
    },
    "id": "SpYNOsFfyNL_",
    "outputId": "f558692e-6231-4cb9-c75a-0c44a6e3c0c4",
    "slideshow": {
     "slide_type": "slide"
    }
   },
   "outputs": [
    {
     "data": {
      "text/plain": [
       "((100, 1), (100, 2))"
      ]
     },
     "execution_count": 16,
     "metadata": {},
     "output_type": "execute_result"
    }
   ],
   "source": [
    "from sklearn.linear_model import LinearRegression\n",
    "from sklearn.preprocessing import PolynomialFeatures\n",
    "\n",
    "# 데이터 변환 과정과 머신러닝을 연결해주는 파이프라인\n",
    "from sklearn.pipeline import make_pipeline\n",
    "\n",
    "# poly_features\n",
    "poly_features = PolynomialFeatures(degree=2, include_bias=False)\n",
    "x_poly = poly_features.fit_transform(x)\n",
    "x.shape, x_poly.shape"
   ]
  },
  {
   "cell_type": "code",
   "execution_count": 17,
   "metadata": {},
   "outputs": [
    {
     "data": {
      "text/plain": [
       "(array([1.56127869]), array([1.56127869, 2.43759115]))"
      ]
     },
     "execution_count": 17,
     "metadata": {},
     "output_type": "execute_result"
    }
   ],
   "source": [
    "x[0], x_poly[0]"
   ]
  },
  {
   "cell_type": "code",
   "execution_count": 18,
   "metadata": {
    "colab": {
     "base_uri": "https://localhost:8080/"
    },
    "colab_type": "code",
    "executionInfo": {
     "elapsed": 412,
     "status": "ok",
     "timestamp": 1595428749114,
     "user": {
      "displayName": "oz To",
      "photoUrl": "",
      "userId": "12937505880450462933"
     },
     "user_tz": -540
    },
    "id": "dZvuiKsX9l0b",
    "outputId": "d924ea42-f7d0-4e47-c6d7-7a88554bd1d3",
    "slideshow": {
     "slide_type": "slide"
    }
   },
   "outputs": [
    {
     "data": {
      "text/plain": [
       "(array([[1.00568172, 0.4952673 ]]), array([2.48094753]))"
      ]
     },
     "execution_count": 18,
     "metadata": {},
     "output_type": "execute_result"
    }
   ],
   "source": [
    "# model.coef_, model.intercept_\n",
    "model = LinearRegression()\n",
    "model.fit(x_poly, y)\n",
    "model.coef_, model.intercept_"
   ]
  },
  {
   "cell_type": "code",
   "execution_count": 19,
   "metadata": {
    "colab": {
     "base_uri": "https://localhost:8080/"
    },
    "colab_type": "code",
    "executionInfo": {
     "elapsed": 668,
     "status": "ok",
     "timestamp": 1595428749927,
     "user": {
      "displayName": "oz To",
      "photoUrl": "",
      "userId": "12937505880450462933"
     },
     "user_tz": -540
    },
    "id": "YyCW-fT9yr-y",
    "outputId": "4c2989a3-42cb-4f23-fecd-e24af1466484",
    "slideshow": {
     "slide_type": "slide"
    }
   },
   "outputs": [
    {
     "name": "stdout",
     "output_type": "stream",
     "text": [
      "[[1.00568172 0.4952673 ]]\n"
     ]
    }
   ],
   "source": [
    "# make_pipeline\n",
    "model_lr = make_pipeline(poly_features, LinearRegression()).fit(x, y)\n",
    "print(model_lr.steps[1][1].coef_)"
   ]
  },
  {
   "cell_type": "code",
   "execution_count": 20,
   "metadata": {
    "colab": {
     "base_uri": "https://localhost:8080/"
    },
    "colab_type": "code",
    "executionInfo": {
     "elapsed": 656,
     "status": "ok",
     "timestamp": 1595428769681,
     "user": {
      "displayName": "oz To",
      "photoUrl": "",
      "userId": "12937505880450462933"
     },
     "user_tz": -540
    },
    "id": "gu2AjaFHzHbv",
    "outputId": "8aee31f7-a34a-4e1d-cd17-9099ac7e9e22",
    "slideshow": {
     "slide_type": "slide"
    }
   },
   "outputs": [
    {
     "data": {
      "image/png": "[encoded data removed]",
      "text/plain": [
       "<Figure size 432x288 with 1 Axes>"
      ]
     },
     "metadata": {
      "needs_background": "light"
     },
     "output_type": "display_data"
    }
   ],
   "source": [
    "# 다항회귀 그래프\n",
    "plt.scatter(x, y, s=5)\n",
    "# x_poly.shape\n",
    "# y.shape\n",
    "# x.shape\n",
    "xx = np.linspace(-3, 3, 1000)\n",
    "plt.plot(xx, model_lr.predict(xx[:, np.newaxis]))   # newaxis = None\n",
    "plt.show()"
   ]
  },
  {
   "cell_type": "markdown",
   "metadata": {
    "slideshow": {
     "slide_type": "slide"
    }
   },
   "source": [
    "#### PolynomialFeatures()\n",
    "```\n",
    "PolynomialFeatures(degree=2, *, interaction_only=False, include_bias=True)\n",
    "```\n",
    "\n",
    "- degree : 차수\n",
    "- interaction_only: True면 2차항에서 상호작용항만 출력\n",
    "- include_bias : 상수항 생성 여부\n",
    "\n",
    "\n",
    "다항 변환\n",
    "\n",
    "- 입력값  x 를 다항식으로 변환한다.\n",
    "\n",
    "> \\\\( x \\;\\; \\rightarrow \\;\\; [ 1, x, x^2, x^3, \\cdots ] \\\\) <br>\n",
    " \n",
    "> 만약 열의 갯수가 두 개이고 2차 다항식으로 변환하는 경우에는 다음처럼 변환한다.\n",
    "\n",
    "> \\\\( [x_1, x_2] \\;\\; \\rightarrow \\;\\; [ 1, x_1, x_2, x_1^2, x_2^2, x_1x_2 ] \\\\)\n",
    " "
   ]
  },
  {
   "cell_type": "code",
   "execution_count": 21,
   "metadata": {
    "slideshow": {
     "slide_type": "slide"
    }
   },
   "outputs": [
    {
     "data": {
      "text/plain": [
       "array([[0, 1],\n",
       "       [2, 3],\n",
       "       [4, 5]])"
      ]
     },
     "execution_count": 21,
     "metadata": {},
     "output_type": "execute_result"
    }
   ],
   "source": [
    "from sklearn.preprocessing import PolynomialFeatures\n",
    "X = np.arange(6).reshape(3, 2)\n",
    "X"
   ]
  },
  {
   "cell_type": "code",
   "execution_count": 22,
   "metadata": {
    "slideshow": {
     "slide_type": "slide"
    }
   },
   "outputs": [
    {
     "data": {
      "text/plain": [
       "array([[ 1.,  0.,  1.,  0.,  0.,  1.],\n",
       "       [ 1.,  2.,  3.,  4.,  6.,  9.],\n",
       "       [ 1.,  4.,  5., 16., 20., 25.]])"
      ]
     },
     "execution_count": 22,
     "metadata": {},
     "output_type": "execute_result"
    }
   ],
   "source": [
    "poly = PolynomialFeatures(2)\n",
    "poly.fit_transform(X)"
   ]
  },
  {
   "cell_type": "code",
   "execution_count": 23,
   "metadata": {
    "slideshow": {
     "slide_type": "slide"
    }
   },
   "outputs": [
    {
     "data": {
      "text/plain": [
       "array([[ 1.,  0.,  1.,  0.],\n",
       "       [ 1.,  2.,  3.,  6.],\n",
       "       [ 1.,  4.,  5., 20.]])"
      ]
     },
     "execution_count": 23,
     "metadata": {},
     "output_type": "execute_result"
    }
   ],
   "source": [
    "poly = PolynomialFeatures(interaction_only=True)\n",
    "poly.fit_transform(X)"
   ]
  }
 ],
 "metadata": {
  "celltoolbar": "Slideshow",
  "colab": {
   "authorship_tag": "ABX9TyNr9AaqvcofsC8ou6bfB58w",
   "collapsed_sections": [
    "xBawxC6-lGjf"
   ],
   "name": "ml_04_지도학습_Ridge_Lasso_Regression.ipynb",
   "provenance": []
  },
  "kernelspec": {
   "display_name": "Python 3",
   "language": "python",
   "name": "python3"
  },
  "language_info": {
   "codemirror_mode": {
    "name": "ipython",
    "version": 3
   },
   "file_extension": ".py",
   "mimetype": "text/x-python",
   "name": "python",
   "nbconvert_exporter": "python",
   "pygments_lexer": "ipython3",
   "version": "3.7.6"
  }
 },
 "nbformat": 4,
 "nbformat_minor": 1
}
