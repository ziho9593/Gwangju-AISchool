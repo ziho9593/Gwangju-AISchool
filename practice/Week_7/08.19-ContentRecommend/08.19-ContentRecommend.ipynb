{
  "nbformat": 4,
  "nbformat_minor": 0,
  "metadata": {
    "colab": {
      "name": "08.19-ContentRecommend.ipynb",
      "provenance": [],
      "collapsed_sections": []
    },
    "kernelspec": {
      "name": "python3",
      "display_name": "Python 3"
    }
  },
  "cells": [
    {
      "cell_type": "markdown",
      "metadata": {
        "id": "IcjaNwYhPtGQ",
        "colab_type": "text"
      },
      "source": [
        "tmdb_5000_movies.csv : https://www.kaggle.com/tmdb/tmdb-movie-metadata?select=tmdb_5000_movies.csv"
      ]
    },
    {
      "cell_type": "code",
      "metadata": {
        "id": "fvB5fjjEPreO",
        "colab_type": "code",
        "colab": {}
      },
      "source": [
        "import pandas as pd\n",
        "import numpy as np\n",
        "from ast import literal_eval"
      ],
      "execution_count": 1,
      "outputs": []
    },
    {
      "cell_type": "code",
      "metadata": {
        "id": "eGg8vGWjQD23",
        "colab_type": "code",
        "colab": {
          "base_uri": "https://localhost:8080/",
          "height": 283
        },
        "outputId": "85d21431-ee65-42cb-bcf3-53bb96115a79"
      },
      "source": [
        "pd.set_option('display.max_columns', 20)\n",
        "pd.set_option('display.width', 1000)\n",
        "\n",
        "movies = pd.read_csv('/content/drive/My Drive/Colab Notebooks/ai_school/data/tmdb_5000_movies.csv')\n",
        "movies = movies.loc[:, ['title', 'genres', 'keywords']]\n",
        "\n",
        "# 문자열로 되어있는 행을 인덱싱 할 수 있는 딕셔너리 형태로 변환\n",
        "movies['genres'] = movies['genres'].apply(literal_eval)\n",
        "movies['keywords'] = movies['keywords'].apply(literal_eval)\n",
        "\n",
        "# i = 0\n",
        "# for row in movies['genres']:\n",
        "#     genres = []\n",
        "#     for ele in row:\n",
        "#         genres.append(ele['name'])\n",
        "#     movies['genres'][i] = genres\n",
        "#     i += 1\n",
        "\n",
        "# 딕셔너리 형태를 깔끔하게 장르에 해당하는 부분만 뽑아서 문자열화\n",
        "# [{}, {}, {}, {}] -> [장르, 장르, 장르, 장르]\n",
        "movies['genres'] = movies['genres'].apply(lambda x : [y['name'] for y in x])\n",
        "movies['keywords'] = movies['keywords'].apply(lambda x : [y['name'] for y in x])\n",
        "\n",
        "# [장르, 장르, 장르, 장르] -> 장르 장르 장르 장르\n",
        "movies['genres'] = movies['genres'].apply(lambda x : ' '.join(x))\n",
        "movies['keywords'] = movies['keywords'].apply(lambda x : ' '.join(x))\n",
        "\n",
        "print(movies)"
      ],
      "execution_count": 2,
      "outputs": [
        {
          "output_type": "stream",
          "text": [
            "                                         title                                    genres                                           keywords\n",
            "0                                       Avatar  Action Adventure Fantasy Science Fiction  culture clash future space war space colony so...\n",
            "1     Pirates of the Caribbean: At World's End                  Adventure Fantasy Action  ocean drug abuse exotic island east india trad...\n",
            "2                                      Spectre                    Action Adventure Crime  spy based on novel secret agent sequel mi6 bri...\n",
            "3                        The Dark Knight Rises               Action Crime Drama Thriller  dc comics crime fighter terrorist secret ident...\n",
            "4                                  John Carter          Action Adventure Science Fiction  based on novel mars medallion space travel pri...\n",
            "...                                        ...                                       ...                                                ...\n",
            "4798                               El Mariachi                     Action Crime Thriller  united states–mexico barrier legs arms paper k...\n",
            "4799                                 Newlyweds                            Comedy Romance                                                   \n",
            "4800                 Signed, Sealed, Delivered             Comedy Drama Romance TV Movie  date love at first sight narration investigati...\n",
            "4801                          Shanghai Calling                                                                                             \n",
            "4802                         My Date with Drew                               Documentary               obsession camcorder crush dream girl\n",
            "\n",
            "[4803 rows x 3 columns]\n"
          ],
          "name": "stdout"
        }
      ]
    },
    {
      "cell_type": "markdown",
      "metadata": {
        "id": "yzZTo_kg4-Qk",
        "colab_type": "text"
      },
      "source": [
        "# TFIDF"
      ]
    },
    {
      "cell_type": "code",
      "metadata": {
        "id": "FLBKu-UYQQ7U",
        "colab_type": "code",
        "colab": {
          "base_uri": "https://localhost:8080/",
          "height": 72
        },
        "outputId": "dba585cb-6e43-4619-cad5-0301100f7b41"
      },
      "source": [
        "from sklearn.feature_extraction.text import TfidfVectorizer\n",
        "\n",
        "# ngram_range=(1, 2)는 단어를 1개 혹은 2개 연속으로 보겠다\n",
        "# -> 단어 두 개를 이어 놓은 것도 한 단어라고 판단\n",
        "# action adventure fantasy / adventure fantasy / adventure / fantasy\n",
        "tfidf_vec = TfidfVectorizer(ngram_range=(1, 2))\n",
        "tfidf_matrix = tfidf_vec.fit_transform(movies['genres'])\n",
        "print(tfidf_vec.vocabulary_.items())\n",
        "# 4803은 영화 갯수, 276은 tfidf 벡터가 가진 단어의 갯수 (장르의 종류)\n",
        "# 하나의 영화를 276개의 열을 가진 벡터로 표현\n",
        "print(tfidf_matrix.shape)"
      ],
      "execution_count": 3,
      "outputs": [
        {
          "output_type": "stream",
          "text": [
            "dict_items([('action', 0), ('adventure', 16), ('fantasy', 124), ('science', 232), ('fiction', 138), ('action adventure', 1), ('adventure fantasy', 24), ('fantasy science', 135), ('science fiction', 233), ('fantasy action', 125), ('crime', 64), ('adventure crime', 20), ('drama', 90), ('thriller', 234), ('action crime', 4), ('crime drama', 68), ('drama thriller', 106), ('adventure science', 29), ('animation', 33), ('family', 109), ('animation family', 38), ('fantasy family', 130), ('action science', 12), ('adventure action', 17), ('action thriller', 13), ('thriller crime', 238), ('western', 265), ('adventure western', 32), ('adventure family', 23), ('family fantasy', 115), ('fiction action', 139), ('action fantasy', 7), ('comedy', 44), ('action comedy', 3), ('comedy science', 59), ('adventure drama', 22), ('drama action', 91), ('romance', 214), ('drama romance', 104), ('romance thriller', 228), ('thriller action', 235), ('fiction thriller', 150), ('adventure thriller', 30), ('fantasy adventure', 126), ('family adventure', 111), ('adventure comedy', 19), ('thriller science', 247), ('family comedy', 113), ('horror', 170), ('action drama', 5), ('drama horror', 101), ('horror science', 180), ('action family', 6), ('action romance', 11), ('fiction adventure', 140), ('adventure animation', 18), ('animation adventure', 35), ('comedy family', 51), ('family action', 110), ('comedy crime', 48), ('crime thriller', 78), ('animation drama', 37), ('fiction fantasy', 146), ('animation comedy', 36), ('drama family', 97), ('fiction western', 152), ('crime fantasy', 70), ('fantasy comedy', 128), ('drama comedy', 94), ('comedy animation', 47), ('drama fantasy', 98), ('fantasy drama', 129), ('family romance', 120), ('fiction romance', 149), ('comedy adventure', 46), ('fantasy animation', 127), ('mystery', 200), ('family mystery', 119), ('mystery science', 210), ('family animation', 112), ('animation action', 34), ('drama science', 105), ('fiction mystery', 148), ('mystery adventure', 202), ('thriller mystery', 245), ('mystery romance', 209), ('comedy drama', 50), ('thriller adventure', 236), ('history', 158), ('war', 252), ('history romance', 166), ('romance war', 230), ('war history', 258), ('history action', 159), ('horror action', 171), ('comedy fantasy', 52), ('horror thriller', 181), ('drama war', 107), ('action animation', 2), ('action war', 14), ('action mystery', 10), ('drama mystery', 103), ('animation fantasy', 39), ('western drama', 271), ('drama adventure', 92), ('family western', 123), ('western adventure', 267), ('mystery thriller', 211), ('animation science', 42), ('fiction family', 145), ('comedy thriller', 60), ('animation mystery', 41), ('family science', 121), ('crime mystery', 75), ('fantasy horror', 131), ('adventure mystery', 27), ('action history', 8), ('history war', 168), ('thriller drama', 240), ('drama history', 100), ('war action', 253), ('crime comedy', 67), ('fiction drama', 144), ('adventure history', 25), ('music', 187), ('romance family', 221), ('animation music', 40), ('comedy romance', 58), ('history crime', 160), ('drama crime', 95), ('drama western', 108), ('drama animation', 93), ('thriller romance', 246), ('horror mystery', 178), ('romance fantasy', 222), ('family drama', 114), ('western history', 272), ('mystery drama', 204), ('thriller history', 242), ('comedy action', 45), ('thriller fantasy', 241), ('fantasy thriller', 136), ('romance science', 227), ('history thriller', 167), ('romance drama', 220), ('fantasy romance', 134), ('drama music', 102), ('horror comedy', 172), ('family music', 118), ('music animation', 189), ('crime science', 77), ('romance comedy', 218), ('fantasy mystery', 133), ('mystery family', 205), ('war drama', 257), ('western animation', 268), ('fiction war', 151), ('music romance', 197), ('documentary', 80), ('documentary family', 85), ('thriller horror', 243), ('comedy music', 56), ('crime romance', 76), ('war science', 262), ('thriller war', 248), ('fantasy music', 132), ('fantasy war', 137), ('action horror', 9), ('music family', 194), ('mystery action', 201), ('history drama', 162), ('crime action', 65), ('action western', 15), ('mystery western', 213), ('adventure war', 31), ('music documentary', 192), ('fiction horror', 147), ('fiction animation', 141), ('romance adventure', 216), ('adventure horror', 26), ('fiction comedy', 142), ('comedy western', 63), ('family thriller', 122), ('crime adventure', 66), ('crime family', 69), ('horror romance', 179), ('romance animation', 217), ('comedy horror', 55), ('horror fantasy', 176), ('adventure romance', 28), ('music drama', 193), ('mystery war', 212), ('romance western', 231), ('history western', 169), ('western thriller', 275), ('romance action', 215), ('romance horror', 225), ('history mystery', 165), ('comedy war', 62), ('crime history', 72), ('war adventure', 254), ('war romance', 261), ('western crime', 270), ('crime horror', 73), ('war crime', 256), ('music comedy', 190), ('romance history', 224), ('mystery fantasy', 206), ('romance crime', 219), ('family horror', 117), ('thriller music', 244), ('war music', 259), ('mystery crime', 203), ('comedy documentary', 49), ('documentary action', 81), ('horror drama', 175), ('music adventure', 188), ('western music', 273), ('romance music', 226), ('foreign', 153), ('drama foreign', 99), ('thriller western', 249), ('crime war', 79), ('mystery horror', 207), ('music crime', 191), ('history music', 164), ('war comedy', 255), ('western action', 266), ('horror crime', 173), ('history family', 163), ('thriller comedy', 237), ('documentary music', 88), ('crime music', 74), ('comedy mystery', 57), ('crime foreign', 71), ('romance foreign', 223), ('western romance', 274), ('mystery music', 208), ('foreign romance', 156), ('foreign history', 155), ('family foreign', 116), ('music science', 198), ('tv', 250), ('movie', 182), ('tv movie', 251), ('movie romance', 186), ('music mystery', 196), ('fiction crime', 143), ('war mystery', 260), ('comedy foreign', 53), ('documentary comedy', 82), ('war thriller', 263), ('movie crime', 184), ('music tv', 199), ('drama documentary', 96), ('comedy history', 54), ('romance tv', 229), ('war western', 264), ('movie horror', 185), ('movie action', 183), ('western comedy', 269), ('documentary drama', 84), ('animation war', 43), ('history documentary', 161), ('horror history', 177), ('thriller documentary', 239), ('documentary crime', 83), ('horror documentary', 174), ('documentary mystery', 89), ('adventure documentary', 21), ('documentary foreign', 86), ('music horror', 195), ('foreign documentary', 154), ('comedy tv', 61), ('documentary history', 87), ('foreign thriller', 157)])\n",
            "(4803, 276)\n"
          ],
          "name": "stdout"
        }
      ]
    },
    {
      "cell_type": "code",
      "metadata": {
        "id": "HxM6kqOnTslA",
        "colab_type": "code",
        "colab": {
          "base_uri": "https://localhost:8080/",
          "height": 263
        },
        "outputId": "b779233f-5f98-4d57-93a0-ea17ba8eb008"
      },
      "source": [
        "# 유사도 행렬 (4803, 4803, 모든 영화들마다 다른 영화의 유사도가 하나의 행 안에 다 들어있음)\n",
        "# 1, 1 (1번째 영화와 1번째 영화의 코사인 유사도)\n",
        "# 1, 1 / 1, 2 / ... / 1, 4803 -> 1번째 영화와 1~4803번재 영화의 유사도\n",
        "# 2, 1 / 2. 2 / ... / 2, 4803 -> 2번째 영화와 1~4803번째 영화의 유사도\n",
        "# ...\n",
        "# 4803, 1 / 4803, 2 / ... / 4803, 4803 -> 4803번째 영화와 1~4803번째 영화의 유사도\n",
        "from sklearn.metrics.pairwise import cosine_similarity\n",
        "\n",
        "# 4803개의 영화와 4803개의 영화간의 유사도를 구한다.\n",
        "# 자기 자신과의 유사도는 무조건 1\n",
        "genres_similarity = cosine_similarity(tfidf_matrix, tfidf_matrix)\n",
        "print(genres_similarity)\n",
        "\n",
        "# 유사도 값이 높은 영화의 제목\n",
        "# 유사도 값이 높은 것부터 내림 차순으로 인덱스 값을 리턴 (유사도 값 자체가 아니라 유사도가 높은 영화가 뭔지 궁금하기 때문)\n",
        "# n번째 행 : n번째 영화와 유사도가 높은 영화들의 인덱스가 유사도의 내림차순으로 정렬\n",
        "similar_index = np.argsort(-genres_similarity) # -를 붙여서 내림차순으로 정렬\n",
        "print(similar_index) # 1번째 행의 경우, 329가 앞에 나오는 이유는 장르가 같아 값이 동일하게 1이기 때문"
      ],
      "execution_count": 4,
      "outputs": [
        {
          "output_type": "stream",
          "text": [
            "[[1.         0.49309367 0.29270708 ... 0.         0.         0.        ]\n",
            " [0.49309367 1.         0.17786505 ... 0.         0.         0.        ]\n",
            " [0.29270708 0.17786505 1.         ... 0.         0.         0.        ]\n",
            " ...\n",
            " [0.         0.         0.         ... 1.         0.         0.        ]\n",
            " [0.         0.         0.         ... 0.         0.         0.        ]\n",
            " [0.         0.         0.         ... 0.         0.         1.        ]]\n",
            "[[   0  870 3494 ... 2355 2397 4802]\n",
            " [ 329  379  199 ... 2323 2325 4802]\n",
            " [1740    2 1542 ... 2359 2344 4802]\n",
            " ...\n",
            " [4800 3809 3285 ... 2085 2142 4802]\n",
            " [   0 3205 3204 ... 1596 1594 4802]\n",
            " [4802 4593 4583 ... 1597 1595 2401]]\n"
          ],
          "name": "stdout"
        }
      ]
    },
    {
      "cell_type": "markdown",
      "metadata": {
        "id": "qN6ifEl85m_F",
        "colab_type": "text"
      },
      "source": [
        "# Count (빈도 수)"
      ]
    },
    {
      "cell_type": "code",
      "metadata": {
        "id": "EWC1MlpsY37D",
        "colab_type": "code",
        "colab": {
          "base_uri": "https://localhost:8080/",
          "height": 914
        },
        "outputId": "cd5a439e-1dc3-4cdf-9a68-dfdd0b6a8fe7"
      },
      "source": [
        "from sklearn.feature_extraction.text import CountVectorizer\n",
        "count_vec = CountVectorizer(ngram_range=(1, 2))\n",
        "count_matrix = count_vec.fit_transform(movies['keywords'])\n",
        "print(count_matrix)"
      ],
      "execution_count": 5,
      "outputs": [
        {
          "output_type": "stream",
          "text": [
            "  (0, 9037)\t1\n",
            "  (0, 7010)\t1\n",
            "  (0, 15032)\t1\n",
            "  (0, 34485)\t4\n",
            "  (0, 40021)\t2\n",
            "  (0, 7433)\t1\n",
            "  (0, 34214)\t1\n",
            "  (0, 38236)\t1\n",
            "  (0, 15087)\t1\n",
            "  (0, 31412)\t1\n",
            "  (0, 1077)\t2\n",
            "  (0, 38408)\t1\n",
            "  (0, 27732)\t1\n",
            "  (0, 6161)\t1\n",
            "  (0, 22347)\t1\n",
            "  (0, 34275)\t1\n",
            "  (0, 3232)\t1\n",
            "  (0, 21496)\t1\n",
            "  (0, 548)\t1\n",
            "  (0, 1760)\t1\n",
            "  (0, 28328)\t1\n",
            "  (0, 30072)\t1\n",
            "  (0, 23178)\t1\n",
            "  (0, 1426)\t1\n",
            "  (0, 34431)\t1\n",
            "  :\t:\n",
            "  (4800, 41064)\t1\n",
            "  (4800, 19078)\t1\n",
            "  (4800, 9324)\t1\n",
            "  (4800, 2428)\t1\n",
            "  (4800, 24745)\t1\n",
            "  (4800, 33595)\t1\n",
            "  (4800, 21508)\t1\n",
            "  (4800, 2430)\t1\n",
            "  (4800, 14012)\t1\n",
            "  (4800, 9332)\t1\n",
            "  (4800, 28293)\t1\n",
            "  (4800, 33602)\t1\n",
            "  (4800, 24753)\t1\n",
            "  (4800, 19119)\t1\n",
            "  (4800, 36763)\t1\n",
            "  (4800, 28294)\t1\n",
            "  (4802, 8952)\t1\n",
            "  (4802, 25700)\t1\n",
            "  (4802, 11046)\t1\n",
            "  (4802, 15654)\t1\n",
            "  (4802, 5338)\t1\n",
            "  (4802, 11062)\t1\n",
            "  (4802, 25707)\t1\n",
            "  (4802, 5341)\t1\n",
            "  (4802, 8956)\t1\n"
          ],
          "name": "stdout"
        }
      ]
    },
    {
      "cell_type": "code",
      "metadata": {
        "id": "q7ZgDADw502w",
        "colab_type": "code",
        "colab": {
          "base_uri": "https://localhost:8080/",
          "height": 263
        },
        "outputId": "4565890f-0dba-4261-af4c-c16e32d88b5d"
      },
      "source": [
        "# 유사도 행렬 (4803, 4803)\n",
        "# 1, 1 (1번째 영화와 1번째 영화의 유사도)\n",
        "# 1, 1 / 1, 2 / .... / 1, 4803\n",
        "# 2, 1 / 2, 2 / .... / 2, 4803\n",
        "# .....\n",
        "# 4803, 1 / 4803, 2 / .... / 4803, 4803\n",
        "from sklearn.metrics.pairwise import cosine_similarity\n",
        "\n",
        "# 4803개의 영화랑 4803개의 영화끼리 유사도를 구하겠다!\n",
        "genres_similarity = cosine_similarity(count_matrix, count_matrix)\n",
        "print(genres_similarity)\n",
        "\n",
        "# 유사도가 높은 영화를 알고 싶다!\n",
        "# 유사도 값이 높은 것의 인덱스를 내림차순으로 출력/리턴\n",
        "similar_index = np.argsort(-genres_similarity)\n",
        "print(similar_index)"
      ],
      "execution_count": 6,
      "outputs": [
        {
          "output_type": "stream",
          "text": [
            "[[1.         0.01628008 0.         ... 0.02614435 0.         0.        ]\n",
            " [0.01628008 1.         0.         ... 0.03277368 0.         0.        ]\n",
            " [0.         0.         1.         ... 0.         0.         0.        ]\n",
            " ...\n",
            " [0.02614435 0.03277368 0.         ... 1.         0.         0.        ]\n",
            " [0.         0.         0.         ... 0.         0.         0.        ]\n",
            " [0.         0.         0.         ... 0.         0.         1.        ]]\n",
            "[[   0 2403  278 ... 1996 1961 4802]\n",
            " [   1   12 2875 ... 1984 1971 4802]\n",
            " [   2   11  147 ... 1915 1880 4802]\n",
            " ...\n",
            " [4800 2674 2108 ... 1688 1697 4802]\n",
            " [   0 3205 3204 ... 1596 1594 4802]\n",
            " [4802 2000 4774 ... 1619 1635 2401]]\n"
          ],
          "name": "stdout"
        }
      ]
    },
    {
      "cell_type": "code",
      "metadata": {
        "id": "sRTJsR7CVlfi",
        "colab_type": "code",
        "colab": {
          "base_uri": "https://localhost:8080/",
          "height": 301
        },
        "outputId": "526e8ba8-8d32-46f5-8f2a-aa96dc5ef83e"
      },
      "source": [
        "# 사용자가 입력한 영화의 인덱스 값을 찾아내고\n",
        "# similar index 에 기록된 유사한 영화 인덱스를 찾아내고\n",
        "# 유사한 영화 인덱스를 토대로 영화 이름을 찾아내면 된다!\n",
        "input_movie = input()\n",
        "\n",
        "movie_index = movies[movies['title'] == input_movie].index.values\n",
        "print(movie_index)\n",
        "similar_movies = similar_index[movie_index, :10]\n",
        "print(similar_movies)\n",
        "# 인덱스로 사용하기 위해서는 1차원으로 변형해줘야하기 때문에 reshape(-1)\n",
        "similar_movies_index = similar_movies.reshape(-1)\n",
        "print(similar_movies_index)\n",
        "print(movies.iloc[similar_movies_index])"
      ],
      "execution_count": 7,
      "outputs": [
        {
          "output_type": "stream",
          "text": [
            "Begin Again\n",
            "[3282]\n",
            "[[   0 3205 3204 3203 3202 3201 3200 3206 3199 3197]]\n",
            "[   0 3205 3204 3203 3202 3201 3200 3206 3199 3197]\n",
            "                                         title                                    genres                                           keywords\n",
            "0                                       Avatar  Action Adventure Fantasy Science Fiction  culture clash future space war space colony so...\n",
            "3205                           Beneath Hill 60                         Drama History War                                                   \n",
            "3204                              The I Inside          Thriller Mystery Science Fiction  infidelity amnesia paranoia nightmare time puz...\n",
            "3203    Ultramarines: A Warhammer 40,000 Movie                 Animation Science Fiction                                                   \n",
            "3202                          Crocodile Dundee                          Adventure Comedy  new york prostitute hotel journalist culture c...\n",
            "3201                   Veronika Decides to Die                             Drama Romance  new york sex asylum controversial independent ...\n",
            "3200                     The Girl on the Train                             Drama Romance                                                   \n",
            "3206                                   Polisse                                     Drama                                     woman director\n",
            "3199  Red Riding: In the Year of Our Lord 1974              Thriller Mystery Crime Drama                                                   \n",
            "3197                            Flame & Citron                   Crime Drama History War  assassin copenhagen resistance repayment world...\n"
          ],
          "name": "stdout"
        }
      ]
    }
  ]
}