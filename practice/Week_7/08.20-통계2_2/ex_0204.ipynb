{
 "cells": [
  {
   "cell_type": "markdown",
   "metadata": {},
   "source": [
    "### 분할표 (이변량) 카이제곱 검정"
   ]
  },
  {
   "cell_type": "code",
   "execution_count": 1,
   "metadata": {},
   "outputs": [],
   "source": [
    "import pandas as pd\n",
    "import numpy as np\n",
    "import scipy.stats as st"
   ]
  },
  {
   "cell_type": "markdown",
   "metadata": {},
   "source": [
    "다음은 미국에서 592명 성인 남녀의 눈색과 머리칼 색을 정리해 놓은 분할표이다. <br>\n",
    "개개 행은 머리칼 색, 개개 열은 눈색을 나타낸다. <br>\n",
    "분할표카이제곱검정 (독립성 검정)을 실시해 보자."
   ]
  },
  {
   "cell_type": "code",
   "execution_count": 2,
   "metadata": {},
   "outputs": [
    {
     "output_type": "execute_result",
     "data": {
      "text/plain": "        Brown  Blue  Hazel  Green\nBlack      68    20     15      5\nBrown     119    84     54     29\nRed        26    17     14     14\nBlonde      7    94     10     16",
      "text/html": "<div>\n<style scoped>\n    .dataframe tbody tr th:only-of-type {\n        vertical-align: middle;\n    }\n\n    .dataframe tbody tr th {\n        vertical-align: top;\n    }\n\n    .dataframe thead th {\n        text-align: right;\n    }\n</style>\n<table border=\"1\" class=\"dataframe\">\n  <thead>\n    <tr style=\"text-align: right;\">\n      <th></th>\n      <th>Brown</th>\n      <th>Blue</th>\n      <th>Hazel</th>\n      <th>Green</th>\n    </tr>\n  </thead>\n  <tbody>\n    <tr>\n      <th>Black</th>\n      <td>68</td>\n      <td>20</td>\n      <td>15</td>\n      <td>5</td>\n    </tr>\n    <tr>\n      <th>Brown</th>\n      <td>119</td>\n      <td>84</td>\n      <td>54</td>\n      <td>29</td>\n    </tr>\n    <tr>\n      <th>Red</th>\n      <td>26</td>\n      <td>17</td>\n      <td>14</td>\n      <td>14</td>\n    </tr>\n    <tr>\n      <th>Blonde</th>\n      <td>7</td>\n      <td>94</td>\n      <td>10</td>\n      <td>16</td>\n    </tr>\n  </tbody>\n</table>\n</div>"
     },
     "metadata": {},
     "execution_count": 2
    }
   ],
   "source": [
    "data_eye = {'Brown': [68,119,26,7], 'Blue':[20,84,17,94], 'Hazel':[15,54,14,10], 'Green':[5, 29, 14,16]}\n",
    "data = pd.DataFrame(data_eye,index=['Black','Brown','Red','Blonde'])\n",
    "data"
   ]
  },
  {
   "cell_type": "code",
   "execution_count": 3,
   "metadata": {
    "tags": []
   },
   "outputs": [
    {
     "output_type": "stream",
     "name": "stdout",
     "text": "p_value : 0.0\n"
    }
   ],
   "source": [
    "# 통계량, p-값, 자유도, 기대도수.\n",
    "stat, p_val, df, expected = st.chi2_contingency(data)\n",
    "print(\"p_value : {}\".format(np.round(p_val, 3)))"
   ]
  },
  {
   "cell_type": "markdown",
   "metadata": {},
   "source": [
    "다음은 타이타닉호의 객실 등급을 나타내는 변수와 생존여부를 나타내는 분할표이다. <br>\n",
    "변수사이의 독립성을 검정해 보자."
   ]
  },
  {
   "cell_type": "code",
   "execution_count": 4,
   "metadata": {},
   "outputs": [
    {
     "output_type": "execute_result",
     "data": {
      "text/plain": "      Yes   No\n1st   122  203\n2nd   167  118\n3rd   528  178\nCrew  673  212",
      "text/html": "<div>\n<style scoped>\n    .dataframe tbody tr th:only-of-type {\n        vertical-align: middle;\n    }\n\n    .dataframe tbody tr th {\n        vertical-align: top;\n    }\n\n    .dataframe thead th {\n        text-align: right;\n    }\n</style>\n<table border=\"1\" class=\"dataframe\">\n  <thead>\n    <tr style=\"text-align: right;\">\n      <th></th>\n      <th>Yes</th>\n      <th>No</th>\n    </tr>\n  </thead>\n  <tbody>\n    <tr>\n      <th>1st</th>\n      <td>122</td>\n      <td>203</td>\n    </tr>\n    <tr>\n      <th>2nd</th>\n      <td>167</td>\n      <td>118</td>\n    </tr>\n    <tr>\n      <th>3rd</th>\n      <td>528</td>\n      <td>178</td>\n    </tr>\n    <tr>\n      <th>Crew</th>\n      <td>673</td>\n      <td>212</td>\n    </tr>\n  </tbody>\n</table>\n</div>"
     },
     "metadata": {},
     "execution_count": 4
    }
   ],
   "source": [
    "data_survived = {'Yes':[122, 167, 528, 673], 'No':[203,118,178,212]}\n",
    "data = pd.DataFrame(data_survived,index=['1st','2nd','3rd','Crew'])\n",
    "data"
   ]
  },
  {
   "cell_type": "code",
   "execution_count": 5,
   "metadata": {
    "tags": []
   },
   "outputs": [
    {
     "output_type": "stream",
     "name": "stdout",
     "text": "p_value : 0.0\n"
    }
   ],
   "source": [
    "# 통계량, p-값, 자유도, 기대도수.\n",
    "stat, p_val, df, expected = st.chi2_contingency(data)\n",
    "print(\"p_value : {}\".format(np.round(p_val, 3)))"
   ]
  }
 ],
 "metadata": {
  "kernelspec": {
   "display_name": "Python 3",
   "language": "python",
   "name": "python3"
  },
  "language_info": {
   "codemirror_mode": {
    "name": "ipython",
    "version": 3
   },
   "file_extension": ".py",
   "mimetype": "text/x-python",
   "name": "python",
   "nbconvert_exporter": "python",
   "pygments_lexer": "ipython3",
   "version": "3.7.7-final"
  }
 },
 "nbformat": 4,
 "nbformat_minor": 2
}