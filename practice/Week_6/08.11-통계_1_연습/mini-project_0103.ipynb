{
 "cells": [
  {
   "cell_type": "markdown",
   "metadata": {},
   "source": [
    "### 볼베어링 불량율"
   ]
  },
  {
   "cell_type": "code",
   "execution_count": 1,
   "metadata": {},
   "outputs": [],
   "source": [
    "import numpy as np\n",
    "import scipy.stats as st"
   ]
  },
  {
   "cell_type": "markdown",
   "metadata": {},
   "source": [
    "#### 볼베어링 제작기계의 불량률이 3%라고 한다. 500개를 표본으로 가져왔다."
   ]
  },
  {
   "cell_type": "code",
   "execution_count": 2,
   "metadata": {},
   "outputs": [],
   "source": [
    "p = 0.03\n",
    "n = 500"
   ]
  },
  {
   "cell_type": "code",
   "execution_count": 3,
   "metadata": {
    "tags": []
   },
   "outputs": [
    {
     "output_type": "stream",
     "name": "stdout",
     "text": "15.0\n485.0\n"
    }
   ],
   "source": [
    "print(n*p)                               # 10을 넘는지 확인해 본다.\n",
    "print(n*(1-p))                           # 10을 넘는지 확인해 본다."
   ]
  },
  {
   "cell_type": "markdown",
   "metadata": {},
   "source": [
    "#### a). 5% 이상이 불량일 확률은? (표본비율 사용)"
   ]
  },
  {
   "cell_type": "code",
   "execution_count": 4,
   "metadata": {},
   "outputs": [],
   "source": [
    "std_error = np.sqrt(p*(1-p)/n)"
   ]
  },
  {
   "cell_type": "code",
   "execution_count": 5,
   "metadata": {},
   "outputs": [
    {
     "output_type": "execute_result",
     "data": {
      "text/plain": "0.004375743328279169"
     },
     "metadata": {},
     "execution_count": 5
    }
   ],
   "source": [
    "z = (0.05 - p)/std_error\n",
    "1 - st.norm.cdf(z)"
   ]
  },
  {
   "cell_type": "markdown",
   "metadata": {},
   "source": [
    "#### b). 2% 이하가 불량일 확률은? (표본비율 사용)"
   ]
  },
  {
   "cell_type": "code",
   "execution_count": 6,
   "metadata": {},
   "outputs": [
    {
     "output_type": "execute_result",
     "data": {
      "text/plain": "0.09496161307581885"
     },
     "metadata": {},
     "execution_count": 6
    }
   ],
   "source": [
    "z = (0.02 - p)/std_error\n",
    "st.norm.cdf(z)"
   ]
  },
  {
   "cell_type": "markdown",
   "metadata": {},
   "source": [
    "#### c). 이항분포를 사용하여 위에서 계산한 결과와 비교해 본다."
   ]
  },
  {
   "cell_type": "code",
   "execution_count": 7,
   "metadata": {},
   "outputs": [
    {
     "output_type": "execute_result",
     "data": {
      "text/plain": "0.005456997386145246"
     },
     "metadata": {},
     "execution_count": 7
    }
   ],
   "source": [
    "# a) 다시 계산.\n",
    "1 - st.binom.cdf(0.05*n,n,p)"
   ]
  },
  {
   "cell_type": "code",
   "execution_count": 8,
   "metadata": {},
   "outputs": [
    {
     "output_type": "execute_result",
     "data": {
      "text/plain": "0.11478748420385211"
     },
     "metadata": {},
     "execution_count": 8
    }
   ],
   "source": [
    "# b) 다시 계산.\n",
    "st.binom.cdf(0.02*n,n,p)"
   ]
  }
 ],
 "metadata": {
  "kernelspec": {
   "display_name": "Python 3",
   "language": "python",
   "name": "python3"
  },
  "language_info": {
   "codemirror_mode": {
    "name": "ipython",
    "version": 3
   },
   "file_extension": ".py",
   "mimetype": "text/x-python",
   "name": "python",
   "nbconvert_exporter": "python",
   "pygments_lexer": "ipython3",
   "version": "3.7.6"
  }
 },
 "nbformat": 4,
 "nbformat_minor": 2
}