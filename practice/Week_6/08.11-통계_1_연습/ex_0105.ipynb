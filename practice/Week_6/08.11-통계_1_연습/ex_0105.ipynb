{
 "cells": [
  {
   "cell_type": "markdown",
   "metadata": {},
   "source": [
    "### 신뢰구간 계산하기 (비율)"
   ]
  },
  {
   "cell_type": "code",
   "execution_count": 1,
   "metadata": {},
   "outputs": [],
   "source": [
    "import numpy as np\n",
    "import scipy.stats as st"
   ]
  },
  {
   "cell_type": "markdown",
   "metadata": {},
   "source": [
    "1).\n",
    "또다시 국회의원 선거철이 왔습니다.\n",
    "A씨와 B시 두명이 입후보 하였습니다.\n",
    "\n",
    "후보 A씨는 100명 대상으로 설문조사를 실시하였습니다.\n",
    "그런데 55명이 A씨를 뽑겠다고 응답했습니다. \n",
    "A씨는 당선을 확신할 수 있을까요?\n",
    "(95% 신뢰구간 사용)."
   ]
  },
  {
   "cell_type": "code",
   "execution_count": 2,
   "metadata": {},
   "outputs": [
    {
     "output_type": "execute_result",
     "data": {
      "text/plain": "(0.45249302291006066, 0.6475069770899394)"
     },
     "metadata": {},
     "execution_count": 2
    }
   ],
   "source": [
    "# 95% 신뢰구간.\n",
    "n_yes = 55\n",
    "n_total = 100\n",
    "p_mean = n_yes/n_total\n",
    "SEM = np.sqrt(p_mean*(1-p_mean)/n_total)\n",
    "st.norm.interval(0.95, loc = p_mean, scale=SEM)"
   ]
  },
  {
   "cell_type": "markdown",
   "metadata": {},
   "source": [
    "2). 또 다른 설문조사를 1000명 대상으로 실시하였습니다.\n",
    "그리고, 550명이 A씨를 뽑겠다고 응답했습니다. \n",
    "이제 A씨는 당선을 확신하고 느긋하게 당선 확정만을 기다릴 수 있을까요?\n",
    "(95% 신뢰구간 사용)."
   ]
  },
  {
   "cell_type": "code",
   "execution_count": 3,
   "metadata": {},
   "outputs": [
    {
     "output_type": "execute_result",
     "data": {
      "text/plain": "(0.5191655864637935, 0.5808344135362066)"
     },
     "metadata": {},
     "execution_count": 3
    }
   ],
   "source": [
    "# 95% 신뢰구간.\n",
    "n_yes = 550\n",
    "n_total = 1000\n",
    "p_mean = n_yes/n_total\n",
    "SEM = np.sqrt(p_mean*(1-p_mean)/n_total)\n",
    "st.norm.interval(0.95, loc = p_mean, scale=SEM)"
   ]
  }
 ],
 "metadata": {
  "kernelspec": {
   "display_name": "Python 3",
   "language": "python",
   "name": "python3"
  },
  "language_info": {
   "codemirror_mode": {
    "name": "ipython",
    "version": 3
   },
   "file_extension": ".py",
   "mimetype": "text/x-python",
   "name": "python",
   "nbconvert_exporter": "python",
   "pygments_lexer": "ipython3",
   "version": "3.7.6"
  }
 },
 "nbformat": 4,
 "nbformat_minor": 2
}