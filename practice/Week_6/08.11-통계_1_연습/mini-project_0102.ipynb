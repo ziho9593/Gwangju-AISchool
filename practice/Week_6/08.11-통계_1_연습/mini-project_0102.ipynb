{
 "cells": [
  {
   "cell_type": "markdown",
   "metadata": {},
   "source": [
    "### 볼트 규격"
   ]
  },
  {
   "cell_type": "code",
   "execution_count": 1,
   "metadata": {},
   "outputs": [],
   "source": [
    "import numpy as np\n",
    "import scipy.stats as st"
   ]
  },
  {
   "cell_type": "markdown",
   "metadata": {},
   "source": [
    "#### 스펙시트에 의하면 볼트 무게는 $\\mu = 30$gr이고 $\\sigma = 2$gr이다. 50개를 표본으로 추출한 경우 다음 물음에 답하여라. "
   ]
  },
  {
   "cell_type": "code",
   "execution_count": 2,
   "metadata": {},
   "outputs": [],
   "source": [
    "mu = 30\n",
    "sigma = 2\n",
    "n = 50\n",
    "df = n-1"
   ]
  },
  {
   "cell_type": "markdown",
   "metadata": {},
   "source": [
    "#### a). 표본평균이 29.8gr과 30.2gr 사이에 있을 확률은? (표준정규분포와 student t사용)"
   ]
  },
  {
   "cell_type": "code",
   "execution_count": 3,
   "metadata": {},
   "outputs": [],
   "source": [
    "std_error = sigma/np.sqrt(n)\n",
    "z1 = (29.8-mu)/std_error\n",
    "z2 = (30.2-mu)/std_error"
   ]
  },
  {
   "cell_type": "code",
   "execution_count": 4,
   "metadata": {},
   "outputs": [
    {
     "output_type": "execute_result",
     "data": {
      "text/plain": "0.520499877813045"
     },
     "metadata": {},
     "execution_count": 4
    }
   ],
   "source": [
    "# 표준정규분포\n",
    "st.norm.cdf(z2) - st.norm.cdf(z1)"
   ]
  },
  {
   "cell_type": "code",
   "execution_count": 5,
   "metadata": {},
   "outputs": [
    {
     "output_type": "execute_result",
     "data": {
      "text/plain": "0.5171504292916964"
     },
     "metadata": {},
     "execution_count": 5
    }
   ],
   "source": [
    "# Student t\n",
    "st.t.cdf(z2,df) - st.t.cdf(z1,df)"
   ]
  },
  {
   "cell_type": "markdown",
   "metadata": {},
   "source": [
    "#### b). 표본평균이 30.5gr 이상일 확률은? (표준정규분포와 student t사용)"
   ]
  },
  {
   "cell_type": "code",
   "execution_count": 6,
   "metadata": {},
   "outputs": [],
   "source": [
    "z3 = (30.5-mu)/std_error"
   ]
  },
  {
   "cell_type": "code",
   "execution_count": 7,
   "metadata": {},
   "outputs": [
    {
     "output_type": "execute_result",
     "data": {
      "text/plain": "0.0385499358717708"
     },
     "metadata": {},
     "execution_count": 7
    }
   ],
   "source": [
    "# 표준정규분포\n",
    "1 - st.norm.cdf(z3)"
   ]
  },
  {
   "cell_type": "code",
   "execution_count": 8,
   "metadata": {},
   "outputs": [
    {
     "output_type": "execute_result",
     "data": {
      "text/plain": "0.04166307987075457"
     },
     "metadata": {},
     "execution_count": 8
    }
   ],
   "source": [
    "# Student t\n",
    "1 - st.t.cdf(z3,df)"
   ]
  }
 ],
 "metadata": {
  "kernelspec": {
   "display_name": "Python 3",
   "language": "python",
   "name": "python3"
  },
  "language_info": {
   "codemirror_mode": {
    "name": "ipython",
    "version": 3
   },
   "file_extension": ".py",
   "mimetype": "text/x-python",
   "name": "python",
   "nbconvert_exporter": "python",
   "pygments_lexer": "ipython3",
   "version": "3.7.6"
  }
 },
 "nbformat": 4,
 "nbformat_minor": 2
}