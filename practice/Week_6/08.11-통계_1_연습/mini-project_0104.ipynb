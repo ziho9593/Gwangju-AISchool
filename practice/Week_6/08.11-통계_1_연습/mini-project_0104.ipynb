{
 "cells": [
  {
   "cell_type": "markdown",
   "metadata": {},
   "source": [
    "### 정책 지지율"
   ]
  },
  {
   "cell_type": "code",
   "execution_count": 1,
   "metadata": {},
   "outputs": [],
   "source": [
    "import numpy as np\n",
    "import scipy.stats as st"
   ]
  },
  {
   "cell_type": "markdown",
   "metadata": {},
   "source": [
    "#### 서울시 새로운 정책에 대한 긍정적 반응이 52%라고 알려져 있다."
   ]
  },
  {
   "cell_type": "code",
   "execution_count": 2,
   "metadata": {},
   "outputs": [],
   "source": [
    "p = 0.52"
   ]
  },
  {
   "cell_type": "markdown",
   "metadata": {},
   "source": [
    "#### a). 100명 대상으로 설문조사를 하였을 때 50%이하 긍정적 반응이 나왔을 확률은? (표본비율 사용)"
   ]
  },
  {
   "cell_type": "code",
   "execution_count": 3,
   "metadata": {},
   "outputs": [
    {
     "output_type": "execute_result",
     "data": {
      "text/plain": "0.3444602779022302"
     },
     "metadata": {},
     "execution_count": 3
    }
   ],
   "source": [
    "n = 100\n",
    "std_error = np.sqrt(p*(1-p)/n)\n",
    "z = (0.5-p)/std_error\n",
    "st.norm.cdf(z)"
   ]
  },
  {
   "cell_type": "markdown",
   "metadata": {},
   "source": [
    "#### b). 500명 대상으로 설문조사를 하였을 때 50%이하 긍정적 반응이 나왔을 확률은? (표본비율 사용)"
   ]
  },
  {
   "cell_type": "code",
   "execution_count": 4,
   "metadata": {},
   "outputs": [
    {
     "output_type": "execute_result",
     "data": {
      "text/plain": "0.18535516675219554"
     },
     "metadata": {},
     "execution_count": 4
    }
   ],
   "source": [
    "n = 500\n",
    "std_error = np.sqrt(p*(1-p)/n)\n",
    "z = (0.5-p)/std_error\n",
    "st.norm.cdf(z)"
   ]
  },
  {
   "cell_type": "markdown",
   "metadata": {},
   "source": [
    "#### c). 이항분포를 사용하여 위에서 계산한 결과와 비교해 본다."
   ]
  },
  {
   "cell_type": "code",
   "execution_count": 5,
   "metadata": {},
   "outputs": [
    {
     "output_type": "execute_result",
     "data": {
      "text/plain": "0.3816199474102779"
     },
     "metadata": {},
     "execution_count": 5
    }
   ],
   "source": [
    "# a) 다시 계산.\n",
    "n = 100\n",
    "st.binom.cdf(0.5*n,n,p)"
   ]
  },
  {
   "cell_type": "code",
   "execution_count": 6,
   "metadata": {},
   "outputs": [
    {
     "output_type": "execute_result",
     "data": {
      "text/plain": "0.19752005818474358"
     },
     "metadata": {},
     "execution_count": 6
    }
   ],
   "source": [
    "# b) 다시 계산.\n",
    "n = 500\n",
    "st.binom.cdf(0.5*n,n,p)"
   ]
  },
  {
   "cell_type": "markdown",
   "metadata": {},
   "source": [
    "#### d). 푸아송 분포를 사용하여 위에서 계산한 결과와 비교해 본다.¶"
   ]
  },
  {
   "cell_type": "code",
   "execution_count": 7,
   "metadata": {},
   "outputs": [
    {
     "output_type": "execute_result",
     "data": {
      "text/plain": "0.42632224798181584"
     },
     "metadata": {},
     "execution_count": 7
    }
   ],
   "source": [
    "# a) 다시 계산.\n",
    "n = 100\n",
    "my_lambda = n*p\n",
    "st.poisson.cdf(0.5*n,my_lambda)"
   ]
  },
  {
   "cell_type": "code",
   "execution_count": 8,
   "metadata": {},
   "outputs": [
    {
     "output_type": "execute_result",
     "data": {
      "text/plain": "0.2801474727988306"
     },
     "metadata": {},
     "execution_count": 8
    }
   ],
   "source": [
    "# b) 다시 계산.\n",
    "n = 500\n",
    "my_lambda = n*p\n",
    "st.poisson.cdf(0.5*n,my_lambda)"
   ]
  }
 ],
 "metadata": {
  "kernelspec": {
   "display_name": "Python 3",
   "language": "python",
   "name": "python3"
  },
  "language_info": {
   "codemirror_mode": {
    "name": "ipython",
    "version": 3
   },
   "file_extension": ".py",
   "mimetype": "text/x-python",
   "name": "python",
   "nbconvert_exporter": "python",
   "pygments_lexer": "ipython3",
   "version": "3.7.6"
  }
 },
 "nbformat": 4,
 "nbformat_minor": 2
}