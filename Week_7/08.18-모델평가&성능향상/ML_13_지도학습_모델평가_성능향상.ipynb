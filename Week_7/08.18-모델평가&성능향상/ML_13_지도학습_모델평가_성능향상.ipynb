{
 "cells": [
  {
   "cell_type": "markdown",
   "metadata": {
    "colab_type": "text",
    "id": "6mKrVfIB3ZVe",
    "slideshow": {
     "slide_type": "slide"
    }
   },
   "source": [
    "## 학습목표\n",
    "\n",
    "머신러닝 모델의 성능을 평가하고, 올바른 매개변수를 선택하는 방법을 이해한다."
   ]
  },
  {
   "cell_type": "markdown",
   "metadata": {
    "colab_type": "text",
    "id": "YFmluV8FL6Mu",
    "slideshow": {
     "slide_type": "slide"
    }
   },
   "source": [
    "모델의 일반화 성능을 평가(측정)하는 법\n",
    "\n",
    "- 교차 검증 : 안정적인 일반화 성능 측정 방법\n",
    "\n",
    "- 평가 지표\n",
    " - 이진/다중 분류의 평가 지표\n",
    " > 정확도, 오차 행렬, 분류 리포트,  <br>\n",
    " > 정밀도, 재현율, f1_score, 정밀도-재현율 곡선(ROC), AUC\n",
    "\n",
    " - 회귀의 평가 지표\n",
    " > \\\\( R^2 \\\\) , 평균제곱오차, 평균절대값오차\n"
   ]
  },
  {
   "cell_type": "markdown",
   "metadata": {
    "colab_type": "text",
    "id": "41MMOpDSTq7t",
    "slideshow": {
     "slide_type": "slide"
    }
   },
   "source": [
    "매개변수를 튜닝하여 일반화 성능을 개선\n",
    "\n",
    "- 그리드 서치(grid search) : 관심 있는 매개변수들을 대상으로 가능한 모든 조합을 시도\n",
    "- 매개변수를 조정하기 전에 그 매개변수의 의미를 이해하는 것이 중요"
   ]
  },
  {
   "cell_type": "markdown",
   "metadata": {
    "colab_type": "text",
    "id": "mCwh81V8QfZ5",
    "slideshow": {
     "slide_type": "slide"
    }
   },
   "source": [
    "## 학습/테스트 데이터 세트 분리\n",
    "\n",
    "- 테스트 데이터 세트를 이용하지 않고 학습 데이터 세트로만 학습하고 예측하면 예측 정확도 100% 가 됨\n",
    "= 학습을 위한 데이터의 양을 일정 수준 이상으로 보장하는 것이 중요\n",
    "- 학습된 모델에 대해 다양한 데이터를 기반으로 예측 성능을 평가해 보는 것도 매우 중요"
   ]
  },
  {
   "cell_type": "markdown",
   "metadata": {
    "colab_type": "text",
    "id": "Hgtf_aQXwQX8",
    "slideshow": {
     "slide_type": "slide"
    }
   },
   "source": [
    "[train_test_split()](https://scikit-learn.org/stable/modules/generated/sklearn.model_selection.train_test_split.html)\n",
    "```\n",
    "train_test_split(arrays, test_size, train_size, random_state, shuffle, stratify)\n",
    "```\n",
    "Parameter\n",
    "\n",
    "- arrays : 분할시킬 데이터를 입력 (Python list, Numpy array, Pandas dataframe 등..)\n",
    "\n",
    "- test_size : 테스트 데이터셋의 비율(float)이나 갯수(int) (default = 0.25) <br>\n",
    "(전체 데이터에서 테스트 데이터 세트 크기를 얼마로 샘플링할 것인가를 결정)\n",
    "\n",
    "- train_size : 학습 데이터셋의 비율(float)이나 갯수(int) (default = test_size의 나머지) <br>\n",
    "(test_size 를 통상적으로 사용하기 때문에 잘 사용되지 않음)\n",
    "\n",
    "- random_state : 데이터 분할시 셔플이 이루어지는데 이를 위한 시드값 (int나 RandomState로 입력) <br>\n",
    "(호출할 때마다 동일한 학습/테스트용 데이터 세트를 생성하기 위해 주어지는 난수 값. 지정하지 않으면 호출 시 무작위로 데이터를 분리하므로 수행할 때마다 다른 학습/테스트용 데이터를 생성)\n",
    "\n",
    "- shuffle : 셔플여부설정 (default = True) <br>\n",
    "(데이터를 분리하기 전에 미리 섞을지를 결정. 데이터를 분산시켜서 좀 더 효율적인 학습 및 테스트 데이터 세트를 만드는 데 사용)\n",
    "\n",
    "- stratify : 지정한 Data의 비율을 유지한다. 예를 들어, Label Set인 Y가 25%의 0과 75%의 1로 이루어진 Binary Set일 때, stratify=Y로 설정하면 나누어진 데이터셋들도 0과 1을 각각 25%, 75%로 유지한 채 분할된다.\n",
    "\n",
    "Return\n",
    "\n",
    "- X_train, X_test, y_train, y_test : arrays에 데이터와 레이블을 둘 다 넣었을 경우의 반환이며, 데이터와 레이블의 순서쌍은 유지된다.\n",
    "- X_train, X_test : arrays에 레이블(y) 없이 데이터만 넣었을 경우의 반환\n"
   ]
  },
  {
   "cell_type": "code",
   "execution_count": 1,
   "metadata": {
    "colab": {},
    "colab_type": "code",
    "executionInfo": {
     "elapsed": 905,
     "status": "ok",
     "timestamp": 1597667898578,
     "user": {
      "displayName": "oz To",
      "photoUrl": "",
      "userId": "12937505880450462933"
     },
     "user_tz": -540
    },
    "id": "h2tOMNexVWbP",
    "slideshow": {
     "slide_type": "skip"
    }
   },
   "outputs": [],
   "source": [
    "# 경고메시지 무시\n",
    "import warnings\n",
    "warnings.filterwarnings(\"ignore\")"
   ]
  },
  {
   "cell_type": "code",
   "execution_count": 2,
   "metadata": {
    "colab": {
     "base_uri": "https://localhost:8080/",
     "height": 469
    },
    "colab_type": "code",
    "executionInfo": {
     "elapsed": 8455,
     "status": "ok",
     "timestamp": 1597667906142,
     "user": {
      "displayName": "oz To",
      "photoUrl": "",
      "userId": "12937505880450462933"
     },
     "user_tz": -540
    },
    "id": "zKw2mtVdVeZs",
    "outputId": "304886ba-d804-455d-84cb-774560119127",
    "slideshow": {
     "slide_type": "skip"
    }
   },
   "outputs": [],
   "source": [
    "# !pip install mglearn"
   ]
  },
  {
   "cell_type": "markdown",
   "metadata": {
    "colab_type": "text",
    "id": "Da3ujSlIV20l",
    "slideshow": {
     "slide_type": "slide"
    }
   },
   "source": [
    "# 교차 검증 (Cross Validation)\n",
    "\n",
    "- 교차검증 : 일반화 성능 향상을 위해 훈련 세트와 테스트 세트로 한 번 나누는 것보다 더 안정적이고 뛰어난 평가 방법\n",
    " - 데이터 편중을 막기 위함\n",
    " - 별도의 여러 세트로 구성된 학습 데이터 세트와 검증 데이터 세트에서 학습과 평가를 수행\n",
    "\n",
    "- k-겹 교차검증 : 데이터를 폴드(fold)라는 거의 비슷한 크기의 부분집합을 k개로 분리하고 각 부분집합의 정확도를 측정\n",
    "\n",
    "- scikit-learn에서 교차 검증은 model_selection 모듈의 cross_val_score 함수로 구현\n"
   ]
  },
  {
   "cell_type": "markdown",
   "metadata": {
    "colab_type": "text",
    "id": "BakyK-bGeOf4",
    "slideshow": {
     "slide_type": "slide"
    }
   },
   "source": [
    "[cross_val_score()](https://scikit-learn.org/stable/modules/generated/sklearn.model_selection.cross_val_score.html)\n",
    "\n",
    "```\n",
    "cross_val_score(estimator, X, y=None, *, groups=None, scoring=None, cv=None, n_jobs=None, verbose=0, fit_params=None, pre_dispatch='2*n_jobs', error_score=nan)\n",
    "```\n",
    "Parameter\n",
    "\n",
    "- estimator : 평가하려는 모델\n",
    "- X : 훈련 데이터\n",
    "- y : 타깃 레이블\n",
    "- cv : 교차 검증 분할 수(k)\n",
    "\n",
    "Return\n",
    "- 교차 검증 결과 정확도 점수의 배열"
   ]
  },
  {
   "cell_type": "code",
   "execution_count": 3,
   "metadata": {
    "colab": {
     "base_uri": "https://localhost:8080/",
     "height": 140
    },
    "colab_type": "code",
    "executionInfo": {
     "elapsed": 9784,
     "status": "ok",
     "timestamp": 1597667907483,
     "user": {
      "displayName": "oz To",
      "photoUrl": "",
      "userId": "12937505880450462933"
     },
     "user_tz": -540
    },
    "id": "HrPZVQh_VvqM",
    "outputId": "4a48199a-0ca7-43a2-9cfa-a89c3d8e5d0f",
    "slideshow": {
     "slide_type": "slide"
    }
   },
   "outputs": [
    {
     "data": {
      "image/png": "[encoded data removed]",
      "text/plain": [
       "<Figure size 864x144 with 1 Axes>"
      ]
     },
     "metadata": {
      "needs_background": "light"
     },
     "output_type": "display_data"
    }
   ],
   "source": [
    "import mglearn\n",
    "# 5-겹 교차 검증에서의 데이터 분할\n",
    "mglearn.plots.plot_cross_validation()"
   ]
  },
  {
   "cell_type": "code",
   "execution_count": 4,
   "metadata": {
    "colab": {
     "base_uri": "https://localhost:8080/",
     "height": 53
    },
    "colab_type": "code",
    "executionInfo": {
     "elapsed": 906,
     "status": "ok",
     "timestamp": 1597667934095,
     "user": {
      "displayName": "oz To",
      "photoUrl": "",
      "userId": "12937505880450462933"
     },
     "user_tz": -540
    },
    "id": "meftj5V8Wpx6",
    "outputId": "d9e3a542-528f-44f3-c6aa-7c6023dd8285",
    "slideshow": {
     "slide_type": "slide"
    }
   },
   "outputs": [
    {
     "name": "stdout",
     "output_type": "stream",
     "text": [
      "교차 검증 점수:  [0.96666667 1.         0.93333333 0.96666667 1.        ]\n",
      "교차 검증 점수:  [0.96666667 0.96666667 0.9        0.96666667 1.        ]\n"
     ]
    }
   ],
   "source": [
    "# 교차 검증을 간편하게\n",
    "from sklearn.model_selection import cross_val_score\n",
    "from sklearn.datasets import load_iris\n",
    "from sklearn.linear_model import LogisticRegression\n",
    "from sklearn.tree import DecisionTreeClassifier\n",
    "\n",
    "iris = load_iris()\n",
    "model_lr = LogisticRegression()\n",
    "model_dt = DecisionTreeClassifier(random_state=0)\n",
    "\n",
    "scores = cross_val_score(model_lr, iris.data, iris.target)\n",
    "print(\"교차 검증 점수: \", scores)\n",
    "\n",
    "scores = cross_val_score(model_dt, iris.data, iris.target)\n",
    "print(\"교차 검증 점수: \", scores)"
   ]
  },
  {
   "cell_type": "markdown",
   "metadata": {
    "colab_type": "text",
    "id": "0_xf0QxKXVJq",
    "slideshow": {
     "slide_type": "slide"
    }
   },
   "source": [
    "- cross_val_score의 기본값은 5-겹 교차 검증이므로 정확도 값이 5개가 반환 <br>\n",
    "(scikit-learn 0.22 부터 기본값은 5-겹, 기존 기본값 3-겹)\n",
    "\n",
    "- 폴드의 수는 cv 매개변수를 사용해서 바꿀 수 있음\n",
    "\n"
   ]
  },
  {
   "cell_type": "code",
   "execution_count": 5,
   "metadata": {
    "colab": {
     "base_uri": "https://localhost:8080/",
     "height": 35
    },
    "colab_type": "code",
    "executionInfo": {
     "elapsed": 1102,
     "status": "ok",
     "timestamp": 1597667941666,
     "user": {
      "displayName": "oz To",
      "photoUrl": "",
      "userId": "12937505880450462933"
     },
     "user_tz": -540
    },
    "id": "UZkHll2IXZ5B",
    "outputId": "0f6cd07b-9ad9-4e39-af05-c8fa39020053",
    "slideshow": {
     "slide_type": "slide"
    }
   },
   "outputs": [
    {
     "name": "stdout",
     "output_type": "stream",
     "text": [
      "교차 검증 점수: [0.98 0.96 0.98]\n"
     ]
    }
   ],
   "source": [
    "# 교차 검증 점수\n",
    "scores = cross_val_score(model_lr, iris.data, iris.target, cv=3)\n",
    "print(\"교차 검증 점수: {}\".format(scores))"
   ]
  },
  {
   "cell_type": "markdown",
   "metadata": {
    "colab_type": "text",
    "id": "IHLyRRfgXfaR",
    "slideshow": {
     "slide_type": "slide"
    }
   },
   "source": [
    "- 보통 교차 검증의 정확도를 간단하게 나타내려면 평균을 사용"
   ]
  },
  {
   "cell_type": "code",
   "execution_count": 6,
   "metadata": {
    "colab": {
     "base_uri": "https://localhost:8080/",
     "height": 35
    },
    "colab_type": "code",
    "executionInfo": {
     "elapsed": 984,
     "status": "ok",
     "timestamp": 1597667945542,
     "user": {
      "displayName": "oz To",
      "photoUrl": "",
      "userId": "12937505880450462933"
     },
     "user_tz": -540
    },
    "id": "dhs-fXoNXhuB",
    "outputId": "f876b0e8-ae30-49fd-dd69-c718dec74761",
    "slideshow": {
     "slide_type": "slide"
    }
   },
   "outputs": [
    {
     "name": "stdout",
     "output_type": "stream",
     "text": [
      "교차 검증 평균 점수: 0.97\n"
     ]
    }
   ],
   "source": [
    "# 교차 검증 평균 점수\n",
    "print(\"교차 검증 평균 점수: {:.2f}\".format(scores.mean()))"
   ]
  },
  {
   "cell_type": "markdown",
   "metadata": {
    "colab_type": "text",
    "id": "CiWZsJ8sYH6v",
    "slideshow": {
     "slide_type": "slide"
    }
   },
   "source": [
    "- 이 모델의 정확도가 대략 96%일 것으로 기대\n",
    "= 5-겹 교차 검증 결과값이 폴드에 따라 비교적 차이가 발생\n",
    "- 훈련에 사용한 폴드에 매우 의존적이거나 데이터세트가 작기 때문일 수 있음\n"
   ]
  },
  {
   "cell_type": "markdown",
   "metadata": {
    "colab_type": "text",
    "id": "DW_73TV-gPUX",
    "slideshow": {
     "slide_type": "slide"
    }
   },
   "source": [
    "여러 개의 평가 지표 반환 교차 검증 함수\n",
    "\n",
    "[cross_validate()](https://scikit-learn.org/stable/modules/generated/sklearn.model_selection.cross_validate.html)\n",
    "\n",
    "```\n",
    "cross_validate(estimator, X, y=None, *, groups=None, scoring=None, cv=None, n_jobs=None, verbose=0, fit_params=None, pre_dispatch='2*n_jobs', return_train_score=False, return_estimator=False, error_score=nan)\n",
    "```\n",
    "Parameter\n",
    "\n",
    "- estimator : 평가하려는 모델\n",
    "- X : 훈련 데이터\n",
    "- y : 타깃 레이블\n",
    "- cv : 교차 검증 분할 수(k)\n",
    "- return_train_score : 훈련 점수 포함 여부\n",
    "\n",
    "Return\n",
    "- 교차 검증 결과 정확도 점수의 배열"
   ]
  },
  {
   "cell_type": "code",
   "execution_count": 7,
   "metadata": {
    "colab": {
     "base_uri": "https://localhost:8080/",
     "height": 89
    },
    "colab_type": "code",
    "executionInfo": {
     "elapsed": 831,
     "status": "ok",
     "timestamp": 1597668018160,
     "user": {
      "displayName": "oz To",
      "photoUrl": "",
      "userId": "12937505880450462933"
     },
     "user_tz": -540
    },
    "id": "jTVdwdfpY-70",
    "outputId": "9fbbbe88-a429-4401-9964-75f5d542506a",
    "slideshow": {
     "slide_type": "slide"
    }
   },
   "outputs": [
    {
     "data": {
      "text/plain": [
       "{'fit_time': array([0.01603723, 0.016011  , 0.0120194 , 0.01600003, 0.01199794]),\n",
       " 'score_time': array([0., 0., 0., 0., 0.]),\n",
       " 'test_score': array([0.96666667, 1.        , 0.93333333, 0.96666667, 1.        ]),\n",
       " 'train_score': array([0.96666667, 0.96666667, 0.98333333, 0.98333333, 0.975     ])}"
      ]
     },
     "execution_count": 7,
     "metadata": {},
     "output_type": "execute_result"
    }
   ],
   "source": [
    "# 분할마다 훈련과 테스트에 걸린 시간을 담은 여러 개의 평가 지표 딕셔너리를 반환\n",
    "from sklearn.model_selection import cross_validate\n",
    "\n",
    "res = cross_validate(model_lr, iris.data, iris.target, return_train_score=True)\n",
    "res"
   ]
  },
  {
   "cell_type": "code",
   "execution_count": 8,
   "metadata": {
    "colab": {
     "base_uri": "https://localhost:8080/",
     "height": 312
    },
    "colab_type": "code",
    "executionInfo": {
     "elapsed": 1626,
     "status": "ok",
     "timestamp": 1597668531429,
     "user": {
      "displayName": "oz To",
      "photoUrl": "",
      "userId": "12937505880450462933"
     },
     "user_tz": -540
    },
    "id": "3nWxzuoIb8NY",
    "outputId": "711dd222-4d3e-4df1-9473-06175eff8744",
    "slideshow": {
     "slide_type": "slide"
    }
   },
   "outputs": [
    {
     "data": {
      "text/html": [
       "<div>\n",
       "<style scoped>\n",
       "    .dataframe tbody tr th:only-of-type {\n",
       "        vertical-align: middle;\n",
       "    }\n",
       "\n",
       "    .dataframe tbody tr th {\n",
       "        vertical-align: top;\n",
       "    }\n",
       "\n",
       "    .dataframe thead th {\n",
       "        text-align: right;\n",
       "    }\n",
       "</style>\n",
       "<table border=\"1\" class=\"dataframe\">\n",
       "  <thead>\n",
       "    <tr style=\"text-align: right;\">\n",
       "      <th></th>\n",
       "      <th>fit_time</th>\n",
       "      <th>score_time</th>\n",
       "      <th>test_score</th>\n",
       "      <th>train_score</th>\n",
       "    </tr>\n",
       "  </thead>\n",
       "  <tbody>\n",
       "    <tr>\n",
       "      <th>0</th>\n",
       "      <td>0.016037</td>\n",
       "      <td>0.0</td>\n",
       "      <td>0.966667</td>\n",
       "      <td>0.966667</td>\n",
       "    </tr>\n",
       "    <tr>\n",
       "      <th>1</th>\n",
       "      <td>0.016011</td>\n",
       "      <td>0.0</td>\n",
       "      <td>1.000000</td>\n",
       "      <td>0.966667</td>\n",
       "    </tr>\n",
       "    <tr>\n",
       "      <th>2</th>\n",
       "      <td>0.012019</td>\n",
       "      <td>0.0</td>\n",
       "      <td>0.933333</td>\n",
       "      <td>0.983333</td>\n",
       "    </tr>\n",
       "    <tr>\n",
       "      <th>3</th>\n",
       "      <td>0.016000</td>\n",
       "      <td>0.0</td>\n",
       "      <td>0.966667</td>\n",
       "      <td>0.983333</td>\n",
       "    </tr>\n",
       "    <tr>\n",
       "      <th>4</th>\n",
       "      <td>0.011998</td>\n",
       "      <td>0.0</td>\n",
       "      <td>1.000000</td>\n",
       "      <td>0.975000</td>\n",
       "    </tr>\n",
       "  </tbody>\n",
       "</table>\n",
       "</div>"
      ],
      "text/plain": [
       "   fit_time  score_time  test_score  train_score\n",
       "0  0.016037         0.0    0.966667     0.966667\n",
       "1  0.016011         0.0    1.000000     0.966667\n",
       "2  0.012019         0.0    0.933333     0.983333\n",
       "3  0.016000         0.0    0.966667     0.983333\n",
       "4  0.011998         0.0    1.000000     0.975000"
      ]
     },
     "metadata": {},
     "output_type": "display_data"
    },
    {
     "name": "stdout",
     "output_type": "stream",
     "text": [
      "평균 시간과 점수: \n"
     ]
    },
    {
     "data": {
      "text/plain": [
       "fit_time       0.014413\n",
       "score_time     0.000000\n",
       "test_score     0.973333\n",
       "train_score    0.975000\n",
       "dtype: float64"
      ]
     },
     "metadata": {},
     "output_type": "display_data"
    }
   ],
   "source": [
    "# 판다스를 사용하여 결과값을 출력하고 평균을 계산\n",
    "import pandas as pd\n",
    "\n",
    "df = pd.DataFrame(res)\n",
    "display(df)\n",
    "print(\"평균 시간과 점수: \")\n",
    "display(df.mean())"
   ]
  },
  {
   "cell_type": "markdown",
   "metadata": {
    "colab_type": "text",
    "id": "QoibUnddho-0",
    "slideshow": {
     "slide_type": "slide"
    }
   },
   "source": [
    "#### 교차 검증 장단점\n",
    "\n",
    "- 테스트 세트에 골고루 각 샘플이 정확하게 한 번씩 들어감\n",
    "- 교차 검증의 점수가 높으면 데이터셋에 있는 모든 샘플에 대해 모델이 잘 일반화됨\n",
    "- 모델이 훈련 데이터에 얼마나 민감한지 알 수 있음\n",
    "- 분할을 한 번 했을 때보다 데이터를 더 효과적으로 사용\n",
    "> 5-겹의 경우 매 반복에서 4/5 (80%)의 데이터를 모델 학습에 사용. <br> \n",
    "> 10-겹의 경우 90%를 사용\n",
    "\n",
    "- 연산 비용이 늘어나는 단점이 있음 (k배 더 느림)\n"
   ]
  },
  {
   "cell_type": "markdown",
   "metadata": {
    "colab_type": "text",
    "id": "S-6iOBaqXlIj",
    "slideshow": {
     "slide_type": "slide"
    }
   },
   "source": [
    "### 계층별 k-겹 교차 검증 \n",
    "\n",
    "- 데이터셋을 나열 순서대로 k개의 폴드로 나누는 것은 항상 좋지는 않음"
   ]
  },
  {
   "cell_type": "code",
   "execution_count": 9,
   "metadata": {
    "colab": {
     "base_uri": "https://localhost:8080/",
     "height": 125
    },
    "colab_type": "code",
    "id": "27rZg8vyX2-U",
    "outputId": "f8f855e5-21c8-4d47-be12-652c778c2c98",
    "slideshow": {
     "slide_type": "slide"
    }
   },
   "outputs": [
    {
     "name": "stdout",
     "output_type": "stream",
     "text": [
      "Iris 레이블:\n",
      "[0 0 0 0 0 0 0 0 0 0 0 0 0 0 0 0 0 0 0 0 0 0 0 0 0 0 0 0 0 0 0 0 0 0 0 0 0\n",
      " 0 0 0 0 0 0 0 0 0 0 0 0 0 1 1 1 1 1 1 1 1 1 1 1 1 1 1 1 1 1 1 1 1 1 1 1 1\n",
      " 1 1 1 1 1 1 1 1 1 1 1 1 1 1 1 1 1 1 1 1 1 1 1 1 1 1 2 2 2 2 2 2 2 2 2 2 2\n",
      " 2 2 2 2 2 2 2 2 2 2 2 2 2 2 2 2 2 2 2 2 2 2 2 2 2 2 2 2 2 2 2 2 2 2 2 2 2\n",
      " 2 2]\n"
     ]
    }
   ],
   "source": [
    "from sklearn.datasets import load_iris\n",
    "\n",
    "iris = load_iris()\n",
    "\n",
    "print(\"Iris 레이블:\\n{}\".format(iris.target))"
   ]
  },
  {
   "cell_type": "markdown",
   "metadata": {
    "colab_type": "text",
    "id": "Olu7hbugX5uG",
    "slideshow": {
     "slide_type": "slide"
    }
   },
   "source": [
    "- 결과에서 볼 수 있듯이 1/3은 클래스 0, 1/3은 클래스 1, 1/3은 클래스 2이다.\n",
    "\n",
    "- 이 데이터에 3-겹 교차 검증을 적용한다면 첫 번째 폴드는 클래스 0만 가지고 있으므로 정확도는 0이 됨\n",
    "\n",
    "- 두 번째, 세 번째도 같은 방법으로 정확도는 0이 됨 \n",
    "\n",
    "- 단순한 k-겹 교차 검증에는 문제가 있으니, scikit-learn은 분류일 경우 이 방법 대신 계층별 k-겹 교차 검증을 사용"
   ]
  },
  {
   "cell_type": "code",
   "execution_count": 10,
   "metadata": {
    "colab": {
     "base_uri": "https://localhost:8080/",
     "height": 276
    },
    "colab_type": "code",
    "executionInfo": {
     "elapsed": 1459,
     "status": "ok",
     "timestamp": 1597670035842,
     "user": {
      "displayName": "oz To",
      "photoUrl": "",
      "userId": "12937505880450462933"
     },
     "user_tz": -540
    },
    "id": "rdjIRp9IjOfG",
    "outputId": "bf80f0f7-a30e-437b-8619-45c9bbb4edda",
    "slideshow": {
     "slide_type": "slide"
    }
   },
   "outputs": [
    {
     "data": {
      "image/png": "[encoded data removed]",
      "text/plain": [
       "<Figure size 864x360 with 2 Axes>"
      ]
     },
     "metadata": {
      "needs_background": "light"
     },
     "output_type": "display_data"
    }
   ],
   "source": [
    "# 폴드 안의 클래스 비율이 전체 데이터셋의 클래스 비율과 같도록 데이터를 나눔\n",
    "mglearn.plots.plot_stratified_cross_validation()"
   ]
  },
  {
   "cell_type": "markdown",
   "metadata": {
    "colab_type": "text",
    "id": "RsifPnh4j2-b",
    "slideshow": {
     "slide_type": "slide"
    }
   },
   "source": [
    "- 대부분 회귀에서는 k-겹 교차 검증\n",
    "- 분류에서는 계층별 k-겹 교차 검증의 기본값이 잘 작동"
   ]
  },
  {
   "cell_type": "code",
   "execution_count": 11,
   "metadata": {
    "colab": {
     "base_uri": "https://localhost:8080/",
     "height": 35
    },
    "colab_type": "code",
    "executionInfo": {
     "elapsed": 923,
     "status": "ok",
     "timestamp": 1597670430316,
     "user": {
      "displayName": "oz To",
      "photoUrl": "",
      "userId": "12937505880450462933"
     },
     "user_tz": -540
    },
    "id": "DgebXberkhGM",
    "outputId": "e61e791f-d8b5-42a0-ea0b-b96ee2f69c83",
    "slideshow": {
     "slide_type": "slide"
    }
   },
   "outputs": [
    {
     "name": "stdout",
     "output_type": "stream",
     "text": [
      "교차 검증 점수: [0. 0. 0.]\n"
     ]
    }
   ],
   "source": [
    "# cv 매개변수에 교차 검증 분할기 cross-validation splitter를 사용하여 \n",
    "# 데이터를 분할할 때 세밀하게 제어\n",
    "from sklearn.model_selection import KFold\n",
    "\n",
    "kfold = KFold(n_splits=3)\n",
    "scores = cross_val_score(model_lr, iris.data, iris.target, cv=kfold)\n",
    "print(\"교차 검증 점수: {}\".format(scores))"
   ]
  },
  {
   "cell_type": "code",
   "execution_count": 12,
   "metadata": {
    "colab": {
     "base_uri": "https://localhost:8080/",
     "height": 35
    },
    "colab_type": "code",
    "executionInfo": {
     "elapsed": 922,
     "status": "ok",
     "timestamp": 1597670956751,
     "user": {
      "displayName": "oz To",
      "photoUrl": "",
      "userId": "12937505880450462933"
     },
     "user_tz": -540
    },
    "id": "sJ3S1RPqm7Ua",
    "outputId": "8bb0d13c-cb61-42c7-dfe0-8d77863ec77e",
    "slideshow": {
     "slide_type": "slide"
    }
   },
   "outputs": [
    {
     "name": "stdout",
     "output_type": "stream",
     "text": [
      "교차 검증 점수: [0.98 0.96 0.96]\n"
     ]
    }
   ],
   "source": [
    "# 데이터를 분할하기 전에 섞어주면 결과가 향상\n",
    "kfold = KFold(n_splits=3, shuffle=True, random_state=0)\n",
    "scores = cross_val_score(model_lr, iris.data, iris.target, cv=kfold)\n",
    "print(\"교차 검증 점수: {}\".format(scores))"
   ]
  },
  {
   "cell_type": "markdown",
   "metadata": {
    "colab_type": "text",
    "id": "K_jtX_Rvn-A1",
    "slideshow": {
     "slide_type": "slide"
    }
   },
   "source": [
    "### 임의 분할 교차 검증 (shuffle-split cross-validation)\n",
    "\n",
    "- 반복 횟수를 훈련 세트나 테스트 세트의 크기와 독립적으로 조절해야 할 때 유용\n",
    "- train_size와 test_size의 합을 전체와 다르게 함으로써 전체 데이터의 일부만 사용 가능\n",
    "- 데이터 부분 샘플링(subsampling)하는 방식은 대규모 데이터셋으로 작업할 때 도움이 됨\n",
    "\n"
   ]
  },
  {
   "cell_type": "markdown",
   "metadata": {
    "colab_type": "text",
    "id": "ZYVty6J4ooo2",
    "slideshow": {
     "slide_type": "slide"
    }
   },
   "source": [
    "[ShuffleSplit()](https://scikit-learn.org/stable/modules/generated/sklearn.model_selection.ShuffleSplit.html)\n",
    "\n",
    "```\n",
    "ShuffleSplit(n_splits=10, *, test_size=None, train_size=None, random_state=None)\n",
    "```\n",
    "- train_size 만큼의 포인트로 훈련 세트를 만들고, test_size만큼의 (훈련 세트와 중첩되지 않은) 포인트로 테스트 세트를 만들도록 분할\n",
    "\n",
    "- n_splits 횟수만큼 반복"
   ]
  },
  {
   "cell_type": "code",
   "execution_count": 13,
   "metadata": {
    "colab": {
     "base_uri": "https://localhost:8080/",
     "height": 137
    },
    "colab_type": "code",
    "executionInfo": {
     "elapsed": 934,
     "status": "ok",
     "timestamp": 1597671518979,
     "user": {
      "displayName": "oz To",
      "photoUrl": "",
      "userId": "12937505880450462933"
     },
     "user_tz": -540
    },
    "id": "uggw5EEFpEKS",
    "outputId": "827b3174-3cab-4167-b257-49f41bbce6f8",
    "slideshow": {
     "slide_type": "slide"
    }
   },
   "outputs": [
    {
     "data": {
      "image/png": "[encoded data removed]",
      "text/plain": [
       "<Figure size 720x144 with 1 Axes>"
      ]
     },
     "metadata": {
      "needs_background": "light"
     },
     "output_type": "display_data"
    }
   ],
   "source": [
    "# 10개의 데이터 포인트에 train_size=0.5, test_size=0.2, n_splits=4를 적용한 ShuffleSplit\n",
    "mglearn.plots.plot_shuffle_split()"
   ]
  },
  {
   "cell_type": "code",
   "execution_count": 14,
   "metadata": {
    "colab": {
     "base_uri": "https://localhost:8080/",
     "height": 53
    },
    "colab_type": "code",
    "executionInfo": {
     "elapsed": 875,
     "status": "ok",
     "timestamp": 1597672318149,
     "user": {
      "displayName": "oz To",
      "photoUrl": "",
      "userId": "12937505880450462933"
     },
     "user_tz": -540
    },
    "id": "voONNTbdpNFx",
    "outputId": "9c26adad-6636-4a7d-a512-b96bffb4d4b1",
    "slideshow": {
     "slide_type": "slide"
    }
   },
   "outputs": [
    {
     "name": "stdout",
     "output_type": "stream",
     "text": [
      "교차 검증 점수: \n",
      "[1.         0.96666667 0.96666667 0.9        0.96666667 0.96666667\n",
      " 1.         1.         0.96666667 0.96666667]\n"
     ]
    }
   ],
   "source": [
    "# 교차 검증 점수\n",
    "from sklearn.model_selection import ShuffleSplit\n",
    "\n",
    "ss = ShuffleSplit(test_size=0.2, train_size=0.5, n_splits=10, random_state=0)\n",
    "scores = cross_val_score(model_lr, iris.data, iris.target, cv=ss)\n",
    "print(\"교차 검증 점수: \\n{}\".format(scores))"
   ]
  },
  {
   "cell_type": "markdown",
   "metadata": {
    "colab_type": "text",
    "id": "iBOIaQfws4Fj",
    "slideshow": {
     "slide_type": "slide"
    }
   },
   "source": [
    "### 그룹별 교차 검증 (groups cross-validation)\n",
    "\n",
    "- 데이터 안에 매우 연관된 그룹이 있을 때\n",
    "- 예: 같은 환자로부터 얻은 여러 샘플을 가지고 새로운 환자에게 일반화하는 의료 애플리케이션\n",
    "\n",
    "- groups 배열은 훈련 세트와 테스트 세트를 만들 때 분리되지 않아야 할 그룹을 지정하는 것으로 클래스 레이블과 혼동해서는 안됨"
   ]
  },
  {
   "cell_type": "markdown",
   "metadata": {
    "colab_type": "text",
    "id": "e_4sivXeuFm6",
    "slideshow": {
     "slide_type": "slide"
    }
   },
   "source": [
    "[GroupKFold()](https://scikit-learn.org/stable/modules/generated/sklearn.model_selection.GroupKFold.html)\n",
    "\n",
    "```\n",
    "GroupKFold(n_splits=5)\n",
    "```\n",
    "- n_splits : 폴드 수 (2 이상)\n"
   ]
  },
  {
   "cell_type": "code",
   "execution_count": 15,
   "metadata": {
    "colab": {
     "base_uri": "https://localhost:8080/",
     "height": 137
    },
    "colab_type": "code",
    "executionInfo": {
     "elapsed": 1195,
     "status": "ok",
     "timestamp": 1597673098854,
     "user": {
      "displayName": "oz To",
      "photoUrl": "",
      "userId": "12937505880450462933"
     },
     "user_tz": -540
    },
    "id": "q41m10w1vCgM",
    "outputId": "a51ee73f-5627-4489-d9b0-9033934f2c9d",
    "slideshow": {
     "slide_type": "slide"
    }
   },
   "outputs": [
    {
     "data": {
      "image/png": "[encoded data removed]",
      "text/plain": [
       "<Figure size 720x144 with 1 Axes>"
      ]
     },
     "metadata": {
      "needs_background": "light"
     },
     "output_type": "display_data"
    }
   ],
   "source": [
    "# 레이블에 기반한 GroupKFold 분할\n",
    "mglearn.plots.plot_group_kfold()"
   ]
  },
  {
   "cell_type": "code",
   "execution_count": 16,
   "metadata": {
    "colab": {
     "base_uri": "https://localhost:8080/",
     "height": 35
    },
    "colab_type": "code",
    "executionInfo": {
     "elapsed": 895,
     "status": "ok",
     "timestamp": 1597673343378,
     "user": {
      "displayName": "oz To",
      "photoUrl": "",
      "userId": "12937505880450462933"
     },
     "user_tz": -540
    },
    "id": "mAgpEA_YuGWp",
    "outputId": "da40e2cd-ce25-4e84-c457-7b97b84c800a",
    "slideshow": {
     "slide_type": "slide"
    }
   },
   "outputs": [
    {
     "name": "stdout",
     "output_type": "stream",
     "text": [
      "교차 검증 점수: [0.75       0.6        0.66666667]\n"
     ]
    }
   ],
   "source": [
    "from sklearn.model_selection import GroupKFold\n",
    "from sklearn.datasets import make_blobs\n",
    "\n",
    "# 인위적 데이터셋 생성\n",
    "X, y = make_blobs(n_samples=12, random_state=0)\n",
    "\n",
    "# 처음 세 개의 샘플은 같은 그룹에 속하고\n",
    "# 다음은 네 개의 샘플이 같음\n",
    "groups = [0,0,0, 1,1,1,1, 2,2, 3,3,3]\n",
    "\n",
    "# 교차 검증 점수\n",
    "gkf = GroupKFold(n_splits=3)\n",
    "scores = cross_val_score(model_lr, X, y, groups, cv=gkf)\n",
    "print(\"교차 검증 점수: {}\".format(scores))"
   ]
  },
  {
   "cell_type": "markdown",
   "metadata": {
    "colab_type": "text",
    "id": "uAWePMURwRtK",
    "slideshow": {
     "slide_type": "slide"
    }
   },
   "source": [
    "### 반복 교차 검증\n",
    "\n",
    "- 데이터셋의 크기가 크지 않을 경우 안정된 검증 점수를 얻기 위해 교차 검증을 반복하여 여러 번 수행\n",
    "\n",
    "- RepeatedKFold : 회귀에 사용\n",
    "- RepeatedStratifiedKFold : 분류에 사용"
   ]
  },
  {
   "cell_type": "code",
   "execution_count": 17,
   "metadata": {
    "colab": {
     "base_uri": "https://localhost:8080/",
     "height": 233
    },
    "colab_type": "code",
    "executionInfo": {
     "elapsed": 2279,
     "status": "ok",
     "timestamp": 1597673913970,
     "user": {
      "displayName": "oz To",
      "photoUrl": "",
      "userId": "12937505880450462933"
     },
     "user_tz": -540
    },
    "id": "rD3_YWpbwyZ2",
    "outputId": "788590c8-c441-4971-a7d9-70c7c874ed35",
    "slideshow": {
     "slide_type": "slide"
    }
   },
   "outputs": [
    {
     "data": {
      "text/plain": [
       "RepeatedStratifiedKFold(n_repeats=10, n_splits=5, random_state=0)"
      ]
     },
     "metadata": {},
     "output_type": "display_data"
    },
    {
     "name": "stdout",
     "output_type": "stream",
     "text": [
      "교차 검증 점수: \n",
      "[0.96666667 0.96666667 0.96666667 0.96666667 0.93333333 1.\n",
      " 0.9        0.96666667 1.         1.         0.93333333 1.\n",
      " 1.         0.93333333 0.96666667 1.         0.9        1.\n",
      " 0.9        1.         1.         0.93333333 0.96666667 0.96666667\n",
      " 0.93333333 0.9        1.         1.         1.         0.96666667\n",
      " 0.93333333 0.96666667 1.         0.96666667 0.93333333 1.\n",
      " 0.96666667 0.9        0.96666667 1.         0.96666667 1.\n",
      " 0.9        0.96666667 0.96666667 0.96666667 0.96666667 0.9\n",
      " 0.96666667 1.        ]\n",
      "교차 검증 평균 점수: 0.964\n"
     ]
    }
   ],
   "source": [
    "from sklearn.model_selection import RepeatedStratifiedKFold\n",
    "\n",
    "rskfold = RepeatedStratifiedKFold(random_state=0)\n",
    "display( rskfold )\n",
    "\n",
    "# 교차 검증 점수\n",
    "# 교차 검증 평균 점수\n",
    "scores = cross_val_score(model_lr, iris.data, iris.target, cv=rskfold)\n",
    "print(\"교차 검증 점수: \\n{}\".format(scores))\n",
    "print(\"교차 검증 평균 점수: {:.3f}\".format(scores.mean()))"
   ]
  },
  {
   "cell_type": "markdown",
   "metadata": {
    "colab_type": "text",
    "id": "2D-Ti8MPxqx3",
    "slideshow": {
     "slide_type": "slide"
    }
   },
   "source": [
    "- 전체 검증 점수는 n_splits * n_repeats 개수만큼 만들어짐"
   ]
  },
  {
   "cell_type": "markdown",
   "metadata": {
    "colab_type": "text",
    "id": "NSNLVJVzY2iC",
    "slideshow": {
     "slide_type": "slide"
    }
   },
   "source": [
    "# 그리드 서치 (Grid Search)\n",
    "\n",
    "- 매개변수을 선택하는 것은 머신러닝에서 중요한 일\n",
    "\n",
    "- GRID_SEARCH : 관심 있는 매개변수들을 대상으로 가능한 모든 조합 시도하는 것"
   ]
  },
  {
   "cell_type": "markdown",
   "metadata": {
    "colab_type": "text",
    "id": "5ptTkiFJ0GU3",
    "slideshow": {
     "slide_type": "slide"
    }
   },
   "source": [
    "### 검증 세트\n",
    "\n",
    "- 매개변수를 조정하기 위해 테스트 세트를 사용하면 모델이 얼마나 좋은지 평가하는 데는 더 이상 사용할 수 없음\n",
    "- 평가를 위해 모델을 만들 때 사용하지 않은 독립된 데이터셋이 필요\n",
    "\n",
    "- 데이터를 세 개의 세트로 만들어 이 문제를 해결\n",
    " - 훈련 세트로는 모델을 작성\n",
    " - 검증 (또는 개발) 세트로는 모델의 매개변수를 선택\n",
    " - 테스트 세트로는 선택된 매개변수의 성능을 평가"
   ]
  },
  {
   "cell_type": "code",
   "execution_count": 18,
   "metadata": {
    "colab": {
     "base_uri": "https://localhost:8080/",
     "height": 119
    },
    "colab_type": "code",
    "executionInfo": {
     "elapsed": 860,
     "status": "ok",
     "timestamp": 1597674299905,
     "user": {
      "displayName": "oz To",
      "photoUrl": "",
      "userId": "12937505880450462933"
     },
     "user_tz": -540
    },
    "id": "oaVHmNlRzo3i",
    "outputId": "66809efe-dcf1-4363-8479-eaaf6ae53b76",
    "slideshow": {
     "slide_type": "slide"
    }
   },
   "outputs": [
    {
     "data": {
      "image/png": "[encoded data removed]",
      "text/plain": [
       "<Figure size 1080x72 with 1 Axes>"
      ]
     },
     "metadata": {
      "needs_background": "light"
     },
     "output_type": "display_data"
    }
   ],
   "source": [
    "mglearn.plots.plot_threefold_split()"
   ]
  },
  {
   "cell_type": "code",
   "execution_count": 19,
   "metadata": {
    "colab": {
     "base_uri": "https://localhost:8080/",
     "height": 107
    },
    "colab_type": "code",
    "executionInfo": {
     "elapsed": 928,
     "status": "ok",
     "timestamp": 1597674087250,
     "user": {
      "displayName": "oz To",
      "photoUrl": "",
      "userId": "12937505880450462933"
     },
     "user_tz": -540
    },
    "id": "x6b_77z6Zecj",
    "outputId": "124e9b56-1308-4938-8c06-f1d11e825eb5",
    "slideshow": {
     "slide_type": "slide"
    }
   },
   "outputs": [
    {
     "name": "stdout",
     "output_type": "stream",
     "text": [
      "훈련 세트의 크기: 84   검증 세트의 크기: 28   테스트 세트의 크기: 38\n",
      "\n",
      "검증 세트에서 최고 점수: 0.96\n",
      "최적 파라미터:  {'C': 10, 'gamma': 0.001}\n",
      "최적 파라미터에서 테스트 세트 점수: 0.92\n"
     ]
    }
   ],
   "source": [
    "from sklearn.model_selection import train_test_split\n",
    "from sklearn.svm import SVC\n",
    "\n",
    "# 데이터를 훈련+검증 세트 그리고 테스트 세트로 분할\n",
    "X_trainval, X_test, y_trainval, y_test = train_test_split(\n",
    "    iris.data, iris.target, random_state=0)\n",
    "\n",
    "# 훈련+검증 세트를 훈련 세트와 검증 세트로 분할\n",
    "X_train, X_valid, y_train, y_valid = train_test_split(\n",
    "    X_trainval, y_trainval, random_state=1)\n",
    "\n",
    "print(\"훈련 세트의 크기: {}   검증 세트의 크기: {}   테스트 세트의 크기:\"\n",
    "      \" {}\\n\".format(X_train.shape[0], X_valid.shape[0], X_test.shape[0]))\n",
    "\n",
    "\n",
    "best_score = 0\n",
    "\n",
    "# 그리드 서치\n",
    "for gamma in [0.001, 0.01, 0.1, 1, 10, 100]:\n",
    "    for C in [0.001, 0.01, 0.1, 1, 10, 100]:\n",
    "        # 매개변수의 각 조합에 대해 SVC를 훈련\n",
    "        svm = SVC(gamma=gamma, C=C)\n",
    "        svm.fit(X_train, y_train)\n",
    "        # 검증 세트로 SVC를 평가\n",
    "        score = svm.score(X_valid, y_valid)\n",
    "        # 점수가 더 높으면 매개변수와 함께 기록\n",
    "        if score > best_score:\n",
    "            best_score = score\n",
    "            best_parameters = {'C': C, 'gamma': gamma}\n",
    "\n",
    "\n",
    "# 훈련 세트와 검증 세트를 합쳐 모델을 다시 만든 후\n",
    "# 테스트 세트를 사용해 평가\n",
    "svm = SVC(**best_parameters)\n",
    "svm.fit(X_trainval, y_trainval)\n",
    "test_score = svm.score(X_test, y_test)\n",
    "print(\"검증 세트에서 최고 점수: {:.2f}\".format(best_score))\n",
    "print(\"최적 파라미터: \", best_parameters)\n",
    "print(\"최적 파라미터에서 테스트 세트 점수: {:.2f}\".format(test_score))"
   ]
  },
  {
   "cell_type": "markdown",
   "metadata": {
    "colab_type": "text",
    "id": "gWBnbgZtZ298",
    "slideshow": {
     "slide_type": "slide"
    }
   },
   "source": [
    "## 교차 검증을 사용한 그리드 서치"
   ]
  },
  {
   "cell_type": "code",
   "execution_count": 20,
   "metadata": {
    "colab": {
     "base_uri": "https://localhost:8080/",
     "height": 89
    },
    "colab_type": "code",
    "id": "JwbeAekiZ5uj",
    "outputId": "c748ee0c-4412-41d5-bc15-353800e4604a",
    "slideshow": {
     "slide_type": "slide"
    }
   },
   "outputs": [
    {
     "name": "stdout",
     "output_type": "stream",
     "text": [
      "검증 세트에서 최고 점수: 0.97\n",
      "최적 파라미터:  {'C': 10, 'gamma': 0.1}\n",
      "최적 파라미터에서 테스트 세트 점수: 0.97\n"
     ]
    }
   ],
   "source": [
    "best_score = 0\n",
    "\n",
    "# 교차 검증을 사용한 그리드 서치\n",
    "for gamma in [0.001, 0.01, 0.1, 1, 10, 100]:\n",
    "    for C in [0.001, 0.01, 0.1, 1, 10, 100]:\n",
    "        # 매개변수의 각 조합에 대해 SVC를 훈련\n",
    "        svm = SVC(gamma=gamma, C=C)\n",
    "        # 교차 검증을 적용\n",
    "        scores = cross_val_score(svm, X_trainval, y_trainval, cv=5)\n",
    "        # 교차 검증 정확도의 평균을 계산\n",
    "        score = scores.mean()\n",
    "        # 점수가 더 높으면 매개변수와 함께 기록\n",
    "        if score > best_score:\n",
    "            best_score = score\n",
    "            best_parameters = {'C': C, 'gamma': gamma}\n",
    "\n",
    "\n",
    "# 훈련 세트와 검증 세트를 합쳐 모델을 다시 만듬\n",
    "svm = SVC(**best_parameters)\n",
    "svm.fit(X_trainval, y_trainval)\n",
    "test_score = svm.score(X_test, y_test)\n",
    "print(\"검증 세트에서 최고 점수: {:.2f}\".format(best_score))\n",
    "print(\"최적 파라미터: \", best_parameters)\n",
    "print(\"최적 파라미터에서 테스트 세트 점수: {:.2f}\".format(test_score))"
   ]
  },
  {
   "cell_type": "markdown",
   "metadata": {
    "colab_type": "text",
    "id": "o6HYJoZ51fZd",
    "slideshow": {
     "slide_type": "slide"
    }
   },
   "source": [
    "- 5-겹 교차 검증으로 C와 gamma 설정에 대한 SVM 정확도를 평가하려면 36 x 5 = 180 개의 모델이 필요"
   ]
  },
  {
   "cell_type": "code",
   "execution_count": 21,
   "metadata": {
    "colab": {
     "base_uri": "https://localhost:8080/",
     "height": 335
    },
    "colab_type": "code",
    "executionInfo": {
     "elapsed": 1949,
     "status": "ok",
     "timestamp": 1597674840986,
     "user": {
      "displayName": "oz To",
      "photoUrl": "",
      "userId": "12937505880450462933"
     },
     "user_tz": -540
    },
    "id": "glEPjgEh1uJH",
    "outputId": "d1fcd7fa-86ef-4a20-ffe2-ff75ba165d46",
    "slideshow": {
     "slide_type": "slide"
    }
   },
   "outputs": [
    {
     "data": {
      "image/png": "[encoded data removed]",
      "text/plain": [
       "<Figure size 720x216 with 1 Axes>"
      ]
     },
     "metadata": {
      "needs_background": "light"
     },
     "output_type": "display_data"
    }
   ],
   "source": [
    "# 최적의 매개변수를 선택하는 방법\n",
    "# 교차 검증 정확도 평균이 가장 높은 매개변수를 동그라미로 표시\n",
    "mglearn.plots.plot_cross_val_selection()"
   ]
  },
  {
   "cell_type": "code",
   "execution_count": 22,
   "metadata": {
    "colab": {
     "base_uri": "https://localhost:8080/",
     "height": 440
    },
    "colab_type": "code",
    "executionInfo": {
     "elapsed": 1798,
     "status": "ok",
     "timestamp": 1597674957230,
     "user": {
      "displayName": "oz To",
      "photoUrl": "",
      "userId": "12937505880450462933"
     },
     "user_tz": -540
    },
    "id": "YD10RXP-2Kcc",
    "outputId": "c581a93d-0197-42e3-b170-70aaeaafae33",
    "slideshow": {
     "slide_type": "slide"
    }
   },
   "outputs": [
    {
     "data": {
      "image/png": "[encoded data removed]",
      "text/plain": [
       "<Figure size 700x210 with 1 Axes>"
      ]
     },
     "metadata": {
      "needs_background": "light"
     },
     "output_type": "display_data"
    }
   ],
   "source": [
    "# 교차 검증과 그리드 서치를 사용한 매개변수 선택과 모델 평가의 작업 흐름\n",
    "mglearn.plots.plot_grid_search_overview()"
   ]
  },
  {
   "cell_type": "markdown",
   "metadata": {
    "colab_type": "text",
    "id": "CQhNYEqHaRcU",
    "slideshow": {
     "slide_type": "slide"
    }
   },
   "source": [
    "## GridSearchCV 메소드를 이용한 그리드서치"
   ]
  },
  {
   "cell_type": "code",
   "execution_count": 23,
   "metadata": {
    "colab": {
     "base_uri": "https://localhost:8080/",
     "height": 53
    },
    "colab_type": "code",
    "executionInfo": {
     "elapsed": 777,
     "status": "ok",
     "timestamp": 1597675028786,
     "user": {
      "displayName": "oz To",
      "photoUrl": "",
      "userId": "12937505880450462933"
     },
     "user_tz": -540
    },
    "id": "8alJXc2jaQvk",
    "outputId": "769b2352-ba7e-434e-e3e1-5f101c9d1e4f",
    "slideshow": {
     "slide_type": "slide"
    }
   },
   "outputs": [
    {
     "name": "stdout",
     "output_type": "stream",
     "text": [
      "매개변수 그리드:\n",
      "{'C': [0.001, 0.01, 0.1, 1, 10, 100], 'gamma': [0.001, 0.01, 0.1, 1, 10, 100]}\n"
     ]
    }
   ],
   "source": [
    "# 매개변수 그리드\n",
    "param_grid = {'C': [0.001, 0.01, 0.1, 1, 10, 100],\n",
    "             'gamma': [0.001, 0.01, 0.1, 1, 10, 100] }\n",
    "print(\"매개변수 그리드:\\n{}\".format(param_grid))"
   ]
  },
  {
   "cell_type": "code",
   "execution_count": 24,
   "metadata": {
    "colab": {},
    "colab_type": "code",
    "executionInfo": {
     "elapsed": 788,
     "status": "ok",
     "timestamp": 1597675031544,
     "user": {
      "displayName": "oz To",
      "photoUrl": "",
      "userId": "12937505880450462933"
     },
     "user_tz": -540
    },
    "id": "Hk8otxS9ab0c",
    "slideshow": {
     "slide_type": "slide"
    }
   },
   "outputs": [
    {
     "data": {
      "text/plain": [
       "GridSearchCV(cv=5, error_score=nan,\n",
       "             estimator=SVC(C=1.0, break_ties=False, cache_size=200,\n",
       "                           class_weight=None, coef0=0.0,\n",
       "                           decision_function_shape='ovr', degree=3,\n",
       "                           gamma='scale', kernel='rbf', max_iter=-1,\n",
       "                           probability=False, random_state=None, shrinking=True,\n",
       "                           tol=0.001, verbose=False),\n",
       "             iid='deprecated', n_jobs=None,\n",
       "             param_grid={'C': [0.001, 0.01, 0.1, 1, 10, 100],\n",
       "                         'gamma': [0.001, 0.01, 0.1, 1, 10, 100]},\n",
       "             pre_dispatch='2*n_jobs', refit=True, return_train_score=True,\n",
       "             scoring=None, verbose=0)"
      ]
     },
     "execution_count": 24,
     "metadata": {},
     "output_type": "execute_result"
    }
   ],
   "source": [
    "from sklearn.model_selection import GridSearchCV\n",
    "from sklearn.svm import SVC\n",
    "\n",
    "# GridSearchCV\n",
    "model = SVC()\n",
    "grid_search = GridSearchCV(model, param_grid, cv=5, return_train_score=True)\n",
    "\n",
    "# train_test_split\n",
    "X_train, X_test, y_train, y_test = train_test_split(iris.data, \n",
    "                                                   iris.target,\n",
    "                                                   random_state=0)\n",
    "\n",
    "# grid_search.fit\n",
    "grid_search.fit(X_train, y_train)"
   ]
  },
  {
   "cell_type": "markdown",
   "metadata": {
    "colab_type": "text",
    "id": "tIAo7oxEatkV",
    "slideshow": {
     "slide_type": "slide"
    }
   },
   "source": [
    "- GridSearchCV 객체에 fit() 매서드는 최적의 매개변수를 찾는 일 뿐만 아니라 교차 검증 성능이 가장 좋은 매개변수로 전체 훈련 데이터 세트에 대해 새로운 모델을 자동을 만듬\n",
    "\n",
    "- GridSearchCV는 전체 데이터로 학습한 모델에 접근할 수 있도록 predict()와 score() 메서드 제공\n",
    "\n",
    "- GridSearchCV 분류 : StratifiedKFold 회귀 : KFold\n",
    "\n",
    "- 사용에 따라서는 predict_proba, decision_function도 제공"
   ]
  },
  {
   "cell_type": "code",
   "execution_count": 25,
   "metadata": {
    "colab": {
     "base_uri": "https://localhost:8080/",
     "height": 35
    },
    "colab_type": "code",
    "executionInfo": {
     "elapsed": 887,
     "status": "ok",
     "timestamp": 1597675069330,
     "user": {
      "displayName": "oz To",
      "photoUrl": "",
      "userId": "12937505880450462933"
     },
     "user_tz": -540
    },
    "id": "E0Al46AxbOCc",
    "outputId": "13539156-065c-4fc3-dd1f-b7bc7c9a544a",
    "slideshow": {
     "slide_type": "slide"
    }
   },
   "outputs": [
    {
     "name": "stdout",
     "output_type": "stream",
     "text": [
      "테스트 세트 점수: 0.97\n"
     ]
    }
   ],
   "source": [
    "# 테스트 세트 점수\n",
    "test_score = grid_search.score(X_test, y_test)\n",
    "print(\"테스트 세트 점수: {:.2f}\".format( test_score ))"
   ]
  },
  {
   "cell_type": "code",
   "execution_count": 26,
   "metadata": {
    "colab": {
     "base_uri": "https://localhost:8080/",
     "height": 53
    },
    "colab_type": "code",
    "executionInfo": {
     "elapsed": 743,
     "status": "ok",
     "timestamp": 1597675075377,
     "user": {
      "displayName": "oz To",
      "photoUrl": "",
      "userId": "12937505880450462933"
     },
     "user_tz": -540
    },
    "id": "VXVx0SyUbQzO",
    "outputId": "b596ad69-517a-40af-ee89-d73286288011",
    "slideshow": {
     "slide_type": "slide"
    }
   },
   "outputs": [
    {
     "name": "stdout",
     "output_type": "stream",
     "text": [
      "최적 매개변수: {'C': 10, 'gamma': 0.1}\n",
      "최고 교차 검증 점수: 0.97\n"
     ]
    }
   ],
   "source": [
    "# 최적 매개변수\n",
    "# 최고 교차 검증 점수\n",
    "print(\"최적 매개변수: {}\".format(grid_search.best_params_))\n",
    "print(\"최고 교차 검증 점수: {:.2f}\".format(grid_search.best_score_))"
   ]
  },
  {
   "cell_type": "markdown",
   "metadata": {
    "colab_type": "text",
    "id": "U3LXIYJNbV02",
    "slideshow": {
     "slide_type": "slide"
    }
   },
   "source": [
    "- 최적 매개 변수에서 전체 훈련 세트를 사용하여 학습한 모델은 best_estimator_\n",
    "\n",
    "- grid_search 객체가 predict와 score 메서드를 가지고 있으므로 예측이나 모델을 평가하기 위해 best_estimator_ 속성을 사용할 필요가 없다."
   ]
  },
  {
   "cell_type": "code",
   "execution_count": 27,
   "metadata": {
    "colab": {
     "base_uri": "https://localhost:8080/",
     "height": 107
    },
    "colab_type": "code",
    "executionInfo": {
     "elapsed": 759,
     "status": "ok",
     "timestamp": 1597675095489,
     "user": {
      "displayName": "oz To",
      "photoUrl": "",
      "userId": "12937505880450462933"
     },
     "user_tz": -540
    },
    "id": "DrazI5Wwbid1",
    "outputId": "ac7603cb-2a4f-421b-ff7f-6380b3c26338",
    "slideshow": {
     "slide_type": "slide"
    }
   },
   "outputs": [
    {
     "name": "stdout",
     "output_type": "stream",
     "text": [
      "최고 성능 모델:\n",
      "SVC(C=10, break_ties=False, cache_size=200, class_weight=None, coef0=0.0,\n",
      "    decision_function_shape='ovr', degree=3, gamma=0.1, kernel='rbf',\n",
      "    max_iter=-1, probability=False, random_state=None, shrinking=True,\n",
      "    tol=0.001, verbose=False)\n"
     ]
    }
   ],
   "source": [
    "# 최고 성능 모델\n",
    "print(\"최고 성능 모델:\\n{}\".format( grid_search.best_estimator_ ))"
   ]
  },
  {
   "cell_type": "markdown",
   "metadata": {
    "colab_type": "text",
    "id": "JWUU8nFabk5O",
    "slideshow": {
     "slide_type": "slide"
    }
   },
   "source": [
    "## 교차 검증 결과 분석\n",
    "\n",
    "- 교차 검증의 결과를 시각화하면 검색 대상 매개변수가 모델의 일반화에 영향을 얼마나 주는지 이해하는 데 도움이 됨"
   ]
  },
  {
   "cell_type": "code",
   "execution_count": 28,
   "metadata": {
    "colab": {
     "base_uri": "https://localhost:8080/",
     "height": 748
    },
    "colab_type": "code",
    "executionInfo": {
     "elapsed": 876,
     "status": "ok",
     "timestamp": 1597675514978,
     "user": {
      "displayName": "oz To",
      "photoUrl": "",
      "userId": "12937505880450462933"
     },
     "user_tz": -540
    },
    "id": "xzSs_HdicV5q",
    "outputId": "a056a78c-2093-4ee9-d2de-eb68c6cffa37",
    "slideshow": {
     "slide_type": "slide"
    }
   },
   "outputs": [
    {
     "data": {
      "text/html": [
       "<div>\n",
       "<style scoped>\n",
       "    .dataframe tbody tr th:only-of-type {\n",
       "        vertical-align: middle;\n",
       "    }\n",
       "\n",
       "    .dataframe tbody tr th {\n",
       "        vertical-align: top;\n",
       "    }\n",
       "\n",
       "    .dataframe thead th {\n",
       "        text-align: right;\n",
       "    }\n",
       "</style>\n",
       "<table border=\"1\" class=\"dataframe\">\n",
       "  <thead>\n",
       "    <tr style=\"text-align: right;\">\n",
       "      <th></th>\n",
       "      <th>0</th>\n",
       "      <th>1</th>\n",
       "      <th>2</th>\n",
       "      <th>3</th>\n",
       "      <th>4</th>\n",
       "    </tr>\n",
       "  </thead>\n",
       "  <tbody>\n",
       "    <tr>\n",
       "      <th>mean_fit_time</th>\n",
       "      <td>0.000799799</td>\n",
       "      <td>0.00160503</td>\n",
       "      <td>0.000800753</td>\n",
       "      <td>0.00080061</td>\n",
       "      <td>0</td>\n",
       "    </tr>\n",
       "    <tr>\n",
       "      <th>std_fit_time</th>\n",
       "      <td>0.0015996</td>\n",
       "      <td>0.00196577</td>\n",
       "      <td>0.00160151</td>\n",
       "      <td>0.00160122</td>\n",
       "      <td>0</td>\n",
       "    </tr>\n",
       "    <tr>\n",
       "      <th>mean_score_time</th>\n",
       "      <td>0</td>\n",
       "      <td>0</td>\n",
       "      <td>0</td>\n",
       "      <td>0</td>\n",
       "      <td>0.000794649</td>\n",
       "    </tr>\n",
       "    <tr>\n",
       "      <th>std_score_time</th>\n",
       "      <td>0</td>\n",
       "      <td>0</td>\n",
       "      <td>0</td>\n",
       "      <td>0</td>\n",
       "      <td>0.0015893</td>\n",
       "    </tr>\n",
       "    <tr>\n",
       "      <th>param_C</th>\n",
       "      <td>0.001</td>\n",
       "      <td>0.001</td>\n",
       "      <td>0.001</td>\n",
       "      <td>0.001</td>\n",
       "      <td>0.001</td>\n",
       "    </tr>\n",
       "    <tr>\n",
       "      <th>param_gamma</th>\n",
       "      <td>0.001</td>\n",
       "      <td>0.01</td>\n",
       "      <td>0.1</td>\n",
       "      <td>1</td>\n",
       "      <td>10</td>\n",
       "    </tr>\n",
       "    <tr>\n",
       "      <th>params</th>\n",
       "      <td>{'C': 0.001, 'gamma': 0.001}</td>\n",
       "      <td>{'C': 0.001, 'gamma': 0.01}</td>\n",
       "      <td>{'C': 0.001, 'gamma': 0.1}</td>\n",
       "      <td>{'C': 0.001, 'gamma': 1}</td>\n",
       "      <td>{'C': 0.001, 'gamma': 10}</td>\n",
       "    </tr>\n",
       "    <tr>\n",
       "      <th>split0_test_score</th>\n",
       "      <td>0.347826</td>\n",
       "      <td>0.347826</td>\n",
       "      <td>0.347826</td>\n",
       "      <td>0.347826</td>\n",
       "      <td>0.347826</td>\n",
       "    </tr>\n",
       "    <tr>\n",
       "      <th>split1_test_score</th>\n",
       "      <td>0.347826</td>\n",
       "      <td>0.347826</td>\n",
       "      <td>0.347826</td>\n",
       "      <td>0.347826</td>\n",
       "      <td>0.347826</td>\n",
       "    </tr>\n",
       "    <tr>\n",
       "      <th>split2_test_score</th>\n",
       "      <td>0.363636</td>\n",
       "      <td>0.363636</td>\n",
       "      <td>0.363636</td>\n",
       "      <td>0.363636</td>\n",
       "      <td>0.363636</td>\n",
       "    </tr>\n",
       "    <tr>\n",
       "      <th>split3_test_score</th>\n",
       "      <td>0.363636</td>\n",
       "      <td>0.363636</td>\n",
       "      <td>0.363636</td>\n",
       "      <td>0.363636</td>\n",
       "      <td>0.363636</td>\n",
       "    </tr>\n",
       "    <tr>\n",
       "      <th>split4_test_score</th>\n",
       "      <td>0.409091</td>\n",
       "      <td>0.409091</td>\n",
       "      <td>0.409091</td>\n",
       "      <td>0.409091</td>\n",
       "      <td>0.409091</td>\n",
       "    </tr>\n",
       "    <tr>\n",
       "      <th>mean_test_score</th>\n",
       "      <td>0.366403</td>\n",
       "      <td>0.366403</td>\n",
       "      <td>0.366403</td>\n",
       "      <td>0.366403</td>\n",
       "      <td>0.366403</td>\n",
       "    </tr>\n",
       "    <tr>\n",
       "      <th>std_test_score</th>\n",
       "      <td>0.0224845</td>\n",
       "      <td>0.0224845</td>\n",
       "      <td>0.0224845</td>\n",
       "      <td>0.0224845</td>\n",
       "      <td>0.0224845</td>\n",
       "    </tr>\n",
       "    <tr>\n",
       "      <th>rank_test_score</th>\n",
       "      <td>22</td>\n",
       "      <td>22</td>\n",
       "      <td>22</td>\n",
       "      <td>22</td>\n",
       "      <td>22</td>\n",
       "    </tr>\n",
       "    <tr>\n",
       "      <th>split0_train_score</th>\n",
       "      <td>0.370787</td>\n",
       "      <td>0.370787</td>\n",
       "      <td>0.370787</td>\n",
       "      <td>0.370787</td>\n",
       "      <td>0.370787</td>\n",
       "    </tr>\n",
       "    <tr>\n",
       "      <th>split1_train_score</th>\n",
       "      <td>0.370787</td>\n",
       "      <td>0.370787</td>\n",
       "      <td>0.370787</td>\n",
       "      <td>0.370787</td>\n",
       "      <td>0.370787</td>\n",
       "    </tr>\n",
       "    <tr>\n",
       "      <th>split2_train_score</th>\n",
       "      <td>0.366667</td>\n",
       "      <td>0.366667</td>\n",
       "      <td>0.366667</td>\n",
       "      <td>0.366667</td>\n",
       "      <td>0.366667</td>\n",
       "    </tr>\n",
       "    <tr>\n",
       "      <th>split3_train_score</th>\n",
       "      <td>0.366667</td>\n",
       "      <td>0.366667</td>\n",
       "      <td>0.366667</td>\n",
       "      <td>0.366667</td>\n",
       "      <td>0.366667</td>\n",
       "    </tr>\n",
       "    <tr>\n",
       "      <th>split4_train_score</th>\n",
       "      <td>0.355556</td>\n",
       "      <td>0.355556</td>\n",
       "      <td>0.355556</td>\n",
       "      <td>0.355556</td>\n",
       "      <td>0.355556</td>\n",
       "    </tr>\n",
       "    <tr>\n",
       "      <th>mean_train_score</th>\n",
       "      <td>0.366092</td>\n",
       "      <td>0.366092</td>\n",
       "      <td>0.366092</td>\n",
       "      <td>0.366092</td>\n",
       "      <td>0.366092</td>\n",
       "    </tr>\n",
       "    <tr>\n",
       "      <th>std_train_score</th>\n",
       "      <td>0.00558129</td>\n",
       "      <td>0.00558129</td>\n",
       "      <td>0.00558129</td>\n",
       "      <td>0.00558129</td>\n",
       "      <td>0.00558129</td>\n",
       "    </tr>\n",
       "  </tbody>\n",
       "</table>\n",
       "</div>"
      ],
      "text/plain": [
       "                                               0                            1  \\\n",
       "mean_fit_time                        0.000799799                   0.00160503   \n",
       "std_fit_time                           0.0015996                   0.00196577   \n",
       "mean_score_time                                0                            0   \n",
       "std_score_time                                 0                            0   \n",
       "param_C                                    0.001                        0.001   \n",
       "param_gamma                                0.001                         0.01   \n",
       "params              {'C': 0.001, 'gamma': 0.001}  {'C': 0.001, 'gamma': 0.01}   \n",
       "split0_test_score                       0.347826                     0.347826   \n",
       "split1_test_score                       0.347826                     0.347826   \n",
       "split2_test_score                       0.363636                     0.363636   \n",
       "split3_test_score                       0.363636                     0.363636   \n",
       "split4_test_score                       0.409091                     0.409091   \n",
       "mean_test_score                         0.366403                     0.366403   \n",
       "std_test_score                         0.0224845                    0.0224845   \n",
       "rank_test_score                               22                           22   \n",
       "split0_train_score                      0.370787                     0.370787   \n",
       "split1_train_score                      0.370787                     0.370787   \n",
       "split2_train_score                      0.366667                     0.366667   \n",
       "split3_train_score                      0.366667                     0.366667   \n",
       "split4_train_score                      0.355556                     0.355556   \n",
       "mean_train_score                        0.366092                     0.366092   \n",
       "std_train_score                       0.00558129                   0.00558129   \n",
       "\n",
       "                                             2                         3  \\\n",
       "mean_fit_time                      0.000800753                0.00080061   \n",
       "std_fit_time                        0.00160151                0.00160122   \n",
       "mean_score_time                              0                         0   \n",
       "std_score_time                               0                         0   \n",
       "param_C                                  0.001                     0.001   \n",
       "param_gamma                                0.1                         1   \n",
       "params              {'C': 0.001, 'gamma': 0.1}  {'C': 0.001, 'gamma': 1}   \n",
       "split0_test_score                     0.347826                  0.347826   \n",
       "split1_test_score                     0.347826                  0.347826   \n",
       "split2_test_score                     0.363636                  0.363636   \n",
       "split3_test_score                     0.363636                  0.363636   \n",
       "split4_test_score                     0.409091                  0.409091   \n",
       "mean_test_score                       0.366403                  0.366403   \n",
       "std_test_score                       0.0224845                 0.0224845   \n",
       "rank_test_score                             22                        22   \n",
       "split0_train_score                    0.370787                  0.370787   \n",
       "split1_train_score                    0.370787                  0.370787   \n",
       "split2_train_score                    0.366667                  0.366667   \n",
       "split3_train_score                    0.366667                  0.366667   \n",
       "split4_train_score                    0.355556                  0.355556   \n",
       "mean_train_score                      0.366092                  0.366092   \n",
       "std_train_score                     0.00558129                0.00558129   \n",
       "\n",
       "                                            4  \n",
       "mean_fit_time                               0  \n",
       "std_fit_time                                0  \n",
       "mean_score_time                   0.000794649  \n",
       "std_score_time                      0.0015893  \n",
       "param_C                                 0.001  \n",
       "param_gamma                                10  \n",
       "params              {'C': 0.001, 'gamma': 10}  \n",
       "split0_test_score                    0.347826  \n",
       "split1_test_score                    0.347826  \n",
       "split2_test_score                    0.363636  \n",
       "split3_test_score                    0.363636  \n",
       "split4_test_score                    0.409091  \n",
       "mean_test_score                      0.366403  \n",
       "std_test_score                      0.0224845  \n",
       "rank_test_score                            22  \n",
       "split0_train_score                   0.370787  \n",
       "split1_train_score                   0.370787  \n",
       "split2_train_score                   0.366667  \n",
       "split3_train_score                   0.366667  \n",
       "split4_train_score                   0.355556  \n",
       "mean_train_score                     0.366092  \n",
       "std_train_score                    0.00558129  "
      ]
     },
     "execution_count": 28,
     "metadata": {},
     "output_type": "execute_result"
    }
   ],
   "source": [
    "import pandas as pd\n",
    "import numpy as np\n",
    "\n",
    "# Pandas에서 보는 옵션 설정\n",
    "pd.set_option('display.max_columns', None)\n",
    "\n",
    "# DataFrame으로 변환\n",
    "results = pd.DataFrame(grid_search.cv_results_)\n",
    "\n",
    "# 처음 다섯 개 행을 출력\n",
    "results.head().T"
   ]
  },
  {
   "cell_type": "markdown",
   "metadata": {
    "colab_type": "text",
    "id": "yqNbSStBck4V",
    "slideshow": {
     "slide_type": "slide"
    }
   },
   "source": [
    "### C와 gamma 시각화\n",
    "\n",
    " "
   ]
  },
  {
   "cell_type": "code",
   "execution_count": 29,
   "metadata": {
    "colab": {
     "base_uri": "https://localhost:8080/",
     "height": 297
    },
    "colab_type": "code",
    "executionInfo": {
     "elapsed": 1105,
     "status": "ok",
     "timestamp": 1597675547007,
     "user": {
      "displayName": "oz To",
      "photoUrl": "",
      "userId": "12937505880450462933"
     },
     "user_tz": -540
    },
    "id": "1n1od7iJcmcG",
    "outputId": "81267f8d-83ed-458b-ec10-ab24a228c1be",
    "slideshow": {
     "slide_type": "slide"
    }
   },
   "outputs": [
    {
     "data": {
      "text/plain": [
       "<matplotlib.collections.PolyCollection at 0x261088fee08>"
      ]
     },
     "execution_count": 29,
     "metadata": {},
     "output_type": "execute_result"
    },
    {
     "data": {
      "image/png": "[encoded data removed]",
      "text/plain": [
       "<Figure size 432x288 with 1 Axes>"
      ]
     },
     "metadata": {
      "needs_background": "light"
     },
     "output_type": "display_data"
    }
   ],
   "source": [
    "import mglearn\n",
    "\n",
    "scores = np.array( results.mean_test_score ).reshape(6,6)\n",
    "\n",
    "# 교차 검증 평균 점수 히트맵 그래프\n",
    "mglearn.tools.heatmap(scores, xlabel='gamma', ylabel='C',\n",
    "                     xticklabels=param_grid['gamma'],\n",
    "                     yticklabels=param_grid['C'],\n",
    "                     cmap='viridis')"
   ]
  },
  {
   "cell_type": "markdown",
   "metadata": {
    "colab_type": "text",
    "id": "1w1w-88WdH_e",
    "slideshow": {
     "slide_type": "slide"
    }
   },
   "source": [
    "- 정확도가 높으면 -> 밝은 색 / 낮으면 -> 어두운 색 \n",
    "\n",
    "- SVC 가 매개변수에 민감 \n",
    "\n",
    " "
   ]
  },
  {
   "cell_type": "markdown",
   "metadata": {
    "colab_type": "text",
    "id": "wpfsIdDXdMbP",
    "slideshow": {
     "slide_type": "slide"
    }
   },
   "source": [
    "### 바람직하지 못한 예\n",
    "\n",
    "- 검색 범위가 적절하게 선택되지 않은 경우"
   ]
  },
  {
   "cell_type": "code",
   "execution_count": 30,
   "metadata": {
    "colab": {
     "base_uri": "https://localhost:8080/",
     "height": 321
    },
    "colab_type": "code",
    "executionInfo": {
     "elapsed": 2360,
     "status": "ok",
     "timestamp": 1597675737496,
     "user": {
      "displayName": "oz To",
      "photoUrl": "",
      "userId": "12937505880450462933"
     },
     "user_tz": -540
    },
    "id": "33StzRe8dKNl",
    "outputId": "6c1b8520-16be-4817-8381-f084bfd53e53",
    "slideshow": {
     "slide_type": "slide"
    }
   },
   "outputs": [
    {
     "data": {
      "text/plain": [
       "<matplotlib.colorbar.Colorbar at 0x26108997cc8>"
      ]
     },
     "execution_count": 30,
     "metadata": {},
     "output_type": "execute_result"
    },
    {
     "data": {
      "image/png": "[encoded data removed]",
      "text/plain": [
       "<Figure size 936x360 with 4 Axes>"
      ]
     },
     "metadata": {
      "needs_background": "light"
     },
     "output_type": "display_data"
    }
   ],
   "source": [
    "# 검색 범위가 적절하게 선택되지 않은 경우\n",
    "import matplotlib.pyplot as plt\n",
    "\n",
    "fig, axes = plt.subplots(1, 3, figsize=(13, 5))\n",
    "param_grid_linear = {'C': np.linspace(1, 2, 6), 'gamma':  np.linspace(1, 2, 6)}\n",
    "\n",
    "param_grid_one_log = {'C': np.linspace(1, 2, 6), 'gamma':  np.logspace(-3, 2, 6)}\n",
    "\n",
    "param_grid_range = {'C': np.logspace(-3, 2, 6), 'gamma':  np.logspace(-7, -2, 6)}\n",
    "\n",
    "\n",
    "for param_grid, ax in zip([param_grid_linear, param_grid_one_log, param_grid_range], axes):\n",
    "    grid_search = GridSearchCV(SVC(), param_grid, cv=5)\n",
    "    grid_search.fit(X_train, y_train)\n",
    "    scores = grid_search.cv_results_['mean_test_score'].reshape(6,6)\n",
    "    \n",
    "    # 교차 검증 평균 점수 히트맵 그래프\n",
    "    scores_img = mglearn.tools.heatmap(scores, xlabel='gamma', ylabel='C',\n",
    "                     xticklabels=param_grid['gamma'],\n",
    "                     yticklabels=param_grid['C'],\n",
    "                     cmap='viridis', ax=ax)\n",
    "    \n",
    "plt.colorbar(scores_img, ax=axes.tolist() )"
   ]
  },
  {
   "cell_type": "markdown",
   "metadata": {
    "colab_type": "text",
    "id": "0tttHK__drvj",
    "slideshow": {
     "slide_type": "slide"
    }
   },
   "source": [
    "- 첫 번째 그래프는 점수 변화가 없어서 -> 전체 매개변수 그리드가 같은 색 -> 부적절하게 발생\n",
    "\n",
    "- 그러나 매개변수 설정이 바뀌어도 정확에 변화 없다면 -> 매개변수가 전혀 중요하지 않은 것 \n",
    "\n",
    " - 두 번째 그래프 세로 띠 -> Gamma 매개 변수만 정확도에 영향을 준다는 뜻 \n",
    "\n",
    "- 교차 검증 점수를 토대로 매개변수 그리드를 튜닝하는 것 -> 아주 안전한 방법 "
   ]
  },
  {
   "cell_type": "markdown",
   "metadata": {
    "colab_type": "text",
    "id": "7CJVo-SFPKa5",
    "slideshow": {
     "slide_type": "slide"
    }
   },
   "source": [
    "# 모델 평가"
   ]
  },
  {
   "cell_type": "markdown",
   "metadata": {
    "colab_type": "text",
    "id": "0s854FoWqV1Q",
    "slideshow": {
     "slide_type": "slide"
    }
   },
   "source": [
    "분류의 평가 지표\n",
    "\n",
    "정확도, 오차 행렬, 분류 리포트,\n",
    "정밀도, 재현율, f1_score, 정밀도-재현율 곡선(ROC), AUC"
   ]
  },
  {
   "cell_type": "markdown",
   "metadata": {
    "colab_type": "text",
    "id": "nR-y7KSxrUf2",
    "slideshow": {
     "slide_type": "slide"
    }
   },
   "source": [
    "## 정확도 (Accuracy)\n",
    "\n",
    "- 실제 데이터에서 에측 데이터가 얼마나 같은지를 판단하는 지표\n",
    "\n",
    " > \\begin{equation}\n",
    "\\text{정확도(Accuracy)} = \\frac{\\text{예측결과가동일한데이터건수}}{\\text{전체예측데이터건수}}\n",
    "\\end{equation}\n",
    "\n",
    "- 직관적으로 모델 예측 성능을 나타내는 평가 지표"
   ]
  },
  {
   "cell_type": "markdown",
   "metadata": {
    "colab_type": "text",
    "id": "iOLN1FZSshZ8",
    "slideshow": {
     "slide_type": "slide"
    }
   },
   "source": [
    "## 오차행렬 (Confusion Matrix)\n",
    "\n",
    "- 학습된 분류 모델이 예측을 수행하면서 얼마나 혼란스러워(confused) 하고 있는지 함께 보여주는 지표\n",
    "- 예측 오류가 얼마인지와 더불어 어떠한 유형의 예측 오류가 발생하고 있는지를 함께 나타내는 지표\n"
   ]
  },
  {
   "cell_type": "code",
   "execution_count": 31,
   "metadata": {
    "colab": {
     "base_uri": "https://localhost:8080/",
     "height": 270
    },
    "colab_type": "code",
    "executionInfo": {
     "elapsed": 965,
     "status": "ok",
     "timestamp": 1597757808869,
     "user": {
      "displayName": "oz To",
      "photoUrl": "",
      "userId": "12937505880450462933"
     },
     "user_tz": -540
    },
    "id": "AP6k09m2yVcZ",
    "outputId": "8abba293-0bd4-49e9-e4b9-d3740201a839",
    "slideshow": {
     "slide_type": "slide"
    }
   },
   "outputs": [
    {
     "data": {
      "image/png": "[encoded data removed]",
      "text/plain": [
       "<Figure size 432x288 with 1 Axes>"
      ]
     },
     "metadata": {
      "needs_background": "light"
     },
     "output_type": "display_data"
    }
   ],
   "source": [
    "import mglearn\n",
    "mglearn.plots.plot_binary_confusion_matrix()"
   ]
  },
  {
   "cell_type": "markdown",
   "metadata": {
    "colab_type": "text",
    "id": "f2jC8ie3yb5s",
    "slideshow": {
     "slide_type": "slide"
    }
   },
   "source": [
    "- True / False : 예측값과 실제값이 같은가 /틀린가\n",
    "- Negative / Positive : 예측 결과 값이 부정(0) / 긍정(1)\n",
    "\n",
    "- TN : 예측값을 Negative 값 0으로 예측했고 실제 값은 역시 Negative 값 0\n",
    "- FP : 예측값을 Positive 값 1로 예측 했는데 실제 값은 Negative 값 0\n",
    "- FN : 예측값을 Negative 값 0으로 예측했는데, 실제 값은 Positive 값 1\n",
    "- TP : 예측값을 Positive 값 1로 예측했는데 실제 값 역시 Positive 값 1"
   ]
  },
  {
   "cell_type": "markdown",
   "metadata": {
    "colab_type": "text",
    "id": "Xiuk4OEhywPg",
    "slideshow": {
     "slide_type": "slide"
    }
   },
   "source": [
    "[confusion_matrix()](https://scikit-learn.org/stable/modules/generated/sklearn.metrics.confusion_matrix.html)\n",
    "```\n",
    "confusion_matrix(y_true, y_pred, *, labels=None, sample_weight=None, normalize=None)\n",
    "```\n",
    "- y_true : 정답\n",
    "- y_pred : 예측 결과"
   ]
  },
  {
   "cell_type": "code",
   "execution_count": 32,
   "metadata": {
    "colab": {},
    "colab_type": "code",
    "executionInfo": {
     "elapsed": 1916,
     "status": "ok",
     "timestamp": 1597757731450,
     "user": {
      "displayName": "oz To",
      "photoUrl": "",
      "userId": "12937505880450462933"
     },
     "user_tz": -540
    },
    "id": "G8ld4MrGvLlL",
    "slideshow": {
     "slide_type": "slide"
    }
   },
   "outputs": [],
   "source": [
    "from sklearn.model_selection import train_test_split\n",
    "from sklearn.datasets import load_digits\n",
    "\n",
    "digits = load_digits()  # 손글씨 데이터\n",
    "y = digits.target == 9  # 불균형 데이터셋 생성\n",
    "\n",
    "X_train, X_test, y_train, y_test = train_test_split(digits.data, y, random_state=0)"
   ]
  },
  {
   "cell_type": "code",
   "execution_count": 33,
   "metadata": {
    "colab": {
     "base_uri": "https://localhost:8080/",
     "height": 35
    },
    "colab_type": "code",
    "executionInfo": {
     "elapsed": 1775,
     "status": "ok",
     "timestamp": 1597757732053,
     "user": {
      "displayName": "oz To",
      "photoUrl": "",
      "userId": "12937505880450462933"
     },
     "user_tz": -540
    },
    "id": "xgyeBazyxOtu",
    "outputId": "425f8fbc-a901-4df0-9a80-a9f7c3f82e5f",
    "slideshow": {
     "slide_type": "slide"
    }
   },
   "outputs": [
    {
     "name": "stdout",
     "output_type": "stream",
     "text": [
      "logreg 점수: 0.98\n"
     ]
    }
   ],
   "source": [
    "# LogisticRegression\n",
    "from sklearn.linear_model import LogisticRegression\n",
    "\n",
    "model_lr = LogisticRegression(C=0.1, max_iter=1000).fit(X_train, y_train)\n",
    "pred_lr = model_lr.predict(X_test)\n",
    "print(\"logreg 점수: {:.2f}\".format(model_lr.score(X_test, y_test)))"
   ]
  },
  {
   "cell_type": "markdown",
   "metadata": {
    "colab_type": "text",
    "id": "yQE1th1b1Oli",
    "slideshow": {
     "slide_type": "slide"
    }
   },
   "source": [
    "- TN FP\n",
    "- FN TP\n"
   ]
  },
  {
   "cell_type": "code",
   "execution_count": 34,
   "metadata": {
    "colab": {
     "base_uri": "https://localhost:8080/",
     "height": 71
    },
    "colab_type": "code",
    "executionInfo": {
     "elapsed": 1819,
     "status": "ok",
     "timestamp": 1597757732888,
     "user": {
      "displayName": "oz To",
      "photoUrl": "",
      "userId": "12937505880450462933"
     },
     "user_tz": -540
    },
    "id": "PyIEr_WLxG1G",
    "outputId": "5e2bb597-12b2-41b6-a7fa-68aa58dafc33",
    "slideshow": {
     "slide_type": "slide"
    }
   },
   "outputs": [
    {
     "name": "stdout",
     "output_type": "stream",
     "text": [
      "오차 행렬:\n",
      " [[402   1]\n",
      " [  6  41]]\n"
     ]
    }
   ],
   "source": [
    "# 오차 행렬\n",
    "from sklearn.metrics import confusion_matrix\n",
    "\n",
    "confusion = confusion_matrix(y_test, pred_lr)\n",
    "print(\"오차 행렬:\\n\", confusion)"
   ]
  },
  {
   "cell_type": "code",
   "execution_count": 35,
   "metadata": {
    "colab": {
     "base_uri": "https://localhost:8080/",
     "height": 35
    },
    "colab_type": "code",
    "executionInfo": {
     "elapsed": 940,
     "status": "ok",
     "timestamp": 1597758473640,
     "user": {
      "displayName": "oz To",
      "photoUrl": "",
      "userId": "12937505880450462933"
     },
     "user_tz": -540
    },
    "id": "3QVj6XNU03km",
    "outputId": "45ee591e-6fa2-44e9-dd33-c7773c3bc915",
    "slideshow": {
     "slide_type": "slide"
    }
   },
   "outputs": [
    {
     "name": "stdout",
     "output_type": "stream",
     "text": [
      "테스트 점수: 0.918\n"
     ]
    }
   ],
   "source": [
    "# DecisionTreeClassifier\n",
    "# max_depth=2\n",
    "from sklearn.tree import DecisionTreeClassifier\n",
    "\n",
    "model_dt = DecisionTreeClassifier(max_depth=2).fit(X_train, y_train)\n",
    "pred_dt = model_dt.predict(X_test)\n",
    "print(\"테스트 점수: {:.3f}\".format( model_dt.score(X_test, y_test) ))"
   ]
  },
  {
   "cell_type": "code",
   "execution_count": 36,
   "metadata": {
    "colab": {
     "base_uri": "https://localhost:8080/",
     "height": 71
    },
    "colab_type": "code",
    "executionInfo": {
     "elapsed": 941,
     "status": "ok",
     "timestamp": 1597758493741,
     "user": {
      "displayName": "oz To",
      "photoUrl": "",
      "userId": "12937505880450462933"
     },
     "user_tz": -540
    },
    "id": "fTdONvjL06ef",
    "outputId": "9e1d4b0c-f032-44fa-f1b5-58ffa7b8dd41",
    "slideshow": {
     "slide_type": "slide"
    }
   },
   "outputs": [
    {
     "name": "stdout",
     "output_type": "stream",
     "text": [
      "오차 행렬:\n",
      " [[390  13]\n",
      " [ 24  23]]\n"
     ]
    }
   ],
   "source": [
    "# 오차 행렬\n",
    "confusion = confusion_matrix(y_test, pred_dt)\n",
    "print(\"오차 행렬:\\n\", confusion)"
   ]
  },
  {
   "cell_type": "markdown",
   "metadata": {
    "colab_type": "text",
    "id": "Ev8bnJYx-enD",
    "slideshow": {
     "slide_type": "slide"
    }
   },
   "source": [
    "오차 행렬에서 정확도 재정의\n",
    "\n",
    "> \\begin{equation}\n",
    "\\text{Accuracy} = \\frac{\\text{예측결과가동일한데이터건수}}{\\text{전체예측데이터건수}}\n",
    "= \\frac{\\text{TP} + \\text{TN}}{\\text{TP} + \\text{TN} + \\text{FP} + \\text{FN}}\n",
    "\\end{equation}"
   ]
  },
  {
   "cell_type": "markdown",
   "metadata": {
    "colab_type": "text",
    "id": "kj7okP2w2m3T",
    "slideshow": {
     "slide_type": "slide"
    }
   },
   "source": [
    "## 정밀도(Precision)와 재현율(Recall)\n",
    "\n",
    " > \\begin{equation}\n",
    "\\text{정밀도} = \\frac{\\text{TP}}{\\text{TP} + \\text{FP}}\n",
    "\\end{equation} <br>\n",
    " > \\begin{equation}\n",
    "\\text{재현율} = \\frac{\\text{TP}}{\\text{TP} + \\text{FN}}\n",
    "\\end{equation}\n",
    "\n",
    "정밀도\n",
    " - 예측을 Positive로 한 대상 중에 예측과 실제 값이 Positive로 일치한 데이터의 비율\n",
    " - 거짓양성(FP)의 수를 줄이는 것이 목표일 때 성능 지표로 사용\n",
    " - 양성 예측도(PPV) 라고도 함\n",
    "\n",
    "재현율\n",
    " - 실제 값이 Positive인 대상 중에 예측과 실제 값이 Positive로 일치한 데이터의 비율\n",
    " - 모든 양성 샘플을 식별해야 할 때 성능 지표로 사용\n",
    " - 거짓 음성(FN)을 피하는 것이 중요할 때\n",
    " - 민감도(sensitivity), 적중률(hit rate), 진짜 양성 비율(TPR) 이라고도 함"
   ]
  },
  {
   "cell_type": "markdown",
   "metadata": {
    "colab_type": "text",
    "id": "E71Qd5lu5M7v",
    "slideshow": {
     "slide_type": "slide"
    }
   },
   "source": [
    "- 정밀도가 상대적으로 더 중요한 지표인 경우\n",
    " - 실제 Negative 음성인 데이터 예측을 Positive 양성으로 잘못 판단하게 되면 업무상 큰 영향이 발생하는 경우\n",
    " - 스팸 메일 판단 모델 : 실제 Negative인 일반 메일을 Positive인 스팸 메일로 분류하면 메일을 아예 받지 못하게 됨\n",
    "\n",
    "- 재현율이 상대적으로 더 중요한 지표인 경우\n",
    " - 실제 Positive 양성인 데이터 예측을 Negative로 잘못 판단하게 되면 업무상 큰 영향이 발생하는 경우\n",
    " - 암 판단 모델 : 실제 Positive인 암 환자를 Negative 음성으로 잘못 판단했을 경우 생명이 위험\n",
    " - 보험/금융 사기 적발 모델 : 실제 사기인 Positive 건을 Negative로 잘못 판단하면 회사에 손해가 큼"
   ]
  },
  {
   "cell_type": "markdown",
   "metadata": {
    "colab_type": "text",
    "id": "Tq9rK6mk73yu",
    "slideshow": {
     "slide_type": "slide"
    }
   },
   "source": [
    "## F1 스코어\n",
    "\n",
    "> \\begin{equation}\n",
    "\\text{F} = 2 \\cdot \\frac{\\text{정밀도} \\cdot \\text{재현율}}{\\text{정밀도} + \\text{재현율}}\n",
    "\\end{equation}\n",
    "\n",
    "- 정밀도와 재현율을 결합한 지표\n",
    "- 어느 한 쪽으로 치우치지 않는 수치를 나타낼 때 높은 값을 갖음"
   ]
  },
  {
   "cell_type": "code",
   "execution_count": 37,
   "metadata": {
    "colab": {
     "base_uri": "https://localhost:8080/",
     "height": 53
    },
    "colab_type": "code",
    "executionInfo": {
     "elapsed": 1522,
     "status": "ok",
     "timestamp": 1597761323551,
     "user": {
      "displayName": "oz To",
      "photoUrl": "",
      "userId": "12937505880450462933"
     },
     "user_tz": -540
    },
    "id": "w8sySVn6_qs-",
    "outputId": "96b7c864-8c16-4a4a-fb4f-bef13166e8f7",
    "slideshow": {
     "slide_type": "slide"
    }
   },
   "outputs": [
    {
     "name": "stdout",
     "output_type": "stream",
     "text": [
      "결정트리 모델의 f1 score:     0.554\n",
      "로지스틱회귀 모델의 f1 score: 0.921\n"
     ]
    }
   ],
   "source": [
    "# f1_score\n",
    "from sklearn.metrics import f1_score\n",
    "\n",
    "print(\"결정트리 모델의 f1 score:     {:.3f}\".format(f1_score(y_test, pred_dt)))\n",
    "print(\"로지스틱회귀 모델의 f1 score: {:.3f}\".format(f1_score(y_test, pred_lr)))"
   ]
  },
  {
   "cell_type": "markdown",
   "metadata": {
    "colab_type": "text",
    "id": "icXJcKFi9ZBh",
    "slideshow": {
     "slide_type": "slide"
    }
   },
   "source": [
    "## 분류 리포트\n",
    "\n",
    "[classification_report()](https://scikit-learn.org/stable/modules/generated/sklearn.metrics.classification_report.html)\n",
    "\n",
    "- 정밀도, 재현율, f1-스코어 모두를 한 번에 깔끔하게 출력"
   ]
  },
  {
   "cell_type": "code",
   "execution_count": 38,
   "metadata": {
    "colab": {
     "base_uri": "https://localhost:8080/",
     "height": 179
    },
    "colab_type": "code",
    "executionInfo": {
     "elapsed": 1092,
     "status": "ok",
     "timestamp": 1597761496087,
     "user": {
      "displayName": "oz To",
      "photoUrl": "",
      "userId": "12937505880450462933"
     },
     "user_tz": -540
    },
    "id": "fvQT1MjtAIry",
    "outputId": "85585c53-3cc5-4e62-ad59-f609a196f41c",
    "slideshow": {
     "slide_type": "slide"
    }
   },
   "outputs": [
    {
     "name": "stdout",
     "output_type": "stream",
     "text": [
      "              precision    recall  f1-score   support\n",
      "\n",
      "         9아님       0.94      0.97      0.95       403\n",
      "         9맞음       0.64      0.49      0.55        47\n",
      "\n",
      "    accuracy                           0.92       450\n",
      "   macro avg       0.79      0.73      0.75       450\n",
      "weighted avg       0.91      0.92      0.91       450\n",
      "\n"
     ]
    }
   ],
   "source": [
    "# 분류 리포트 DecisionTreeClassifier\n",
    "from sklearn.metrics import classification_report\n",
    "\n",
    "print( classification_report(y_test, pred_dt,\n",
    "                             target_names=['9아님', '9맞음']) )"
   ]
  },
  {
   "cell_type": "code",
   "execution_count": 39,
   "metadata": {
    "colab": {
     "base_uri": "https://localhost:8080/",
     "height": 179
    },
    "colab_type": "code",
    "executionInfo": {
     "elapsed": 1136,
     "status": "ok",
     "timestamp": 1597761566033,
     "user": {
      "displayName": "oz To",
      "photoUrl": "",
      "userId": "12937505880450462933"
     },
     "user_tz": -540
    },
    "id": "7Cakvv-nAbVi",
    "outputId": "2b15df66-c619-4a1d-912c-1a772a97d793",
    "slideshow": {
     "slide_type": "slide"
    }
   },
   "outputs": [
    {
     "name": "stdout",
     "output_type": "stream",
     "text": [
      "              precision    recall  f1-score   support\n",
      "\n",
      "         9아님       0.99      1.00      0.99       403\n",
      "         9맞음       0.98      0.87      0.92        47\n",
      "\n",
      "    accuracy                           0.98       450\n",
      "   macro avg       0.98      0.93      0.96       450\n",
      "weighted avg       0.98      0.98      0.98       450\n",
      "\n"
     ]
    }
   ],
   "source": [
    "# 분류 리포트 LogisticRegression\n",
    "print( classification_report(y_test, pred_lr,\n",
    "                             target_names=['9아님', '9맞음']) )"
   ]
  },
  {
   "cell_type": "markdown",
   "metadata": {
    "colab_type": "text",
    "id": "0orUlssYBM3_",
    "slideshow": {
     "slide_type": "slide"
    }
   },
   "source": [
    "- macro avg : 클래스별 점수의 평균을 계산\n",
    "- weighted avg : 클래스의 샘플 수로 가중 평균"
   ]
  },
  {
   "cell_type": "markdown",
   "metadata": {
    "colab_type": "text",
    "id": "6ARordl6Q3Rv",
    "slideshow": {
     "slide_type": "slide"
    }
   },
   "source": [
    "## ROC, AUC\n",
    "\n",
    "\n",
    "ROC(Receiver Operating Characteristic) : 여러 임계값에서 분류기의 특성을 분석하는데 널리 사용되는 도구\n",
    "- ROC 곡선은 분류기의 모든 임계값을 고려하지만 정밀도와 재현율 대신에 거짓 양성 비율 (FPR)이 변할 때 진짜 양성 비율 (TPR)이 어떻게 변하는지를 나타내는 곡선\n",
    "\n",
    "> \\begin{equation}\n",
    "\\text{FPR} = \\frac{\\text{FP}}{\\text{FP} + \\text{TN}}\n",
    "\\end{equation}\n",
    "\n",
    "- 진짜 양성비율 : 재현율\n",
    "- 가짜 양성비율 : 전체 음성 샘플 중에서 거짓 양성으로 잘못 분류한 비율\n",
    "\n",
    "AUC(Area Under the Curve) : ROC 곡선 아래의 면적값\n",
    "\n"
   ]
  },
  {
   "cell_type": "markdown",
   "metadata": {
    "colab_type": "text",
    "id": "u1X-FFgvIKF4",
    "slideshow": {
     "slide_type": "slide"
    }
   },
   "source": [
    "- [roc_curve()](https://scikit-learn.org/stable/modules/generated/sklearn.metrics.roc_curve.html) : ROC 곡선을 그리는 메소드\n",
    "- [roc_auc_score()](https://scikit-learn.org/stable/modules/generated/sklearn.metrics.roc_auc_score.html) : AUC 계산 메소드"
   ]
  },
  {
   "cell_type": "markdown",
   "metadata": {
    "slideshow": {
     "slide_type": "slide"
    }
   },
   "source": [
    "[roc_curve()](https://scikit-learn.org/stable/modules/generated/sklearn.metrics.roc_curve.html) : ROC 곡선을 그리는 메소드\n",
    "\n",
    "Parameters\n",
    "- y_true : 실재 클래스 값 array (array shape = [데이터 건수])\n",
    "- y_score : predict_proba()의 반환 값 array에서 Positive 컬럼의 예측 확뉼이 보통 사용됨. array, shape = [n_samples]\n",
    "\n",
    "Returns\n",
    "- fpr : FPR (거짓 양성 비율)\n",
    "- tpr : TPR (진짜 양성 비율, 재현율, 민감도)\n",
    "- thresholds : fpr 및 tpr을 계산하는 데 사용되는 결정 함수의 임계값\n"
   ]
  },
  {
   "cell_type": "code",
   "execution_count": 40,
   "metadata": {
    "colab": {},
    "colab_type": "code",
    "executionInfo": {
     "elapsed": 885,
     "status": "ok",
     "timestamp": 1597763025933,
     "user": {
      "displayName": "oz To",
      "photoUrl": "",
      "userId": "12937505880450462933"
     },
     "user_tz": -540
    },
    "id": "QNYU-MDcGOOw",
    "slideshow": {
     "slide_type": "slide"
    }
   },
   "outputs": [],
   "source": [
    "# 부드러운 곡선을 위해 데이터 포인트 수를 늘립니다\n",
    "from sklearn.datasets import make_blobs\n",
    "from sklearn.svm import SVC\n",
    "\n",
    "X, y = make_blobs(n_samples=(4000, 500), cluster_std=[7.0, 2], random_state=0)\n",
    "X_train, X_test, y_train, y_test = train_test_split(X, y, random_state=0)\n",
    "\n",
    "model_svc = SVC(gamma=0.05).fit(X_train, y_train)"
   ]
  },
  {
   "cell_type": "markdown",
   "metadata": {
    "slideshow": {
     "slide_type": "slide"
    }
   },
   "source": [
    "결정함수(decision_function)와 예측확률(predict_proba)\n",
    "\n",
    "- 분류모델 예측의 불확실성을 추정할 수 있는 기능\n",
    "- 결정함수(decision_function)의 값은 1차원으로 데이터 포인트가 양성 클래인 클래스 1에 속한다고 믿는 정도\n",
    " - 양수 값은 양성 클래스를 의미하며 음수 값은 음성 클래스를 의미"
   ]
  },
  {
   "cell_type": "code",
   "execution_count": 41,
   "metadata": {
    "colab": {
     "base_uri": "https://localhost:8080/",
     "height": 297
    },
    "colab_type": "code",
    "executionInfo": {
     "elapsed": 1161,
     "status": "ok",
     "timestamp": 1597763028759,
     "user": {
      "displayName": "oz To",
      "photoUrl": "",
      "userId": "12937505880450462933"
     },
     "user_tz": -540
    },
    "id": "kEN6GSnnFzua",
    "outputId": "b2a8cd98-c372-4ed9-997d-3fb7dbd74b37",
    "slideshow": {
     "slide_type": "slide"
    }
   },
   "outputs": [
    {
     "data": {
      "text/plain": [
       "<matplotlib.legend.Legend at 0x26108ddb188>"
      ]
     },
     "execution_count": 41,
     "metadata": {},
     "output_type": "execute_result"
    },
    {
     "data": {
      "image/png": "[encoded data removed]",
      "text/plain": [
       "<Figure size 432x288 with 1 Axes>"
      ]
     },
     "metadata": {
      "needs_background": "light"
     },
     "output_type": "display_data"
    }
   ],
   "source": [
    "# ROC 곡선 그리기\n",
    "from sklearn.metrics import roc_curve\n",
    "import matplotlib.pyplot as plt\n",
    "\n",
    "# 결정 함수 decision_function\n",
    "fpr, tpr, thresholds = roc_curve(y_test, model_svc.decision_function(X_test))\n",
    "\n",
    "plt.plot(fpr, tpr, label=\"ROC Curve\")\n",
    "plt.xlabel(\"FPR\")\n",
    "plt.ylabel(\"TPR\")\n",
    "plt.legend(loc=4)"
   ]
  },
  {
   "cell_type": "markdown",
   "metadata": {
    "colab_type": "text",
    "id": "1Q90hwSzGVAY",
    "slideshow": {
     "slide_type": "slide"
    }
   },
   "source": [
    "- ROC 곡선은 왼쪽 위에 가까울수록 이상적\n",
    "- 거짓 양성 비율(FPR)이 낮게 유지되면서 재현율이 높은 분류기가 좋은 것"
   ]
  },
  {
   "cell_type": "code",
   "execution_count": 42,
   "metadata": {
    "colab": {
     "base_uri": "https://localhost:8080/",
     "height": 297
    },
    "colab_type": "code",
    "executionInfo": {
     "elapsed": 1454,
     "status": "ok",
     "timestamp": 1597763307765,
     "user": {
      "displayName": "oz To",
      "photoUrl": "",
      "userId": "12937505880450462933"
     },
     "user_tz": -540
    },
    "id": "plLziCUkGsHg",
    "outputId": "eaa4c4e7-c2a2-4834-95e6-702313ab5293",
    "slideshow": {
     "slide_type": "slide"
    }
   },
   "outputs": [
    {
     "data": {
      "text/plain": [
       "<matplotlib.legend.Legend at 0x26108ec1788>"
      ]
     },
     "execution_count": 42,
     "metadata": {},
     "output_type": "execute_result"
    },
    {
     "data": {
      "image/png": "[encoded data removed]",
      "text/plain": [
       "<Figure size 432x288 with 1 Axes>"
      ]
     },
     "metadata": {
      "needs_background": "light"
     },
     "output_type": "display_data"
    }
   ],
   "source": [
    "# 랜덤 포레스트와 SVM의 ROC 곡선 비교\n",
    "from sklearn.ensemble import RandomForestClassifier\n",
    "\n",
    "model_rf = RandomForestClassifier(n_estimators=100, \n",
    "                                  max_features=2, \n",
    "                                  random_state=0).fit(X_train, y_train)\n",
    "\n",
    "fpr_rf, tpr_rf, thresholds_rf = roc_curve(y_test, model_rf.predict_proba(X_test)[:,1] )\n",
    "\n",
    "plt.plot(fpr_rf, tpr_rf, label=\"RF - ROC Curve\")\n",
    "plt.plot(fpr, tpr,       label=\"SVC - ROC Curve\")\n",
    "\n",
    "plt.xlabel(\"FPR\")\n",
    "plt.ylabel(\"TPR\")\n",
    "plt.legend(loc=4)"
   ]
  },
  {
   "cell_type": "code",
   "execution_count": 43,
   "metadata": {},
   "outputs": [
    {
     "name": "stdout",
     "output_type": "stream",
     "text": [
      "랜덤포레스트 AUC: 0.895\n",
      "SVC          AUC: 0.842\n"
     ]
    }
   ],
   "source": [
    "# AUC\n",
    "from sklearn.metrics import roc_auc_score\n",
    "\n",
    "auc_rf = roc_auc_score(y_test, model_rf.predict_proba(X_test)[:,1] )\n",
    "auc_svc = roc_auc_score(y_test, model_svc.decision_function(X_test) )\n",
    "print(\"랜덤포레스트 AUC: {:.3f}\".format(auc_rf))\n",
    "print(\"SVC          AUC: {:.3f}\".format(auc_svc))"
   ]
  },
  {
   "cell_type": "markdown",
   "metadata": {},
   "source": [
    "- 랜덤포레스트의 성능이 SVC보다 조금 더 나음\n",
    "- 불균형한 데이터셋에서는 정확도보다 AUC가 훨씬 좋은 지표"
   ]
  },
  {
   "cell_type": "markdown",
   "metadata": {
    "colab_type": "text",
    "id": "uPq7XiUtI8qw",
    "slideshow": {
     "slide_type": "slide"
    }
   },
   "source": [
    "## 모델평가 실습 01\n"
   ]
  },
  {
   "cell_type": "code",
   "execution_count": 44,
   "metadata": {
    "colab": {
     "base_uri": "https://localhost:8080/",
     "height": 35
    },
    "colab_type": "code",
    "executionInfo": {
     "elapsed": 8972,
     "status": "ok",
     "timestamp": 1597754571100,
     "user": {
      "displayName": "oz To",
      "photoUrl": "",
      "userId": "12937505880450462933"
     },
     "user_tz": -540
    },
    "id": "4MnlHPw0PJyc",
    "outputId": "a5371eb7-8dd5-4e7b-fe12-c24bb7982989",
    "slideshow": {
     "slide_type": "-"
    }
   },
   "outputs": [
    {
     "data": {
      "text/plain": [
       "array(['malignant', 'benign'], dtype='<U9')"
      ]
     },
     "execution_count": 44,
     "metadata": {},
     "output_type": "execute_result"
    }
   ],
   "source": [
    "from sklearn.datasets import load_breast_cancer\n",
    "\n",
    "cancer = load_breast_cancer()\n",
    "\n",
    "X = cancer.data\n",
    "y = cancer.target\n",
    "\n",
    "cancer.target_names #악성, 양성"
   ]
  },
  {
   "cell_type": "code",
   "execution_count": 45,
   "metadata": {
    "colab": {},
    "colab_type": "code",
    "executionInfo": {
     "elapsed": 8969,
     "status": "ok",
     "timestamp": 1597754571106,
     "user": {
      "displayName": "oz To",
      "photoUrl": "",
      "userId": "12937505880450462933"
     },
     "user_tz": -540
    },
    "id": "DUF90O47RHUR",
    "slideshow": {
     "slide_type": "-"
    }
   },
   "outputs": [],
   "source": [
    "from sklearn.linear_model import LogisticRegression\n",
    "from sklearn.model_selection import train_test_split\n",
    "\n",
    "X_train, X_test, y_train, y_test = train_test_split(X, y, random_state=0)\n",
    "\n",
    "# model_lr, C=0.001, random_state=0\n",
    "model_lr = LogisticRegression(C=0.001).fit(X_train, y_train)\n",
    "pred_lr = model_lr.predict(X_test)"
   ]
  },
  {
   "cell_type": "markdown",
   "metadata": {
    "colab_type": "text",
    "id": "Gr5CiplMRSrq",
    "slideshow": {
     "slide_type": "-"
    }
   },
   "source": [
    "### confusion matrix\n",
    "\n",
    "- 0,0 진짜 악성, 예측 악성\n",
    "- 0,1 진짜 악성, 예측 양성\n",
    "- 1,0 진짜 양성, 예측 악성\n",
    "- 1,1 진짜 양성, 예측 양성"
   ]
  },
  {
   "cell_type": "code",
   "execution_count": 46,
   "metadata": {
    "colab": {
     "base_uri": "https://localhost:8080/",
     "height": 53
    },
    "colab_type": "code",
    "executionInfo": {
     "elapsed": 8942,
     "status": "ok",
     "timestamp": 1597754571110,
     "user": {
      "displayName": "oz To",
      "photoUrl": "",
      "userId": "12937505880450462933"
     },
     "user_tz": -540
    },
    "id": "aCfF9ehTRVNZ",
    "outputId": "46c9d842-4c8a-48b6-8e2e-0ed96b703eac",
    "slideshow": {
     "slide_type": "-"
    }
   },
   "outputs": [
    {
     "name": "stdout",
     "output_type": "stream",
     "text": [
      "[[50  3]\n",
      " [ 5 85]]\n"
     ]
    }
   ],
   "source": [
    "from sklearn import metrics\n",
    "\n",
    "print( metrics.confusion_matrix(y_test, pred_lr) )"
   ]
  },
  {
   "cell_type": "code",
   "execution_count": 47,
   "metadata": {
    "slideshow": {
     "slide_type": "-"
    }
   },
   "outputs": [
    {
     "name": "stdout",
     "output_type": "stream",
     "text": [
      "              precision    recall  f1-score   support\n",
      "\n",
      "           0       0.91      0.94      0.93        53\n",
      "           1       0.97      0.94      0.96        90\n",
      "\n",
      "    accuracy                           0.94       143\n",
      "   macro avg       0.94      0.94      0.94       143\n",
      "weighted avg       0.94      0.94      0.94       143\n",
      "\n"
     ]
    }
   ],
   "source": [
    "# 분류리포트\n",
    "print( metrics.classification_report(y_test, pred_lr) )"
   ]
  },
  {
   "cell_type": "markdown",
   "metadata": {
    "colab_type": "text",
    "id": "HMubKMsdRiJ4",
    "slideshow": {
     "slide_type": "-"
    }
   },
   "source": [
    "- 0(악성 종양)을 양성으로 볼 경우 윗 줄, 1(양성 종양)을 양성으로 볼 경우 아랫 줄"
   ]
  },
  {
   "cell_type": "markdown",
   "metadata": {
    "colab_type": "text",
    "id": "1eBhOnUfRsMq",
    "slideshow": {
     "slide_type": "-"
    }
   },
   "source": [
    "### ROC 곡선 그리기"
   ]
  },
  {
   "cell_type": "code",
   "execution_count": 48,
   "metadata": {
    "colab": {
     "base_uri": "https://localhost:8080/",
     "height": 279
    },
    "colab_type": "code",
    "executionInfo": {
     "elapsed": 8928,
     "status": "ok",
     "timestamp": 1597754571111,
     "user": {
      "displayName": "oz To",
      "photoUrl": "",
      "userId": "12937505880450462933"
     },
     "user_tz": -540
    },
    "id": "ThHpsHbHRuHf",
    "outputId": "c1e33693-5260-4925-c95a-e6bf05e4298d",
    "slideshow": {
     "slide_type": "-"
    }
   },
   "outputs": [
    {
     "data": {
      "image/png": "[encoded data removed]",
      "text/plain": [
       "<Figure size 432x288 with 1 Axes>"
      ]
     },
     "metadata": {
      "needs_background": "light"
     },
     "output_type": "display_data"
    }
   ],
   "source": [
    "from sklearn.metrics import roc_curve\n",
    "import matplotlib.pyplot as plt\n",
    "\n",
    "# 결정함수\n",
    "fpr, tpr, thresholds = roc_curve(y_test, model_lr.decision_function(X_test))\n",
    "plt.plot(fpr, tpr)\n",
    "plt.xlabel(\"FPR\")\n",
    "plt.ylabel(\"TPR(Recall)\")\n",
    "plt.show()"
   ]
  },
  {
   "cell_type": "markdown",
   "metadata": {
    "colab_type": "text",
    "id": "EWD8H1OFRz3L",
    "slideshow": {
     "slide_type": "-"
    }
   },
   "source": [
    "### C값 조정"
   ]
  },
  {
   "cell_type": "code",
   "execution_count": 49,
   "metadata": {
    "colab": {},
    "colab_type": "code",
    "executionInfo": {
     "elapsed": 9504,
     "status": "ok",
     "timestamp": 1597754571695,
     "user": {
      "displayName": "oz To",
      "photoUrl": "",
      "userId": "12937505880450462933"
     },
     "user_tz": -540
    },
    "id": "ZWYwIbOMR3PO",
    "slideshow": {
     "slide_type": "-"
    }
   },
   "outputs": [
    {
     "name": "stdout",
     "output_type": "stream",
     "text": [
      "              precision    recall  f1-score   support\n",
      "\n",
      "           0       0.90      0.98      0.94        53\n",
      "           1       0.99      0.93      0.96        90\n",
      "\n",
      "    accuracy                           0.95       143\n",
      "   macro avg       0.94      0.96      0.95       143\n",
      "weighted avg       0.95      0.95      0.95       143\n",
      "\n"
     ]
    }
   ],
   "source": [
    "from  sklearn.model_selection import GridSearchCV\n",
    "# GridSearchCV\n",
    "# param_grid = {'C': [0.0001, 0.001, 0.01, 0.1, 1, 10, 100, 1000] }\n",
    "# 분류리포트 1의 경우 f1-score 는? \n",
    "\n",
    "param_grid = {'C': [0.0001, 0.001, 0.01, 0.1, 1, 10, 100, 1000] }\n",
    "grid_search = GridSearchCV(LogisticRegression(), param_grid).fit(X_train, y_train)\n",
    "\n",
    "print( metrics.classification_report(y_test, grid_search.predict(X_test)))"
   ]
  },
  {
   "cell_type": "markdown",
   "metadata": {
    "colab_type": "text",
    "id": "b5q0IERaR9q6",
    "slideshow": {
     "slide_type": "-"
    }
   },
   "source": [
    "### ROC 곡선 비교"
   ]
  },
  {
   "cell_type": "code",
   "execution_count": 50,
   "metadata": {
    "colab": {
     "base_uri": "https://localhost:8080/",
     "height": 71
    },
    "colab_type": "code",
    "executionInfo": {
     "elapsed": 9494,
     "status": "ok",
     "timestamp": 1597754571697,
     "user": {
      "displayName": "oz To",
      "photoUrl": "",
      "userId": "12937505880450462933"
     },
     "user_tz": -540
    },
    "id": "vkYgHWxER9kp",
    "outputId": "770f2341-997b-419f-8785-6f7cffae389e",
    "scrolled": true,
    "slideshow": {
     "slide_type": "-"
    }
   },
   "outputs": [
    {
     "name": "stdout",
     "output_type": "stream",
     "text": [
      "GridSearchCV       AUC: 0.994\n",
      "LogisticRegression AUC: 0.989\n"
     ]
    },
    {
     "data": {
      "image/png": "[encoded data removed]",
      "text/plain": [
       "<Figure size 432x288 with 1 Axes>"
      ]
     },
     "metadata": {
      "needs_background": "light"
     },
     "output_type": "display_data"
    }
   ],
   "source": [
    "fpr2, tpr2, th2 = roc_curve(y_test, grid_search.decision_function(X_test) )\n",
    "plt.plot(fpr2, tpr2, label=\"GridSearchCV - ROC\")\n",
    "plt.plot(fpr, tpr,   label=\"LogisticRegression - ROC\")\n",
    "plt.xlabel(\"FPR\")\n",
    "plt.ylabel(\"TPR(Recall)\")\n",
    "plt.legend(loc=4)\n",
    "\n",
    "# AUC\n",
    "auc1 = roc_auc_score(y_test, model_lr.decision_function(X_test) )\n",
    "auc2 = roc_auc_score(y_test, grid_search.decision_function(X_test) )\n",
    "print(\"GridSearchCV       AUC: {:.3f}\".format(auc2))\n",
    "print(\"LogisticRegression AUC: {:.3f}\".format(auc1))"
   ]
  },
  {
   "cell_type": "markdown",
   "metadata": {
    "colab_type": "text",
    "id": "mWmyGYzISG7Q",
    "slideshow": {
     "slide_type": "-"
    }
   },
   "source": [
    "### scoring을 이용한 ROC 교차검증\n",
    "\n",
    "- scoring은 성능검증에 사용할 함수이름"
   ]
  },
  {
   "cell_type": "code",
   "execution_count": 51,
   "metadata": {
    "colab": {
     "base_uri": "https://localhost:8080/",
     "height": 143
    },
    "colab_type": "code",
    "executionInfo": {
     "elapsed": 10708,
     "status": "ok",
     "timestamp": 1597754572926,
     "user": {
      "displayName": "oz To",
      "photoUrl": "",
      "userId": "12937505880450462933"
     },
     "user_tz": -540
    },
    "id": "k53STqUXSLAP",
    "outputId": "08508d58-39fd-4a1a-dc47-e211cc22afcc",
    "slideshow": {
     "slide_type": "-"
    }
   },
   "outputs": [
    {
     "name": "stdout",
     "output_type": "stream",
     "text": [
      "0.001 \t: 0.9855873543202364\n",
      "0.01 \t: 0.9832328791055206\n",
      "0.1 \t: 0.9861468266044499\n",
      "1 \t: 0.9890080814228714\n",
      "10 \t: 0.9866844610130519\n",
      "100 \t: 0.9898894862604539\n",
      "1000 \t: 0.9895591003358806\n"
     ]
    }
   ],
   "source": [
    "from sklearn.model_selection import cross_val_score\n",
    "\n",
    "C_list = [0.001,0.01,0.1,1,10,100,1000]\n",
    "\n",
    "for c in C_list:\n",
    "    m = LogisticRegression(C=c)\n",
    "    rs = cross_val_score(m,X_train, y_train, scoring=\"roc_auc\")\n",
    "    print(c, \"\\t:\", rs.mean())"
   ]
  },
  {
   "cell_type": "markdown",
   "metadata": {
    "colab_type": "text",
    "id": "a7U0MMg4SRgh",
    "slideshow": {
     "slide_type": "-"
    }
   },
   "source": [
    "### ROC 곡선 비교"
   ]
  },
  {
   "cell_type": "code",
   "execution_count": 52,
   "metadata": {
    "colab": {
     "base_uri": "https://localhost:8080/",
     "height": 107
    },
    "colab_type": "code",
    "executionInfo": {
     "elapsed": 10702,
     "status": "ok",
     "timestamp": 1597754572928,
     "user": {
      "displayName": "oz To",
      "photoUrl": "",
      "userId": "12937505880450462933"
     },
     "user_tz": -540
    },
    "id": "0kxe-MymSQ9K",
    "outputId": "6d305558-3bb4-4623-ac6a-0ef63ab647be",
    "slideshow": {
     "slide_type": "-"
    }
   },
   "outputs": [
    {
     "name": "stdout",
     "output_type": "stream",
     "text": [
      "LogisticRegression2 AUC: 0.994\n",
      "GridSearchCV        AUC: 0.994\n",
      "LogisticRegression  AUC: 0.989\n"
     ]
    },
    {
     "data": {
      "image/png": "[encoded data removed]",
      "text/plain": [
       "<Figure size 432x288 with 1 Axes>"
      ]
     },
     "metadata": {
      "needs_background": "light"
     },
     "output_type": "display_data"
    }
   ],
   "source": [
    "model_lr2 = LogisticRegression(C=10).fit(X_train,y_train)\n",
    "\n",
    "fpr3,tpr3,th3 = roc_curve(y_test, model_lr2.decision_function(X_test))\n",
    "\n",
    "plt.plot(fpr, tpr,   label=\"LogisticRegression - ROC\")\n",
    "plt.plot(fpr2, tpr2, label=\"GridSearchCV - ROC\")\n",
    "plt.plot(fpr3, tpr3, label=\"LogisticRegression 2 - ROC\")\n",
    "plt.xlabel(\"FPR\")\n",
    "plt.ylabel(\"TPR(Recall)\")\n",
    "plt.legend(loc=4)\n",
    "\n",
    "# AUC\n",
    "auc1 = roc_auc_score(y_test, model_lr.decision_function(X_test) )\n",
    "auc2 = roc_auc_score(y_test, grid_search.decision_function(X_test) )\n",
    "auc3 = roc_auc_score(y_test, model_lr2.decision_function(X_test) )\n",
    "print(\"LogisticRegression2 AUC: {:.3f}\".format(auc3))\n",
    "print(\"GridSearchCV        AUC: {:.3f}\".format(auc2))\n",
    "print(\"LogisticRegression  AUC: {:.3f}\".format(auc1))"
   ]
  },
  {
   "cell_type": "markdown",
   "metadata": {
    "colab_type": "text",
    "id": "P4Tf6Z0B4Y4r",
    "slideshow": {
     "slide_type": "slide"
    }
   },
   "source": [
    "# 정리\n",
    "\n",
    "1. 교차 검증을 해야 한다.\n",
    "> 데이터를 분리해서 사용. 간단하게 한 번만 분리하는 대신 교차 검증으로 분할을 반복\n",
    " - 모델 학습에는 훈련 데이터\n",
    " - 모델과 매개변수 선택에는 검증 데이터\n",
    " - 모델 평가에는 테스트 데이터\n",
    " \n",
    " > 훈련 세트와 테스트 세트로 분할하고 모델과 모델 매개변수 선택을 위해 훈련 세트에 교차 검증을 적용\n",
    "\n",
    "\n",
    "2. 모델 선택과 평가에 사용하는 평가 지표와 방법이 중요하다.\n",
    "> 모델을 평가하고 선택하기 위한 지표가 이 모델이 실제로 사용되는 상황을 잘 대변해야 함\n",
    " - 실전에서는 분류 문제에 균형 잡힌 클래스를 가진 경우가 거의 없음\n",
    " - 거짓 양성(FP)과 거짓 음성(FN)이 매우 큰 영향을 미침"
   ]
  }
 ],
 "metadata": {
  "celltoolbar": "Slideshow",
  "colab": {
   "authorship_tag": "ABX9TyNeMZBqMAAXdO0mXSDwj+x7",
   "collapsed_sections": [
    "qOkAcAnOUOdC"
   ],
   "name": "ml_13_지도학습_모델평가_성능향상.ipynb",
   "provenance": []
  },
  "kernelspec": {
   "display_name": "Python 3",
   "language": "python",
   "name": "python3"
  },
  "language_info": {
   "codemirror_mode": {
    "name": "ipython",
    "version": 3
   },
   "file_extension": ".py",
   "mimetype": "text/x-python",
   "name": "python",
   "nbconvert_exporter": "python",
   "pygments_lexer": "ipython3",
   "version": "3.7.6"
  }
 },
 "nbformat": 4,
 "nbformat_minor": 1
}