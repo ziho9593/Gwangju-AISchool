{
 "cells": [
  {
   "cell_type": "markdown",
   "metadata": {},
   "source": [
    "### 단변량 카이제곱 검정"
   ]
  },
  {
   "cell_type": "code",
   "execution_count": 1,
   "metadata": {},
   "outputs": [],
   "source": [
    "import pandas as pd\n",
    "import numpy as np\n",
    "import scipy.stats as st"
   ]
  },
  {
   "cell_type": "markdown",
   "metadata": {},
   "source": [
    "다음은 미국에서 592명 성인 남녀의 눈색을 정리해 놓은 도수분포표 이다. <br>\n",
    "카이제곱 검정을 실시해 보자."
   ]
  },
  {
   "cell_type": "code",
   "execution_count": 2,
   "metadata": {},
   "outputs": [
    {
     "output_type": "execute_result",
     "data": {
      "text/plain": "Brown    220\nBlue     215\nHazel     93\nGreen     64\ndtype: int32"
     },
     "metadata": {},
     "execution_count": 2
    }
   ],
   "source": [
    "data = np.array([220, 215, 93,64])\n",
    "eye = pd.Series(data,index=['Brown','Blue','Hazel','Green'])\n",
    "eye"
   ]
  },
  {
   "cell_type": "markdown",
   "metadata": {},
   "source": [
    "디폴트 모형과 비교."
   ]
  },
  {
   "cell_type": "code",
   "execution_count": 3,
   "metadata": {},
   "outputs": [
    {
     "output_type": "execute_result",
     "data": {
      "text/plain": "Power_divergenceResult(statistic=133.47297297297297, pvalue=9.650879774148268e-29)"
     },
     "metadata": {},
     "execution_count": 3
    }
   ],
   "source": [
    "st.chisquare(eye)"
   ]
  },
  {
   "cell_type": "markdown",
   "metadata": {},
   "source": [
    "모형 제공."
   ]
  },
  {
   "cell_type": "code",
   "execution_count": 4,
   "metadata": {
    "tags": []
   },
   "outputs": [
    {
     "output_type": "stream",
     "name": "stdout",
     "text": "p_value : 0.0\n"
    }
   ],
   "source": [
    "stat, p_val = st.chisquare(f_obs=eye,f_exp=len(eye)*[eye.mean()])\n",
    "print(\"p_value : {}\".format(np.round(p_val)))"
   ]
  },
  {
   "cell_type": "markdown",
   "metadata": {},
   "source": [
    "통계량 계산해 보기."
   ]
  },
  {
   "cell_type": "code",
   "execution_count": 5,
   "metadata": {},
   "outputs": [
    {
     "output_type": "execute_result",
     "data": {
      "text/plain": "133.47297297297297"
     },
     "metadata": {},
     "execution_count": 5
    }
   ],
   "source": [
    "stat = np.sum((eye-eye.mean())**2/eye.mean())\n",
    "stat"
   ]
  },
  {
   "cell_type": "markdown",
   "metadata": {},
   "source": [
    "p-값 계산해 보기."
   ]
  },
  {
   "cell_type": "code",
   "execution_count": 6,
   "metadata": {},
   "outputs": [
    {
     "output_type": "execute_result",
     "data": {
      "text/plain": "0.0"
     },
     "metadata": {},
     "execution_count": 6
    }
   ],
   "source": [
    "1-st.chi2.cdf(stat,len(eye)-1)"
   ]
  },
  {
   "cell_type": "markdown",
   "metadata": {},
   "source": [
    "적합도 검정 (Goodness of Fit) <br>\n",
    "실제 통계데이터를 비교 모형으로 사용."
   ]
  },
  {
   "cell_type": "code",
   "execution_count": 7,
   "metadata": {
    "tags": []
   },
   "outputs": [
    {
     "output_type": "stream",
     "name": "stdout",
     "text": "p_value : 0.0\n"
    }
   ],
   "source": [
    "stat, p_val = st.chisquare(f_obs=eye,f_exp = np.array([0.41,0.32,0.15,0.12])*eye.sum() )\n",
    "print(\"p_value : {}\".format(np.round(p_val)))"
   ]
  }
 ],
 "metadata": {
  "kernelspec": {
   "display_name": "Python 3",
   "language": "python",
   "name": "python3"
  },
  "language_info": {
   "codemirror_mode": {
    "name": "ipython",
    "version": 3
   },
   "file_extension": ".py",
   "mimetype": "text/x-python",
   "name": "python",
   "nbconvert_exporter": "python",
   "pygments_lexer": "ipython3",
   "version": "3.7.7-final"
  }
 },
 "nbformat": 4,
 "nbformat_minor": 2
}