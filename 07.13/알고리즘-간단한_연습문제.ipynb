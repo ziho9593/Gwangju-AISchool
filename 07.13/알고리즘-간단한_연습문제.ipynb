{
 "cells": [
  {
   "cell_type": "markdown",
   "metadata": {},
   "source": [
    "# 광주 인공지능 사관학교\n",
    "- - -\n",
    "- 작성자 : 2반 한지호\n",
    "- 작성일 : 20.07.13 월\n",
    "- 6교시 알고리즘 시간 마지막에 주어진 간단한 연습문제"
   ]
  },
  {
   "cell_type": "markdown",
   "metadata": {},
   "source": [
    "### 간단한 연습 문제   - 나머지와 몫이 같은 수 구하기\n",
    "- - -\n",
    "숫자 N이 주어졌습니다.  \n",
    "\n",
    "N으로 나누었을때 나머지와 몫이 같은 모든 자연수의 합이 얼마인지 찾는 문제를 풀어 봅시다.  \n",
    "\n",
    "예를 들어서, N이 1일 경우, 해당하는 자연수는 없기에 0으로 간주한다.  \n",
    "\n",
    "N = 2일 경우 3, N = 3일 경우 12, N = 4일 경우는 30이 정답으로 간주된다.  \n",
    "\n",
    "자연수 N이 주어질 때 나머지와 몫이 같은 모든 자연수의 합을 출력하시오."
   ]
  },
  {
   "cell_type": "code",
   "execution_count": 1,
   "metadata": {},
   "outputs": [],
   "source": [
    "# 내가 작성한 코드\n",
    "\n",
    "def sum_share_equal_remainder(N):\n",
    "    total = []\n",
    "    \n",
    "    if N == 1:\n",
    "        return 0\n",
    "    for i in range(1, 10000):\n",
    "        if i // N == i % N:\n",
    "            if i not in total:\n",
    "                total.append(i)\n",
    "                \n",
    "    return sum(total)"
   ]
  },
  {
   "cell_type": "code",
   "execution_count": 2,
   "metadata": {},
   "outputs": [
    {
     "name": "stdout",
     "output_type": "stream",
     "text": [
      "3\n",
      "12\n",
      "30\n"
     ]
    }
   ],
   "source": [
    "print(sum_share_equal_remainder(2))\n",
    "print(sum_share_equal_remainder(3))\n",
    "print(sum_share_equal_remainder(4))"
   ]
  },
  {
   "cell_type": "markdown",
   "metadata": {},
   "source": [
    "### 강사님의 풀이\n",
    "- - -\n",
    "- N = 1, ( X )\n",
    "- N = 2, ( 3 )\n",
    "- N = 3, ( 4, 8 )\n",
    "- N = 4, ( 5, 10, 15 )\n",
    "- …  \n",
    "- 개수는 => N-1개, 숫자들은 => N+1의 배수\n",
    "- (n+1)을 (n-1)배수까지 다 더하면…"
   ]
  },
  {
   "cell_type": "code",
   "execution_count": 3,
   "metadata": {},
   "outputs": [],
   "source": [
    "# 1\n",
    "\n",
    "def get_same_q_and_r_sum(n):\n",
    "    res = 0\n",
    "    for i in range(1, n):\n",
    "        res += i * (n +1)\n",
    "    return res"
   ]
  },
  {
   "cell_type": "code",
   "execution_count": 4,
   "metadata": {},
   "outputs": [
    {
     "name": "stdout",
     "output_type": "stream",
     "text": [
      "3\n",
      "12\n",
      "30\n"
     ]
    }
   ],
   "source": [
    "print(get_same_q_and_r_sum(2))\n",
    "print(get_same_q_and_r_sum(3))\n",
    "print(get_same_q_and_r_sum(4))"
   ]
  },
  {
   "cell_type": "markdown",
   "metadata": {},
   "source": [
    "- 또는, 0을 제외한 (n-1)개의 나머지는 각각 하나씩 값이 같은 몫을 가짐"
   ]
  },
  {
   "cell_type": "code",
   "execution_count": 5,
   "metadata": {},
   "outputs": [],
   "source": [
    "# 2\n",
    "\n",
    "def get_same_q_and_r_sum(n):\n",
    "    res = 0\n",
    "    for i in range(1, n):\n",
    "        res += (i * n) + i\n",
    "    return res"
   ]
  },
  {
   "cell_type": "code",
   "execution_count": 6,
   "metadata": {},
   "outputs": [
    {
     "name": "stdout",
     "output_type": "stream",
     "text": [
      "3\n",
      "12\n",
      "30\n"
     ]
    }
   ],
   "source": [
    "print(get_same_q_and_r_sum(2))\n",
    "print(get_same_q_and_r_sum(3))\n",
    "print(get_same_q_and_r_sum(4))"
   ]
  }
 ],
 "metadata": {
  "kernelspec": {
   "display_name": "Python 3",
   "language": "python",
   "name": "python3"
  },
  "language_info": {
   "codemirror_mode": {
    "name": "ipython",
    "version": 3
   },
   "file_extension": ".py",
   "mimetype": "text/x-python",
   "name": "python",
   "nbconvert_exporter": "python",
   "pygments_lexer": "ipython3",
   "version": "3.7.6"
  }
 },
 "nbformat": 4,
 "nbformat_minor": 4
}
