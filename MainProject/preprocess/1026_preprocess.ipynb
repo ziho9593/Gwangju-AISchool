{
  "nbformat": 4,
  "nbformat_minor": 0,
  "metadata": {
    "colab": {
      "name": "1026_preprocess.ipynb",
      "provenance": [],
      "collapsed_sections": [],
      "toc_visible": true
    },
    "kernelspec": {
      "name": "python3",
      "display_name": "Python 3"
    }
  },
  "cells": [
    {
      "cell_type": "markdown",
      "metadata": {
        "id": "cDhC8L746PB1"
      },
      "source": [
        "## Prerequisites"
      ]
    },
    {
      "cell_type": "code",
      "metadata": {
        "id": "l3PICZA2typr",
        "outputId": "97a4786e-82f3-4e64-bfb9-d9a82badfa7a",
        "colab": {
          "base_uri": "https://localhost:8080/",
          "height": 672
        }
      },
      "source": [
        "!pip install pandas\n",
        "!pip install sentencepiece\n",
        "!pip install hgtk\n",
        "!pip install gluonnlp"
      ],
      "execution_count": null,
      "outputs": [
        {
          "output_type": "stream",
          "text": [
            "Requirement already satisfied: pandas in /usr/local/lib/python3.6/dist-packages (1.1.2)\n",
            "Requirement already satisfied: numpy>=1.15.4 in /usr/local/lib/python3.6/dist-packages (from pandas) (1.18.5)\n",
            "Requirement already satisfied: python-dateutil>=2.7.3 in /usr/local/lib/python3.6/dist-packages (from pandas) (2.8.1)\n",
            "Requirement already satisfied: pytz>=2017.2 in /usr/local/lib/python3.6/dist-packages (from pandas) (2018.9)\n",
            "Requirement already satisfied: six>=1.5 in /usr/local/lib/python3.6/dist-packages (from python-dateutil>=2.7.3->pandas) (1.15.0)\n",
            "Collecting sentencepiece\n",
            "\u001b[?25l  Downloading https://files.pythonhosted.org/packages/d4/a4/d0a884c4300004a78cca907a6ff9a5e9fe4f090f5d95ab341c53d28cbc58/sentencepiece-0.1.91-cp36-cp36m-manylinux1_x86_64.whl (1.1MB)\n",
            "\u001b[K     |████████████████████████████████| 1.1MB 1.1MB/s \n",
            "\u001b[?25hInstalling collected packages: sentencepiece\n",
            "Successfully installed sentencepiece-0.1.91\n",
            "Collecting hgtk\n",
            "  Downloading https://files.pythonhosted.org/packages/79/04/04758ed8c086fb1d9a5a267f90239533d33dbc1646ac32f8bf80e38b0ec7/hgtk-0.1.3.tar.gz\n",
            "Building wheels for collected packages: hgtk\n",
            "  Building wheel for hgtk (setup.py) ... \u001b[?25l\u001b[?25hdone\n",
            "  Created wheel for hgtk: filename=hgtk-0.1.3-py2.py3-none-any.whl size=6688 sha256=90829c1abb57e4fece62d374291acbe8ac91b59ffeca4a3e6a61dcfc0a4d9072\n",
            "  Stored in directory: /root/.cache/pip/wheels/73/72/06/6065a57fe68264f35d7e52e37f56831eb3e9ec75656880de20\n",
            "Successfully built hgtk\n",
            "Installing collected packages: hgtk\n",
            "Successfully installed hgtk-0.1.3\n",
            "Collecting gluonnlp\n",
            "\u001b[?25l  Downloading https://files.pythonhosted.org/packages/9c/81/a238e47ccba0d7a61dcef4e0b4a7fd4473cb86bed3d84dd4fe28d45a0905/gluonnlp-0.10.0.tar.gz (344kB)\n",
            "\u001b[K     |████████████████████████████████| 348kB 2.7MB/s \n",
            "\u001b[?25hRequirement already satisfied: numpy>=1.16.0 in /usr/local/lib/python3.6/dist-packages (from gluonnlp) (1.18.5)\n",
            "Requirement already satisfied: cython in /usr/local/lib/python3.6/dist-packages (from gluonnlp) (0.29.21)\n",
            "Requirement already satisfied: packaging in /usr/local/lib/python3.6/dist-packages (from gluonnlp) (20.4)\n",
            "Requirement already satisfied: six in /usr/local/lib/python3.6/dist-packages (from packaging->gluonnlp) (1.15.0)\n",
            "Requirement already satisfied: pyparsing>=2.0.2 in /usr/local/lib/python3.6/dist-packages (from packaging->gluonnlp) (2.4.7)\n",
            "Building wheels for collected packages: gluonnlp\n",
            "  Building wheel for gluonnlp (setup.py) ... \u001b[?25l\u001b[?25hdone\n",
            "  Created wheel for gluonnlp: filename=gluonnlp-0.10.0-cp36-cp36m-linux_x86_64.whl size=588518 sha256=442ed09c75a6f7d6925401908027703ee2347a2f6be2a9e3a18a70cd07a930ba\n",
            "  Stored in directory: /root/.cache/pip/wheels/37/65/52/63032864a0f31a08b9a88569f803b5bafac8abd207fd7f7534\n",
            "Successfully built gluonnlp\n",
            "Installing collected packages: gluonnlp\n",
            "Successfully installed gluonnlp-0.10.0\n"
          ],
          "name": "stdout"
        }
      ]
    },
    {
      "cell_type": "markdown",
      "metadata": {
        "id": "fCNLZDGU2GAP"
      },
      "source": [
        "## Base Function"
      ]
    },
    {
      "cell_type": "code",
      "metadata": {
        "id": "-Aj0XoF42ISW"
      },
      "source": [
        "def file_num_padding(file_num) :\n",
        "    if file_num < 10 :\n",
        "        return '00000' + str(file_num)\n",
        "    elif file_num < 100 :\n",
        "        return '0000' + str(file_num)\n",
        "    elif file_num < 1000 :\n",
        "        return '000' + str(file_num)\n",
        "    elif file_num < 10000 :\n",
        "        return '00' + str(file_num)\n",
        "    elif file_num < 100000 :\n",
        "        return '0' + str(file_num)\n",
        "    else :\n",
        "        return str(file_num)"
      ],
      "execution_count": null,
      "outputs": []
    },
    {
      "cell_type": "code",
      "metadata": {
        "id": "MP2LwzZK22Wq"
      },
      "source": [
        "def get_path(path, fname, file_num, format):\n",
        "    return path + fname +file_num + format"
      ],
      "execution_count": null,
      "outputs": []
    },
    {
      "cell_type": "code",
      "metadata": {
        "id": "BZExgQ1u3BgT",
        "outputId": "e4bcfffb-9cd1-45de-d1fd-ce64f37782c8",
        "colab": {
          "base_uri": "https://localhost:8080/",
          "height": 36
        }
      },
      "source": [
        "BASE_PATH = './content/drive/My Drive/googledrive/'\n",
        "fname = 'KsponSpeech_'\n",
        "file_num = 1\n",
        "format = '.txt'\n",
        "\n",
        "print(get_path(BASE_PATH, fname, file_num_padding(file_num), format))"
      ],
      "execution_count": null,
      "outputs": [
        {
          "output_type": "stream",
          "text": [
            "./content/drive/My Drive/googledrive/KsponSpeech_000001.txt\n"
          ],
          "name": "stdout"
        }
      ]
    },
    {
      "cell_type": "markdown",
      "metadata": {
        "id": "oYqA2jpRBhsl"
      },
      "source": [
        "## preprocess"
      ]
    },
    {
      "cell_type": "markdown",
      "metadata": {
        "id": "PTfSI2sKgRn4"
      },
      "source": [
        "### bracket_filter()"
      ]
    },
    {
      "cell_type": "code",
      "metadata": {
        "id": "1sWnh2ZO_-p5"
      },
      "source": [
        "import os\n",
        "import re"
      ],
      "execution_count": 1,
      "outputs": []
    },
    {
      "cell_type": "code",
      "metadata": {
        "id": "J3YJLpx1Ypnu"
      },
      "source": [
        "test1 = \"o/ 근데 (70%)/(칠십 퍼센트)가 커 보이긴 하는데 (200)/(이백) 벌다 (140)/(백 사십) 벌면 빡셀걸? b/\"\n",
        "test2 = \"근데 (3학년)/(삼 학년) 때 까지는 국가장학금 바+ 받으면서 다녔던 건가?\""
      ],
      "execution_count": 2,
      "outputs": []
    },
    {
      "cell_type": "code",
      "metadata": {
        "id": "xl08QiPaCGe5"
      },
      "source": [
        "\"\"\"\n",
        "(A) / (B) 일 때, B만을 가져와주는 함수\n",
        "(철자전사) / (발음전사) 중 철자전사를 선택하기 위해 정의\n",
        "\"\"\"\n",
        "\n",
        "def bracket_filter(sentence):\n",
        "    # new_sentence = str()\n",
        "    new_sentence = \"\"\n",
        "    # 디폴트 값은 False\n",
        "    flag = False\n",
        "\n",
        "    for ch in sentence :\n",
        "        if ch == ')' and flag == False :\n",
        "            flag = True\n",
        "            continue\n",
        "        if ch == ')' and flag == True :\n",
        "            flag = False\n",
        "            continue\n",
        "        if ch != '(' and flag == False :\n",
        "            new_sentence += ch\n",
        "    return new_sentence"
      ],
      "execution_count": 3,
      "outputs": []
    },
    {
      "cell_type": "code",
      "metadata": {
        "id": "FMi49ULAY8ND",
        "outputId": "41326f5c-0d42-4ae9-e97b-32389e1cdef7",
        "colab": {
          "base_uri": "https://localhost:8080/",
          "height": 55
        }
      },
      "source": [
        "print(bracket_filter(test1))\n",
        "print(bracket_filter(test2))"
      ],
      "execution_count": 4,
      "outputs": [
        {
          "output_type": "stream",
          "text": [
            "o/ 근데 70%가 커 보이긴 하는데 200 벌다 140 벌면 빡셀걸? b/\n",
            "근데 3학년 때 까지는 국가장학금 바+ 받으면서 다녔던 건가?\n"
          ],
          "name": "stdout"
        }
      ]
    },
    {
      "cell_type": "markdown",
      "metadata": {
        "id": "Rv5j2W1NWGQo"
      },
      "source": [
        "### special_filter()"
      ]
    },
    {
      "cell_type": "code",
      "metadata": {
        "id": "k0Kghdlqz1SL"
      },
      "source": [
        "test3 = \"o/ 근데 70%가 커 보이긴 하는데 200 벌다 140 벌면 빡셀걸? b/\"\n",
        "test4 = \"근데 3학년 때 까지는 국가장학금 바+ 받으면서 다녔던 건가?\"\n",
        "test5 = \"그런 거 하자. 설 명절. l/\""
      ],
      "execution_count": 34,
      "outputs": []
    },
    {
      "cell_type": "code",
      "metadata": {
        "id": "KdrLDLUWHIDU"
      },
      "source": [
        "# 특수 문자를 아예 필터링 해버리면 문제가 되는 '#', '%'와 같은 문자를 확인하고, 문제가 되는 특수문자는 해당 발음으로 바꿔주었다.\n",
        "\n",
        "def special_filter(sentence):\n",
        "    SENTENCE_MARK = ['?', '!', '.', ',']\n",
        "    # noise라고 인식하면 안 되는 것들 추려내기!\n",
        "    # b = 숨소리, l = 웃음 소리, o = 다른 사람의 말소리가 포함된 경우 문장의 맨 앞에 표기, n = 주변의 잡음\n",
        "    NOT_NOISE = ['l', '+']\n",
        "    # u = 문맥을 보아도 도저히 알 수 없는 발음\n",
        "    NOISE = ['o', 'n', 'u', 'b']\n",
        "    EXCEPT = ['/', '*', '-', '@', '$', '^', '&', '[', ']', '=', ':', ';']\n",
        "\n",
        "    new_sentence = \"\"\n",
        "    for idx, ch in enumerate(sentence):\n",
        "        if ch not in SENTENCE_MARK:\n",
        "            # o/, n/ 등 처리(noise 처리)\n",
        "            if idx + 1 < len(sentence) and ch in NOISE and sentence[idx + 1] == '/':\n",
        "                continue\n",
        "        # if ch == 'b' :\n",
        "        #     new_sentence += '(한숨)'\n",
        "        if ch == 'l' :\n",
        "            new_sentence += '(웃으며)'\n",
        "        elif ch == '+' :\n",
        "            new_sentence += ','\n",
        "        # 여기에다가 not_noise 부분 처리해야 되나?\n",
        "        elif ch not in EXCEPT:\n",
        "            new_sentence += ch\n",
        "    pattern = re.compile(r'\\s\\s+')\n",
        "    new_sentence = re.sub(pattern, ' ', new_sentence.strip())\n",
        "    return new_sentence"
      ],
      "execution_count": 36,
      "outputs": []
    },
    {
      "cell_type": "code",
      "metadata": {
        "id": "bKItPc4U3Eyd",
        "outputId": "33a5333b-cc2a-4a77-9676-b3d865eb9979",
        "colab": {
          "base_uri": "https://localhost:8080/",
          "height": 73
        }
      },
      "source": [
        "print(special_filter(test3))\n",
        "print(special_filter(test4))\n",
        "print(special_filter(test5))"
      ],
      "execution_count": 37,
      "outputs": [
        {
          "output_type": "stream",
          "text": [
            "근데 70%가 커 보이긴 하는데 200 벌다 140 벌면 빡셀걸?\n",
            "근데 3학년 때 까지는 국가장학금 바, 받으면서 다녔던 건가?\n",
            "그런 거 하자. 설 명절. (웃으며)\n"
          ],
          "name": "stdout"
        }
      ]
    },
    {
      "cell_type": "code",
      "metadata": {
        "id": "YF4uVRic3UYU"
      },
      "source": [
        "import wave\n",
        "\n",
        "def pcm2wav( pcm_file, wav_file, channels=1, bit_depth=16, sampling_rate=16000 ):\n",
        "\n",
        "    # Check if the options are valid.\n",
        "    if bit_depth % 8 != 0:\n",
        "        raise ValueError(\"bit_depth \"+str(bit_depth)+\" must be a multiple of 8.\")\n",
        "        \n",
        "    # Read the .pcm file as a binary file and store the data to pcm_data\n",
        "    with open( pcm_file, 'rb') as opened_pcm_file:\n",
        "        pcm_data = opened_pcm_file.read()\n",
        "        obj2write = wave.open( wav_file, 'wb')\n",
        "        obj2write.setnchannels( channels )\n",
        "        obj2write.setsampwidth( bit_depth // 8 )\n",
        "        obj2write.setframerate( sampling_rate )\n",
        "        obj2write.writeframes( pcm_data )\n",
        "        obj2write.close()\n",
        "\n",
        "pcm2wav( '/content/drive/My Drive/googledrive/feature_test/KsponSpeech_586827.pcm', '/content/drive/My Drive/googledrive/feature_test/KsponSpeech_586827.wav', 1, 16, 16000 )"
      ],
      "execution_count": 30,
      "outputs": []
    }
  ]
}