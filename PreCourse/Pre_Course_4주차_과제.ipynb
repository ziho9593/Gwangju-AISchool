{
  "nbformat": 4,
  "nbformat_minor": 0,
  "metadata": {
    "colab": {
      "name": "Pre Course 4주차 과제.ipynb",
      "provenance": [],
      "collapsed_sections": [],
      "include_colab_link": true
    },
    "kernelspec": {
      "name": "python3",
      "display_name": "Python 3"
    }
  },
  "cells": [
    {
      "cell_type": "markdown",
      "metadata": {
        "id": "view-in-github",
        "colab_type": "text"
      },
      "source": [
        "<a href=\"https://colab.research.google.com/github/ziho9593/AI_Pre/blob/master/Pre_Course_4%EC%A3%BC%EC%B0%A8_%EA%B3%BC%EC%A0%9C.ipynb\" target=\"_parent\"><img src=\"https://colab.research.google.com/assets/colab-badge.svg\" alt=\"Open In Colab\"/></a>"
      ]
    },
    {
      "cell_type": "markdown",
      "metadata": {
        "id": "wxkL6PjwsI6L",
        "colab_type": "text"
      },
      "source": [
        "# 4주차 과제\n",
        "- 용어 정리\n",
        "- 딥러닝 강의 클론 코딩\n",
        "- 딥러닝 순전파 & 역전파 계산"
      ]
    },
    {
      "cell_type": "markdown",
      "metadata": {
        "id": "ixEtDe6_uGgI",
        "colab_type": "text"
      },
      "source": [
        "## 1. 용어 정리\n",
        "\n",
        "다음 제시된 단어의 정의(설명)를 정리하여 작성 하세요.\n",
        "\n",
        "* 2문장 이상 작성 해 주세요. \n",
        "* 주제(단어)와 크게 벗어나지만 않는다면 정답처리 됩니다.\n",
        "* 강의 뿐 아니라 기타 레퍼런스를 참고하여 작성하셔도 됩니다. (기타 레퍼런스를 참고하신 경우, 해당 레퍼런스를 정리하여 하단에 작성해 주세요.)\n"
      ]
    },
    {
      "cell_type": "markdown",
      "metadata": {
        "id": "0lfwat8eurKZ",
        "colab_type": "text"
      },
      "source": [
        "__(예시)__\n",
        "### 심층 신경망\n",
        ": 입력층과 출력층 사이에 여러 개의 은닉층들로 이뤄진 인공신경망이다. 심층 신경망은 일반적으로 인공신경망과 마찬가지로 복잡한 비선형 관계들을 모델링 할 수 있다. 신층신경망의 목적은 분류 및 수치예측을 하기 위함이고 이미지 트레이닝이나 문자인식과 같은 분야에서 매우 유용하게 쓰이고 있다."
      ]
    },
    {
      "cell_type": "markdown",
      "metadata": {
        "id": "Y8YJNKG_v65A",
        "colab_type": "text"
      },
      "source": [
        "### MCP 뉴런\n",
        ": 1943년 워랜 맥컬록과 윌터 피츠가 처음으로 간소화된 뇌의 뉴런 개념을 발표했는데, 그것이 바로 'McCulloch-Pitts(MCP) Neuron'이다. 뇌의 뉴런들은 신경세포와 서로 연결되어있으며 화학적·전기적 신호의 처리 및 전달에 관여하는데, 맥컬록과 피츠는 이러한 신경세포를 이진 출력을 내는 간단한 논리회로로 표현하였다.\n",
        "### 퍼셉트론\n",
        ": Frank Rosenblatt이 MCP 뉴런 모델을 기반으로 처음 발표한 것으로, 그는 퍼셉트론 규칙에서 자동으로 최적의 가중치를 학습하는 알고리즘을 제안하였다.이 가중치는 뉴런의 출력 신호를 낼지 말지를 결정하기 위하여 입력 특성에 곱하는 계수가 되며, 뉴런에 가중치를 곱한 뒤 활성화 함수를 취하면 출력값을 얻을 수 있다. 또한 이러한 뉴런에서 학습할 때 변하는 것은 가중치이며, 이는 학습과정에서 일정한 값에 수렴한다.\n",
        "\n",
        "### 역전파\n",
        ": 뉴런의 가중치를 효율적으로 조정하기 위하여 거꾸로 무엇인가를 전파하는 방식이다. 역전파에서는 기존의 출력값 대신 기대 출력값을 넣어주며, 가중치와 편향을 조정해나간다. 이 때, 더 큰 영향을 준 값에 대하여 더 큰 조정을 위해 조정할 가중치에 학습률을 기존의 값에 곱한만큼 빼서 계산하게되며, 은닉층의 기존 노드는 가중치를 조정한만큼 오차값이 전파되어 줄어들게 된다.\n",
        "\n",
        "### 강화학습\n",
        ": '에이전트'라는 존재가 '환경'과 상호작용하며 '보상'이라는 기준을 다양한 시행착오를 겪어가며 최대화하는 방향으로 학습을 진행하는 의사결정전략을 말한다. 이는 순차적 행동을 알아나가는 방법이라고도 말할 수 있으며, 순차적으로 행동을 결정해야하는 문제를 수학적으로 정의한 'Markov Decision Process(MDP)'를 기반으로 한다. 또한 강화학습은 지도 학습 같이 정답이 있지도 않고, 비지도 학습처럼 데이터만을 기반으로 학습하지도 않는다.\n",
        "\n",
        "### 과적합\n",
        ": 흔히 과대적합(Overfitting)을 뜻하며, 모델이 훈련 데이터에는 너무 잘 맞지만 실제로는 일반성이 떨어지는 것을 의미한다. 이는 훈련 데이터에 너무 맞추어져 있어서 훈련 데이터 외의 다양한 변수에는 대응이 힘들기 때문이며, 모델의 복잡도가 필요 이상으로 높기 때문이기도 하다. 과적합을 해결하기 위해 훈련 데이터 수를 늘리거나, 정규화, 노이즈 제거 등 모델의 복잡도를 낮추어 준다면 어느 정도 해결이 가능하다. 그러나 모델이 너무 단순하다면 과소적합(Underfitting)이 발생해 데이터의 내제된 구조를 학습하지 못할 수 있으니 두 가지 모두 주의해야한다.  \n",
        "(참조: https://blog.naver.com/qbxlvnf11/221324122821)\n",
        "\n",
        "### 차원의 저주\n",
        ": 훈련 샘플들이 각각 너무 많은 특성을 가지고 있을 때 훈련을 느리게 만들 뿐만 아니라, 최적의 솔루션을 찾기 어렵게 만드는 현상을 말한다. 고차원으로 갈수록 전체 공간에서 데이터가 차지하는 공간이 매우 미비해지며, 새로운 샘플도 훈련 샘플과 멀리 떨어져 있을 가능성이 높아서 작업의 양이 훨씬 늘어나고 예측이 불안정해진다. 이를 해결하기 위한 방법으로 특잇값 분배, 주성분 분석 등의 '차원 축소'가 있다.  \n",
        "(참조: https://blog.naver.com/qbxlvnf11/221323034856)\n"
      ]
    },
    {
      "cell_type": "markdown",
      "metadata": {
        "id": "d-zfFXLCy6jD",
        "colab_type": "text"
      },
      "source": [
        "## 2. 딥러닝 강의 클론 코딩\n",
        "\n",
        "####__퍼셉트론 구조 구현하기__ \n",
        "딥러닝 강의(__딥러닝 원리[1] 3:15 ~ 5:15 부분__)를 보고 코드를 따라 치며 출력 결과를 만드세요.\n",
        " \n",
        "\n",
        "* 하나의 코드셀에 해당 코드를 한번에 다 적어서 실행해주세요 (__그렇게 하지 않을 경우, 아래 이미지와 같은 출력값이 나오지 않을 수 있습니다__)\n",
        "\n",
        "*__주의!__ 실제로 코딩해서 출력해보면 강의에 나온 출력 결과와 다르게 나옵니다!!\n"
      ]
    },
    {
      "cell_type": "markdown",
      "metadata": {
        "id": "wcc5mzI9oZ7r",
        "colab_type": "text"
      },
      "source": [
        "![대체 텍스트](https://www.notion.so/image/https%3A%2F%2Fs3-us-west-2.amazonaws.com%2Fsecure.notion-static.com%2F0cceeed0-0235-4b0f-af88-0b8c377d5b4b%2F_2020-06-09__9.35.23.png?table=block&id=88fd8912-9356-49a4-9fda-a1a63fe96ea9&width=2870&cache=v2)"
      ]
    },
    {
      "cell_type": "code",
      "metadata": {
        "id": "a5qkbnGp9yDk",
        "colab_type": "code",
        "outputId": "fc4fa371-db60-46ab-bbca-fc9b5b7e6dae",
        "colab": {
          "base_uri": "https://localhost:8080/",
          "height": 215
        }
      },
      "source": [
        "import tensorflow as tf\n",
        "tf.compat.v1.set_random_seed(2020)\n",
        "x = 1\n",
        "y = 0\n",
        "w = tf.random.normal([1], 0, 1)\n",
        "\n",
        "import math\n",
        "def sigmoid(x):\n",
        "  return 1 / (1 + math.exp(-x))\n",
        "\n",
        "output = sigmoid(x * w)\n",
        "print(output)\n",
        "\n",
        "for i in range(1000):\n",
        "  output = sigmoid(x * w)\n",
        "  error = y - output\n",
        "  w = w + x * 0.1 * error\n",
        "\n",
        "  if i % 100 == 99:\n",
        "    print(\"학습 횟수:\", i, \"Error:\", error, \"예측 결과:\", output)"
      ],
      "execution_count": 0,
      "outputs": [
        {
          "output_type": "stream",
          "text": [
            "0.47477188589261\n",
            "학습 횟수: 99 Error: -0.10010598284299604 예측 결과: 0.10010598284299604\n",
            "학습 횟수: 199 Error: -0.05178399422833116 예측 결과: 0.05178399422833116\n",
            "학습 횟수: 299 Error: -0.034590451977903586 예측 결과: 0.034590451977903586\n",
            "학습 횟수: 399 Error: -0.02588962752851373 예측 결과: 0.02588962752851373\n",
            "학습 횟수: 499 Error: -0.020658699939863617 예측 결과: 0.020658699939863617\n",
            "학습 횟수: 599 Error: -0.017174253993457355 예측 결과: 0.017174253993457355\n",
            "학습 횟수: 699 Error: -0.014689506449480992 예측 결과: 0.014689506449480992\n",
            "학습 횟수: 799 Error: -0.012829497265431342 예측 결과: 0.012829497265431342\n",
            "학습 횟수: 899 Error: -0.011385568271837804 예측 결과: 0.011385568271837804\n",
            "학습 횟수: 999 Error: -0.010232493309882492 예측 결과: 0.010232493309882492\n"
          ],
          "name": "stdout"
        }
      ]
    },
    {
      "cell_type": "markdown",
      "metadata": {
        "id": "kr0HVRk8fOom",
        "colab_type": "text"
      },
      "source": [
        "## 3. 딥러닝 순전파 & 역전파 계산\n",
        "\n",
        "딥러닝 강의(__딥러닝 원리[2] 0:55 ~ 4:32 부분__)에 나오는 순전파 & 역전파 계산에 대한 문제 입니다.\n",
        "\n",
        "해당 영상과 다음 이미지를 참고하여 다음 2가지 물음에 답하세요.\n",
        "\n",
        "\n",
        "(1) 학습률이 0.2 일 경우 출력층의 노드값\n",
        "\n",
        "(2) 학습률이 0.1과 0.2 중 기대출력값이 지도데이터 \"3\"과 더 가까운 학습률은?"
      ]
    },
    {
      "cell_type": "markdown",
      "metadata": {
        "id": "CpwPFWhOUzww",
        "colab_type": "text"
      },
      "source": [
        "![대체 텍스트](https://www.notion.so/image/https%3A%2F%2Fs3-us-west-2.amazonaws.com%2Fsecure.notion-static.com%2Ff54dfd45-92ec-44ae-9616-6949d2484a45%2F_2020-06-10__5.22.03.png?table=block&id=ee05da89-3ceb-4ad9-a2d3-c9f68d24d1d9&width=3580&cache=v2)"
      ]
    },
    {
      "cell_type": "markdown",
      "metadata": {
        "id": "B2OVY7w5U3CI",
        "colab_type": "text"
      },
      "source": [
        "## (1) 학습률이 0.2 일 경우 출력층의 노드값 : 1.6\n",
        "## (2) 학습률이 0.1과 0.2 중 기대출력값이 지도데이터 \"3\"과 더 가까운 학습률은? : 0.1"
      ]
    }
  ]
}