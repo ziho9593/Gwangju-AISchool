{
 "cells": [
  {
   "cell_type": "markdown",
   "metadata": {},
   "source": [
    "# 광주 인공지능 사관학교\n",
    "- - -\n",
    "- 작성자 : 2반 한지호\n",
    "- 작성일 : 20.07.09 목\n",
    "- CSV 모듈의 기본적인 사용법을 숙지하기 위한 Login 구현 실습\n",
    "- 구글링과 다른 사람들의 자료를 참고하여 겨우 완성하였으며, 스스로 아직 CSV 모듈에 대한 이해가 부족하고 사용이 미숙하다고 느꼈다.\n",
    "- 주말에 관련 자료들을 찾아본 후, 코드를 다시 작성해보며 복습할 예정이다."
   ]
  },
  {
   "cell_type": "code",
   "execution_count": 1,
   "metadata": {},
   "outputs": [],
   "source": [
    "# TODO_0 : csv 모듈 불러오기\n",
    "import csv"
   ]
  },
  {
   "cell_type": "code",
   "execution_count": 2,
   "metadata": {},
   "outputs": [],
   "source": [
    "def user_input():\n",
    "    try:\n",
    "        id, pw = map(str, input(\"아이디와 비밀번호를 차례로 입력해주세요 : \").split())\n",
    "        return id, pw\n",
    "    except:\n",
    "        print(\"올바르지 않은 입력입니다!\")\n",
    "        id, pw = user_input()\n",
    "        return id, pw"
   ]
  },
  {
   "cell_type": "code",
   "execution_count": 3,
   "metadata": {},
   "outputs": [],
   "source": [
    "# TODO_1 : signin 함수를 구현해서 로그인 시키기\n",
    "# 1. csv 파일에서 존재하는 아이디인지 확인하기\n",
    "# 2. 존재하면 비밀번호 맞는지 체크\n",
    "# 3. 비밀번호도 맞으면 로그인성공 출력하기\n",
    "\n",
    "def signin(id, pw):\n",
    "    with open('users_data.csv', 'r') as f:\n",
    "        users = csv.reader(f)\n",
    "        for row in users:\n",
    "            if id == row[0] and pw == row[1]:\n",
    "                print('로그인 성공')\n",
    "                return\n",
    "        print('로그인 실패')"
   ]
  },
  {
   "cell_type": "code",
   "execution_count": 4,
   "metadata": {},
   "outputs": [],
   "source": [
    "# TODO_2 : csvfile 에 유저가 존재하는지 확인하는 함수 구현해서 호출하기\n",
    "# 1. 아이디를 기준으로 존재하는 유저인지 확인\n",
    "# 2. 존재한다면 다시 아이디를 입력받고,\n",
    "# 3. 존재하지 않는다면 다음 단계로 넘겨주기\n",
    "def existing_id(id):\n",
    "    with open('users_data.csv', 'r') as f:\n",
    "        users = csv.reader(f)\n",
    "        for user_id in users:\n",
    "            if user_id == id:\n",
    "                print(\"중복된 아이디\")\n",
    "                return True\n",
    "        return False"
   ]
  },
  {
   "cell_type": "code",
   "execution_count": 5,
   "metadata": {},
   "outputs": [],
   "source": [
    "# TODO_3 : csvfile 에 등록되어있는 형태로 유저 등록하는 함수 구현하기\n",
    "# 1. 아이디와 비밀번호를 그냥 데이터로 받아서 추가해보기\n",
    "# 2. 아이디와 비밀번호를 '딕셔너리' 형태로 받아서 추가해보기 (프로그래밍 실력의 기본은 구글링! 최대한 구글링 해보세요!!)\n",
    "def signup(*args):\n",
    "    with open('users_data.csv', 'a', newline='') as f:\n",
    "        if len(args) == 1:\n",
    "            w = csv.DictWriter(f, fieldnames=['id', 'pw'])\n",
    "            w.writerow(args[0])\n",
    "        else:\n",
    "            w = csv.writer(f)\n",
    "            w.writerow(args)"
   ]
  },
  {
   "cell_type": "code",
   "execution_count": 6,
   "metadata": {},
   "outputs": [],
   "source": [
    "# TODO_4 : csvfile 에서 현재 가입되어 있는 유저 전부 출력하기\n",
    "def userlist():\n",
    "    print(\"현재 존재하는 유저 : \")\n",
    "    with open('users_data.csv', 'r') as f:\n",
    "        users = csv.reader(f)\n",
    "        for user in users:\n",
    "            print(user[:1])"
   ]
  },
  {
   "cell_type": "code",
   "execution_count": 7,
   "metadata": {},
   "outputs": [],
   "source": [
    "def exitcheck():\n",
    "    stop = int(input(\"계속하시려면 0, 종료하시려면 1을 눌러주세요. : \"))\n",
    "    if stop == 0:\n",
    "        start()\n",
    "    elif stop == 1:\n",
    "        exit()"
   ]
  },
  {
   "cell_type": "code",
   "execution_count": 8,
   "metadata": {},
   "outputs": [],
   "source": [
    "def start():\n",
    "    print('csv 로 데이터 다루기 로그인 예제')\n",
    "\n",
    "    signup_or_login = int(input('1 - 로그인 / 2 - 회원가입 : '))\n",
    "\n",
    "    if signup_or_login == 1:\n",
    "        id, pw = user_input()\n",
    "        # TODO_5 : 위의 TODO1 참고 후 signin 함수 실행하기\n",
    "        signin(id, pw)\n",
    "    elif signup_or_login == 2:\n",
    "        # TODO_6 : 회원가입을 아이디와 비밀번호만 받아서 진행할 것\n",
    "        # 1. 존재하는지 확인 (위의 TODO_2의 함수 활용)\n",
    "        # 2. 문제 없으면 회원가입 완료 후 userlist() 함수 구현\n",
    "        id, pw = user_input()\n",
    "        dict_user = {\n",
    "            \"id\": id,\n",
    "            \"pw\": pw\n",
    "        }\n",
    "        # signup(id, pw)\n",
    "        signup(dict_user)\n",
    "        userlist()\n",
    "    else:\n",
    "        print(\"올바른 숫자를 입력하세요!\")\n",
    "\n",
    "    exitcheck()"
   ]
  },
  {
   "cell_type": "code",
   "execution_count": null,
   "metadata": {},
   "outputs": [],
   "source": [
    "start()\n",
    "\n",
    "# TODO_7 : 깃헙에 업로드하고 깃헙 주소 제출!"
   ]
  }
 ],
 "metadata": {
  "kernelspec": {
   "display_name": "Python 3",
   "language": "python",
   "name": "python3"
  },
  "language_info": {
   "codemirror_mode": {
    "name": "ipython",
    "version": 3
   },
   "file_extension": ".py",
   "mimetype": "text/x-python",
   "name": "python",
   "nbconvert_exporter": "python",
   "pygments_lexer": "ipython3",
   "version": "3.7.6"
  }
 },
 "nbformat": 4,
 "nbformat_minor": 4
}
