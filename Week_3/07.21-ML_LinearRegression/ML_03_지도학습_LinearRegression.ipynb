{
 "cells": [
  {
   "cell_type": "markdown",
   "metadata": {},
   "source": [
    "# 광주 인공지능 사관학교\n",
    "- - -\n",
    "- 작성자 : 2반 한지호\n",
    "- 작성일 : 20.07.21 화\n",
    "- 5교시 머신러닝 시간에 사용한 선형 회귀 학습 자료"
   ]
  },
  {
   "cell_type": "code",
   "execution_count": 1,
   "metadata": {
    "colab": {
     "base_uri": "https://localhost:8080/",
     "height": 463
    },
    "colab_type": "code",
    "executionInfo": {
     "elapsed": 7434,
     "status": "ok",
     "timestamp": 1595253732108,
     "user": {
      "displayName": "oz To",
      "photoUrl": "",
      "userId": "12937505880450462933"
     },
     "user_tz": -540
    },
    "id": "yQIi_JhK243G",
    "outputId": "bbf93ecd-6028-40aa-90fd-c5f8bfd6afb2",
    "slideshow": {
     "slide_type": "skip"
    }
   },
   "outputs": [],
   "source": [
    "# !pip install mglearn"
   ]
  },
  {
   "cell_type": "markdown",
   "metadata": {
    "colab_type": "text",
    "id": "xdlpRk691peC",
    "slideshow": {
     "slide_type": "slide"
    }
   },
   "source": [
    "# 지도학습 - 선형회귀 (Linear Regression)\n",
    "\n",
    "회귀 모델이란?\n",
    "\n",
    "- 어떤 자료에 대해서 그 값에 영향을 주는 조건을 고려하여 구한 평균 <br>\n",
    "(어떤 데이터들이 굉장히 크거나 작을지라도 전체적으로 이 데이터들은 전체 평균으로 회귀하려는 특징이 있다는 통계학 기법)\n"
   ]
  },
  {
   "cell_type": "markdown",
   "metadata": {
    "colab_type": "text",
    "id": "8O0kNfUf_AhW",
    "slideshow": {
     "slide_type": "slide"
    }
   },
   "source": [
    "- \\\\( y = h(x_1, x_2, x_3, ..., x_k; W_1, W_2, W_3, ..., W_k) + \\epsilon \\\\)\n",
    "\n",
    " - h() : 조건에 따른 평균을 구하는 함수 (회귀 모델)\n",
    " - x : 어떤 조건(특성)\n",
    " - W : 각 조건의 영향력(가중치)\n",
    " - e : ‘오차항’을 의미. 다양한 현실적인 한계로 인해 발생하는 불확실성으로 일종의 잡음(noise)"
   ]
  },
  {
   "cell_type": "markdown",
   "metadata": {
    "colab_type": "text",
    "id": "t9fnb7Bu4qFF",
    "slideshow": {
     "slide_type": "slide"
    }
   },
   "source": [
    "선형 모델이란?\n",
    "\n",
    "- 입력 특성에 대한 선형 함수를 만들어 예측을 수행\n",
    "\n",
    "- 다양한 선형 모델이 존재\n",
    "\n",
    "- 분류와 회귀에 모두 사용 가능\n"
   ]
  },
  {
   "cell_type": "markdown",
   "metadata": {
    "colab_type": "text",
    "id": "vDXzxEss5F1M",
    "slideshow": {
     "slide_type": "slide"
    }
   },
   "source": [
    "<center>\n",
    "\n",
    "시험성적 데이터\n",
    "\n",
    "|X ( 학습 시간 )| Y ( 시험 점수 )|\n",
    "|---|---|\n",
    "|9 |90|\n",
    "|8 |80|\n",
    "|4| 40|\n",
    "|2| 20|\n",
    "\n",
    "7시간 공부 할 경우 성적은?\n",
    "</center>\n",
    "\n"
   ]
  },
  {
   "cell_type": "code",
   "execution_count": 2,
   "metadata": {
    "colab": {
     "base_uri": "https://localhost:8080/",
     "height": 301
    },
    "colab_type": "code",
    "executionInfo": {
     "elapsed": 748,
     "status": "ok",
     "timestamp": 1595250237015,
     "user": {
      "displayName": "oz To",
      "photoUrl": "",
      "userId": "12937505880450462933"
     },
     "user_tz": -540
    },
    "id": "u8cTax-01dWx",
    "outputId": "c6d25902-c875-4814-e624-b31f9f575890",
    "slideshow": {
     "slide_type": "slide"
    }
   },
   "outputs": [
    {
     "data": {
      "text/plain": [
       "[<matplotlib.lines.Line2D at 0x1f88c34d808>]"
      ]
     },
     "execution_count": 2,
     "metadata": {},
     "output_type": "execute_result"
    },
    {
     "data": {
      "image/png": "[encoded data removed]",
      "text/plain": [
       "<Figure size 432x288 with 1 Axes>"
      ]
     },
     "metadata": {
      "needs_background": "light"
     },
     "output_type": "display_data"
    }
   ],
   "source": [
    "import matplotlib.pyplot as plt\n",
    "%matplotlib inline\n",
    "\n",
    "# 그래프 표현\n",
    "x = [9, 8, 4, 2]\n",
    "y = [90, 80, 40, 20]\n",
    "\n",
    "plt.xlim(0, 10)\n",
    "plt.ylim(0, 100)\n",
    "plt.xlabel('hour')\n",
    "plt.ylabel('score')\n",
    "plt.grid(True)\n",
    "plt.plot(x, y, 'b-o')"
   ]
  },
  {
   "cell_type": "markdown",
   "metadata": {
    "colab_type": "text",
    "id": "JIfam4px_Myj",
    "slideshow": {
     "slide_type": "slide"
    }
   },
   "source": [
    " \\\\( y=ax+b \\\\)\n",
    "\n",
    " - a : 기울기\n",
    " - b : 절편"
   ]
  },
  {
   "cell_type": "markdown",
   "metadata": {
    "colab_type": "text",
    "id": "DnaEGSFmUhs-",
    "slideshow": {
     "slide_type": "slide"
    }
   },
   "source": [
    "<center>\n",
    "\n",
    "시험성적 데이터\n",
    "\n",
    "|X ( 학습 시간 )| Y ( 시험 점수 )|\n",
    "|---|---|\n",
    "|8 |97|\n",
    "|6 |91|\n",
    "|4| 93|\n",
    "|2| 81|\n",
    "\n",
    "7시간 공부 할 경우 성적은?\n",
    "</center>\n",
    "\n"
   ]
  },
  {
   "cell_type": "code",
   "execution_count": 3,
   "metadata": {
    "colab": {
     "base_uri": "https://localhost:8080/",
     "height": 301
    },
    "colab_type": "code",
    "executionInfo": {
     "elapsed": 756,
     "status": "ok",
     "timestamp": 1595250541186,
     "user": {
      "displayName": "oz To",
      "photoUrl": "",
      "userId": "12937505880450462933"
     },
     "user_tz": -540
    },
    "id": "fedN6VtvUxDC",
    "outputId": "dc723bb3-0e9f-4e9c-c556-5be76178ba80",
    "slideshow": {
     "slide_type": "slide"
    }
   },
   "outputs": [
    {
     "data": {
      "text/plain": [
       "[<matplotlib.lines.Line2D at 0x1f88fbd4d88>]"
      ]
     },
     "execution_count": 3,
     "metadata": {},
     "output_type": "execute_result"
    },
    {
     "data": {
      "image/png": "[encoded data removed]",
      "text/plain": [
       "<Figure size 432x288 with 1 Axes>"
      ]
     },
     "metadata": {
      "needs_background": "light"
     },
     "output_type": "display_data"
    }
   ],
   "source": [
    "import matplotlib.pyplot as plt\n",
    "%matplotlib inline\n",
    "\n",
    "# 그래프 표현\n",
    "x = [2, 4, 6, 8]\n",
    "y = [81, 93, 91, 97]\n",
    "\n",
    "plt.xlim(0, 10)\n",
    "plt.ylim(75, 100)\n",
    "plt.xlabel('hour')\n",
    "plt.ylabel('score')\n",
    "plt.grid(True)\n",
    "plt.plot(x, y, 'bo')"
   ]
  },
  {
   "cell_type": "markdown",
   "metadata": {
    "colab_type": "text",
    "id": "AZoDgX3yVJqN",
    "slideshow": {
     "slide_type": "slide"
    }
   },
   "source": [
    " \\\\( y=ax+b \\\\)\n",
    "\n",
    " - a : 기울기\n",
    " - b : 절편"
   ]
  },
  {
   "cell_type": "markdown",
   "metadata": {
    "colab_type": "text",
    "id": "Zcy0nntfaFaY",
    "slideshow": {
     "slide_type": "slide"
    }
   },
   "source": [
    "최소제곱법\n",
    "\n",
    "> \\\\( a=\\frac { (x-x평균)(y-y평균)의 합 }{ { (x-x평균) }^{ 2 }의 합 }  \\\\)\n",
    "\n",
    "- 공부한 시간(x)의 평균: (2+4+6+8) / 4 = 5\n",
    "- 성적(y)의 평균: (81+93+91+97) / 4 = 90.5\n",
    "\n",
    "> \\\\( b=y의 평균- (x의 평균 \\times 기울기 a) \\\\)\n",
    "\n",
    "- b = 90.5 - (2.3 x 5) = 79\n"
   ]
  },
  {
   "cell_type": "code",
   "execution_count": 4,
   "metadata": {
    "colab": {
     "base_uri": "https://localhost:8080/",
     "height": 282
    },
    "colab_type": "code",
    "executionInfo": {
     "elapsed": 877,
     "status": "ok",
     "timestamp": 1595251406186,
     "user": {
      "displayName": "oz To",
      "photoUrl": "",
      "userId": "12937505880450462933"
     },
     "user_tz": -540
    },
    "id": "kKnSrYz5VA2h",
    "outputId": "133e135d-d628-4f92-adbc-3dfeb1694c63",
    "slideshow": {
     "slide_type": "slide"
    }
   },
   "outputs": [
    {
     "data": {
      "text/plain": [
       "[<matplotlib.lines.Line2D at 0x1f88fc41fc8>]"
      ]
     },
     "execution_count": 4,
     "metadata": {},
     "output_type": "execute_result"
    },
    {
     "data": {
      "image/png": "[encoded data removed]",
      "text/plain": [
       "<Figure size 432x288 with 1 Axes>"
      ]
     },
     "metadata": {
      "needs_background": "light"
     },
     "output_type": "display_data"
    }
   ],
   "source": [
    "# 오차가 최저가 되는 직선\n",
    "import numpy as np\n",
    "# 기울기 a를 최소제곱법으로 구하는 함수\n",
    "def compute_a(x, y, mean_x, mean_y):\n",
    "    # 분자 부분\n",
    "    dividend = 0\n",
    "    for i in range(len(x)):\n",
    "        dividend += (x[i] - mean_x) * (y[i] - mean_y)\n",
    "\n",
    "    # 분모 부분  \n",
    "    divisor = sum([(i - mean_x)**2 for i in x])\n",
    "    a = dividend / divisor\n",
    "    return a\n",
    "\n",
    "mx = np.mean(x)\n",
    "my = np.mean(y)\n",
    "\n",
    "a = compute_a(x, y, mx, my)  # 기울기\n",
    "b = my - (mx * a)            # 절편\n",
    "\n",
    "y1 = [a * x1 + b for x1 in x]\n",
    "\n",
    "\n",
    "plt.grid(True)\n",
    "plt.plot(x, y, 'bo')\n",
    "plt.plot(x, y1, 'r-o')"
   ]
  },
  {
   "cell_type": "markdown",
   "metadata": {
    "colab_type": "text",
    "id": "qYTV7CoIAzvM",
    "slideshow": {
     "slide_type": "slide"
    }
   },
   "source": [
    "## 선형회귀(Linear Regression) <br>\n",
    " 또는 최소제곱법(Ordinary Least Squares)"
   ]
  },
  {
   "cell_type": "markdown",
   "metadata": {
    "colab_type": "text",
    "id": "-9dzHbsARWp5",
    "slideshow": {
     "slide_type": "slide"
    }
   },
   "source": [
    "- 종속변수(응답변수) y와 한 개 이상의 독립변수(입력변수) x와의 상관관계를 모델링한 것\n",
    "\n",
    " >  \\\\( y=Wx+b \\\\)  \n",
    "  - (W : 가중치, b : 편향(bias))\n",
    "\n",
    " > \\\\( H(x)=Wx+b \\\\)  \n",
    "  - H(x) : Linear 하게 Hypothesis(가설)을 세운다는 것\n",
    "  - 데이터를 가장 잘 대변할 수 있는 H(x)의 W와 b를 정하는 것이 Linear Regression의 목적"
   ]
  },
  {
   "cell_type": "code",
   "execution_count": 5,
   "metadata": {
    "colab": {
     "base_uri": "https://localhost:8080/",
     "height": 282
    },
    "colab_type": "code",
    "executionInfo": {
     "elapsed": 698,
     "status": "ok",
     "timestamp": 1595147988111,
     "user": {
      "displayName": "oz To",
      "photoUrl": "",
      "userId": "12937505880450462933"
     },
     "user_tz": -540
    },
    "id": "tfC8D6rOEqrr",
    "outputId": "e5eb62c0-84d1-4160-f014-2258e7c18d1e",
    "slideshow": {
     "slide_type": "slide"
    }
   },
   "outputs": [
    {
     "data": {
      "text/plain": [
       "<matplotlib.collections.PathCollection at 0x1f88f196448>"
      ]
     },
     "execution_count": 5,
     "metadata": {},
     "output_type": "execute_result"
    },
    {
     "data": {
      "image/png": "[encoded data removed]",
      "text/plain": [
       "<Figure size 432x288 with 1 Axes>"
      ]
     },
     "metadata": {
      "needs_background": "light"
     },
     "output_type": "display_data"
    }
   ],
   "source": [
    "import numpy as np\n",
    "\n",
    "def make_wave(n_samples=100):\n",
    "    rnd = np.random.RandomState(42)\n",
    "    x = rnd.uniform(-3, 3, size=n_samples)\n",
    "    y_no_noise = (np.sin(4 * x) + x)\n",
    "    y = (y_no_noise + rnd.normal(size=len(x))) / 2\n",
    "    return x.reshape(-1, 1), y\n",
    "\n",
    "X, y = make_wave(60)\n",
    "plt.scatter(X, y)"
   ]
  },
  {
   "cell_type": "code",
   "execution_count": 6,
   "metadata": {
    "colab": {
     "base_uri": "https://localhost:8080/",
     "height": 464
    },
    "colab_type": "code",
    "executionInfo": {
     "elapsed": 810,
     "status": "ok",
     "timestamp": 1595157826867,
     "user": {
      "displayName": "oz To",
      "photoUrl": "",
      "userId": "12937505880450462933"
     },
     "user_tz": -540
    },
    "id": "x9KVI_qwOhKm",
    "outputId": "2b045925-73b5-4f92-8cc2-a9c350da1dcf",
    "slideshow": {
     "slide_type": "slide"
    }
   },
   "outputs": [
    {
     "name": "stdout",
     "output_type": "stream",
     "text": [
      "w[0]: 0.393906  b: -0.031804\n"
     ]
    },
    {
     "data": {
      "image/png": "[encoded data removed]",
      "text/plain": [
       "<Figure size 576x576 with 1 Axes>"
      ]
     },
     "metadata": {
      "needs_background": "light"
     },
     "output_type": "display_data"
    }
   ],
   "source": [
    "import mglearn\n",
    "mglearn.plots.plot_linear_regression_wave()"
   ]
  },
  {
   "cell_type": "markdown",
   "metadata": {
    "colab_type": "text",
    "id": "XFhwV3SGPc-h",
    "slideshow": {
     "slide_type": "slide"
    }
   },
   "source": [
    "- 비용함수 (Cost / Cost function) : 그려진 직선 Hypothesis(H(x))와 실제 데이터(y)의 차이\n",
    "\n",
    "  - Cost = H(x) - y에 데이터를 대입하여 Cost의 총합을 구하는 것이 가능\n",
    "  - Cost의 총합이 작은 Hypothesis일수록 데이터를 잘 대변하는 훌륭한 Linear Regression\n",
    "  - Cost는 양수일 수도, 음수일 수도 있기에 이러한 문제를 방지하고자 총합을 구할 때 Cost값을 제곱하여 평균을 내는 방식(평균제곱오차, MSE, Mean Squared Error)을 사용\n",
    "  >  \\\\( cost(W,b)=\\cfrac { 1 }{ m } \\sum _{ i=1 }^{ m } { (H({ x }^{ (i) })-{ y }^{ (i) }) }^{ 2 }  \\\\)\n",
    "\n",
    "   > \\\\( H(x)=Wx+b \\\\)  \n",
    "\n",
    " - 머신러닝(or 딥러닝)에서 learning의 목적은 Cost를 정의하고 이를 최소화하는 것"
   ]
  },
  {
   "cell_type": "markdown",
   "metadata": {
    "colab_type": "text",
    "id": "Mj6fB9tA0Ztt",
    "slideshow": {
     "slide_type": "slide"
    }
   },
   "source": [
    "#### 평균제곱오차 (MSE, Mean Squared Error) - 잘못그은 선 바로잡기\n",
    "\n",
    "- 실제값과 예측값의 차이를 분석하기 위한 것\n",
    "- 음수가 존재하는 경우 오차가 줄어드는 문제 -> 자승을 취함\n",
    "- 평균오차가 자승으로 인해 커지는 문제 -> 제곱근을 취함"
   ]
  },
  {
   "cell_type": "markdown",
   "metadata": {
    "colab_type": "text",
    "id": "M3uRN2EZ_Ig6",
    "slideshow": {
     "slide_type": "slide"
    }
   },
   "source": [
    "|x(hour) | y(score)|\n",
    "|---|---|\n",
    "|0|0|\n",
    "|1|1|\n",
    "|2|2|\n",
    "|3|3|\n",
    "\n",
    "\\\\( H(x)=1 \\times  x+0 \\\\)  \n",
    "\n",
    "\\\\( H(x)=0.5 \\times x+0 \\\\)  "
   ]
  },
  {
   "cell_type": "code",
   "execution_count": 7,
   "metadata": {
    "colab": {
     "base_uri": "https://localhost:8080/",
     "height": 282
    },
    "colab_type": "code",
    "executionInfo": {
     "elapsed": 702,
     "status": "ok",
     "timestamp": 1595163666138,
     "user": {
      "displayName": "oz To",
      "photoUrl": "",
      "userId": "12937505880450462933"
     },
     "user_tz": -540
    },
    "id": "cKHxN9cc0INF",
    "outputId": "f4ce7b11-4474-4b89-869d-1fef2809697c",
    "slideshow": {
     "slide_type": "slide"
    }
   },
   "outputs": [
    {
     "data": {
      "image/png": "[encoded data removed]",
      "text/plain": [
       "<Figure size 432x288 with 1 Axes>"
      ]
     },
     "metadata": {
      "needs_background": "light"
     },
     "output_type": "display_data"
    },
    {
     "data": {
      "text/plain": [
       "array([0, 1, 2, 3])"
      ]
     },
     "execution_count": 7,
     "metadata": {},
     "output_type": "execute_result"
    }
   ],
   "source": [
    "import numpy as np\n",
    "import matplotlib.pyplot as plt\n",
    "%matplotlib inline\n",
    "\n",
    "x = np.array([0, 1, 2, 3])\n",
    "y = np.array([0, 1, 2, 3])\n",
    "\n",
    "# 가중치(계수) 및 편향(절편)\n",
    "w = 1\n",
    "b = 0\n",
    "y_pred = w * x + b\n",
    "plt.plot(x, y_pred, 'b-o', label='H(x)=1*x+0')\n",
    "\n",
    "w = 0.5\n",
    "b = 0\n",
    "y_pred1 = w * x + b\n",
    "plt.plot(x, y_pred1, 'r-o', label='H(x)=0.5*x+0')\n",
    "\n",
    "plt.legend(loc='upper left')\n",
    "plt.show()\n",
    "y_pred"
   ]
  },
  {
   "cell_type": "markdown",
   "metadata": {
    "colab_type": "text",
    "id": "J1A75RiIBl4-",
    "slideshow": {
     "slide_type": "slide"
    }
   },
   "source": [
    "#### 평균제곱오차 (MSE, Mean Squared Error) 연습 01\n",
    "가설의 MSE 값을 계산해보자.\n"
   ]
  },
  {
   "cell_type": "markdown",
   "metadata": {
    "colab_type": "text",
    "id": "10mOqCgJB0mQ",
    "slideshow": {
     "slide_type": "slide"
    }
   },
   "source": [
    "\\\\( \\cfrac { { (H({ x }^{ (1) })-{ y }^{ (1) }) }^{ 2 } + { (H({ x }^{ (2) })-{ y }^{ (2) }) }^{ 2 }+ { (H({ x }^{ (3) })-{ y }^{ (3) }) }^{ 2 }+ { (H({ x }^{ (4) })-{ y }^{ (4) }) }^{ 2 } }{ 4 } = ? \\\\)"
   ]
  },
  {
   "cell_type": "code",
   "execution_count": 8,
   "metadata": {
    "colab": {
     "base_uri": "https://localhost:8080/",
     "height": 34
    },
    "colab_type": "code",
    "executionInfo": {
     "elapsed": 737,
     "status": "ok",
     "timestamp": 1595248850048,
     "user": {
      "displayName": "oz To",
      "photoUrl": "",
      "userId": "12937505880450462933"
     },
     "user_tz": -540
    },
    "id": "VS07VHo373-N",
    "outputId": "f3e3d48e-0606-4f4e-ee20-831ee42dc5fa",
    "slideshow": {
     "slide_type": "slide"
    }
   },
   "outputs": [
    {
     "data": {
      "text/plain": [
       "(0.0, 0.875)"
      ]
     },
     "execution_count": 8,
     "metadata": {},
     "output_type": "execute_result"
    }
   ],
   "source": [
    "# y_pred(예측값), y(실제값)\n",
    "def MSE(y_pred, y):\n",
    "  cost = np.sum( (y_pred - y)**2 ) / len(y)\n",
    "  return cost\n",
    "\n",
    "cost = MSE(y_pred, y)\n",
    "cost1 = MSE(y_pred1, y)\n",
    "cost, cost1"
   ]
  },
  {
   "cell_type": "code",
   "execution_count": 9,
   "metadata": {
    "colab": {
     "base_uri": "https://localhost:8080/",
     "height": 300
    },
    "colab_type": "code",
    "executionInfo": {
     "elapsed": 888,
     "status": "ok",
     "timestamp": 1595248850679,
     "user": {
      "displayName": "oz To",
      "photoUrl": "",
      "userId": "12937505880450462933"
     },
     "user_tz": -540
    },
    "id": "kQiczmF8AUgV",
    "outputId": "8332cebd-ef1d-41af-f120-bdf9812ca7ba",
    "slideshow": {
     "slide_type": "slide"
    }
   },
   "outputs": [
    {
     "name": "stdout",
     "output_type": "stream",
     "text": [
      "0.0\n",
      "0.875\n"
     ]
    },
    {
     "data": {
      "image/png": "[encoded data removed]",
      "text/plain": [
       "<Figure size 432x288 with 1 Axes>"
      ]
     },
     "metadata": {
      "needs_background": "light"
     },
     "output_type": "display_data"
    }
   ],
   "source": [
    "import numpy as np\n",
    "import matplotlib.pyplot as plt\n",
    "%matplotlib inline\n",
    "\n",
    "x = np.array([0, 1, 2, 3])\n",
    "y = np.array([0, 1, 2, 3])\n",
    "\n",
    "# 가중치(계수) 및 편향(절편)\n",
    "w = 1\n",
    "b = 0\n",
    "y_pred = w * x + b\n",
    "plt.plot(x, y_pred, 'b-o', label='w=1')\n",
    "print(MSE(y_pred, y))\n",
    "\n",
    "w = 0.5\n",
    "b = 0\n",
    "y_pred1 = w * x + b\n",
    "plt.plot(x, y_pred1, 'r-o', label='w=0.5')\n",
    "print(MSE(y_pred1, y))\n",
    "\n",
    "plt.legend(loc='upper left')\n",
    "plt.show()"
   ]
  },
  {
   "cell_type": "markdown",
   "metadata": {
    "colab_type": "text",
    "id": "Jj0QGZXbDmZW",
    "slideshow": {
     "slide_type": "slide"
    }
   },
   "source": [
    "#### 경사하강법 (Gradient descent algorithm) - 오차 수정하기\n",
    "\n",
    "어떻게 비용함수 값이 최소가 되는 W 파라미터를 구할 수 있을까?\n",
    "\n",
    "- 점진적인 하강, 점진적으로 반복적인 계산을 통해 W 파라미터 값을 업데이트 하면서 오류 값이 최소가 되는 값을 구하는 방식\n",
    "\n",
    "- 함수의 기울기(경사)를 구하여 기울기가 낮은 쪽으로 \n",
    "계속 이동하여 값을 최적화 시키는 방법 <br> (오차 (기울기)가 가장 작은 방향으로 이동시키는 방법)\n"
   ]
  },
  {
   "cell_type": "markdown",
   "metadata": {
    "colab_type": "text",
    "id": "kvkSrjnwHRAn",
    "slideshow": {
     "slide_type": "slide"
    }
   },
   "source": [
    "learning_rate(학습 속도)란?\n",
    "\n",
    "- W와 b의 미분 값(W_grad, b_grade)을 얼마만큼 반영할지를 결정하는 값.\n",
    "- 주로 0.001, 0.00001과 같은 매우 작은 값을 사용하며 learning_rate가 클수록 변화가 빠르며, learning_rate가 작을수록 변화가 느리다고 예상.\n",
    "- 꼭 변화가 빠르다고 해서 결과를 빨리 볼 수 있는 것은 아님."
   ]
  },
  {
   "cell_type": "code",
   "execution_count": 10,
   "metadata": {
    "colab": {
     "base_uri": "https://localhost:8080/",
     "height": 442
    },
    "colab_type": "code",
    "executionInfo": {
     "elapsed": 834,
     "status": "ok",
     "timestamp": 1595248873528,
     "user": {
      "displayName": "oz To",
      "photoUrl": "",
      "userId": "12937505880450462933"
     },
     "user_tz": -540
    },
    "id": "VU_RbVfhFOXa",
    "outputId": "6ed90346-3cad-45f0-e2d2-6d47e88f421f",
    "slideshow": {
     "slide_type": "slide"
    }
   },
   "outputs": [
    {
     "name": "stdout",
     "output_type": "stream",
     "text": [
      " 0 w1 = 0.054699, b = 0.534030 , cost = 17.265898\n",
      " 1 w1 = 0.246419, b = 0.897582 , cost = 14.062611\n",
      " 2 w1 = 0.418240, b = 1.223424 , cost = 11.489458\n",
      " 3 w1 = 0.572230, b = 1.515469 , cost = 9.422480\n",
      " 4 w1 = 0.710238, b = 1.777221 , cost = 7.762106\n",
      " 5 w1 = 0.833922, b = 2.011823 , cost = 6.428352\n",
      " 6 w1 = 0.944769, b = 2.222092 , cost = 5.356966\n",
      " 7 w1 = 1.044112, b = 2.410550 , cost = 4.496337\n",
      " 8 w1 = 1.133144, b = 2.579461 , cost = 3.805006\n",
      " 9 w1 = 1.212935, b = 2.730852 , cost = 3.249670\n",
      "10 w1 = 1.284445, b = 2.866540 , cost = 2.803576\n",
      "11 w1 = 1.348532, b = 2.988154 , cost = 2.445236\n",
      "12 w1 = 1.405968, b = 3.097154 , cost = 2.157386\n",
      "13 w1 = 1.457442, b = 3.194848 , cost = 1.926160\n",
      "14 w1 = 1.503573, b = 3.282410 , cost = 1.740420\n",
      "15 w1 = 1.544917, b = 3.360889 , cost = 1.591217\n",
      "16 w1 = 1.581968, b = 3.431228 , cost = 1.471365\n",
      "17 w1 = 1.615174, b = 3.494272 , cost = 1.375089\n",
      "18 w1 = 1.644933, b = 3.550777 , cost = 1.297752\n",
      "19 w1 = 1.671603, b = 3.601421 , cost = 1.235629\n"
     ]
    },
    {
     "data": {
      "image/png": "[encoded data removed]",
      "text/plain": [
       "<Figure size 432x288 with 1 Axes>"
      ]
     },
     "metadata": {
      "needs_background": "light"
     },
     "output_type": "display_data"
    }
   ],
   "source": [
    "import matplotlib.pyplot as plt\n",
    "w_val = []\n",
    "cost_val = []\n",
    "\n",
    "n_samples = 200\n",
    "x1 = np.random.randn(n_samples)\n",
    "\n",
    "y = 2 * x1 + 4 + np.random.randn(n_samples)\n",
    "\n",
    "num_epoch = 20  # 반복횟수\n",
    "# num_epoch = 10\n",
    "lr = 0.1        # learning_rate(학습 속도)\n",
    "# lr = 0.7\n",
    "\n",
    "w1 = np.random.uniform()\n",
    "b = np.random.uniform()\n",
    "\n",
    "for epoch in range(num_epoch):\n",
    "    y_pred = w1*x1 + b\n",
    "#     cost = np.abs(y_pred - y).mean() # MAE 사용\n",
    "    cost = MSE(y_pred, y) # MSE 사용\n",
    "    print(f\"{epoch:2} w1 = {w1:.6f}, b = {b:.6f} , cost = {cost:.6f}\")\n",
    "\n",
    "    w1 = w1 - lr*((y_pred - y)* x1).mean()\n",
    "    b = b - lr*((y_pred - y)).mean()\n",
    "\n",
    "    w_val.append(w1)\n",
    "    cost_val.append(cost)\n",
    "\n",
    "plt.plot(w_val, cost_val)\n",
    "plt.show()"
   ]
  },
  {
   "cell_type": "code",
   "execution_count": 11,
   "metadata": {
    "colab": {
     "base_uri": "https://localhost:8080/",
     "height": 282
    },
    "colab_type": "code",
    "executionInfo": {
     "elapsed": 735,
     "status": "ok",
     "timestamp": 1595248877290,
     "user": {
      "displayName": "oz To",
      "photoUrl": "",
      "userId": "12937505880450462933"
     },
     "user_tz": -540
    },
    "id": "XA9nBY7nLXG8",
    "outputId": "94cf9153-f64a-43cb-a900-c2d2238ab0ff",
    "slideshow": {
     "slide_type": "slide"
    }
   },
   "outputs": [
    {
     "data": {
      "text/plain": [
       "<matplotlib.collections.PathCollection at 0x1f8931c1f48>"
      ]
     },
     "execution_count": 11,
     "metadata": {},
     "output_type": "execute_result"
    },
    {
     "data": {
      "image/png": "[encoded data removed]",
      "text/plain": [
       "<Figure size 432x288 with 1 Axes>"
      ]
     },
     "metadata": {
      "needs_background": "light"
     },
     "output_type": "display_data"
    }
   ],
   "source": [
    "plt.plot(x1, y_pred)\n",
    "plt.scatter(x1, y, s=5) "
   ]
  },
  {
   "cell_type": "markdown",
   "metadata": {
    "slideshow": {
     "slide_type": "slide"
    }
   },
   "source": [
    "#### 일반 선형회귀\n",
    "\n",
    "예측값과 실제 값의 cost를 최소화할 수 있도록 W(가중치, 회귀계수)를 최적화하며, 규제(Regularization)를 적용하지 않은 모델"
   ]
  },
  {
   "cell_type": "markdown",
   "metadata": {
    "slideshow": {
     "slide_type": "slide"
    }
   },
   "source": [
    "단순 선형회귀 (Simple Linear Regression)\n",
    "> \\\\( H({ x })={ W }{ x }+b \\\\)\n",
    "\n",
    "다변수 선형회귀 (Multi-variable Linear Regreesion)\n",
    "> 변수가 3개 일때의 H(x) <br>\n",
    "> \\\\( H({ x }_{ 1 },{ x }_{ 2 },{ x }_{ 3 })={ W }_{ 1 }{ x }_{ 1 }+{ W }_{ 2 }{ x }_{ 2 }+{ W }_{ 3 }{ x }_{ 3 }+b \\\\)\n",
    "\n",
    "> 변수가 n개 일때의 H(x) <br>\n",
    ">  \\\\( H({ x }_{ 1 },{ x }_{ 2 },{ x }_{ 3 },\\dots ,{ x }_{ n })={ W }_{ 1 }{ x }_{ 1 }+{ W }_{ 2 }{ x }_{ 2 }+{ W }_{ 3 }{ x }_{ 3 }+\\dots +{ W }_{ n }{ x }_{ n }+b \\\\)\n",
    "\n",
    "다항 회귀 (Polynomial Regreesion)\n",
    "> 회귀가 독립변수의 단항식이 아닌 2차, 3차 방정식과 같은 다항식으로 표현되는 것 <br>\n",
    "> 차수가 높아질수록 과적합의 문제가 발생\n"
   ]
  },
  {
   "cell_type": "code",
   "execution_count": 12,
   "metadata": {},
   "outputs": [
    {
     "data": {
      "text/plain": [
       "<matplotlib.collections.PathCollection at 0x1f893306348>"
      ]
     },
     "execution_count": 12,
     "metadata": {},
     "output_type": "execute_result"
    },
    {
     "data": {
      "image/png": "[encoded data removed]",
      "text/plain": [
       "<Figure size 432x288 with 1 Axes>"
      ]
     },
     "metadata": {
      "needs_background": "light"
     },
     "output_type": "display_data"
    }
   ],
   "source": [
    "import numpy as np\n",
    "import matplotlib.pyplot as plt\n",
    "%matplotlib inline\n",
    "\n",
    "n = 100\n",
    "\n",
    "x = 6 * np.random.rand(n, 1) - 3\n",
    "y = 0.5 * x**2 + x + 2 + np.random.rand(n, 1)\n",
    "\n",
    "plt.scatter(x, y, s=5)"
   ]
  },
  {
   "cell_type": "markdown",
   "metadata": {
    "colab_type": "text",
    "id": "5DxiZrfdZX5i",
    "slideshow": {
     "slide_type": "slide"
    }
   },
   "source": [
    "#### LinearRegression 실습 01"
   ]
  },
  {
   "cell_type": "markdown",
   "metadata": {
    "colab_type": "text",
    "id": "kmw0fII4Zmgg",
    "slideshow": {
     "slide_type": "slide"
    }
   },
   "source": [
    "LinearRegression()\n",
    "```\n",
    "LinearRegression(fit_intercept, normalize, copy_X, n_jobs)\n",
    "```\n",
    "- fit_intercept : 모형에 상수항 (절편)이 있는가 없는가를 결정하는 인수 (default : True)\n",
    "- normalize : 매개변수 무시 여부\n",
    "- copy_X : X의 복사 여부\n",
    "- n_jobs : 계산에 사용할 작업 수"
   ]
  },
  {
   "cell_type": "code",
   "execution_count": 13,
   "metadata": {
    "colab": {
     "base_uri": "https://localhost:8080/",
     "height": 87
    },
    "colab_type": "code",
    "executionInfo": {
     "elapsed": 698,
     "status": "ok",
     "timestamp": 1595150608941,
     "user": {
      "displayName": "oz To",
      "photoUrl": "",
      "userId": "12937505880450462933"
     },
     "user_tz": -540
    },
    "id": "jVbmkpHYTbau",
    "outputId": "180fbb85-7712-4a5b-9b08-aee52c46dd4e",
    "slideshow": {
     "slide_type": "slide"
    }
   },
   "outputs": [
    {
     "name": "stdout",
     "output_type": "stream",
     "text": [
      "가중치(계수, 기울기 파라미터 W) : [0.39390555]\n",
      "편향(절편 파라미터 b) : -0.031804343026759746\n",
      "훈련세트 점수: 0.67\n",
      "테스트세트 점수: 0.66\n"
     ]
    }
   ],
   "source": [
    "from sklearn.linear_model import LinearRegression\n",
    "from sklearn.model_selection import train_test_split\n",
    "\n",
    "def make_wave(n_samples=100):\n",
    "    rnd = np.random.RandomState(42)\n",
    "    x = rnd.uniform(-3, 3, size=n_samples)\n",
    "    y_no_noise = (np.sin(4 * x) + x)\n",
    "    y = (y_no_noise + rnd.normal(size=len(x))) / 2\n",
    "    return x.reshape(-1, 1), y\n",
    "\n",
    "X, y = make_wave(60)\n",
    "X_train, X_test, y_train, y_test = train_test_split(X, y, random_state=42)\n",
    "\n",
    "# LinearRegression 모델 코드\n",
    "model = LinearRegression()\n",
    "model.fit(X_train, y_train)\n",
    "\n",
    "print(\"가중치(계수, 기울기 파라미터 W) :\", model.coef_)\n",
    "print(\"편향(절편 파라미터 b) :\", model.intercept_)\n",
    "\n",
    "print(\"훈련세트 점수: {:.2f}\".format( model.score(X_train, y_train) ))\n",
    "print(\"테스트세트 점수: {:.2f}\".format( model.score(X_test, y_test) ))"
   ]
  },
  {
   "cell_type": "markdown",
   "metadata": {
    "colab_type": "text",
    "id": "JndXaYCXWD-s",
    "slideshow": {
     "slide_type": "slide"
    }
   },
   "source": [
    "0.66 낮은 점수 => 과대적합? or 과소적합?\n",
    "\n",
    "- <font  color=blue>훈련 셋과 테스트 셋의 경우 정확도가 유사하지만 정확도가 많이 떨어짐 -> 과소적합</font>\n",
    "\n",
    "- 사용한 특성이 단순하기 때문에 발생"
   ]
  },
  {
   "cell_type": "markdown",
   "metadata": {
    "colab_type": "text",
    "id": "iS3Z1WahWg6x",
    "slideshow": {
     "slide_type": "slide"
    }
   },
   "source": [
    "훈련 세트 점수와 테스트 세트 점수가 매우 비슷 이는 과대적합이 아니라 과소적합인 상태를 의미"
   ]
  },
  {
   "cell_type": "markdown",
   "metadata": {
    "colab_type": "text",
    "id": "-jMNxFfcW8VS",
    "slideshow": {
     "slide_type": "slide"
    }
   },
   "source": [
    "- 1차원 데이터셋에서는 모델이 매우 단순하므로 (혹은 제한적이므로) 과대적합을 걱정할 필요다. \n",
    "- (특성이 많은) 고차원 데이터셋에서는 선형 모델의 성능이 매우 높아져서 과대적합될 가능성이 높다."
   ]
  },
  {
   "cell_type": "markdown",
   "metadata": {
    "colab_type": "text",
    "id": "z4Bh1Sz1a4hn",
    "slideshow": {
     "slide_type": "slide"
    }
   },
   "source": [
    "#### LinearRegression 실습 02 - 1\n",
    "변수가 1개인 경우"
   ]
  },
  {
   "cell_type": "code",
   "execution_count": 14,
   "metadata": {
    "colab": {
     "base_uri": "https://localhost:8080/",
     "height": 282
    },
    "colab_type": "code",
    "executionInfo": {
     "elapsed": 927,
     "status": "ok",
     "timestamp": 1595157145992,
     "user": {
      "displayName": "oz To",
      "photoUrl": "",
      "userId": "12937505880450462933"
     },
     "user_tz": -540
    },
    "id": "-1VVo3XXYxNp",
    "outputId": "cd6a3423-269d-477e-d744-a46f9edf3c4b",
    "slideshow": {
     "slide_type": "slide"
    }
   },
   "outputs": [
    {
     "data": {
      "text/plain": [
       "<matplotlib.collections.PathCollection at 0x1f89330cd48>"
      ]
     },
     "execution_count": 14,
     "metadata": {},
     "output_type": "execute_result"
    },
    {
     "data": {
      "image/png": "[encoded data removed]",
      "text/plain": [
       "<Figure size 432x288 with 1 Axes>"
      ]
     },
     "metadata": {
      "needs_background": "light"
     },
     "output_type": "display_data"
    }
   ],
   "source": [
    "import numpy as np\n",
    "import pandas as pd\n",
    "import matplotlib.pyplot as plt\n",
    "%matplotlib inline\n",
    "\n",
    "n = 200\n",
    "x = np.random.randn(n)\n",
    "\n",
    "# 계수 및 절편\n",
    "w = 2\n",
    "b = 3\n",
    "\n",
    "# 노이즈\n",
    "y = w * x + b + np.random.randn(n)\n",
    "plt.scatter(x, y, s=5)"
   ]
  },
  {
   "cell_type": "code",
   "execution_count": 15,
   "metadata": {
    "colab": {
     "base_uri": "https://localhost:8080/",
     "height": 52
    },
    "colab_type": "code",
    "executionInfo": {
     "elapsed": 745,
     "status": "ok",
     "timestamp": 1595157152756,
     "user": {
      "displayName": "oz To",
      "photoUrl": "",
      "userId": "12937505880450462933"
     },
     "user_tz": -540
    },
    "id": "qx5BfGGRxU_a",
    "outputId": "ff32064d-249f-4801-a909-3b2fdbddffbb",
    "slideshow": {
     "slide_type": "slide"
    }
   },
   "outputs": [
    {
     "name": "stdout",
     "output_type": "stream",
     "text": [
      "[2.13378099]\n",
      "2.9806866038132225\n"
     ]
    }
   ],
   "source": [
    "from sklearn.linear_model import LinearRegression\n",
    "\n",
    "# 모델 생성/학습\n",
    "model = LinearRegression()\n",
    "model.fit(x.reshape(-1,1), y)\n",
    "\n",
    "print(model.coef_)\n",
    "print(model.intercept_)"
   ]
  },
  {
   "cell_type": "markdown",
   "metadata": {
    "colab_type": "text",
    "id": "Ng3cFbqyxxzD",
    "slideshow": {
     "slide_type": "slide"
    }
   },
   "source": [
    "#### LinearRegression 실습 02 - 2\n",
    "변수가 2개인 경우\n",
    "\n",
    "다변수 선형 회귀 (Multi-variable Linear Regreesion)"
   ]
  },
  {
   "cell_type": "code",
   "execution_count": 16,
   "metadata": {
    "colab": {
     "base_uri": "https://localhost:8080/",
     "height": 442
    },
    "colab_type": "code",
    "executionInfo": {
     "elapsed": 702,
     "status": "ok",
     "timestamp": 1595157278268,
     "user": {
      "displayName": "oz To",
      "photoUrl": "",
      "userId": "12937505880450462933"
     },
     "user_tz": -540
    },
    "id": "ZYvMMH75xxFs",
    "outputId": "fb0ab21a-fbd0-42f7-85c9-a556a5eb7bc5",
    "slideshow": {
     "slide_type": "slide"
    }
   },
   "outputs": [
    {
     "name": "stdout",
     "output_type": "stream",
     "text": [
      "[2.04844445 3.01926929]\n",
      "4.02939373011966\n"
     ]
    },
    {
     "data": {
      "text/html": [
       "<div>\n",
       "<style scoped>\n",
       "    .dataframe tbody tr th:only-of-type {\n",
       "        vertical-align: middle;\n",
       "    }\n",
       "\n",
       "    .dataframe tbody tr th {\n",
       "        vertical-align: top;\n",
       "    }\n",
       "\n",
       "    .dataframe thead th {\n",
       "        text-align: right;\n",
       "    }\n",
       "</style>\n",
       "<table border=\"1\" class=\"dataframe\">\n",
       "  <thead>\n",
       "    <tr style=\"text-align: right;\">\n",
       "      <th></th>\n",
       "      <th>x1</th>\n",
       "      <th>x2</th>\n",
       "    </tr>\n",
       "  </thead>\n",
       "  <tbody>\n",
       "    <tr>\n",
       "      <th>0</th>\n",
       "      <td>1.116761</td>\n",
       "      <td>0.687960</td>\n",
       "    </tr>\n",
       "    <tr>\n",
       "      <th>1</th>\n",
       "      <td>-0.397818</td>\n",
       "      <td>0.481013</td>\n",
       "    </tr>\n",
       "    <tr>\n",
       "      <th>2</th>\n",
       "      <td>-1.729106</td>\n",
       "      <td>0.058553</td>\n",
       "    </tr>\n",
       "    <tr>\n",
       "      <th>3</th>\n",
       "      <td>0.180854</td>\n",
       "      <td>-0.240144</td>\n",
       "    </tr>\n",
       "    <tr>\n",
       "      <th>4</th>\n",
       "      <td>0.258690</td>\n",
       "      <td>-1.532346</td>\n",
       "    </tr>\n",
       "    <tr>\n",
       "      <th>...</th>\n",
       "      <td>...</td>\n",
       "      <td>...</td>\n",
       "    </tr>\n",
       "    <tr>\n",
       "      <th>195</th>\n",
       "      <td>-0.409812</td>\n",
       "      <td>0.485604</td>\n",
       "    </tr>\n",
       "    <tr>\n",
       "      <th>196</th>\n",
       "      <td>1.359276</td>\n",
       "      <td>-0.239321</td>\n",
       "    </tr>\n",
       "    <tr>\n",
       "      <th>197</th>\n",
       "      <td>1.219892</td>\n",
       "      <td>0.714369</td>\n",
       "    </tr>\n",
       "    <tr>\n",
       "      <th>198</th>\n",
       "      <td>-0.126896</td>\n",
       "      <td>0.040195</td>\n",
       "    </tr>\n",
       "    <tr>\n",
       "      <th>199</th>\n",
       "      <td>-0.777630</td>\n",
       "      <td>-0.531795</td>\n",
       "    </tr>\n",
       "  </tbody>\n",
       "</table>\n",
       "<p>200 rows × 2 columns</p>\n",
       "</div>"
      ],
      "text/plain": [
       "           x1        x2\n",
       "0    1.116761  0.687960\n",
       "1   -0.397818  0.481013\n",
       "2   -1.729106  0.058553\n",
       "3    0.180854 -0.240144\n",
       "4    0.258690 -1.532346\n",
       "..        ...       ...\n",
       "195 -0.409812  0.485604\n",
       "196  1.359276 -0.239321\n",
       "197  1.219892  0.714369\n",
       "198 -0.126896  0.040195\n",
       "199 -0.777630 -0.531795\n",
       "\n",
       "[200 rows x 2 columns]"
      ]
     },
     "execution_count": 16,
     "metadata": {},
     "output_type": "execute_result"
    }
   ],
   "source": [
    "#### LinearRegression 실습 02 - 1\n",
    "n = 200\n",
    "x1 = np.random.randn(n)\n",
    "x2 = np.random.randn(n)\n",
    "\n",
    "w1 = 2\n",
    "w2 = 3\n",
    "b = 4\n",
    "y = w1 * x1 + w2 * x2 + b + np.random.randn(n)\n",
    "\n",
    "X = pd.DataFrame({'x1':x1, 'x2':x2})\n",
    "\n",
    "model = LinearRegression()\n",
    "model.fit(X, y)\n",
    "\n",
    "print(model.coef_)\n",
    "print(model.intercept_)\n",
    "X"
   ]
  },
  {
   "cell_type": "markdown",
   "metadata": {
    "slideshow": {
     "slide_type": "slide"
    }
   },
   "source": [
    "#### LinearRegression 실습 03\n",
    "\n",
    "유방암 데이터셋에 선형회귀 적용"
   ]
  },
  {
   "cell_type": "code",
   "execution_count": 17,
   "metadata": {
    "slideshow": {
     "slide_type": "slide"
    }
   },
   "outputs": [
    {
     "data": {
      "text/plain": [
       "dict_keys(['data', 'target', 'target_names', 'DESCR', 'feature_names', 'filename'])"
      ]
     },
     "execution_count": 17,
     "metadata": {},
     "output_type": "execute_result"
    }
   ],
   "source": [
    "from sklearn.datasets import load_breast_cancer\n",
    "\n",
    "cancer = load_breast_cancer()\n",
    "cancer.keys()"
   ]
  },
  {
   "cell_type": "code",
   "execution_count": 18,
   "metadata": {
    "slideshow": {
     "slide_type": "slide"
    }
   },
   "outputs": [
    {
     "data": {
      "text/plain": [
       "0.7824123695930645"
      ]
     },
     "execution_count": 18,
     "metadata": {},
     "output_type": "execute_result"
    }
   ],
   "source": [
    "X_train, X_test, y_train, y_test = train_test_split(cancer.data, \n",
    "                                                    cancer.target, \n",
    "                                                    random_state=0)\n",
    "\n",
    "# LinearRegression 모델 코드\n",
    "model = LinearRegression()\n",
    "model.fit(X_train, y_train)\n",
    "model.score(X_train, y_train)"
   ]
  },
  {
   "cell_type": "code",
   "execution_count": 19,
   "metadata": {
    "slideshow": {
     "slide_type": "slide"
    }
   },
   "outputs": [
    {
     "data": {
      "text/plain": [
       "0.7291758706114044"
      ]
     },
     "execution_count": 19,
     "metadata": {},
     "output_type": "execute_result"
    }
   ],
   "source": [
    "model.score(X_test, y_test)"
   ]
  },
  {
   "cell_type": "markdown",
   "metadata": {
    "slideshow": {
     "slide_type": "slide"
    }
   },
   "source": [
    "#### LinearRegression 실습 04\n",
    "\n",
    "확장 보스턴 집값 셋에 선형회귀 적용"
   ]
  },
  {
   "cell_type": "code",
   "execution_count": 20,
   "metadata": {
    "slideshow": {
     "slide_type": "slide"
    }
   },
   "outputs": [
    {
     "data": {
      "text/plain": [
       "0.952051960903273"
      ]
     },
     "execution_count": 20,
     "metadata": {},
     "output_type": "execute_result"
    }
   ],
   "source": [
    "import mglearn\n",
    "\n",
    "X, y = mglearn.datasets.load_extended_boston()\n",
    "X_train, X_test, y_train, y_test = train_test_split(X, \n",
    "                                                    y, \n",
    "                                                    random_state=0)\n",
    "\n",
    "# LinearRegression 모델 코드\n",
    "model = LinearRegression()\n",
    "model.fit(X_train, y_train)\n",
    "model.score(X_train, y_train)"
   ]
  },
  {
   "cell_type": "code",
   "execution_count": 21,
   "metadata": {
    "slideshow": {
     "slide_type": "slide"
    }
   },
   "outputs": [
    {
     "data": {
      "text/plain": [
       "0.6074721959665708"
      ]
     },
     "execution_count": 21,
     "metadata": {},
     "output_type": "execute_result"
    }
   ],
   "source": [
    "model.score(X_test, y_test)"
   ]
  },
  {
   "cell_type": "markdown",
   "metadata": {
    "slideshow": {
     "slide_type": "slide"
    }
   },
   "source": [
    "- 훈련 셋에 비해 테스트 셋의 경우 정확도가 많이 떨어짐 -> 과대적합"
   ]
  },
  {
   "cell_type": "markdown",
   "metadata": {
    "colab_type": "text",
    "id": "rRVAtuhqQ5AF",
    "slideshow": {
     "slide_type": "slide"
    }
   },
   "source": [
    "장단점\n",
    "\n",
    "- k-NN에 비해 더 제약이 있는 것처럼 보이지만 특성이 많은 데이터셋의 경우에는 우수한 성능을 낼 수 있다.\n",
    "- 모델의 복잡도를 제어할 방법이 없어 과대적합 되기 쉽다.\n"
   ]
  },
  {
   "cell_type": "markdown",
   "metadata": {
    "colab_type": "text",
    "id": "YqmSlQlSQwI8",
    "slideshow": {
     "slide_type": "slide"
    }
   },
   "source": [
    "모델 정규화(Regularization)을 통해 과대적합을 제어"
   ]
  }
 ],
 "metadata": {
  "celltoolbar": "Slideshow",
  "colab": {
   "authorship_tag": "ABX9TyMRvB32MbSQ44CK/T6f2u7N",
   "collapsed_sections": [],
   "name": "ml_03_지도학습_LinearRegression.ipynb",
   "provenance": []
  },
  "kernelspec": {
   "display_name": "Python 3",
   "language": "python",
   "name": "python3"
  },
  "language_info": {
   "codemirror_mode": {
    "name": "ipython",
    "version": 3
   },
   "file_extension": ".py",
   "mimetype": "text/x-python",
   "name": "python",
   "nbconvert_exporter": "python",
   "pygments_lexer": "ipython3",
   "version": "3.7.6"
  }
 },
 "nbformat": 4,
 "nbformat_minor": 1
}
