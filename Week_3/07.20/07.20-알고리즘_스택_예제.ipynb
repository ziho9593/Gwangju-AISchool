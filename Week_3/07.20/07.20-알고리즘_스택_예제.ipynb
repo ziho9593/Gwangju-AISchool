{
 "cells": [
  {
   "cell_type": "markdown",
   "metadata": {},
   "source": [
    "# 광주 인공지능 사관학교\n",
    "- - -\n",
    "- 작성자 : 2반 한지호\n",
    "- 작성일 : 20.07.20 월\n",
    "- 6교시 알고리즘 시간에 진행한 스택(Stack) 연습 문제"
   ]
  },
  {
   "cell_type": "markdown",
   "metadata": {},
   "source": [
    "### 스택 문제\n",
    "\n",
    "• 정수를 저장하는 스택을 구현한 다음, 입력으로 주어지는 명령을 처리하는 프로그램을 작성하시오.  \n",
    "\n",
    "• 명령은 총 다섯 가지이다.  \n",
    "\n",
    "• push X: 정수 X를 스택에 넣는 연산이다.  \n",
    "\n",
    "• pop: 스택에서 가장 위에 있는 정수를 빼고, 그 수를 출력한다. 만약 스택에 들어있는 정수가 없는 경우에는 -1을 출력한다.  \n",
    "\n",
    "• size: 스택에 들어있는 정수의 개수를 출력한다.  \n",
    "\n",
    "• empty: 스택이 비어있으면 1, 아니면 0을 출력한다.  \n",
    "\n",
    "• top: 스택의 가장 위에 있는 정수를 출력한다. 만약 스택에 들어있는 정수가 없는 경우에는 -1을 출력한다.\n",
    "\n",
    "• 첫째 줄에 주어지는 명령의 수 N (1 ≤ N ≤ 10,000)이 주어진다. 둘째 줄부터 N개의 줄에는 명령이 하나씩 주어진다. 주어지는 정수는 1보다 크거나 같고, 100,000보다 작거나 같다. 문제에 나와있지 않은 명령이 주어지는 경우는 없다.  \n",
    "\n",
    "• 출력해야하는 명령이 주어질 때마다, 한 줄에 하나씩 출력한다\n",
    "\n",
    "• len(), list[-1] 사용 X / append(), pop() 사용 가능 / 전역변수 사용 지양"
   ]
  },
  {
   "cell_type": "code",
   "execution_count": 1,
   "metadata": {},
   "outputs": [
    {
     "name": "stdout",
     "output_type": "stream",
     "text": [
      "14\n",
      "push 1\n",
      "push 2\n",
      "top\n",
      "2\n",
      "size\n",
      "2\n",
      "empty\n",
      "0\n",
      "pop\n",
      "2\n",
      "pop\n",
      "1\n",
      "pop\n",
      "-1\n",
      "size\n",
      "0\n",
      "empty\n",
      "1\n",
      "pop\n",
      "-1\n",
      "push 3\n",
      "empty\n",
      "0\n",
      "top\n",
      "3\n"
     ]
    }
   ],
   "source": [
    "def stack():\n",
    "    l = []\n",
    "    n = int(input()) \n",
    "    length = 0\n",
    "    for i in range(n):\n",
    "        order = input() \n",
    "        if order[:4] == 'push':\n",
    "            l.append(int(order[4:])) \n",
    "            length += 1\n",
    "        elif order == 'pop':\n",
    "            if length == 0:\n",
    "                print(-1)\n",
    "            else:\n",
    "                print(l[length-1])\n",
    "                l.pop()\n",
    "                length -= 1\n",
    "        elif order == 'size':\n",
    "            print(length)\n",
    "        elif order == 'empty':\n",
    "            if length == 0:\n",
    "                print(1)\n",
    "            else:\n",
    "                print(0)\n",
    "        elif order == 'top':\n",
    "            if length == 0:\n",
    "                print(0)\n",
    "            else:\n",
    "                print(l[length-1]) \n",
    "                \n",
    "stack() "
   ]
  }
 ],
 "metadata": {
  "kernelspec": {
   "display_name": "Python 3",
   "language": "python",
   "name": "python3"
  },
  "language_info": {
   "codemirror_mode": {
    "name": "ipython",
    "version": 3
   },
   "file_extension": ".py",
   "mimetype": "text/x-python",
   "name": "python",
   "nbconvert_exporter": "python",
   "pygments_lexer": "ipython3",
   "version": "3.7.6"
  }
 },
 "nbformat": 4,
 "nbformat_minor": 4
}
