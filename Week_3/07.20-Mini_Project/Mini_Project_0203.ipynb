{
 "cells": [
  {
   "cell_type": "markdown",
   "metadata": {},
   "source": [
    "### Mini Project #0203 : 전국 커피숍 규모 파악"
   ]
  },
  {
   "cell_type": "markdown",
   "metadata": {},
   "source": [
    "1. “data_coffee csv” 데이터를 읽어옵니다\n",
    "2. 매장의 규모 sizeOfsite 변수를 요약해 봅니다\n",
    "3. sizeOfsite 의 결측치 ( 를 제거하고 히스토그램을 그려봅니다\n",
    "4. 매장 규모가 500 이상인 outlier 를 제외하고 히스토그램을 그려봅니다"
   ]
  },
  {
   "cell_type": "code",
   "execution_count": 1,
   "metadata": {},
   "outputs": [],
   "source": [
    "import pandas as pd\n",
    "import numpy as np\n",
    "import matplotlib.pyplot as plt\n",
    "%matplotlib inline"
   ]
  },
  {
   "cell_type": "code",
   "execution_count": 2,
   "metadata": {},
   "outputs": [],
   "source": [
    "df = pd.read_csv('data_coffee.csv',encoding = 'ms949') # 한글이 포함된 파일을 읽을 때 ms949로 인코딩"
   ]
  },
  {
   "cell_type": "code",
   "execution_count": 3,
   "metadata": {},
   "outputs": [
    {
     "data": {
      "text/plain": [
       "(46832, 23)"
      ]
     },
     "execution_count": 3,
     "metadata": {},
     "output_type": "execute_result"
    }
   ],
   "source": [
    "df.shape"
   ]
  },
  {
   "cell_type": "code",
   "execution_count": 4,
   "metadata": {},
   "outputs": [
    {
     "name": "stdout",
     "output_type": "stream",
     "text": [
      "<class 'pandas.core.frame.DataFrame'>\n",
      "RangeIndex: 46832 entries, 0 to 46831\n",
      "Data columns (total 23 columns):\n",
      " #   Column                Non-Null Count  Dtype  \n",
      "---  ------                --------------  -----  \n",
      " 0   number                46832 non-null  int64  \n",
      " 1   companyName           46832 non-null  object \n",
      " 2   adress                46600 non-null  object \n",
      " 3   adressBystreet        39548 non-null  object \n",
      " 4   dateOflicensing       46832 non-null  int64  \n",
      " 5   stateOfbusiness       46832 non-null  object \n",
      " 6   dateOfclosure         13245 non-null  float64\n",
      " 7   startdateOfcessation  0 non-null      float64\n",
      " 8   duedateOfcessation    0 non-null      float64\n",
      " 9   dateOfreOpen          0 non-null      float64\n",
      " 10  areaOfsite            0 non-null      float64\n",
      " 11  zip                   0 non-null      float64\n",
      " 12  waterwork             29610 non-null  object \n",
      " 13  numOfmenWorker        5918 non-null   float64\n",
      " 14  yearOfStart           46813 non-null  float64\n",
      " 15  multipleUse           46813 non-null  object \n",
      " 16  grade                 3775 non-null   object \n",
      " 17  sizeOfsite            46813 non-null  float64\n",
      " 18  numOfwomenWorker      7042 non-null   float64\n",
      " 19  vicintyOfsite         12894 non-null  object \n",
      " 20  sanitaryName          46813 non-null  object \n",
      " 21  businessCondition     46813 non-null  object \n",
      " 22  totalOfworker         5537 non-null   float64\n",
      "dtypes: float64(11), int64(2), object(10)\n",
      "memory usage: 8.2+ MB\n"
     ]
    }
   ],
   "source": [
    "df.info()"
   ]
  },
  {
   "cell_type": "code",
   "execution_count": 5,
   "metadata": {},
   "outputs": [
    {
     "data": {
      "text/plain": [
       "number                      0\n",
       "companyName                 0\n",
       "adress                    232\n",
       "adressBystreet           7284\n",
       "dateOflicensing             0\n",
       "stateOfbusiness             0\n",
       "dateOfclosure           33587\n",
       "startdateOfcessation    46832\n",
       "duedateOfcessation      46832\n",
       "dateOfreOpen            46832\n",
       "areaOfsite              46832\n",
       "zip                     46832\n",
       "waterwork               17222\n",
       "numOfmenWorker          40914\n",
       "yearOfStart                19\n",
       "multipleUse                19\n",
       "grade                   43057\n",
       "sizeOfsite                 19\n",
       "numOfwomenWorker        39790\n",
       "vicintyOfsite           33938\n",
       "sanitaryName               19\n",
       "businessCondition          19\n",
       "totalOfworker           41295\n",
       "dtype: int64"
      ]
     },
     "execution_count": 5,
     "metadata": {},
     "output_type": "execute_result"
    }
   ],
   "source": [
    "(df.isnull()).sum(axis=0) "
   ]
  },
  {
   "cell_type": "code",
   "execution_count": 6,
   "metadata": {},
   "outputs": [
    {
     "data": {
      "text/plain": [
       "number                  0.000000\n",
       "companyName             0.000000\n",
       "adress                  0.004954\n",
       "adressBystreet          0.155535\n",
       "dateOflicensing         0.000000\n",
       "stateOfbusiness         0.000000\n",
       "dateOfclosure           0.717181\n",
       "startdateOfcessation    1.000000\n",
       "duedateOfcessation      1.000000\n",
       "dateOfreOpen            1.000000\n",
       "areaOfsite              1.000000\n",
       "zip                     1.000000\n",
       "waterwork               0.367740\n",
       "numOfmenWorker          0.873633\n",
       "yearOfStart             0.000406\n",
       "multipleUse             0.000406\n",
       "grade                   0.919393\n",
       "sizeOfsite              0.000406\n",
       "numOfwomenWorker        0.849633\n",
       "vicintyOfsite           0.724675\n",
       "sanitaryName            0.000406\n",
       "businessCondition       0.000406\n",
       "totalOfworker           0.881769\n",
       "dtype: float64"
      ]
     },
     "execution_count": 6,
     "metadata": {},
     "output_type": "execute_result"
    }
   ],
   "source": [
    "(df.isnull()).mean(axis=0) "
   ]
  },
  {
   "cell_type": "code",
   "execution_count": 7,
   "metadata": {},
   "outputs": [],
   "source": [
    "sr = df.sizeOfsite"
   ]
  },
  {
   "cell_type": "code",
   "execution_count": 8,
   "metadata": {},
   "outputs": [
    {
     "data": {
      "text/plain": [
       "(46832,)"
      ]
     },
     "execution_count": 8,
     "metadata": {},
     "output_type": "execute_result"
    }
   ],
   "source": [
    "sr.shape"
   ]
  },
  {
   "cell_type": "code",
   "execution_count": 9,
   "metadata": {},
   "outputs": [
    {
     "data": {
      "text/plain": [
       "count    46813.000000\n",
       "mean        75.531012\n",
       "std        135.088745\n",
       "min          0.000000\n",
       "25%         28.120000\n",
       "50%         50.000000\n",
       "75%         93.750000\n",
       "max      24075.000000\n",
       "Name: sizeOfsite, dtype: float64"
      ]
     },
     "execution_count": 9,
     "metadata": {},
     "output_type": "execute_result"
    }
   ],
   "source": [
    "sr.describe()"
   ]
  },
  {
   "cell_type": "code",
   "execution_count": 10,
   "metadata": {},
   "outputs": [
    {
     "data": {
      "text/plain": [
       "19"
      ]
     },
     "execution_count": 10,
     "metadata": {},
     "output_type": "execute_result"
    }
   ],
   "source": [
    "sr.isnull().sum() "
   ]
  },
  {
   "cell_type": "code",
   "execution_count": 11,
   "metadata": {},
   "outputs": [],
   "source": [
    "sr.dropna(inplace=True) # 결측치 처리"
   ]
  },
  {
   "cell_type": "code",
   "execution_count": 12,
   "metadata": {},
   "outputs": [
    {
     "data": {
      "text/plain": [
       "(46813,)"
      ]
     },
     "execution_count": 12,
     "metadata": {},
     "output_type": "execute_result"
    }
   ],
   "source": [
    "sr.shape"
   ]
  },
  {
   "cell_type": "code",
   "execution_count": 13,
   "metadata": {},
   "outputs": [
    {
     "data": {
      "image/png": "[encoded data removed]",
      "text/plain": [
       "<Figure size 432x288 with 1 Axes>"
      ]
     },
     "metadata": {
      "needs_background": "light"
     },
     "output_type": "display_data"
    }
   ],
   "source": [
    "#sr.plot.hist(bins=50, color='green', density=True)\n",
    "plt.hist(sr, bins=50, color='green', density=True)\n",
    "plt.show() "
   ]
  },
  {
   "cell_type": "code",
   "execution_count": 14,
   "metadata": {},
   "outputs": [
    {
     "data": {
      "text/plain": [
       "50.0"
      ]
     },
     "execution_count": 14,
     "metadata": {},
     "output_type": "execute_result"
    }
   ],
   "source": [
    "sr.median() "
   ]
  },
  {
   "cell_type": "code",
   "execution_count": 15,
   "metadata": {},
   "outputs": [],
   "source": [
    "sr=sr[sr < 500] # 매장 규모가 500 이상인 outlier는 필터링 (이상치 제거) "
   ]
  },
  {
   "cell_type": "code",
   "execution_count": 16,
   "metadata": {},
   "outputs": [
    {
     "data": {
      "image/png": "[encoded data removed]",
      "text/plain": [
       "<Figure size 432x288 with 1 Axes>"
      ]
     },
     "metadata": {
      "needs_background": "light"
     },
     "output_type": "display_data"
    }
   ],
   "source": [
    "sr.plot.hist(bins=50, color='green', density=True)\n",
    "#plt.hist(sr,bins=50,color='blue', density=True) \n",
    "plt.show()"
   ]
  },
  {
   "cell_type": "code",
   "execution_count": 17,
   "metadata": {},
   "outputs": [
    {
     "data": {
      "image/png": "[encoded data removed]",
      "text/plain": [
       "<Figure size 432x288 with 1 Axes>"
      ]
     },
     "metadata": {
      "needs_background": "light"
     },
     "output_type": "display_data"
    }
   ],
   "source": [
    "plt.hist(np.log(sr + 1), bins=50, color='green', density=True) # 정규분포 형태에 가깝도록 log(n+1)을 취해줌 \n",
    "plt.show() "
   ]
  }
 ],
 "metadata": {
  "kernelspec": {
   "display_name": "Python 3",
   "language": "python",
   "name": "python3"
  },
  "language_info": {
   "codemirror_mode": {
    "name": "ipython",
    "version": 3
   },
   "file_extension": ".py",
   "mimetype": "text/x-python",
   "name": "python",
   "nbconvert_exporter": "python",
   "pygments_lexer": "ipython3",
   "version": "3.7.6"
  }
 },
 "nbformat": 4,
 "nbformat_minor": 2
}
