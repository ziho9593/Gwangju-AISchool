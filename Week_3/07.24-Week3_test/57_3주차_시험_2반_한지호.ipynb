{
 "cells": [
  {
   "cell_type": "markdown",
   "metadata": {
    "colab_type": "text",
    "id": "vz6AcCXq9Jxc"
   },
   "source": [
    "# 3주차 시험\n",
    "- 빅데이터 분석(장순용)\n",
    "- 강화학습 & 딥러닝(이재화)\n",
    "- 자연어처리(김준태)\n",
    "- 머신러닝(박준영)\n",
    "- 웹 애플리케이션(최주원)\n",
    "- 알고리즘(양지웅)\n",
    "\n",
    "### 각 과목당 4개의 문제(객관식 + 주관식) 총 24개의 문제로 구성되어 있습니다.\n",
    "### 파일 이름은 다음과 같이 변경하여 제출해주세요. \n",
    "- (시험번호는 링크를 통해 확인 가능합니다. [링크](https://docs.google.com/spreadsheets/d/1vo-hMdfsWKE6ByYC0sO2jk-b1gzYcRo2TR-Et0gXSV0/edit?usp=sharing)\n",
    ")\n",
    "\n",
    "\n",
    "\n",
    "```\n",
    "(시험번호)_3주차_시험_(반)_(이름)\n",
    "ex) 120_3주차_시험_3반_홍길동\n",
    "```\n"
   ]
  },
  {
   "cell_type": "markdown",
   "metadata": {
    "colab_type": "text",
    "id": "2b1rAt-QfUIE"
   },
   "source": [
    "__ __"
   ]
  },
  {
   "cell_type": "markdown",
   "metadata": {
    "colab_type": "text",
    "id": "TfmQkFdX9fwQ"
   },
   "source": [
    "## 1. Pandas의 시리즈에 대한 설명 중 틀린 것은? (객관식)\n",
    "\n",
    "1. 데이터 프레임의 컬럼 하나를 시리즈 객체로 가져올 수 있다.\n",
    "2. 시리즈에는 index라는 속성이 있다.\n",
    "3. 시리즈에는 columns라는 속성이 있다.\n",
    "4. 여러 통계 함수가 메서드로 제공된다."
   ]
  },
  {
   "cell_type": "markdown",
   "metadata": {
    "colab_type": "text",
    "id": "3Ehhxnp0N25o"
   },
   "source": [
    "### __1번 문제 정답__ : 3"
   ]
  },
  {
   "cell_type": "markdown",
   "metadata": {
    "colab_type": "text",
    "id": "csDvAIQKOD8g"
   },
   "source": [
    " __ __"
   ]
  },
  {
   "cell_type": "markdown",
   "metadata": {
    "colab_type": "text",
    "id": "gN4vfE0--mrt"
   },
   "source": [
    "## 2. 다음 Numpy 배열에 대한 설명 중 틀린 것은? (객관식)\n",
    "1. size라는 속성은 성분 (원소)의 개수를 나타낸다.\n",
    "2. shape라는 속성은 배열의 차원을 한개의 수치로 나타낸다.\n",
    "3. reshape()라는 메서드로 shape를 바꾸어 줄 수 있다.\n",
    "4. '*' 연산자는 두 배열의 원소를 서로 곱해서 새로운 배열을 만들어 준다."
   ]
  },
  {
   "cell_type": "markdown",
   "metadata": {
    "colab_type": "text",
    "id": "MH-12NNyOTt7"
   },
   "source": [
    "### __2번 문제 정답__ : 2"
   ]
  },
  {
   "cell_type": "markdown",
   "metadata": {
    "colab_type": "text",
    "id": "Lp_AqS5POedT"
   },
   "source": [
    "__ __"
   ]
  },
  {
   "cell_type": "markdown",
   "metadata": {
    "colab_type": "text",
    "id": "aSt4eDZ-OoMd"
   },
   "source": [
    "## 3. Pandas의 시리즈에 대한 설명 중 틀린 것은? (객관식)\n",
    "1. 시리즈 객체의 속성 values는 시리즈의 값을 numpy 배열로 변환시켜 준다.\n",
    "2. 시리즈에는 name이라는 속성이 있다.\n",
    "3. 시리즈의 자료형은 혼재해 있어도 된다. \n",
    "4. pandas.Series()로 새롭게 시리즈 객체를 생성할 수 있다."
   ]
  },
  {
   "cell_type": "markdown",
   "metadata": {
    "colab_type": "text",
    "id": "6UJOWYtKO9XQ"
   },
   "source": [
    "### __3번 문제 정답__ : 1"
   ]
  },
  {
   "cell_type": "markdown",
   "metadata": {
    "colab_type": "text",
    "id": "Mh367VPGPEDR"
   },
   "source": [
    "__ __"
   ]
  },
  {
   "cell_type": "markdown",
   "metadata": {
    "colab_type": "text",
    "id": "KA-KvLUjPFp0"
   },
   "source": [
    "## 4. 주머니 안에 흰색 공 4개 빨간색 공 6개가 들어있다. 공을 한 개씩 두 번 꺼낼 때, 둘 다 모두 빨간 공일 확률은? \n",
    "### __단, 처음 꺼낸 공은 주머니에 다시 넣지 않는다.__ (주관식)\n"
   ]
  },
  {
   "cell_type": "markdown",
   "metadata": {
    "colab_type": "text",
    "id": "2h8ZCA7SPtct"
   },
   "source": [
    "### __4번 문제 정답(주관식)__ : 1/3"
   ]
  },
  {
   "cell_type": "markdown",
   "metadata": {
    "colab_type": "text",
    "id": "q5Y8yqtPP2Bq"
   },
   "source": [
    "__ __"
   ]
  },
  {
   "cell_type": "markdown",
   "metadata": {
    "colab_type": "text",
    "id": "2phb1VzFQrmH"
   },
   "source": [
    "## 5. 다음 보기는 어떠한 개념에 대한 답을 얻기 위한 질문이며, 질문자는 어떠한 것을 파악하기 위하여 질문을 하였는지 선택하시오.\n",
    "\n",
    "## __질문자: “양성으로 식별된 사례 중 실제로 양성이었던 사례의 비율은 어느 정도인가요?”__\n",
    "\n",
    "1. 재현율\n",
    "2. 정밀도\n",
    "3. F1 score\n",
    "4. 정확도"
   ]
  },
  {
   "cell_type": "markdown",
   "metadata": {
    "colab_type": "text",
    "id": "2s6ZmNbjRMdY"
   },
   "source": [
    "### __5번 문제 정답__ : 2"
   ]
  },
  {
   "cell_type": "markdown",
   "metadata": {
    "colab_type": "text",
    "id": "uMVCh0NdRTBq"
   },
   "source": [
    "__ __"
   ]
  },
  {
   "cell_type": "markdown",
   "metadata": {
    "colab_type": "text",
    "id": "_YdS6RVxRczK"
   },
   "source": [
    "## 6. 다음 보기와 같이 4가지 지표에 대한 값이 주어진 경우, 올바르게 구해진 재현율(recall)을 선택하시오.\n",
    "## TP : 1 / FP : 1 / FN : 8 / TN : 90\n",
    "1. 0.11\n",
    "2. 0.21\n",
    "3. 0.31\n",
    "4. 0.41"
   ]
  },
  {
   "cell_type": "markdown",
   "metadata": {
    "colab_type": "text",
    "id": "9vrscHoxTNyd"
   },
   "source": [
    "### __6번 문제 정답__ : 1"
   ]
  },
  {
   "cell_type": "markdown",
   "metadata": {
    "colab_type": "text",
    "id": "bA9e1w91UP11"
   },
   "source": [
    "__ __"
   ]
  },
  {
   "cell_type": "markdown",
   "metadata": {
    "colab_type": "text",
    "id": "IBJnZ6fyUQ7s"
   },
   "source": [
    "## 7. 단층 퍼셉트론을 구축하기 위해 정의한 함수 중에서, '직접적인 학습'이 이뤄지는 함수를 고르시오.\n",
    "1. backprop_neuralnet()\n",
    "2. forward_neuralnet()\n",
    "3. backprop_postproc()\n",
    "4. forward_postproc()"
   ]
  },
  {
   "cell_type": "markdown",
   "metadata": {
    "colab_type": "text",
    "id": "FBzie8tdUq20"
   },
   "source": [
    "### __7번 문제 정답__ : 1"
   ]
  },
  {
   "cell_type": "markdown",
   "metadata": {
    "colab_type": "text",
    "id": "jv3-9gbLUzEB"
   },
   "source": [
    "__ __"
   ]
  },
  {
   "cell_type": "markdown",
   "metadata": {
    "colab_type": "text",
    "id": "N8AQCRvGU0RU"
   },
   "source": [
    "## 8. 신경망의 역전파 수행과정에 대한 설명 중, 빈칸에 알맞은 함수를 채워 넣으시오. (주관식 정답 2개)\n",
    "\n",
    "```\n",
    "회귀분석의 순전파 과정에 대한 역전파를 수행하기 위하여 \n",
    "∂L/∂Y 를 구하기 위한 과정인 '평균제곱오차'에 대한 역전파 처리 과정 중, \n",
    "'평균'과 '제곱'의 과정을 하나의 과정으로 가정 했을 때, \n",
    "이에 대한 '제곱'에 대한 '손실 기울기'를 구하는 단계를 파이썬으로 구현하고자 한다. \n",
    "이때 사용할 수 있는 넘파이 함수는 ______ 과 ______ 가 있다.\n",
    "```"
   ]
  },
  {
   "cell_type": "markdown",
   "metadata": {
    "colab_type": "text",
    "id": "QEvAxgdAVz7i"
   },
   "source": [
    "### __8번 문제 정답(주관식)__ :  np.square(), np.mean()"
   ]
  },
  {
   "cell_type": "markdown",
   "metadata": {
    "colab_type": "text",
    "id": "v9wiyCqpWLSs"
   },
   "source": [
    "__ __"
   ]
  },
  {
   "cell_type": "markdown",
   "metadata": {
    "colab_type": "text",
    "id": "UKzlOYWrWM2J"
   },
   "source": [
    "## 9. 정규표현식에 대한 설명 중 틀린 것은?\n",
    "\n",
    "1. [^\\w] 란 문자나 숫자가 아닌 것을 표현하는 정규표현식이다.\n",
    "2. [\\W] 란 문자나 숫자에 해당하는 것을 표현하는 정규표현식이다.\n",
    "3. \\1 은 만든 그룹을 재참조할 때에 쓰인다.\n",
    "4. \\s 는 띄어쓰기에 해당하는 것을 표현하는 정규표현식이다."
   ]
  },
  {
   "cell_type": "markdown",
   "metadata": {
    "colab_type": "text",
    "id": "sN_fN7SIX6SR"
   },
   "source": [
    "### __9번 문제 정답__: 2"
   ]
  },
  {
   "cell_type": "markdown",
   "metadata": {
    "colab_type": "text",
    "id": "kD52cHhNYTEx"
   },
   "source": [
    "__ __"
   ]
  },
  {
   "cell_type": "markdown",
   "metadata": {
    "colab_type": "text",
    "id": "L5DcMvyRYUJG"
   },
   "source": [
    "## 10. 문장의 전처리 과정에 대한 설명 중 틀린 것은?\n",
    "1. 토큰화란 단어를 기준으로 문장을 나누는 것을 말한다.\n",
    "2. nltk 토크나이저는 split 함수에 비해 수행속도가 느리다.\n",
    "3. 전처리 과정에서 사용할 토크나이저는 데이터의 특성 및 분석 목적에 따라 다르게하여야 한다.\n",
    "4. nltk stopwords를 사용하지 않아도 stopwords를 제거할 수 있다."
   ]
  },
  {
   "cell_type": "markdown",
   "metadata": {
    "colab_type": "text",
    "id": "LtYFoIQvYceV"
   },
   "source": [
    "### __10번 문제 정답__ : 1"
   ]
  },
  {
   "cell_type": "markdown",
   "metadata": {
    "colab_type": "text",
    "id": "Dx3hLKFyYiyJ"
   },
   "source": [
    "__ __"
   ]
  },
  {
   "cell_type": "markdown",
   "metadata": {
    "colab_type": "text",
    "id": "Myv4DJLIYi0P"
   },
   "source": [
    "## 11. TF-IDF에 대한 설명 중 틀린 것은?\n",
    "1. DF란 특정 단어가 포함된 문서들의 빈도수를 뜻한다.\n",
    "2. 특정 단어 t의 IDF는 전체 문서가 n일때, exp(n/(1+df(t)))로 표현할 수 있다.\n",
    "3. TF-IDF란 특정 문서, 특정 단어의 TF와 IDF를 곱한 것을 뜻한다. \n",
    "4. TF-IDF 행렬은 DTM 행렬과 똑같은 차원을 가진다."
   ]
  },
  {
   "cell_type": "markdown",
   "metadata": {
    "colab_type": "text",
    "id": "DhlSh-xzYi2f"
   },
   "source": [
    "### __11번 문제 정답__ : 2"
   ]
  },
  {
   "cell_type": "markdown",
   "metadata": {
    "colab_type": "text",
    "id": "ZCAVcW6fYi4_"
   },
   "source": [
    "__ __"
   ]
  },
  {
   "cell_type": "markdown",
   "metadata": {
    "colab_type": "text",
    "id": "lk7x9x-0Yi7D"
   },
   "source": [
    "## 12. 다음 세 문장을 split 함수를 사용하여 토큰화를 한다고 가정할 때, ‘밥을’의 idf 값을 구하시오. (주관식)\n",
    "[‘나는 밥을 먹었다’, ‘어제의 밥은 정말 맛이 없었다’, ‘어떻게 하면 맛있는 밥을 먹을 수 있을까’]"
   ]
  },
  {
   "cell_type": "markdown",
   "metadata": {
    "colab_type": "text",
    "id": "GvjdAIRNYi9i"
   },
   "source": [
    "### __12번 문제 정답(주관식)__ : 0"
   ]
  },
  {
   "cell_type": "markdown",
   "metadata": {
    "colab_type": "text",
    "id": "FM91AqN2Yi_2"
   },
   "source": [
    "__ __"
   ]
  },
  {
   "cell_type": "markdown",
   "metadata": {
    "colab_type": "text",
    "id": "PZh_WzVKYjCG"
   },
   "source": [
    "## 13. 다음 중 머신러닝과 딥러닝의 구분 중 틀린 것은?\n",
    "||구분|머신러닝|딥러닝|\n",
    "|------|---|---||\n",
    "|1번|훈련 데이터 크기|작음|큼|\n",
    "|2번|시스템 성능|저사양| 고사양|\n",
    "|3번|feature 선택|전문가 (사람)|알고리즘|\n",
    "|4번|해석력|해석 어려움|해석 가능|"
   ]
  },
  {
   "cell_type": "markdown",
   "metadata": {
    "colab_type": "text",
    "id": "kmLxcT-WYjEg"
   },
   "source": [
    "### __13번 문제 정답__ : 4"
   ]
  },
  {
   "cell_type": "markdown",
   "metadata": {
    "colab_type": "text",
    "id": "L_JJvDMLYjGs"
   },
   "source": [
    "__ __"
   ]
  },
  {
   "cell_type": "markdown",
   "metadata": {
    "colab_type": "text",
    "id": "n0XyWdn_YjI-"
   },
   "source": [
    "##14. 훈련-테스트 세트에 대한 설명 중 틀린 것은?\n",
    "1. 모델을 실전에 투입했을 때 사용될 데이터와 가능한 최대로 가까워야 합니다.\n",
    "2. 훈련 세트의 일부에서 모델을 훈련하고 테스트 세트에서 평가합니다.\n",
    "3. 모델이 훈련 세트에서 잘 동작하지만 테스트 세트에서 나쁜 성능을 낸다면 아마도 훈련 세트에 과대적합되었을 가능성이 높습니다.\n",
    "4. 훈련 세트에서 잘 동작하지만 테스트 세트에서 성능이 나쁘다면 훈련 데이터에 더 가깝게 되도록 테스트 데이터를 개선해야 합니다."
   ]
  },
  {
   "cell_type": "markdown",
   "metadata": {
    "colab_type": "text",
    "id": "CKKEh3YRYjLd"
   },
   "source": [
    "### __14번 문제 정답__ : 4"
   ]
  },
  {
   "cell_type": "markdown",
   "metadata": {
    "colab_type": "text",
    "id": "Z5_vW8u7YjNj"
   },
   "source": [
    "__ __"
   ]
  },
  {
   "cell_type": "markdown",
   "metadata": {
    "colab_type": "text",
    "id": "foT_ZxCkYjP1"
   },
   "source": [
    "## 15. 다음 설명에 해당하는 모델은?\n",
    "```\n",
    "Regularization을 사용하여 가중치를 완전히 0으로 만드는 경향이 있습니다. \n",
    "이는 가장 중요한 가중치를 제외하고는 모두 0이 되는 희소한 모델을 만듭니다. \n",
    "또한 자동으로 특성 선택의 효과를 가지므로 단지 몇 개의 특성만 실제 유용할 것이라고 의심될 때 사용하면 좋습니다.\n",
    "```\n",
    "1. 선형회귀\n",
    "2. 릿지회귀\n",
    "3. 라쏘회귀\n",
    "4. 엘라스틱넷"
   ]
  },
  {
   "cell_type": "markdown",
   "metadata": {
    "colab_type": "text",
    "id": "YLG_OEmfYjRv"
   },
   "source": [
    "### __15번 문제 정답__ : 3"
   ]
  },
  {
   "cell_type": "markdown",
   "metadata": {
    "colab_type": "text",
    "id": "949O8sVtYjUE"
   },
   "source": [
    "__ __"
   ]
  },
  {
   "cell_type": "markdown",
   "metadata": {
    "colab_type": "text",
    "id": "KMQFLFgJYjWU"
   },
   "source": [
    "## 16. 다음 밑줄에 들어갈 알맞은 시각화 방법을 쓰시오.(주관식)\n",
    "```\n",
    "시각화는 데이터를 조사하는 아주 좋은 방법입니다. \n",
    "산점도는 데이터에서 한 특성을 x 축에 놓고 다른 하나는 y 축에 놓아 \n",
    "각 데이터 포인트를 하나의 점으로 나타내는 그래프입니다.\n",
    "컴퓨터 화면은 2차원이라 한 번에 2개의 특성만 그릴 수 있습니다. \n",
    "3개 이상의 특성을 표현하기 위해 모든 특성을 짝지어 만드는 ______을 사용할 수 있습니다.\n",
    "```"
   ]
  },
  {
   "cell_type": "markdown",
   "metadata": {
    "colab_type": "text",
    "id": "eTf4W13Lg--G"
   },
   "source": [
    "### __16번 문제 정답(주관식)__ : 산점도 행렬"
   ]
  },
  {
   "cell_type": "markdown",
   "metadata": {
    "colab_type": "text",
    "id": "UKXAGX8mg_Al"
   },
   "source": [
    "__ __"
   ]
  },
  {
   "cell_type": "markdown",
   "metadata": {
    "colab_type": "text",
    "id": "wxLmnLi1g_CW"
   },
   "source": [
    "## 17. git init 을 한 후, 작업 한 파일 hello.py 를 staging area 에 올리는 방법으로 옳은 것을 고르시오.\n",
    "\n",
    "1. git commit hello.py\n",
    "2. git status\n",
    "3. git add hello.py\n",
    "4. git log"
   ]
  },
  {
   "cell_type": "markdown",
   "metadata": {
    "colab_type": "text",
    "id": "-Vsq5Um2g_Er"
   },
   "source": [
    "### __17번 문제 정답__ : 3"
   ]
  },
  {
   "cell_type": "markdown",
   "metadata": {
    "colab_type": "text",
    "id": "4kOlZ_4hg_Gx"
   },
   "source": [
    "__ __"
   ]
  },
  {
   "cell_type": "markdown",
   "metadata": {
    "colab_type": "text",
    "id": "32IayeG6g_LO"
   },
   "source": [
    "## 18. 다음 git에 대한 설명을 읽고 물음에 답하시오.\n",
    "철수의 컴퓨터에는 데스크탑 디렉토리 안에 인공지능_사관학교, 컴퓨터_사이언스, 코테_준비 디렉토리가 있다. \n",
    "\n",
    "인공지능_사관학교 디렉토리의 하위 디렉토리로 깃_공부 디렉토리가 있다. \n",
    "\n",
    "철수는 깃_공부 디렉토리 안에서 git_tutorial.txt 파일을 작성하며 공부하였다. \n",
    "\n",
    "철수가 공부한 파일을 깃헙에 업로드 하고 싶다고 할 때, git init을 할 위치(ㄱ)와 \n",
    "\n",
    "git remote add origin https://github.com/chulsu/git_study 를 할 위치(ㄴ)로 __모두 옳은 것을 고르시오.__\n",
    "\n",
    "1. ㄱ - 터미널에서 ls 명령어를 입력했을 때 인공지능_사관학교가 보이는 위치 /\n",
    "ㄴ. 터미널에서 ls 명령어를 입력했을 때 코테_준비가 보이는 위치\n",
    "2. ㄱ. 터미널에서 ls 명령어를 입력했을 때 깃_공부 디렉토리가 보이   는 위치 / \n",
    "ㄴ. 터미널에서 ls 명령어를 입력했을 때 깃_공부 디렉토리가 보이는 위치\n",
    "3. ㄱ. 터미널에서 ls 명령어를 입력했을 때 git_tutorial.txt가 보이는 위치 / \n",
    "ㄴ. 터미널에서 ls 명령어를 입력했을 때 깃_공부 디렉토리가 보이는 위치\n",
    "4. ㄱ. 터미널에서 ls 명령어를 입력했을 때 git_tutorial.txt 가 보이는 위치 / \n",
    "ㄴ. 터미널에서 ls 명령어를 입력했을 때 git_tutorial.txt 가 보이는 위치\n"
   ]
  },
  {
   "cell_type": "markdown",
   "metadata": {
    "colab_type": "text",
    "id": "7UrD3Imbg_Ny"
   },
   "source": [
    "### __18번 문제 정답__ : 4"
   ]
  },
  {
   "cell_type": "markdown",
   "metadata": {
    "colab_type": "text",
    "id": "Ir7taIJHg_Q3"
   },
   "source": [
    "__ __"
   ]
  },
  {
   "cell_type": "markdown",
   "metadata": {
    "colab_type": "text",
    "id": "y2LOoiKwltoI"
   },
   "source": [
    "## 19. 다음 중 position : absolute ; 의 설명으로 옳은 것을 고르시오. (부모는 하나로 가정)\n",
    "1. static 일 때의 위치를 기준으로 이동합니다.\n",
    "2. 부모가 position : relative; 라면, static 일 때의 위치를 기준으로 이동합니다.\n",
    "3. body 태그를 기준으로 이동합니다.\n",
    "4. 부모가 position : static 이라면, body 태그를 기준으로 이동 합니다."
   ]
  },
  {
   "cell_type": "markdown",
   "metadata": {
    "colab_type": "text",
    "id": "h8jTnoVcltqm"
   },
   "source": [
    "### __19번 문제 정답__ : 4"
   ]
  },
  {
   "cell_type": "markdown",
   "metadata": {
    "colab_type": "text",
    "id": "42LqF2BRlttC"
   },
   "source": [
    "__ __"
   ]
  },
  {
   "cell_type": "markdown",
   "metadata": {
    "colab_type": "text",
    "id": "GGemmf9-ltvd"
   },
   "source": [
    "## 20. HTML 의 기본 margin 을 0으로 만들고 싶을때 작성해야 하는 CSS 코드를 작성하시오. (주관식)"
   ]
  },
  {
   "cell_type": "markdown",
   "metadata": {
    "colab_type": "text",
    "id": "WxWLx_Dtltx9"
   },
   "source": [
    "### __20번 문제 정답 (주관식)__ : \n",
    "```\n",
    "#여기에 코드를 작성해주세요\n",
    "\n",
    "* {\n",
    "    margin: 0;\n",
    "}\n",
    "\n",
    "```"
   ]
  },
  {
   "cell_type": "markdown",
   "metadata": {
    "colab_type": "text",
    "id": "7ZqEUkiexmHc"
   },
   "source": [
    "__ __"
   ]
  },
  {
   "cell_type": "markdown",
   "metadata": {
    "colab_type": "text",
    "id": "j9U5iKodwNew"
   },
   "source": [
    "## 21. 다음 코드의 시간복잡도를 빅오표기법으로 올바르게 표기한 것을 고르시오.\n",
    "```\n",
    "val = int(input()) \n",
    "result = 1 \n",
    "\n",
    "for i in range(val, 0, -1): \n",
    "    result *= i \n",
    "\n",
    "print(result)\n",
    "```\n",
    "1. O(1)\n",
    "2. O(N)\n",
    "3. O(N^2)\n",
    "4. O(N log N)"
   ]
  },
  {
   "cell_type": "markdown",
   "metadata": {
    "colab_type": "text",
    "id": "e-i4Bg79lt0o"
   },
   "source": [
    "### __21번 문제 정답__ :  2"
   ]
  },
  {
   "cell_type": "markdown",
   "metadata": {
    "colab_type": "text",
    "id": "OGUATw3slt2g"
   },
   "source": [
    "__ __"
   ]
  },
  {
   "cell_type": "markdown",
   "metadata": {
    "colab_type": "text",
    "id": "zghDw4Oelt5x"
   },
   "source": [
    "## 22. MySQL은 세계에서 가장 많이 쓰이는 오픈 소스 RDBMS(Relational Database Managment System) 이다. B-Tree 인덱스 알고리즘은 MySQL을 비롯해 데이터베이스의 인덱스(Index) 알고리즘 중 보편적인 알고리즘 중 하나이다. 해당 알고리즘의 시간복잡도를 빅오표기법으로 올바르게 표기한 것을 고르시오.\n",
    "\n",
    "1. O(1)\n",
    "2. O(N)\n",
    "3. O(N^2)\n",
    "4. O(N log N)"
   ]
  },
  {
   "cell_type": "markdown",
   "metadata": {
    "colab_type": "text",
    "id": "E-9SPM5Wlvgu"
   },
   "source": [
    "### __22번 문제 정답__ :  4"
   ]
  },
  {
   "cell_type": "markdown",
   "metadata": {
    "colab_type": "text",
    "id": "KGqY9xjElvjK"
   },
   "source": [
    "__ __"
   ]
  },
  {
   "cell_type": "markdown",
   "metadata": {
    "colab_type": "text",
    "id": "3uXRKY7wlvna"
   },
   "source": [
    "## 23. 이 정렬은 느린 정렬 알고리즘으로 기본적인 정렬 알고리즘 중 하나이다. 배열의 모든 요소를 이미 정렬된 배열 부분, 즉 자신의 바로 앞 인덱스까지의 구간과 비교하는 방식이며 각각의 요소를 정렬된 배열 사이에 올바른 위치를 찾아 삽입하는 정렬 방식이다. 파이썬에서는 이 정렬방식과 병합 정렬을 Hybrid 방식으로 사용한다고도 하며, 최선의 시간복잡도는 O(N), 최악의 시간 복잡도는 O(N^2) 을 가지는 이 정렬 알고리즘의 이름은 무엇인가?\n",
    "\n",
    "1. 삽입 정렬(Insertion Sort)\n",
    "2. 선택 정렬(Selection Sort)\n",
    "3. 거품 정렬(Bubble Sort)\n",
    "4. 퀵 정렬(Quick Sort)"
   ]
  },
  {
   "cell_type": "markdown",
   "metadata": {
    "colab_type": "text",
    "id": "yzjpVr7nyAGR"
   },
   "source": [
    "### __23번 문제 정답__ :  1"
   ]
  },
  {
   "cell_type": "markdown",
   "metadata": {
    "colab_type": "text",
    "id": "3JDbfol4yAIk"
   },
   "source": [
    "__ __"
   ]
  },
  {
   "cell_type": "markdown",
   "metadata": {
    "colab_type": "text",
    "id": "3MUvf6f3yAK1"
   },
   "source": [
    "## 24. 스택이라는 자료구조는 후입선출(First In Last Out, Last In First Out) 구조를, 큐라는 자료구조는 선입선출 (First In First Out) 구조를 가진다. 비어있는 스택 자료구조가 있을 경우 아래의 작업을 모두 마친 후, 출력되는 수들의 합은 얼마인가? (스택에 존재하지 않는 출력값을 요청하는 경우 -1이 출력된다고 간주한다.) (주관식)\n",
    "```\n",
    "1을 PUSH => 2를 PUSH => POP 실행 => 3을 PUSH => EMPTY 실행 => 4를 PUSH => POP 실행 => TOP 실행\n",
    "```"
   ]
  },
  {
   "cell_type": "markdown",
   "metadata": {
    "colab_type": "text",
    "id": "hmAt4ShXyAM1"
   },
   "source": [
    "### __24번 문제 정답(주관식)__ :  9"
   ]
  },
  {
   "cell_type": "markdown",
   "metadata": {
    "colab_type": "text",
    "id": "L6g4tFIx2aW1"
   },
   "source": [
    "__ __"
   ]
  },
  {
   "cell_type": "markdown",
   "metadata": {
    "colab_type": "text",
    "id": "3Rncy2Nd2gGn"
   },
   "source": [
    "# __파일 이름은 다음과 같이 변경하여 제출해주세요.__\n",
    "(시험번호는 링크를 통해 확인 가능합니다. [링크](https://docs.google.com/spreadsheets/d/1vo-hMdfsWKE6ByYC0sO2jk-b1gzYcRo2TR-Et0gXSV0/edit?usp=sharing)\n",
    ")\n",
    "\n",
    "```\n",
    "(시험번호)_3주차_시험_(반)_(이름)\n",
    "ex) 120_3주차_시험_3반_홍길동\n",
    "```"
   ]
  }
 ],
 "metadata": {
  "colab": {
   "collapsed_sections": [],
   "name": "0_3주차_시험_0반_000.ipynb",
   "provenance": []
  },
  "kernelspec": {
   "display_name": "Python 3",
   "language": "python",
   "name": "python3"
  },
  "language_info": {
   "codemirror_mode": {
    "name": "ipython",
    "version": 3
   },
   "file_extension": ".py",
   "mimetype": "text/x-python",
   "name": "python",
   "nbconvert_exporter": "python",
   "pygments_lexer": "ipython3",
   "version": "3.7.6"
  }
 },
 "nbformat": 4,
 "nbformat_minor": 1
}
