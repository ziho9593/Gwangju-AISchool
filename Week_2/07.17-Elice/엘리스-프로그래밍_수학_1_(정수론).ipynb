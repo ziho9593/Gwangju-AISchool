{
 "cells": [
  {
   "cell_type": "markdown",
   "metadata": {},
   "source": [
    "# 광주 인공지능 사관학교\n",
    "- - -\n",
    "- 작성자 : 2반 한지호\n",
    "- 작성일 : 20.07.17 금\n",
    "- 엘리스 프로그래밍 수학 코스 중 '1. 프로그래밍 수학 - 1장. 정수론' 부분을 학습하며 작성"
   ]
  },
  {
   "cell_type": "markdown",
   "metadata": {},
   "source": [
    "### 1. 모듈러 연산\n",
    "- 모듈러 연산(Modular arithmetic) = 나머지 연산  \n",
    "<br>\n",
    "  <예제 - 나머지 값>  \n",
    "  \n",
    "  a mod b는 “a를 b로 나눈 나머지 값”을 구하는 연산입니다.  \n",
    "  \n",
    "  두 자연수 a, b가 주어질 때 a mod b의 값을 반환하는 함수를 작성해 봅시다."
   ]
  },
  {
   "cell_type": "code",
   "execution_count": 1,
   "metadata": {},
   "outputs": [
    {
     "name": "stdout",
     "output_type": "stream",
     "text": [
      "1\n",
      "2\n",
      "10\n"
     ]
    }
   ],
   "source": [
    "def mod(a, b):\n",
    "    # To-do - pass는 지우고 코드를 작성해주세요.\n",
    "    return a % b\n",
    "\n",
    "\n",
    "# 결과 출력을 위한 코드입니다. 자유롭게 값을 바꿔보며 확인해보세요.\n",
    "print(mod(10,3))\n",
    "print(mod(100,7))\n",
    "print(mod(1000,11))"
   ]
  },
  {
   "cell_type": "markdown",
   "metadata": {},
   "source": [
    "### 2. 소수의 정의와 판별법\n",
    "- 소수 : 자신보다 작은 두 개의 자연수를 곱하여 만들 수 없는 1보다 큰 자연수\n",
    "- 소수인지 아닌지를 알아보기 위해서는 자신보다 작은 자연수의 곱이 하나라도 존재하는 지를 확인하면 된다.\n",
    "- p는 소수가 아님을 알고싶다면, p=a×b를 만족하는 p보다 작은 a, b를 찾으면 된다. 식을 조금 변형 하면, p÷a=b가 된다. \n",
    "- 즉, p를 p보다 작은 자연수 a로 나누었을 때 마찬가지로 p보다 작은 자연수 b가 된다면 p는 소수가 아니라는 말이 된다.  \n",
    "<br>\n",
    "  <예제 - 소수 판별>  \n",
    "  \n",
    "  어떤 수 n이 소수인지 알아보려면 2부터 n-1까지의 수로 n을 나누어서 나머지가 0인 경우가 없음을 보이는 방법이 일반적입니다.  \n",
    "\n",
    "  주어진 숫자가 소수임을 확인하는 함수를 작성해 봅시다."
   ]
  },
  {
   "cell_type": "code",
   "execution_count": 2,
   "metadata": {},
   "outputs": [
    {
     "name": "stdout",
     "output_type": "stream",
     "text": [
      "False\n",
      "True\n",
      "True\n",
      "False\n"
     ]
    }
   ],
   "source": [
    "def isPrime(n):\n",
    "    # To-do - pass는 지우고 코드를 작성해주세요.\n",
    "    # 1. n이 1인 경우, False를 반환\n",
    "    if n == 1:\n",
    "        return False\n",
    "    # 2. n이 합성수이면, False를 반환\n",
    "    for i in range(2, n):\n",
    "        if n % i == 0:\n",
    "            return False\n",
    "    # 3. n이 소수면, True를 반환\n",
    "    return True\n",
    "    \n",
    "\n",
    "# 결과 출력을 위한 코드입니다. 자유롭게 값을 바꿔보며 확인해보세요.\n",
    "print(isPrime(1))\n",
    "print(isPrime(3))\n",
    "print(isPrime(5))\n",
    "print(isPrime(8))"
   ]
  },
  {
   "cell_type": "markdown",
   "metadata": {},
   "source": [
    "### 3. 에라토스테네스의 체\n",
    "- 체를 통해 고운 입자만 통과시키는 것처럼 주어진 범위의 수 중에서 소수만을 남기는 방법\n",
    "- 찾고자 하는 범위의 자연수를 나열한다. -> 2부터 시작하여, 2의 배수를 지워나간다. -> 다음 소수의 배수를 모두 지운다.  \n",
    "<br>\n",
    "  <예제 - 에라토스테네스의 체>  \n",
    "  \n",
    "  에라토스테네스의 체 알고리즘의 핵심은 어떤 소수를 찾았을때 이 소수의 모든 배수는 소수가 아님을 알기때문에 후보군에서 제외하는 것입니다.  \n",
    "\n",
    "  n보다 작은 모든 소수의 리스트를 구하는 함수를 에라토스테네스의 체 알고리즘으로 구현해봅시다."
   ]
  },
  {
   "cell_type": "code",
   "execution_count": 3,
   "metadata": {},
   "outputs": [
    {
     "name": "stdout",
     "output_type": "stream",
     "text": [
      "[2, 3, 5, 7]\n",
      "[2, 3, 5, 7, 11, 13, 17, 19]\n",
      "[2, 3, 5, 7, 11, 13, 17, 19, 23, 29, 31, 37, 41, 43, 47, 53, 59, 61, 67, 71, 73, 79, 83, 89, 97]\n"
     ]
    }
   ],
   "source": [
    "def eratosthenes(n):\n",
    "    # n개의 True 값이 들어있는 목록을 준비 \n",
    "    # (True는 소수, False는 합성수를 의미)\n",
    "    sieve = [True] * n # 0 ~ n-1, n보다 작은 소수\n",
    "    \n",
    "    # To-do - pass는 지우고 코드를 작성해주세요.\n",
    "    # 2부터 n까지 하나씩 순차적으로 소수 여부를 판단\n",
    "    for i in range(2, n):\n",
    "        # 1. i가 소수인 경우 i의 배수를 False로 변경\n",
    "        # 2. i는 소수이므로 True값을 유지\n",
    "        for j in range(i+i, n, i): # i를 제외한 i의 배수들에 대한 반복\n",
    "            sieve[j] = False\n",
    "            \n",
    "    # 값이 True인 숫자를 추려낸다\n",
    "    result = []\n",
    "#     for i in range(2, n):\n",
    "#         if sieve[i] == True :\n",
    "#             result.append(i)\n",
    "#     return result    \n",
    "    return [i for i in range(2, n) if sieve[i] == True]\n",
    "\n",
    "\n",
    "# 결과 출력을 위한 코드입니다. 자유롭게 값을 바꿔보며 확인해보세요.\n",
    "print(eratosthenes(10))\n",
    "print(eratosthenes(20))\n",
    "print(eratosthenes(100))"
   ]
  },
  {
   "cell_type": "markdown",
   "metadata": {},
   "source": [
    "### 4. 소인수 분해\n",
    "- 소인수분해는 어떤 수를 소수들의 곱으로만 나타내는 것, 그 곱셈에 사용되는 소수들을 소인수라고 부른다.\n",
    "- 소수의 경우에는 자기 자신 외에 나누어지는 소수가 없으므로 그 자체로 소인수분해가 된 것으로 간주\n",
    "<br>\n",
    "  <예제 - 소인수>  \n",
    "  \n",
    "  어떤 수 n을 나누는(나누면 나머지가 0이되는) 소수를 n의 소인수라고 부릅니다.  \n",
    "\n",
    "  주어진 n에 대해 가장 큰 소인수를 구하는 함수를 작성해 봅시다.  \n",
    "<br>\n",
    "  <예제 - 소인수 분해>\n",
    "  \n",
    "  소인수분해는 큰 수에서는 매우 오래 걸리는 작업이지만 비교적 작은 수는 비교적 빠른 시간 안에 처리할 수 있습니다.  \n",
    "\n",
    "  주어진 수 n을 소인수분해하는 함수를 작성해 봅시다."
   ]
  },
  {
   "cell_type": "code",
   "execution_count": 4,
   "metadata": {},
   "outputs": [
    {
     "name": "stdout",
     "output_type": "stream",
     "text": [
      "6\n",
      "10\n",
      "15\n"
     ]
    }
   ],
   "source": [
    "# <예제 - 소인수>\n",
    "def greatPrimeFacter(n):\n",
    "    \n",
    "    # 1. 소인수의 후보군을 추리기 위해, 우선 n보다 같거나 작은 소수를 모두 구한다.\n",
    "    # n도 소수일 수 있기 때문에 n+1을 사용한다.\n",
    "    \n",
    "    # 1-1. n+1개의 True 값이 들어있는 목록을 준비\n",
    "    sieve = [True] * (n+1)\n",
    "    \n",
    "    # 1-2. 2부터 n까지 하나씩 순차적으로 소수 여부를 판단\n",
    "    for i in range(2, n+1):\n",
    "        if sieve[i] == True:\n",
    "            for j in range(i+i, (n+1), i):\n",
    "                sieve[j] = False\n",
    "                \n",
    "    # 1-3. n보다 같거나 작은 모든 소수 값을 prime_list 에 저장\n",
    "    prime_list = [i for i in range(2,n+1) if sieve[i] == True]\n",
    "\n",
    "    # 2. prime_list에서 가장 큰 n의 인수를 구한다.\n",
    "    # To-do - pass는 지우고 코드를 작성해주세요.\n",
    "    result = 0\n",
    "    for p in prime_list:\n",
    "        if n % p == 0:\n",
    "            result = i\n",
    "            \n",
    "    return result\n",
    "\n",
    "\n",
    "# 결과 출력을 위한 코드입니다. 자유롭게 값을 바꿔보며 확인해보세요.\n",
    "print(greatPrimeFacter(6))\n",
    "print(greatPrimeFacter(10))\n",
    "print(greatPrimeFacter(15))"
   ]
  },
  {
   "cell_type": "code",
   "execution_count": 5,
   "metadata": {},
   "outputs": [
    {
     "name": "stdout",
     "output_type": "stream",
     "text": [
      "[2, 5]\n",
      "[2, 5, 7]\n",
      "[2, 2, 5, 5]\n"
     ]
    }
   ],
   "source": [
    "# <예제 - 소인수 분해>\n",
    "# n 보다 작은 모든 소수의 리스트를 반환\n",
    "def eratosthenes(n):\n",
    "    sieve = [True] * n\n",
    "    for i in range(2, n):\n",
    "        if sieve[i] == True: # 이 부분은 생략 가능\n",
    "            for j in range(i+i, n, i):\n",
    "                sieve[j] = False                \n",
    "    return [ i for i in range(2,n) if sieve[i] == True]\n",
    "    \n",
    "def primeFactor(n):\n",
    "    # n과 같거나 작은 모든 소수를 원소로 가지는 리스트 생성\n",
    "    l = eratosthenes(n+1)\n",
    "    \n",
    "    # l에 담긴 각 소수가 n의 소인수인지 확인해봅니다.\n",
    "    i = 0\n",
    "    result = []\n",
    "    while i < len(l): \n",
    "        # To-do - pass는 지우고 코드를 작성해주세요. \n",
    "        # 1. 만약 현재 소수가 n의 소인수라면, result 리스트에 담고 n을 현재 소수로 나눕니다.\n",
    "        # 2. 현재 소수가 n의 소인수가 아니라면 다음 소수로 넘어갑니다. \n",
    "        if n % l[i] == 0:\n",
    "            n /= l[i]\n",
    "            result.append(l[i])\n",
    "        else:\n",
    "            i += 1\n",
    "            \n",
    "    return result\n",
    "    \n",
    "\n",
    "# 결과 출력을 위한 코드입니다. 자유롭게 값을 바꿔보며 확인해보세요.\n",
    "print(primeFactor(10))\n",
    "print(primeFactor(70)) \n",
    "print(primeFactor(100)) "
   ]
  },
  {
   "cell_type": "markdown",
   "metadata": {},
   "source": [
    "### 5. 현대 암호와 소인수 분해\n",
    "- 소인수 분해의 흥미로운 점은 아직까지 소인수분해를 할 수 있는 충분히 빠른 방법이 밝혀지지 않았다는 점이다.\n",
    "- 특히 매우 큰 소수에 대해 소인수 분해를 하는 계산은 정말로 많은 연산을 필요로해서, 193자리의 소수를 소인수 분해 하는데 2.2GHz의 CPU 30개를 가지고도 5개월이라는 시간이 걸렸다.\n",
    "- 반면 매우 큰 수를 소수의 곱으로 만드는 일은 매우 쉬운 일로, 알려져 있는 소수의 목록에서 적당히 몇 개를 골라 곱하기만 하면 된다.\n",
    "- 소인수 분해의 이러한 특징은 현대 암호에 쓰이게 되었고, 현대 암호 중 하나인 RSA는 이러한 소인수분해의 어려움을 이용한 것이다.\n",
    "- 숫자를 페인트 통에 비유해 본다면, 다양한 숫자가 있는 것처럼 다양한 빛깔의 페인트 통이 존재할 때 두 숫자를 곱하는 행위는 페인트를 섞는 것에 비유된다.\n",
    "- 두 소수를 곱해서 숫자를 만드는 것은 간단하되 소인수 분해는 어려운 것처럼, 두 페인트를 섞어 다른 색을 만드는 것은 쉽지만 이미 섞여버린 페인트를 원래의 두 색으로 나누는 것은 거의 불가능한 일이다."
   ]
  },
  {
   "cell_type": "markdown",
   "metadata": {},
   "source": [
    "### 미션 문제\n",
    "- <문제 1 - n번째 소수>  \n",
    "  \n",
    "  첫 번째 소수는 2, 두 번째 소수는 3입니다. 그렇다면 50번째 소수는 몇일까요?  \n",
    "\n",
    "  n번째의 소수를 구하는 함수를 작성해 봅시다."
   ]
  },
  {
   "cell_type": "code",
   "execution_count": 6,
   "metadata": {},
   "outputs": [
    {
     "name": "stdout",
     "output_type": "stream",
     "text": [
      "2\n",
      "11\n",
      "29\n"
     ]
    }
   ],
   "source": [
    "def nthPrime(n):\n",
    "    # To-do\n",
    "    # 충분히 큰 크기(1000000 정도)를 가진 리스트를 생성하고\n",
    "    # 에라토스테네스의 체를 사용해 n번째의 소수를 찾아 반환하세요.\n",
    "    l = [True] * 1000000\n",
    "    prime_list = []\n",
    "    i = 2\n",
    "    \n",
    "    while n > len(prime_list):\n",
    "        if l[i] == True:\n",
    "            prime_list.append(i)\n",
    "            for j in range(i*2, len(l)-1, i):\n",
    "                l[j] = False\n",
    "        i += 1\n",
    "        \n",
    "    return prime_list[n-1]\n",
    "    \n",
    "\n",
    "# 결과 출력을 위한 코드입니다. 자유롭게 값을 바꿔보며 확인해보세요.\n",
    "print(nthPrime(1))\n",
    "print(nthPrime(5))\n",
    "print(nthPrime(10))"
   ]
  },
  {
   "cell_type": "markdown",
   "metadata": {},
   "source": [
    "- <문제 2 - 소수의 합>  \n",
    "\n",
    "  에라토스테네스의 체를 사용하면 주어진 범위의 소수를 빠르게 구할 수 있었습니다.  \n",
    "\n",
    "  주어진 n보다 작은 모든 소수의 합을 구하는 함수를 작성해 봅시다."
   ]
  },
  {
   "cell_type": "code",
   "execution_count": 7,
   "metadata": {},
   "outputs": [
    {
     "name": "stdout",
     "output_type": "stream",
     "text": [
      "2\n",
      "77\n",
      "1060\n"
     ]
    }
   ],
   "source": [
    "def primeSum(n):\n",
    "    # To-do\n",
    "    # 에라토스테네스의 체를 사용해서 n보다 작은 소수의 리스트를 찾고, \n",
    "    # sum()을 사용해 리스트의 합을 반환해보세요.\n",
    "    l = [True] * n\n",
    "    prime_list = []\n",
    "    for i in range(2, n):\n",
    "        if l[i] == True:\n",
    "            prime_list.append(i)\n",
    "            for j in range(i*2, n, i):\n",
    "                l[j] = False\n",
    "    \n",
    "    return sum(prime_list)\n",
    "    \n",
    "    \n",
    "# 결과 출력을 위한 코드입니다. 자유롭게 값을 바꿔보며 확인해보세요.\n",
    "print(primeSum(3))\n",
    "print(primeSum(20))\n",
    "print(primeSum(100))"
   ]
  },
  {
   "cell_type": "markdown",
   "metadata": {},
   "source": [
    "- <문제 3- 효율적인 소수 판별>  \n",
    "\n",
    "  어떤 수 n이 소수인지를 알아보기 위해서는 2부터 n-1까지 나눠보아 나머지가 0이 되는지를 확인해보면 됩니다. 이 경우 최대 n-3번의 계산을 하게 됩니다. 하지만 효율적인 방법을 사용하면 이것을 $ \\sqrt n / 2 $ 까지 줄일 수 있습니다. 다음의 성질을 사용하여 효율적으로 소수를 판별하는 함수를 작성해 봅시다.  \n",
    "  \n",
    "  - 2를 제외한 모든 소수는 홀수이다.\n",
    "  - $ \\sqrt n $ 보다 큰 수는 n을 나누지 못한다. (나머지가 0이 될 수 없다.)"
   ]
  },
  {
   "cell_type": "code",
   "execution_count": 8,
   "metadata": {},
   "outputs": [
    {
     "name": "stdout",
     "output_type": "stream",
     "text": [
      "False\n",
      "False\n",
      "True\n"
     ]
    }
   ],
   "source": [
    "def isPrime2(n):\n",
    "    # To-do\n",
    "    # [실습2]의 코드를 더 효율적으로 발전시켜보세요!\n",
    "    if n == 2:\n",
    "        return True\n",
    "        \n",
    "    if n == 1 or (n > 2 and n % 2) == 0:\n",
    "        return False\n",
    "      \n",
    "    for i in range(3, round(n**(1/2)+1), 2):\n",
    "        if n % (i) == 0:\n",
    "            return False\n",
    "            \n",
    "    return True\n",
    "            \n",
    "\n",
    "# 결과 출력을 위한 코드입니다. 자유롭게 값을 바꿔보며 확인해보세요.\n",
    "print(isPrime2(1)) \n",
    "print(isPrime2(10))\n",
    "print(isPrime2(17)) "
   ]
  },
  {
   "cell_type": "markdown",
   "metadata": {},
   "source": [
    "- <문제 4 - 메르센 소수>  \n",
    "\n",
    "  $ 2^n -1 $ 꼴의 형태로 나타나는 수를 메르센 수라고 부르고, 그 중 소수인 수를 메르센 소수라고 부릅니다. 메르센 소수는 매우 큰 소수에서 주로 나타나며 가장 최근에 발견된 메르센 소수는 무려 23,249,425자리에 이릅니다.  \n",
    "\n",
    "  n이 주어졌을 때 $ 2^n -1 $ 이 메르센 소수인지 판별하는 함수를 작성해 봅시다."
   ]
  },
  {
   "cell_type": "code",
   "execution_count": 9,
   "metadata": {},
   "outputs": [
    {
     "name": "stdout",
     "output_type": "stream",
     "text": [
      "True\n",
      "False\n",
      "False\n"
     ]
    }
   ],
   "source": [
    "def mersenne(n):\n",
    "    # To-do\n",
    "    # 2^n - 1 이 소수인지 아닌지 판별하는 함수를 작성하고, 이를 반환해봅시다.\n",
    "    mer = (2 ** n) - 1\n",
    "    \n",
    "    if mer == 2:\n",
    "        return True\n",
    "        \n",
    "    if mer == 1 or (mer > 2 and mer % 2) == 0:\n",
    "        return False\n",
    "      \n",
    "    for i in range(3, round(mer**(1/2)+1), 2):\n",
    "        if mer % (i) == 0:\n",
    "            return False\n",
    "            \n",
    "    return True\n",
    "        \n",
    "\n",
    "# 결과 출력을 위한 코드입니다. 자유롭게 값을 바꿔보며 확인해보세요.\n",
    "print(mersenne(5))\n",
    "print(mersenne(20))\n",
    "print(mersenne(100))"
   ]
  }
 ],
 "metadata": {
  "kernelspec": {
   "display_name": "Python 3",
   "language": "python",
   "name": "python3"
  },
  "language_info": {
   "codemirror_mode": {
    "name": "ipython",
    "version": 3
   },
   "file_extension": ".py",
   "mimetype": "text/x-python",
   "name": "python",
   "nbconvert_exporter": "python",
   "pygments_lexer": "ipython3",
   "version": "3.7.6"
  }
 },
 "nbformat": 4,
 "nbformat_minor": 4
}
