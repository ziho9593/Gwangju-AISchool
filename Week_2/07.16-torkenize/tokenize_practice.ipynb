{
 "cells": [
  {
   "cell_type": "markdown",
   "metadata": {},
   "source": [
    "# 광주 인공지능 사관학교\n",
    "- - -\n",
    "- 작성자 : 2반 한지호\n",
    "- 작성일 : 20.07.16 목\n",
    "- 4교시 자연어 처리 시간에 진행한 토크나이저, 어간 추출, 불용어 제거, 인코딩 관련 실습\n",
    "- 토큰화 -> 어떤 기준대로 나눈다 (단어, 문장, 형태소)"
   ]
  },
  {
   "cell_type": "code",
   "execution_count": 1,
   "metadata": {
    "scrolled": true
   },
   "outputs": [],
   "source": [
    "# ! pip install nltk\n",
    "# ! pip install wordcloud"
   ]
  },
  {
   "cell_type": "code",
   "execution_count": 2,
   "metadata": {},
   "outputs": [
    {
     "name": "stderr",
     "output_type": "stream",
     "text": [
      "[nltk_data] Downloading package punkt to\n",
      "[nltk_data]     C:\\Users\\James\\AppData\\Roaming\\nltk_data...\n",
      "[nltk_data]   Package punkt is already up-to-date!\n"
     ]
    },
    {
     "data": {
      "text/plain": [
       "True"
      ]
     },
     "execution_count": 2,
     "metadata": {},
     "output_type": "execute_result"
    }
   ],
   "source": [
    "import nltk\n",
    "\n",
    "nltk.download('punkt') "
   ]
  },
  {
   "cell_type": "code",
   "execution_count": 3,
   "metadata": {},
   "outputs": [],
   "source": [
    "text = '''\n",
    "I will always remember.\n",
    "The day you kissed my lips.\n",
    "Light as a feather.\n",
    "And it went just like this.\n",
    "No, it's never been better.\n",
    "Than the summer of 2002 (ooh).\n",
    "Uh, we were only eleven.\n",
    "But acting like grown-ups.\n",
    "Like we are in the present.\n",
    "Drinking from plastic cups.\n",
    "Singing, \"Love is forever and ever\".\n",
    "Well, I guess that was true.\n",
    "'''"
   ]
  },
  {
   "cell_type": "code",
   "execution_count": 4,
   "metadata": {},
   "outputs": [
    {
     "name": "stdout",
     "output_type": "stream",
     "text": [
      "['I', 'will', 'always', 'remember', '.', 'The', 'day', 'you', 'kissed', 'my', 'lips', '.', 'Light', 'as', 'a', 'feather', '.', 'And', 'it', 'went', 'just', 'like', 'this', '.', 'No', ',', 'it', \"'s\", 'never', 'been', 'better', '.', 'Than', 'the', 'summer', 'of', '2002', '(', 'ooh', ')', '.', 'Uh', ',', 'we', 'were', 'only', 'eleven', '.', 'But', 'acting', 'like', 'grown-ups', '.', 'Like', 'we', 'are', 'in', 'the', 'present', '.', 'Drinking', 'from', 'plastic', 'cups', '.', 'Singing', ',', '``', 'Love', 'is', 'forever', 'and', 'ever', \"''\", '.', 'Well', ',', 'I', 'guess', 'that', 'was', 'true', '.']\n"
     ]
    }
   ],
   "source": [
    "from nltk.tokenize import word_tokenize \n",
    "\n",
    "# 가장 기본적인 형태 (구두점(')이 있는 부분은 합쳐서 토큰화, ex : It's -> It + 's)  \n",
    "print(word_tokenize(text)) "
   ]
  },
  {
   "cell_type": "code",
   "execution_count": 5,
   "metadata": {},
   "outputs": [
    {
     "name": "stdout",
     "output_type": "stream",
     "text": [
      "['I', 'will', 'always', 'remember', '.', 'The', 'day', 'you', 'kissed', 'my', 'lips', '.', 'Light', 'as', 'a', 'feather', '.', 'And', 'it', 'went', 'just', 'like', 'this', '.', 'No', ',', 'it', \"'\", 's', 'never', 'been', 'better', '.', 'Than', 'the', 'summer', 'of', '2002', '(', 'ooh', ').', 'Uh', ',', 'we', 'were', 'only', 'eleven', '.', 'But', 'acting', 'like', 'grown', '-', 'ups', '.', 'Like', 'we', 'are', 'in', 'the', 'present', '.', 'Drinking', 'from', 'plastic', 'cups', '.', 'Singing', ',', '\"', 'Love', 'is', 'forever', 'and', 'ever', '\".', 'Well', ',', 'I', 'guess', 'that', 'was', 'true', '.']\n"
     ]
    }
   ],
   "source": [
    "from nltk.tokenize import WordPunctTokenizer\n",
    "\n",
    "# 위와 달리 구두점(')도 따로 분절화 (ex - : It's -> It + ' + s) \n",
    "print(WordPunctTokenizer().tokenize(text)) "
   ]
  },
  {
   "cell_type": "code",
   "execution_count": 6,
   "metadata": {},
   "outputs": [
    {
     "name": "stdout",
     "output_type": "stream",
     "text": [
      "['I', 'will', 'always', 'remember.', 'The', 'day', 'you', 'kissed', 'my', 'lips.', 'Light', 'as', 'a', 'feather.', 'And', 'it', 'went', 'just', 'like', 'this.', 'No', ',', 'it', \"'s\", 'never', 'been', 'better.', 'Than', 'the', 'summer', 'of', '2002', '(', 'ooh', ')', '.', 'Uh', ',', 'we', 'were', 'only', 'eleven.', 'But', 'acting', 'like', 'grown-ups.', 'Like', 'we', 'are', 'in', 'the', 'present.', 'Drinking', 'from', 'plastic', 'cups.', 'Singing', ',', '``', 'Love', 'is', 'forever', 'and', 'ever', \"''\", '.', 'Well', ',', 'I', 'guess', 'that', 'was', 'true', '.']\n"
     ]
    }
   ],
   "source": [
    "from nltk.tokenize import TreebankWordTokenizer\n",
    "\n",
    "# 가장 표준화 된 모델 (하이폰 유지, 구두점(') 분리, ex : It's -> It' + s) \n",
    "print(TreebankWordTokenizer().tokenize(text)) "
   ]
  },
  {
   "cell_type": "code",
   "execution_count": 7,
   "metadata": {},
   "outputs": [
    {
     "name": "stdout",
     "output_type": "stream",
     "text": [
      "['I', 'will', 'always', 'remember', 'The', 'day', 'you', 'kissed', 'my', 'lips', 'Light', 'as', 'a', 'feather', 'And', 'it', 'went', 'just', 'like', 'this', 'No', 'it', 's', 'never', 'been', 'better', 'Than', 'the', 'summer', 'of', '2002', 'ooh', 'Uh', 'we', 'were', 'only', 'eleven', 'But', 'acting', 'like', 'grown', 'ups', 'Like', 'we', 'are', 'in', 'the', 'present', 'Drinking', 'from', 'plastic', 'cups', 'Singing', 'Love', 'is', 'forever', 'and', 'ever', 'Well', 'I', 'guess', 'that', 'was', 'true']\n"
     ]
    }
   ],
   "source": [
    "from nltk.tokenize import RegexpTokenizer\n",
    "\n",
    "# 정규 표현식을 사용할 수 있는 토크나이저\n",
    "# 실습 문제 : ''안에 정규 표현식을 작성해서 단어별로 토큰화가 되도록 해주세요.\n",
    "print(RegexpTokenizer('\\w+').tokenize(text)) "
   ]
  },
  {
   "cell_type": "code",
   "execution_count": 8,
   "metadata": {},
   "outputs": [
    {
     "name": "stdout",
     "output_type": "stream",
     "text": [
      "['\\nI will always remember.', 'The day you kissed my lips.', 'Light as a feather.', 'And it went just like this.', \"No, it's never been better.\", 'Than the summer of 2002 (ooh).', 'Uh, we were only eleven.', 'But acting like grown-ups.', 'Like we are in the present.', 'Drinking from plastic cups.', 'Singing, \"Love is forever and ever\".', 'Well, I guess that was true.']\n"
     ]
    }
   ],
   "source": [
    "from nltk.tokenize import sent_tokenize\n",
    "\n",
    "# 문장의 토큰화 (문장별로 나눠서 리스트화) \n",
    "print(sent_tokenize(text))"
   ]
  },
  {
   "cell_type": "code",
   "execution_count": 9,
   "metadata": {},
   "outputs": [
    {
     "name": "stdout",
     "output_type": "stream",
     "text": [
      "I\n",
      "will\n",
      "alway\n",
      "rememb\n",
      ".\n",
      "the\n",
      "day\n",
      "you\n",
      "kiss\n",
      "my\n",
      "lip\n",
      ".\n",
      "light\n",
      "as\n",
      "a\n",
      "feather\n",
      ".\n",
      "and\n",
      "it\n",
      "went\n",
      "just\n",
      "like\n",
      "thi\n",
      ".\n",
      "No\n",
      ",\n",
      "it\n",
      "'s\n",
      "never\n",
      "been\n",
      "better\n",
      ".\n",
      "than\n",
      "the\n",
      "summer\n",
      "of\n",
      "2002\n",
      "(\n",
      "ooh\n",
      ")\n",
      ".\n",
      "Uh\n",
      ",\n",
      "we\n",
      "were\n",
      "onli\n",
      "eleven\n",
      ".\n",
      "but\n",
      "act\n",
      "like\n",
      "grown-up\n",
      ".\n",
      "like\n",
      "we\n",
      "are\n",
      "in\n",
      "the\n",
      "present\n",
      ".\n",
      "drink\n",
      "from\n",
      "plastic\n",
      "cup\n",
      ".\n",
      "sing\n",
      ",\n",
      "``\n",
      "love\n",
      "is\n",
      "forev\n",
      "and\n",
      "ever\n",
      "''\n",
      ".\n",
      "well\n",
      ",\n",
      "I\n",
      "guess\n",
      "that\n",
      "wa\n",
      "true\n",
      ".\n"
     ]
    }
   ],
   "source": [
    "from nltk.stem import PorterStemmer \n",
    "\n",
    "# 어간 : 단어의 의미를 담는 부분 \n",
    "# 어간 추출기 : 원래 단어를 찾아야 의미를 정확하게 파악 가능 (ex : plays -> play, loving -> love) \n",
    "words = word_tokenize(text) \n",
    "for word in words:\n",
    "    print(PorterStemmer().stem(word)) "
   ]
  },
  {
   "cell_type": "code",
   "execution_count": 10,
   "metadata": {},
   "outputs": [
    {
     "name": "stderr",
     "output_type": "stream",
     "text": [
      "[nltk_data] Downloading package stopwords to\n",
      "[nltk_data]     C:\\Users\\James\\AppData\\Roaming\\nltk_data...\n",
      "[nltk_data]   Package stopwords is already up-to-date!\n"
     ]
    },
    {
     "data": {
      "text/plain": [
       "True"
      ]
     },
     "execution_count": 10,
     "metadata": {},
     "output_type": "execute_result"
    }
   ],
   "source": [
    "nltk.download('stopwords')"
   ]
  },
  {
   "cell_type": "code",
   "execution_count": 11,
   "metadata": {},
   "outputs": [
    {
     "name": "stdout",
     "output_type": "stream",
     "text": [
      "['I', 'will', 'always', 'remember', 'The', 'day', 'you', 'kissed', 'my', 'lips', 'Light', 'as', 'a', 'feather', 'And', 'it', 'went', 'just', 'like', 'this', 'No', 'it', \"'s\", 'never', 'been', 'better', 'Than', 'the', 'summer', 'of', '2002', '(', 'ooh', ')', 'Uh', 'we', 'were', 'only', 'eleven', 'But', 'acting', 'like', 'grown-ups', 'Like', 'we', 'are', 'in', 'the', 'present', 'Drinking', 'from', 'plastic', 'cups', 'Singing', '``', 'Love', 'is', 'forever', 'and', 'ever', \"''\", 'Well', 'I', 'guess', 'that', 'was', 'true']\n"
     ]
    }
   ],
   "source": [
    "from nltk.corpus import stopwords\n",
    "\n",
    "# stopwords : 불용어 (문장의 의미를 형성하는 것에 있어 큰 영향을 미치지 않는 단어들) \n",
    "# sw = stopwords.words('english') \n",
    "sw = ['.', ',', \"'\"] # stopwords list는 필요에 따라 직접 만들거나 추가하여 사용하는게 가장 좋음\n",
    "# print(sw) \n",
    "\n",
    "# 실습 문제 : words 리스트 안에서 sw 에 해당하는 단어를 제외시킨 리스트를 생성해주세요.\n",
    "sw_removed = []\n",
    "for word in words:\n",
    "    if word.lower() not in sw:\n",
    "        sw_removed.append(word)\n",
    "        \n",
    "print(sw_removed) "
   ]
  },
  {
   "cell_type": "code",
   "execution_count": 12,
   "metadata": {},
   "outputs": [
    {
     "name": "stdout",
     "output_type": "stream",
     "text": [
      "Counter({'I': 2, 'it': 2, 'like': 2, 'the': 2, 'we': 2, 'will': 1, 'always': 1, 'remember': 1, 'The': 1, 'day': 1, 'you': 1, 'kissed': 1, 'my': 1, 'lips': 1, 'Light': 1, 'as': 1, 'a': 1, 'feather': 1, 'And': 1, 'went': 1, 'just': 1, 'this': 1, 'No': 1, \"'s\": 1, 'never': 1, 'been': 1, 'better': 1, 'Than': 1, 'summer': 1, 'of': 1, '2002': 1, '(': 1, 'ooh': 1, ')': 1, 'Uh': 1, 'were': 1, 'only': 1, 'eleven': 1, 'But': 1, 'acting': 1, 'grown-ups': 1, 'Like': 1, 'are': 1, 'in': 1, 'present': 1, 'Drinking': 1, 'from': 1, 'plastic': 1, 'cups': 1, 'Singing': 1, '``': 1, 'Love': 1, 'is': 1, 'forever': 1, 'and': 1, 'ever': 1, \"''\": 1, 'Well': 1, 'guess': 1, 'that': 1, 'was': 1, 'true': 1})\n"
     ]
    }
   ],
   "source": [
    "# 인코딩 - 컴퓨터는 영어로 된 텍스트를 알아들을 수 없다. 가장 기본적인 것이 빈도수대로 인덱스를 부여하는 것.\n",
    "# 문자 빈도수 카운팅 : Counter는 빈도수가 가장 높은 것이 가장 앞에 온다.\n",
    "from collections import Counter\n",
    "\n",
    "count_list = Counter(sw_removed)  \n",
    "print(count_list) "
   ]
  },
  {
   "cell_type": "code",
   "execution_count": 13,
   "metadata": {},
   "outputs": [
    {
     "name": "stdout",
     "output_type": "stream",
     "text": [
      "[('I', 2), ('it', 2), ('like', 2), ('the', 2), ('we', 2), ('will', 1), ('always', 1), ('remember', 1), ('The', 1), ('day', 1)]\n"
     ]
    }
   ],
   "source": [
    "# 상위 10개 까지만 리스트 안에 (단어, 횟수)형태의 튜플로 저장 - 빈도수가 1인 것들은 크게 의미가 없을 가능성이 높으므로..!\n",
    "common_cl = count_list.most_common(10) \n",
    "print(common_cl) "
   ]
  },
  {
   "cell_type": "code",
   "execution_count": 14,
   "metadata": {},
   "outputs": [
    {
     "name": "stdout",
     "output_type": "stream",
     "text": [
      "{'I': 0, 'it': 1, 'like': 2, 'the': 3, 'we': 4, 'will': 5, 'always': 6, 'remember': 7, 'The': 8, 'day': 9}\n"
     ]
    }
   ],
   "source": [
    "# 실습 : 딕셔너리 형태로 변환, {word, frequency} 라고 했을 때, 빈도수가 높은 순서대로 순위를 매겨서 {'word': 빈도 순위}가 되도록 \n",
    "# 즉, 빈도의 순위대로 0위~9위 (빈도수가 가장 높은게 0등) \n",
    "common_cl_dict = {}\n",
    "\n",
    "i = 0\n",
    "for (key, value) in common_cl:\n",
    "    common_cl_dict[key] = i\n",
    "    i += 1\n",
    "    \n",
    "print(common_cl_dict) "
   ]
  },
  {
   "cell_type": "code",
   "execution_count": 15,
   "metadata": {},
   "outputs": [
    {
     "name": "stdout",
     "output_type": "stream",
     "text": [
      "[[1, 0, 0, 0, 0, 0, 0, 0, 0, 0], [0, 1, 0, 0, 0, 0, 0, 0, 0, 0], [0, 0, 1, 0, 0, 0, 0, 0, 0, 0], [0, 0, 0, 1, 0, 0, 0, 0, 0, 0], [0, 0, 0, 0, 1, 0, 0, 0, 0, 0], [0, 0, 0, 0, 0, 1, 0, 0, 0, 0], [0, 0, 0, 0, 0, 0, 1, 0, 0, 0], [0, 0, 0, 0, 0, 0, 0, 1, 0, 0], [0, 0, 0, 0, 0, 0, 0, 0, 1, 0], [0, 0, 0, 0, 0, 0, 0, 0, 0, 1]]\n"
     ]
    }
   ],
   "source": [
    "# 원-핫 인코딩 구현\n",
    "oh_vector_list = []\n",
    "\n",
    "for value in common_cl_dict.values():\n",
    "    oh_vector = [0] * len(common_cl_dict)\n",
    "    oh_vector[value] = 1\n",
    "    oh_vector_list.append(oh_vector)\n",
    "\n",
    "print(oh_vector_list)"
   ]
  },
  {
   "cell_type": "code",
   "execution_count": 16,
   "metadata": {},
   "outputs": [
    {
     "data": {
      "image/png": "[encoded data removed]",
      "text/plain": [
       "<Figure size 432x288 with 1 Axes>"
      ]
     },
     "metadata": {
      "needs_background": "light"
     },
     "output_type": "display_data"
    }
   ],
   "source": [
    "# WordCloud 구현\n",
    "from wordcloud import WordCloud\n",
    "import matplotlib.pyplot as plt\n",
    "\n",
    "my_wc = WordCloud(background_color=\"white\")\n",
    "plt.imshow(my_wc.generate_from_frequencies(count_list)) \n",
    "plt.show() "
   ]
  }
 ],
 "metadata": {
  "kernelspec": {
   "display_name": "Python 3",
   "language": "python",
   "name": "python3"
  },
  "language_info": {
   "codemirror_mode": {
    "name": "ipython",
    "version": 3
   },
   "file_extension": ".py",
   "mimetype": "text/x-python",
   "name": "python",
   "nbconvert_exporter": "python",
   "pygments_lexer": "ipython3",
   "version": "3.7.6"
  }
 },
 "nbformat": 4,
 "nbformat_minor": 4
}
