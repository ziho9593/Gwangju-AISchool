{
 "cells": [
  {
   "cell_type": "markdown",
   "metadata": {},
   "source": [
    "# 광주 인공지능 사관학교\n",
    "- - -\n",
    "- 작성자 : 2반 한지호\n",
    "- 작성일 : 2020.07.08 수\n",
    "- 파이썬 기초에 대한 학습을 진행한 후, 이해를 돕기 위하여 '로그인, 회원가입 CLI'를 만드는 실습을 진행했다.\n",
    "- 임의로 임시 구성한 4팀(강동현, 한지호, 이덕혜)이 함께 작성했다.\n",
    "- 가능하다면 JSON을 사용해 구현할 것을 요구했지만, JSON 사용이 미숙해 우선 리스트와 딕셔너리로만 구현했다."
   ]
  },
  {
   "cell_type": "code",
   "execution_count": null,
   "metadata": {
    "colab": {},
    "colab_type": "code",
    "id": "0cf5JiKD7PV-"
   },
   "outputs": [],
   "source": [
    "# 회원정보 DB\n",
    "\n",
    "students = [{'id': 'kang', 'password': '1111', 'name': '강동현','promise': '다짐1', 'interest': '관심1'},\n",
    "            {'id': 'han', 'password': '2222', 'name': '한지호','promise': '다짐2', 'interest': '관심2'},\n",
    "            {'id': 'lee', 'password': '3333', 'name': '이덕혜','promise': '다짐3', 'interest': '관심3'}]"
   ]
  },
  {
   "cell_type": "code",
   "execution_count": null,
   "metadata": {
    "colab": {},
    "colab_type": "code",
    "id": "1wrRGOmk7QO0"
   },
   "outputs": [],
   "source": [
    "# 회원가입을 위한 함수 정의\n",
    "\n",
    "def get_input(which): # 검증 및 반환 함수\n",
    "    while(True):\n",
    "        received = input(which + \"를 입력하십시오 (12자 이하): \")\n",
    "        if len(received) <= 12:\n",
    "            validated = received.lower()\n",
    "            return validated\n",
    "        else:\n",
    "            print(f'{which}가 잘못된 형식입니다.')\n",
    "\n",
    "def join(): # 회원가입 정보 입력 함수\n",
    "    temp = {'id': '', 'password': '', 'name': '','promise': '', 'interest': ''}\n",
    "    temp['id'] = get_input('ID')\n",
    "    temp['password'] = get_input('Password')\n",
    "    name = input('이름을 입력하세요: ')\n",
    "    temp['name'] = name\n",
    "    promise = input('앞으로 5개월 동안의 다짐을 입력하세요: ')\n",
    "    temp['promise'] = promise\n",
    "    interest = input('관심분야를 입력하세요: ')\n",
    "    temp['interest'] = interest\n",
    "    global students\n",
    "    students += [temp]"
   ]
  },
  {
   "cell_type": "code",
   "execution_count": null,
   "metadata": {
    "colab": {},
    "colab_type": "code",
    "id": "9_EI1W7g-0aG"
   },
   "outputs": [],
   "source": [
    "# 로그인을 위한 함수 정의\n",
    "\n",
    "from getpass import getpass\n",
    "\n",
    "id = ''\n",
    "\n",
    "def login():\n",
    "    global students, id\n",
    "    log = True\n",
    "    while log == True:\n",
    "        id = input('ID 입력:')\n",
    "        for i in range(len(students)):\n",
    "            if students[i]['id'] == id:\n",
    "                while log == True:\n",
    "                    pwd = getpass('PASSWORD 입력: ')\n",
    "                    if students[i]['password'] == pwd:\n",
    "                        print('로그인 성공')\n",
    "                        log = False\n",
    "                    else:\n",
    "                        print('비밀번호 오류')\n",
    "                break\n",
    "            else:\n",
    "                print('ID 오류')\n",
    "                break"
   ]
  },
  {
   "cell_type": "code",
   "execution_count": null,
   "metadata": {
    "colab": {},
    "colab_type": "code",
    "id": "MWOunnqQPekr"
   },
   "outputs": [],
   "source": [
    "# 마이페이지 호출 함수 정의\n",
    "\n",
    "def my_page():\n",
    "    for i in range(len(students)):\n",
    "        if students[i]['id'] == id:\n",
    "            print(students[i])\n",
    "        break"
   ]
  },
  {
   "cell_type": "code",
   "execution_count": null,
   "metadata": {
    "colab": {},
    "colab_type": "code",
    "id": "mke9w0hfNmzi"
   },
   "outputs": [],
   "source": [
    " # 다른 유저들 정보 호출 함수 정의\n",
    "\n",
    "def other_users():\n",
    "    for i in range(len(students)):\n",
    "        if students[i]['id'] != id:\n",
    "            print(i, ': ', students[i]['name'])"
   ]
  },
  {
   "cell_type": "code",
   "execution_count": null,
   "metadata": {
    "colab": {},
    "colab_type": "code",
    "id": "DMsa5SceRW8B"
   },
   "outputs": [],
   "source": [
    "# 특정 유저 정보 호출 함수 정의\n",
    "\n",
    "def show_info():\n",
    "    member = int(input('회원 번호를 입력하세요: '))\n",
    "    print(students[member]['id'], students[member]['name'], students[member]['promise'], students[member]['interest'])"
   ]
  },
  {
   "cell_type": "code",
   "execution_count": null,
   "metadata": {
    "colab": {},
    "colab_type": "code",
    "id": "c_JEpsWpB7Dx"
   },
   "outputs": [],
   "source": [
    "# 초기 화면\n",
    "\n",
    "state = True\n",
    "\n",
    "while state == True:\n",
    "    statement = input('1:회원가입 / 2:로그인 ')\n",
    "\n",
    "    if statement == '1':\n",
    "        print('회원가입 하세요.')\n",
    "        join()\n",
    "        login()\n",
    "        state = False\n",
    "    elif statement == '2':\n",
    "        print('로그인 하세요.')\n",
    "        login()\n",
    "        state = False\n",
    "    else:\n",
    "        print('잘못된 입력.')"
   ]
  },
  {
   "cell_type": "code",
   "execution_count": null,
   "metadata": {
    "colab": {},
    "colab_type": "code",
    "id": "K_1gOReNOVXW"
   },
   "outputs": [],
   "source": [
    "# 로그인 이후\n",
    "\n",
    "state = True\n",
    "while state == True:\n",
    "    statement = int(input('1:마이페이지 보기 / 2:다른 유저보기 / 3:종료 '))\n",
    "\n",
    "    if statement == 1:\n",
    "        print('내 정보')\n",
    "        my_page()\n",
    "    elif statement == 2:\n",
    "        print('다른 유저들')\n",
    "        other_users()\n",
    "        show_info()\n",
    "    elif statement == 3:\n",
    "        print('종료')\n",
    "        state = False\n",
    "    else:\n",
    "        print('잘못된 입력')"
   ]
  }
 ],
 "metadata": {
  "colab": {
   "collapsed_sections": [],
   "name": "lab_2_login_4팀.ipynb",
   "provenance": []
  },
  "kernelspec": {
   "display_name": "Python 3",
   "language": "python",
   "name": "python3"
  },
  "language_info": {
   "codemirror_mode": {
    "name": "ipython",
    "version": 3
   },
   "file_extension": ".py",
   "mimetype": "text/x-python",
   "name": "python",
   "nbconvert_exporter": "python",
   "pygments_lexer": "ipython3",
   "version": "3.7.6"
  }
 },
 "nbformat": 4,
 "nbformat_minor": 1
}
