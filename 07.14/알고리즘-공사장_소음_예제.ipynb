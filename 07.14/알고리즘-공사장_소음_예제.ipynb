{
 "cells": [
  {
   "cell_type": "markdown",
   "metadata": {},
   "source": [
    "# 광주 인공지능 사관학교\n",
    "- - -\n",
    "- 작성자 : 2반 한지호\n",
    "- 작성일 : 20.07.14 화\n",
    "- 6교시 알고리즘 시간에 작성한 '공사장 소음 예제' 파일\n",
    "- 값을 정확히 넣으면 잘 작동하나, 값을 잘못 입력한 후 재입력 했을 때의 오류를 잡지 못했다.\n",
    "- 내일 수업 전까지 다시 풀어보려 노력한 후, 강사님의 해설을 듣고 수정할 예정"
   ]
  },
  {
   "cell_type": "markdown",
   "metadata": {},
   "source": [
    "**휴식을 위하여**  \n",
    "\n",
    "날씨 좋은 휴일,  \n",
    "\n",
    "인근 공원에서 독서를 하기로 했지만 공원에서는 공사가 진행되고 있었습니다.  \n",
    "\n",
    "공사 현장 근처는 소음이 크기 때문에 휴식과 독서에 적합하지 않습니다.  \n",
    "\n",
    "공사 현장은 공원에서 오직 한 군데이고, 그 위치를 (a, b)라고 합니다. 공사현장에서 R 만큼의 거리 미만은 소음이 크기 때문에 독서에 적합하지 않습니다.  \n",
    "\n",
    "또한 공원에는 휴식과 독서에 적합한 그늘이 N개 존재합니다. 각각의 그늘 위치는 (x_i, y_i)입니다. (i번째)  \n",
    "\n",
    "이상의 정보에서 각 그늘이 독서에 적합한지 (공사 현장에서 R 이상 떨어진 그늘인지) 판별하는 코드를 작성하시오."
   ]
  },
  {
   "cell_type": "code",
   "execution_count": 1,
   "metadata": {
    "code_folding": []
   },
   "outputs": [],
   "source": [
    "def input_construction_info():\n",
    "    a, b, R = 0, 0, 0\n",
    "    abR = list(map(int, input('공사 현장의 좌표, 공사장 소음 거리 : ').split()))\n",
    "    try:\n",
    "        a, b, R = abR[0], abR[1], abR[2]\n",
    "        return a, b, R\n",
    "    except:\n",
    "        print('입력값 오류')\n",
    "        input_construction_info()\n",
    "\n",
    "\n",
    "def input_shade_num():\n",
    "    shade_num = int(input('그늘의 수 : '))\n",
    "    if shade_num >= 1 and shade_num <= 1000:\n",
    "        return shade_num\n",
    "    else:\n",
    "        print('입력값 오류')\n",
    "        input_shade_num()\n",
    "\n",
    "\n",
    "def input_shade_loc():\n",
    "    shade = input('그늘의 좌표 : ')\n",
    "    temp = shade.split()\n",
    "    x_i, y_i = int(temp[0]), int(temp[1])\n",
    "    if x_i >= 0 and x_i <= 100 and y_i >= 0 and y_i <= 100:\n",
    "        return x_i, y_i\n",
    "    else:\n",
    "        print('입력값 오류')\n",
    "        input_shade_loc()\n",
    "\n",
    "\n",
    "def start():\n",
    "    a, b, R = input_construction_info()\n",
    "    N = input_shade_num()\n",
    "    for i in range(N):\n",
    "        x_i, y_i = input_shade_loc()\n",
    "        if (x_i - a)**2 + (y_i - b)**2 >= R**2:\n",
    "            print('Silent')\n",
    "        else:\n",
    "            print('Noisy')"
   ]
  },
  {
   "cell_type": "code",
   "execution_count": 2,
   "metadata": {},
   "outputs": [
    {
     "name": "stdout",
     "output_type": "stream",
     "text": [
      "공사 현장의 좌표, 공사장 소음 거리 : 20 10 10\n",
      "그늘의 수 : 3\n",
      "그늘의 좌표 : 25 10\n",
      "Noisy\n",
      "그늘의 좌표 : 20 15\n",
      "Noisy\n",
      "그늘의 좌표 : 70 70\n",
      "Silent\n"
     ]
    }
   ],
   "source": [
    "start() "
   ]
  }
 ],
 "metadata": {
  "kernelspec": {
   "display_name": "Python 3",
   "language": "python",
   "name": "python3"
  },
  "language_info": {
   "codemirror_mode": {
    "name": "ipython",
    "version": 3
   },
   "file_extension": ".py",
   "mimetype": "text/x-python",
   "name": "python",
   "nbconvert_exporter": "python",
   "pygments_lexer": "ipython3",
   "version": "3.7.6"
  }
 },
 "nbformat": 4,
 "nbformat_minor": 4
}
